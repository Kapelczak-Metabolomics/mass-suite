{
 "cells": [
  {
   "cell_type": "code",
   "execution_count": 122,
   "metadata": {
    "ExecuteTime": {
     "end_time": "2020-06-05T03:25:49.504234Z",
     "start_time": "2020-06-05T03:25:49.499810Z"
    }
   },
   "outputs": [],
   "source": [
    "import tkinter\n",
    "from tkinter import *\n",
    "import tkinter.messagebox"
   ]
  },
  {
   "cell_type": "markdown",
   "metadata": {},
   "source": [
    "# Button"
   ]
  },
  {
   "cell_type": "code",
   "execution_count": 109,
   "metadata": {
    "ExecuteTime": {
     "end_time": "2020-06-05T02:48:12.448762Z",
     "start_time": "2020-06-05T02:48:08.602740Z"
    }
   },
   "outputs": [],
   "source": [
    "window = tkinter.Tk()\n",
    "# to rename the title of the window\n",
    "window.title(\"GUI\")\n",
    "# pack is used to show the object in the window\n",
    "label = tkinter.Label(window, text = \"Welcome to DataCamp's Tutorial on Tkinter!\").pack()\n",
    "\n",
    "top_frame = tkinter.Frame(window).pack()\n",
    "bottom_frame = tkinter.Frame(window).pack(side = \"bottom\")\n",
    "\n",
    "# Once the frames are created then you are all set to add widgets in both the frames.\n",
    "btn1 = tkinter.Button(top_frame, text = \"Button1\", fg = \"red\").pack() #'fg or foreground' is for coloring the contents (buttons)\n",
    "\n",
    "btn2 = tkinter.Button(top_frame, text = \"Button2\", fg = \"green\").pack()\n",
    "\n",
    "btn3 = tkinter.Button(bottom_frame, text = \"Button3\", fg = \"purple\").pack(side = \"left\") #'side' is used to left or right align the widgets\n",
    "\n",
    "btn4 = tkinter.Button(bottom_frame, text = \"Button4\", fg = \"orange\").pack(side = \"left\")\n",
    "\n",
    "window.mainloop()"
   ]
  },
  {
   "cell_type": "markdown",
   "metadata": {},
   "source": [
    "# Checkbutton"
   ]
  },
  {
   "cell_type": "code",
   "execution_count": 110,
   "metadata": {
    "ExecuteTime": {
     "end_time": "2020-06-05T02:48:14.264078Z",
     "start_time": "2020-06-05T02:48:12.451042Z"
    }
   },
   "outputs": [],
   "source": [
    "top = tkinter.Tk()\n",
    "CheckVar1 = IntVar()\n",
    "CheckVar2 = IntVar()\n",
    "tkinter.Checkbutton(top, text = \"Machine Learning\",variable = CheckVar1,onvalue = 1, offvalue=0).grid(row=0,sticky=W)\n",
    "tkinter.Checkbutton(top, text = \"Deep Learning\", variable = CheckVar2, onvalue = 0, offvalue =1).grid(row=1,sticky=W)\n",
    "top.mainloop()"
   ]
  },
  {
   "cell_type": "markdown",
   "metadata": {},
   "source": [
    "# User Login Interface"
   ]
  },
  {
   "cell_type": "code",
   "execution_count": 115,
   "metadata": {
    "ExecuteTime": {
     "end_time": "2020-06-05T03:02:54.926017Z",
     "start_time": "2020-06-05T03:02:51.245961Z"
    }
   },
   "outputs": [],
   "source": [
    "# Let's create the Tkinter window\n",
    "window = tkinter.Tk()\n",
    "window.title(\"GUI\")\n",
    "\n",
    "# You will create two text labels namely 'username' and 'password' and and two input labels for them\n",
    "\n",
    "tkinter.Label(window, text = \"Username\").grid(row = 0) #'username' is placed on position 00 (row - 0 and column - 0)\n",
    "\n",
    "# 'Entry' class is used to display the input-field for 'username' text label\n",
    "tkinter.Entry(window).grid(row = 0, column = 1) # first input-field is placed on position 01 (row - 0 and column - 1)\n",
    "\n",
    "tkinter.Label(window, text = \"Password\").grid(row = 1) #'password' is placed on position 10 (row - 1 and column - 0)\n",
    "\n",
    "tkinter.Entry(window).grid(row = 1, column = 1) #second input-field is placed on position 11 (row - 1 and column - 1)\n",
    "\n",
    "# 'Checkbutton' class is for creating a checkbutton which will take a 'columnspan' of width two (covers two columns)\n",
    "tkinter.Checkbutton(window, text = \"Keep Me Logged In\").grid(columnspan = 2)                 \n",
    "\n",
    "window.mainloop()"
   ]
  },
  {
   "cell_type": "markdown",
   "metadata": {},
   "source": [
    "# Button with response"
   ]
  },
  {
   "cell_type": "code",
   "execution_count": 119,
   "metadata": {
    "ExecuteTime": {
     "end_time": "2020-06-05T03:11:18.875514Z",
     "start_time": "2020-06-05T03:11:12.029024Z"
    }
   },
   "outputs": [],
   "source": [
    "# Let's create the Tkinter window\n",
    "window = tkinter.Tk()\n",
    "window.title(\"GUI\")\n",
    "\n",
    "# creating a function called DataCamp_Tutorial()\n",
    "def DataCamp_Tutorial():\n",
    "    tkinter.Label(window, text = \"GUI with Tkinter!\").pack()\n",
    "\n",
    "tkinter.Button(window, text = \"Click Me!\", command = DataCamp_Tutorial).pack()\n",
    "window.mainloop()"
   ]
  },
  {
   "cell_type": "markdown",
   "metadata": {},
   "source": [
    "# left, middle and right click"
   ]
  },
  {
   "cell_type": "code",
   "execution_count": 120,
   "metadata": {
    "ExecuteTime": {
     "end_time": "2020-06-05T03:24:37.907023Z",
     "start_time": "2020-06-05T03:23:54.343700Z"
    }
   },
   "outputs": [],
   "source": [
    "window = tkinter.Tk()\n",
    "window.title(\"GUI\")\n",
    "\n",
    "#You will create three different functions for three different events\n",
    "def left_click(event):\n",
    "    tkinter.Label(window, text = \"Left Click!\").pack()\n",
    "\n",
    "def middle_click(event):\n",
    "    tkinter.Label(window, text = \"Middle Click!\").pack()\n",
    "\n",
    "def right_click(event):\n",
    "    tkinter.Label(window, text = \"Right Click!\").pack()\n",
    "\n",
    "window.bind(\"<Button-1>\", left_click)\n",
    "window.bind(\"<Button-2>\", middle_click)\n",
    "window.bind(\"<Button-3>\", right_click)\n",
    "\n",
    "window.mainloop()"
   ]
  },
  {
   "cell_type": "markdown",
   "metadata": {},
   "source": [
    "# Response according to user choice"
   ]
  },
  {
   "cell_type": "code",
   "execution_count": 125,
   "metadata": {
    "ExecuteTime": {
     "end_time": "2020-06-05T03:26:38.012222Z",
     "start_time": "2020-06-05T03:26:32.490011Z"
    }
   },
   "outputs": [],
   "source": [
    "window = tkinter.Tk()\n",
    "window.title(\"GUI\")\n",
    "\n",
    "# Let's create a alert box with 'messagebox' function\n",
    "tkinter.messagebox.showinfo(\"Alert Message\", \"This is just a alert message!\")\n",
    "\n",
    "# Let's also create a question for the user and based upon the response [Yes or No Question] display a message.\n",
    "response = tkinter.messagebox.askquestion(\"Tricky Question\", \"Do you love Deep Learning?\")\n",
    "\n",
    "# A basic 'if/else' block where if user clicks on 'Yes' then it returns 1 else it returns 0. For each response you will display a message with the help of 'Label' method.\n",
    "if response == 1:\n",
    "    tkinter.Label(window, text = \"Yes, offcourse I love Deep Learning!\").pack()\n",
    "else:\n",
    "    tkinter.Label(window, text = \"No, I don't love Deep Learning!\").pack()\n",
    "\n",
    "window.mainloop()"
   ]
  },
  {
   "cell_type": "markdown",
   "metadata": {},
   "source": [
    "# Show photoimage"
   ]
  },
  {
   "cell_type": "code",
   "execution_count": 131,
   "metadata": {
    "ExecuteTime": {
     "end_time": "2020-06-05T03:32:34.254642Z",
     "start_time": "2020-06-05T03:32:20.954818Z"
    },
    "scrolled": true
   },
   "outputs": [],
   "source": [
    "window = tkinter.Toplevel()\n",
    "window.title(\"GUI\")\n",
    "\n",
    "# In order to display the image in a GUI, you will use the 'PhotoImage' method of Tkinter. It will an image from the directory (specified path) and store the image in a variable.\n",
    "icon = tkinter.PhotoImage(file = \"cluster.png\")\n",
    "\n",
    "# Finally, to display the image you will make use of the 'Label' method and pass the 'image' variriable as a parameter and use the pack() method to display inside the GUI.\n",
    "label = tkinter.Label(window, image = icon)\n",
    "label.pack()\n",
    "\n",
    "window.mainloop()"
   ]
  },
  {
   "cell_type": "markdown",
   "metadata": {},
   "source": [
    "# Calculator!"
   ]
  },
  {
   "cell_type": "code",
   "execution_count": 137,
   "metadata": {
    "ExecuteTime": {
     "end_time": "2020-06-05T03:36:06.898564Z",
     "start_time": "2020-06-05T03:35:41.841073Z"
    }
   },
   "outputs": [],
   "source": [
    "# Let's create the Tkinter window\n",
    "window = Tk()\n",
    "\n",
    "# Then, you will define the size of the window in width(312) and height(324) using the 'geometry' method\n",
    "window.geometry(\"400x324\")\n",
    "\n",
    "# In order to prevent the window from getting resized you will call 'resizable' method on the window\n",
    "window.resizable(0, 0)\n",
    "\n",
    "#Finally, define the title of the window\n",
    "window.title(\"Calcualtor\")\n",
    "\n",
    "\n",
    "# Let's now define the required functions for the Calculator to function properly.\n",
    "\n",
    "# 1. First is the button click 'btn_click' function which will continuously update the input field whenever a number is entered or any button is pressed it will act as a button click update.\n",
    "def btn_click(item):\n",
    "    global expression\n",
    "    expression = expression + str(item)\n",
    "    input_text.set(expression)\n",
    "\n",
    "# 2. Second is the button clear 'btn_clear' function clears the input field or previous calculations using the button \"C\"\n",
    "def btn_clear():\n",
    "    global expression\n",
    "    expression = \"\"\n",
    "    input_text.set(\"\")\n",
    "\n",
    "# 3. Third and the final function is button equal (\"=\") 'btn_equal' function which will calculate the expression present in input field. For example: User clicks button 2, + and 3 then clicks \"=\" will result in an output 5.\n",
    "def btn_equal():\n",
    "    global expression\n",
    "    result = str(eval(expression)) # 'eval' function is used for evaluating the string expressions directly\n",
    "    # you can also implement your own function to evalute the expression istead of 'eval' function\n",
    "    input_text.set(result)\n",
    "    expression = \"\"\n",
    "\n",
    "expression = \"\"\n",
    "# In order to get the instance of the input field 'StringVar()' is used\n",
    "input_text = StringVar()\n",
    "\n",
    "# Once all the functions are defined then comes the main section where you will start defining the structure of the calculator inside the GUI.\n",
    "\n",
    "# The first thing is to create a frame for the input field\n",
    "input_frame = Frame(window, width = 350, height = 50, bd = 0, highlightbackground = \"black\", highlightcolor = \"black\", highlightthickness = 1)\n",
    "input_frame.pack(side = TOP)\n",
    "\n",
    "\n",
    "# Then you will create an input field inside the 'Frame' that was created in the previous step. Here the digits or the output will be displayed as 'right' aligned\n",
    "input_field = Entry(input_frame, font = ('arial', 18, 'bold'), textvariable = input_text, width = 50, bg = \"#eee\", bd = 0, justify = RIGHT)\n",
    "input_field.grid(row = 0, column = 0)\n",
    "input_field.pack(ipady = 10) # 'ipady' is an internal padding to increase the height of input field\n",
    "\n",
    "\n",
    "# Once you have the input field defined then you need a separate frame which will incorporate all the buttons inside it below the 'input field'\n",
    "btns_frame = Frame(window, width = 350, height = 272.5, bg = \"grey\")\n",
    "btns_frame.pack()\n",
    "\n",
    "\n",
    "# The first row will comprise of the buttons 'Clear (C)' and 'Divide (/)'\n",
    "clear = Button(btns_frame, text = \"C\", fg = \"black\", width = 32, height = 3, bd = 0, bg = \"#eee\", cursor = \"hand2\", command = lambda: btn_clear()).grid(row = 0, column = 0, columnspan = 3, padx = 1, pady = 1)\n",
    "divide = Button(btns_frame, text = \"/\", fg = \"black\", width = 10, height = 3, bd = 0, bg = \"#eee\", cursor = \"hand2\", command = lambda: btn_click(\"/\")).grid(row = 0, column = 3, padx = 1, pady = 1)\n",
    "\n",
    "\n",
    "# The second row will comprise of the buttons '7', '8', '9' and 'Multiply (*)'\n",
    "seven = Button(btns_frame, text = \"7\", fg = \"black\", width = 10, height = 3, bd = 0, bg = \"#fff\", cursor = \"hand2\", command = lambda: btn_click(7)).grid(row = 1, column = 0, padx = 1, pady = 1)\n",
    "eight = Button(btns_frame, text = \"8\", fg = \"black\", width = 10, height = 3, bd = 0, bg = \"#fff\", cursor = \"hand2\", command = lambda: btn_click(8)).grid(row = 1, column = 1, padx = 1, pady = 1)\n",
    "nine = Button(btns_frame, text = \"9\", fg = \"black\", width = 10, height = 3, bd = 0, bg = \"#fff\", cursor = \"hand2\", command = lambda: btn_click(9)).grid(row = 1, column = 2, padx = 1, pady = 1)\n",
    "multiply = Button(btns_frame, text = \"*\", fg = \"black\", width = 10, height = 3, bd = 0, bg = \"#eee\", cursor = \"hand2\", command = lambda: btn_click(\"*\")).grid(row = 1, column = 3, padx = 1, pady = 1)\n",
    "\n",
    "\n",
    "# The third row will comprise of the buttons '4', '5', '6' and 'Subtract (-)'\n",
    "four = Button(btns_frame, text = \"4\", fg = \"black\", width = 10, height = 3, bd = 0, bg = \"#fff\", cursor = \"hand2\", command = lambda: btn_click(4)).grid(row = 2, column = 0, padx = 1, pady = 1)\n",
    "five = Button(btns_frame, text = \"5\", fg = \"black\", width = 10, height = 3, bd = 0, bg = \"#fff\", cursor = \"hand2\", command = lambda: btn_click(5)).grid(row = 2, column = 1, padx = 1, pady = 1)\n",
    "six = Button(btns_frame, text = \"6\", fg = \"black\", width = 10, height = 3, bd = 0, bg = \"#fff\", cursor = \"hand2\", command = lambda: btn_click(6)).grid(row = 2, column = 2, padx = 1, pady = 1)\n",
    "minus = Button(btns_frame, text = \"-\", fg = \"black\", width = 10, height = 3, bd = 0, bg = \"#eee\", cursor = \"hand2\", command = lambda: btn_click(\"-\")).grid(row = 2, column = 3, padx = 1, pady = 1)\n",
    "\n",
    "\n",
    "# The fourth row will comprise of the buttons '1', '2', '3' and 'Addition (+)'\n",
    "one = Button(btns_frame, text = \"1\", fg = \"black\", width = 10, height = 3, bd = 0, bg = \"#fff\", cursor = \"hand2\", command = lambda: btn_click(1)).grid(row = 3, column = 0, padx = 1, pady = 1)\n",
    "two = Button(btns_frame, text = \"2\", fg = \"black\", width = 10, height = 3, bd = 0, bg = \"#fff\", cursor = \"hand2\", command = lambda: btn_click(2)).grid(row = 3, column = 1, padx = 1, pady = 1)\n",
    "three = Button(btns_frame, text = \"3\", fg = \"black\", width = 10, height = 3, bd = 0, bg = \"#fff\", cursor = \"hand2\", command = lambda: btn_click(3)).grid(row = 3, column = 2, padx = 1, pady = 1)\n",
    "plus = Button(btns_frame, text = \"+\", fg = \"black\", width = 10, height = 3, bd = 0, bg = \"#eee\", cursor = \"hand2\", command = lambda: btn_click(\"+\")).grid(row = 3, column = 3, padx = 1, pady = 1)\n",
    "\n",
    "\n",
    "# Finally, the fifth row will comprise of the buttons '0', 'Decimal (.)', and 'Equal To (=)'\n",
    "zero = Button(btns_frame, text = \"0\", fg = \"black\", width = 21, height = 3, bd = 0, bg = \"#fff\", cursor = \"hand2\", command = lambda: btn_click(0)).grid(row = 4, column = 0, columnspan = 2, padx = 1, pady = 1)\n",
    "point = Button(btns_frame, text = \".\", fg = \"black\", width = 10, height = 3, bd = 0, bg = \"#eee\", cursor = \"hand2\", command = lambda: btn_click(\".\")).grid(row = 4, column = 2, padx = 1, pady = 1)\n",
    "equals = Button(btns_frame, text = \"=\", fg = \"black\", width = 10, height = 3, bd = 0, bg = \"#eee\", cursor = \"hand2\", command = lambda: btn_equal()).grid(row = 4, column = 3, padx = 1, pady = 1)\n",
    "\n",
    "\n",
    "window.mainloop()"
   ]
  },
  {
   "cell_type": "code",
   "execution_count": null,
   "metadata": {},
   "outputs": [],
   "source": []
  }
 ],
 "metadata": {
  "kernelspec": {
   "display_name": "Python 3",
   "language": "python",
   "name": "python3"
  },
  "language_info": {
   "codemirror_mode": {
    "name": "ipython",
    "version": 3
   },
   "file_extension": ".py",
   "mimetype": "text/x-python",
   "name": "python",
   "nbconvert_exporter": "python",
   "pygments_lexer": "ipython3",
   "version": "3.7.4"
  }
 },
 "nbformat": 4,
 "nbformat_minor": 4
}

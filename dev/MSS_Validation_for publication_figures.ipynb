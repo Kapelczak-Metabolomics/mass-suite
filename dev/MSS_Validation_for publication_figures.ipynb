{
 "cells": [
  {
   "cell_type": "code",
   "execution_count": 2,
   "metadata": {},
   "outputs": [],
   "source": [
    "import sys\n",
    "sys.path.append('../')\n",
    "from mss import visreader as mvis\n",
    "from mss import mssmain as msm\n",
    "import pandas as pd\n",
    "import numpy as np\n",
    "\n",
    "from matplotlib_venn import venn2, venn2_circles, venn2_unweighted\n",
    "from matplotlib_venn import venn3, venn3_circles\n",
    "from matplotlib import pyplot as plt\n",
    "\n",
    "import seaborn as sns\n",
    "import peakutils\n",
    "import scipy\n",
    "from scipy.integrate import simps\n",
    "import itertools"
   ]
  },
  {
   "cell_type": "code",
   "execution_count": 2,
   "metadata": {},
   "outputs": [],
   "source": [
    "path = 'D:/UW/mssvalidation/20201119_ENTACT_validation_data/20201117_ENTACT_506_1.mzML'\n",
    "scans = msm.get_scans(path, ms_all=False, ms_lv=1)\n",
    "#noise removal\n",
    "msm.noise_removal(scans, 2000)"
   ]
  },
  {
   "cell_type": "code",
   "execution_count": 2,
   "metadata": {},
   "outputs": [],
   "source": [
    "manual = pd.read_csv('D:/UW/mssvalidation/20201119_ENTACT_validation_data/506_minscan5.csv')"
   ]
  },
  {
   "cell_type": "code",
   "execution_count": 12,
   "metadata": {},
   "outputs": [],
   "source": [
    "h_range = 3\n",
    "intensity=[1,2,3,4,5,4,3,2,1]\n",
    "x = np.linspace(h_range - 2, h_range, 3)\n",
    "y = intensity[h_range - 2: h_range + 1]"
   ]
  },
  {
   "cell_type": "code",
   "execution_count": 31,
   "metadata": {},
   "outputs": [
    {
     "data": {
      "text/plain": [
       "30"
      ]
     },
     "execution_count": 31,
     "metadata": {},
     "output_type": "execute_result"
    }
   ],
   "source": [
    "int(0.5 / (scans[1].scan_time[0] - scans[0].scan_time[0]))"
   ]
  },
  {
   "cell_type": "code",
   "execution_count": 11,
   "metadata": {},
   "outputs": [
    {
     "data": {
      "text/html": [
       "<div>\n",
       "<style scoped>\n",
       "    .dataframe tbody tr th:only-of-type {\n",
       "        vertical-align: middle;\n",
       "    }\n",
       "\n",
       "    .dataframe tbody tr th {\n",
       "        vertical-align: top;\n",
       "    }\n",
       "\n",
       "    .dataframe thead th {\n",
       "        text-align: right;\n",
       "    }\n",
       "</style>\n",
       "<table border=\"1\" class=\"dataframe\">\n",
       "  <thead>\n",
       "    <tr style=\"text-align: right;\">\n",
       "      <th></th>\n",
       "      <th>Unnamed: 0</th>\n",
       "      <th>m/z</th>\n",
       "      <th>rt</th>\n",
       "      <th>sn</th>\n",
       "      <th>score</th>\n",
       "      <th>peak area</th>\n",
       "    </tr>\n",
       "  </thead>\n",
       "  <tbody>\n",
       "    <tr>\n",
       "      <th>3752</th>\n",
       "      <td>3752</td>\n",
       "      <td>194.119</td>\n",
       "      <td>0.63</td>\n",
       "      <td>0.858</td>\n",
       "      <td>2</td>\n",
       "      <td>762129.238607</td>\n",
       "    </tr>\n",
       "    <tr>\n",
       "      <th>3753</th>\n",
       "      <td>3753</td>\n",
       "      <td>194.119</td>\n",
       "      <td>3.47</td>\n",
       "      <td>0.494</td>\n",
       "      <td>3</td>\n",
       "      <td>104144.989421</td>\n",
       "    </tr>\n",
       "    <tr>\n",
       "      <th>3754</th>\n",
       "      <td>3754</td>\n",
       "      <td>194.119</td>\n",
       "      <td>3.73</td>\n",
       "      <td>0.802</td>\n",
       "      <td>2</td>\n",
       "      <td>192672.691406</td>\n",
       "    </tr>\n",
       "    <tr>\n",
       "      <th>3755</th>\n",
       "      <td>3755</td>\n",
       "      <td>194.119</td>\n",
       "      <td>4.35</td>\n",
       "      <td>1.543</td>\n",
       "      <td>2</td>\n",
       "      <td>684418.184896</td>\n",
       "    </tr>\n",
       "    <tr>\n",
       "      <th>3756</th>\n",
       "      <td>3756</td>\n",
       "      <td>194.119</td>\n",
       "      <td>4.79</td>\n",
       "      <td>0.806</td>\n",
       "      <td>3</td>\n",
       "      <td>93926.303385</td>\n",
       "    </tr>\n",
       "  </tbody>\n",
       "</table>\n",
       "</div>"
      ],
      "text/plain": [
       "      Unnamed: 0      m/z    rt     sn  score      peak area\n",
       "3752        3752  194.119  0.63  0.858      2  762129.238607\n",
       "3753        3753  194.119  3.47  0.494      3  104144.989421\n",
       "3754        3754  194.119  3.73  0.802      2  192672.691406\n",
       "3755        3755  194.119  4.35  1.543      2  684418.184896\n",
       "3756        3756  194.119  4.79  0.806      3   93926.303385"
      ]
     },
     "execution_count": 11,
     "metadata": {},
     "output_type": "execute_result"
    }
   ],
   "source": [
    "mass = 194.1182\n",
    "ppm = 10\n",
    "manual[(manual['m/z'] > mass - mass*ppm*1e-6) & (manual['m/z'] < mass + mass * ppm * 1e-6)]"
   ]
  },
  {
   "cell_type": "code",
   "execution_count": 9,
   "metadata": {},
   "outputs": [],
   "source": [
    "test = msm.peak_pick(scans,194.1182,10,enable_score=True)"
   ]
  },
  {
   "cell_type": "code",
   "execution_count": 62,
   "metadata": {},
   "outputs": [],
   "source": [
    "d_md505 = pd.read_excel('D:/UW/mssvalidation/20201119_ENTACT_validation_data/20201117_ENTACT_msdial.xlsx',sheet_name='505')"
   ]
  },
  {
   "cell_type": "code",
   "execution_count": 63,
   "metadata": {},
   "outputs": [],
   "source": [
    "d_s1 = pd.read_csv('D:/UW/mssvalidation/20201119_ENTACT_validation_data/505_minscan5.csv')\n",
    "d_s1_7= pd.read_csv('D:/UW/mssvalidation/20201119_ENTACT_validation_data/505.csv')"
   ]
  },
  {
   "cell_type": "code",
   "execution_count": 64,
   "metadata": {},
   "outputs": [],
   "source": [
    "d_mss = d_s1[['rt', 'm/z', 'peak area']]\n",
    "d_mss_7 = d_s1_7[['rt', 'm/z', 'peak area']]"
   ]
  },
  {
   "cell_type": "code",
   "execution_count": 65,
   "metadata": {},
   "outputs": [],
   "source": [
    "d_msdial = d_md505[['RT (min)', 'Precursor m/z', 'Area']]"
   ]
  },
  {
   "cell_type": "code",
   "execution_count": 66,
   "metadata": {},
   "outputs": [],
   "source": [
    "def batch_alignment(d_ref, d_align, rt_error=0.5, mz_error=0.01):\n",
    "    #Alignment of new dataset\n",
    "    result = []\n",
    "    for row in np.arange(len(d_ref)):\n",
    "        #Find overlap using the error range\n",
    "        overlap = np.where((d_align.iloc[:, 0] - rt_error <=\n",
    "                                        d_ref.iloc[row, 0]) & (d_ref.iloc[row, 0] <=\n",
    "                                        d_align.iloc[:, 0] + rt_error) & (d_align.iloc[:, 1] - mz_error <=\n",
    "                                        d_ref.iloc[row, 1]) & (d_ref.iloc[row, 1] <=\n",
    "                                        d_align.iloc[:, 1] + mz_error))\n",
    "        if len(overlap[0]) == 1:\n",
    "            result.append([overlap[0][0], row])\n",
    "        elif len(overlap[0]) > 1:\n",
    "            dist = []\n",
    "            for i in overlap[0]: # if multiple hits, use the closer feature for alignment\n",
    "                dist.append(np.sqrt(((d_align.iloc[i, 0] - d_ref.iloc[row, 0])**2) +\n",
    "                                    ((d_align.iloc[i, 1] - d_ref.iloc[row, 1])**2)))\n",
    "            result.append([overlap[0][np.argmin(dist)], row])\n",
    "        \n",
    "    #Modeling using overlapping features except noises\n",
    "#     align_index = [i[0] for i in result]\n",
    "#     ref_index = [i[1] for i in result]\n",
    "#     d_align = d_align.loc[align_index]\n",
    "#     d_ref = d_ref.iloc[ref_index]\n",
    "\n",
    "#     d_align.reset_index(drop=True,inplace=True)\n",
    "#     d_ref.reset_index(drop=True,inplace=True)\n",
    "#     d_join = d_align.iloc[:,3:] #Important !! -- The indexing is important especially reading other feedin data\n",
    "#     d_merge = pd.concat([d_ref,d_join],axis=1)\n",
    "        \n",
    "    return result"
   ]
  },
  {
   "cell_type": "code",
   "execution_count": 67,
   "metadata": {},
   "outputs": [],
   "source": [
    "d_xcms_raw = pd.read_excel('D:/UW/mssvalidation/20201119_ENTACT_validation_data/ENTACT505/results/XCMS-Report-SingleClass.xlsx')"
   ]
  },
  {
   "cell_type": "code",
   "execution_count": 68,
   "metadata": {},
   "outputs": [],
   "source": [
    "d_xcms = d_xcms_raw[['rt', 'mz', 'into']].copy()\n",
    "d_xcms['rt'] = d_xcms_raw['rt'] / 60"
   ]
  },
  {
   "cell_type": "code",
   "execution_count": 69,
   "metadata": {},
   "outputs": [],
   "source": [
    "overlap_msd = batch_alignment(d_mss, d_msdial,rt_error = 0.1,mz_error=0.015)\n",
    "overlap_xcms = batch_alignment(d_mss, d_xcms,rt_error = 0.1,mz_error=0.015)"
   ]
  },
  {
   "cell_type": "code",
   "execution_count": 75,
   "metadata": {},
   "outputs": [],
   "source": [
    "overlap_min_scan = batch_alignment(d_mss, d_mss_7,rt_error = 0.1,mz_error=0.015)"
   ]
  },
  {
   "cell_type": "code",
   "execution_count": 34,
   "metadata": {},
   "outputs": [
    {
     "ename": "NameError",
     "evalue": "name 'overlap_min_scan' is not defined",
     "output_type": "error",
     "traceback": [
      "\u001b[1;31m---------------------------------------------------------------------------\u001b[0m",
      "\u001b[1;31mNameError\u001b[0m                                 Traceback (most recent call last)",
      "\u001b[1;32m<ipython-input-34-0832f527f306>\u001b[0m in \u001b[0;36m<module>\u001b[1;34m\u001b[0m\n\u001b[1;32m----> 1\u001b[1;33m \u001b[0mlen\u001b[0m\u001b[1;33m(\u001b[0m\u001b[0mlist\u001b[0m\u001b[1;33m(\u001b[0m\u001b[0mset\u001b[0m\u001b[1;33m(\u001b[0m\u001b[1;33m[\u001b[0m\u001b[0mi\u001b[0m\u001b[1;33m[\u001b[0m\u001b[1;36m1\u001b[0m\u001b[1;33m]\u001b[0m \u001b[1;32mfor\u001b[0m \u001b[0mi\u001b[0m \u001b[1;32min\u001b[0m \u001b[0moverlap_min_scan\u001b[0m\u001b[1;33m]\u001b[0m\u001b[1;33m)\u001b[0m\u001b[1;33m)\u001b[0m\u001b[1;33m)\u001b[0m\u001b[1;33m\u001b[0m\u001b[1;33m\u001b[0m\u001b[0m\n\u001b[0m",
      "\u001b[1;31mNameError\u001b[0m: name 'overlap_min_scan' is not defined"
     ]
    }
   ],
   "source": [
    "len(list(set([i[1] for i in overlap_min_scan])))"
   ]
  },
  {
   "cell_type": "code",
   "execution_count": 76,
   "metadata": {},
   "outputs": [
    {
     "data": {
      "text/plain": [
       "11727"
      ]
     },
     "execution_count": 76,
     "metadata": {},
     "output_type": "execute_result"
    }
   ],
   "source": [
    "len(overlap_min_scan)"
   ]
  },
  {
   "cell_type": "code",
   "execution_count": 77,
   "metadata": {},
   "outputs": [
    {
     "data": {
      "text/plain": [
       "(10928, 3)"
      ]
     },
     "execution_count": 77,
     "metadata": {},
     "output_type": "execute_result"
    }
   ],
   "source": [
    "d_mss_7.shape"
   ]
  },
  {
   "cell_type": "code",
   "execution_count": 70,
   "metadata": {},
   "outputs": [],
   "source": [
    "mss_index_msd = [i[1] for i in overlap_msd]\n",
    "mss_index_xcms = [i[1] for i in overlap_xcms]\n",
    "msd_index = [i[0] for i in overlap_msd]\n",
    "xcms_index = [i[0] for i in overlap_xcms]"
   ]
  },
  {
   "cell_type": "code",
   "execution_count": 81,
   "metadata": {},
   "outputs": [
    {
     "data": {
      "text/plain": [
       "11532"
      ]
     },
     "execution_count": 81,
     "metadata": {},
     "output_type": "execute_result"
    }
   ],
   "source": [
    "len(mss_index_msd)"
   ]
  },
  {
   "cell_type": "code",
   "execution_count": 82,
   "metadata": {},
   "outputs": [
    {
     "data": {
      "text/plain": [
       "11225"
      ]
     },
     "execution_count": 82,
     "metadata": {},
     "output_type": "execute_result"
    }
   ],
   "source": [
    "len(mss_index_xcms)"
   ]
  },
  {
   "cell_type": "code",
   "execution_count": 55,
   "metadata": {},
   "outputs": [],
   "source": [
    "trip_overlap = batch_alignment(d_mss.iloc[mss_index_msd], d_xcms, rt_error=0.2, mz_error=0.015)\n",
    "q_overlap = batch_alignment(d_msdial, d_xcms, rt_error=0.2, mz_error=0.015)"
   ]
  },
  {
   "cell_type": "code",
   "execution_count": 15,
   "metadata": {},
   "outputs": [],
   "source": [
    "d_trip_overlap = d_s1.iloc[mss_index_msd].iloc[[i[1] for i in trip_overlap]].copy()\n",
    "#d_trip_overlap.to_csv('D:/UW/mssvalidation/20201119_ENTACT_validation_data/export/202011247_505_alloverlap_rt02_mz0015.csv')"
   ]
  },
  {
   "cell_type": "code",
   "execution_count": 91,
   "metadata": {},
   "outputs": [
    {
     "data": {
      "text/plain": [
       "<matplotlib.axes._subplots.AxesSubplot at 0x20eb7ef5708>"
      ]
     },
     "execution_count": 91,
     "metadata": {},
     "output_type": "execute_result"
    },
    {
     "data": {
      "image/png": "[encoded data removed]",
      "text/plain": [
       "<Figure size 432x288 with 1 Axes>"
      ]
     },
     "metadata": {
      "needs_background": "light"
     },
     "output_type": "display_data"
    }
   ],
   "source": [
    "sns.distplot(d_trip_overlap['m/z'])"
   ]
  },
  {
   "cell_type": "code",
   "execution_count": 92,
   "metadata": {},
   "outputs": [
    {
     "data": {
      "text/plain": [
       "<matplotlib.axes._subplots.AxesSubplot at 0x20eb7fd3a88>"
      ]
     },
     "execution_count": 92,
     "metadata": {},
     "output_type": "execute_result"
    },
    {
     "data": {
      "image/png": "[encoded data removed]",
      "text/plain": [
       "<Figure size 432x288 with 1 Axes>"
      ]
     },
     "metadata": {
      "needs_background": "light"
     },
     "output_type": "display_data"
    }
   ],
   "source": [
    "sns.distplot(d_trip_overlap['rt'])"
   ]
  },
  {
   "cell_type": "code",
   "execution_count": 56,
   "metadata": {},
   "outputs": [
    {
     "data": {
      "text/plain": [
       "8554"
      ]
     },
     "execution_count": 56,
     "metadata": {},
     "output_type": "execute_result"
    }
   ],
   "source": [
    "len(trip_overlap)"
   ]
  },
  {
   "cell_type": "code",
   "execution_count": 57,
   "metadata": {},
   "outputs": [
    {
     "data": {
      "text/plain": [
       "12387"
      ]
     },
     "execution_count": 57,
     "metadata": {},
     "output_type": "execute_result"
    }
   ],
   "source": [
    "len(q_overlap)"
   ]
  },
  {
   "cell_type": "code",
   "execution_count": 98,
   "metadata": {},
   "outputs": [
    {
     "data": {
      "text/plain": [
       "0.09987999999999886"
      ]
     },
     "execution_count": 98,
     "metadata": {},
     "output_type": "execute_result"
    }
   ],
   "source": [
    "max(rtdist)"
   ]
  },
  {
   "cell_type": "code",
   "execution_count": 99,
   "metadata": {},
   "outputs": [
    {
     "data": {
      "text/plain": [
       "(array([ 295.,  264.,  349., 1037., 4517., 3932.,  513.,  207.,  203.,\n",
       "         215.]),\n",
       " array([-9.996670e-02, -7.998203e-02, -5.999736e-02, -4.001269e-02,\n",
       "        -2.002802e-02, -4.335000e-05,  1.994132e-02,  3.992599e-02,\n",
       "         5.991066e-02,  7.989533e-02,  9.988000e-02]),\n",
       " <a list of 10 Patch objects>)"
      ]
     },
     "execution_count": 99,
     "metadata": {},
     "output_type": "execute_result"
    },
    {
     "data": {
      "image/png": "[encoded data removed]",
      "text/plain": [
       "<Figure size 432x288 with 1 Axes>"
      ]
     },
     "metadata": {
      "needs_background": "light"
     },
     "output_type": "display_data"
    }
   ],
   "source": [
    "plt.hist(rtdist)"
   ]
  },
  {
   "cell_type": "code",
   "execution_count": 92,
   "metadata": {},
   "outputs": [
    {
     "data": {
      "text/plain": [
       "Text(0.5, 1.0, 'retention time difference distribution')"
      ]
     },
     "execution_count": 92,
     "metadata": {},
     "output_type": "execute_result"
    },
    {
     "data": {
      "image/png": "[encoded data removed]",
      "text/plain": [
       "<Figure size 432x288 with 1 Axes>"
      ]
     },
     "metadata": {
      "needs_background": "light"
     },
     "output_type": "display_data"
    }
   ],
   "source": [
    "from scipy.stats import norm\n",
    "rtdist = list(list(d_mss.loc[mss_index_msd]['rt']) - (d_msdial.loc[msd_index]['RT (min)']))\n",
    "sns.distplot(rtdist)\n",
    "plt.title('retention time difference distribution')"
   ]
  },
  {
   "cell_type": "code",
   "execution_count": 103,
   "metadata": {},
   "outputs": [
    {
     "data": {
      "text/plain": [
       "Text(0.5, 1.0, 'm/z difference distribution')"
      ]
     },
     "execution_count": 103,
     "metadata": {},
     "output_type": "execute_result"
    },
    {
     "data": {
      "image/png": "[encoded data removed]",
      "text/plain": [
       "<Figure size 432x288 with 1 Axes>"
      ]
     },
     "metadata": {
      "needs_background": "light"
     },
     "output_type": "display_data"
    }
   ],
   "source": [
    "rtdist = list(list(d_mss.loc[mss_index_msd]['m/z']) - (d_msdial.loc[msd_index]['Precursor m/z']))\n",
    "sns.distplot(rtdist)\n",
    "plt.title('m/z difference distribution')"
   ]
  },
  {
   "cell_type": "code",
   "execution_count": 32,
   "metadata": {},
   "outputs": [
    {
     "data": {
      "text/plain": [
       "Text(0.5, 1.0, 'Peak area difference distribution')"
      ]
     },
     "execution_count": 32,
     "metadata": {},
     "output_type": "execute_result"
    },
    {
     "data": {
      "image/png": "[encoded data removed]",
      "text/plain": [
       "<Figure size 432x288 with 1 Axes>"
      ]
     },
     "metadata": {
      "needs_background": "light"
     },
     "output_type": "display_data"
    }
   ],
   "source": [
    "rtdist = list(list(d_mss.loc[mss_index]['peak area']) - (d_xcms.loc[xcms_index]['into']))\n",
    "sns.distplot(rtdist)\n",
    "plt.title('Peak area difference distribution')"
   ]
  },
  {
   "cell_type": "code",
   "execution_count": 58,
   "metadata": {},
   "outputs": [
    {
     "data": {
      "text/plain": [
       "18868"
      ]
     },
     "execution_count": 58,
     "metadata": {},
     "output_type": "execute_result"
    }
   ],
   "source": [
    "d_msdial.shape[0]"
   ]
  },
  {
   "cell_type": "code",
   "execution_count": 59,
   "metadata": {},
   "outputs": [
    {
     "data": {
      "text/plain": [
       "20488"
      ]
     },
     "execution_count": 59,
     "metadata": {},
     "output_type": "execute_result"
    }
   ],
   "source": [
    "d_mss.shape[0]"
   ]
  },
  {
   "cell_type": "code",
   "execution_count": 60,
   "metadata": {},
   "outputs": [
    {
     "data": {
      "text/plain": [
       "14206"
      ]
     },
     "execution_count": 60,
     "metadata": {},
     "output_type": "execute_result"
    }
   ],
   "source": [
    "d_xcms.shape[0]"
   ]
  },
  {
   "cell_type": "code",
   "execution_count": 27,
   "metadata": {},
   "outputs": [
    {
     "data": {
      "text/plain": [
       "1627"
      ]
     },
     "execution_count": 27,
     "metadata": {},
     "output_type": "execute_result"
    }
   ],
   "source": [
    "17257-15630"
   ]
  },
  {
   "cell_type": "code",
   "execution_count": 48,
   "metadata": {},
   "outputs": [
    {
     "data": {
      "image/png": "[encoded data removed]",
      "text/plain": [
       "<Figure size 432x288 with 1 Axes>"
      ]
     },
     "metadata": {},
     "output_type": "display_data"
    }
   ],
   "source": [
    "font1 = {'family':'serif','color':'black','size':16} # use for title\n",
    "font2 = {'family': 'Arial', 'size': 16} # use for labels\n",
    "plt.rc('font', **font2) # sets the default font \n",
    "vd = venn2(subsets = (18586-11142, 16187-11142, 11142), set_labels = ('MSS result', 'XCMS\\nresult'))\n",
    "lbl = vd.get_label_by_id(\"A\")\n",
    "x, y = lbl.get_position()\n",
    "lbl.set_position((x-0.5, y+1))\n",
    "\n",
    "lbl = vd.get_label_by_id(\"B\")\n",
    "x, y = lbl.get_position()\n",
    "lbl.set_position((x+0.45, y+0.3))\n",
    "#plt.title('rt_error = 0.5, mz_error = 0.015 Da')"
   ]
  },
  {
   "cell_type": "code",
   "execution_count": 61,
   "metadata": {},
   "outputs": [
    {
     "data": {
      "image/png": "[encoded data removed]",
      "text/plain": [
       "<Figure size 576x576 with 1 Axes>"
      ]
     },
     "metadata": {},
     "output_type": "display_data"
    }
   ],
   "source": [
    "plt.figure(figsize = (8,8))\n",
    "font1 = {'family':'serif','color':'black','size':16} # use for title\n",
    "font2 = {'family': 'Arial', 'size': 18} # use for labels\n",
    "plt.rc('font', **font2) # sets the default font \n",
    "venn3(subsets = (9539,740,1079,5165,1316,3833,8554), set_labels = ('MSS', 'XCMS', 'MS-DIAL'), alpha = 0.5);"
   ]
  },
  {
   "cell_type": "code",
   "execution_count": 16,
   "metadata": {},
   "outputs": [],
   "source": [
    "#distribution of mass error and rt error in aligned features\n",
    "#summary of peak area in unique and overlapped ones\n",
    "#score assessment"
   ]
  },
  {
   "cell_type": "code",
   "execution_count": 139,
   "metadata": {},
   "outputs": [
    {
     "data": {
      "text/html": [
       "<div>\n",
       "<style scoped>\n",
       "    .dataframe tbody tr th:only-of-type {\n",
       "        vertical-align: middle;\n",
       "    }\n",
       "\n",
       "    .dataframe tbody tr th {\n",
       "        vertical-align: top;\n",
       "    }\n",
       "\n",
       "    .dataframe thead th {\n",
       "        text-align: right;\n",
       "    }\n",
       "</style>\n",
       "<table border=\"1\" class=\"dataframe\">\n",
       "  <thead>\n",
       "    <tr style=\"text-align: right;\">\n",
       "      <th></th>\n",
       "      <th>rt</th>\n",
       "      <th>mz</th>\n",
       "      <th>into</th>\n",
       "    </tr>\n",
       "  </thead>\n",
       "  <tbody>\n",
       "    <tr>\n",
       "      <th>1548</th>\n",
       "      <td>0.625317</td>\n",
       "      <td>105.963279</td>\n",
       "      <td>146502.933261</td>\n",
       "    </tr>\n",
       "    <tr>\n",
       "      <th>361</th>\n",
       "      <td>0.625317</td>\n",
       "      <td>107.960023</td>\n",
       "      <td>120927.914696</td>\n",
       "    </tr>\n",
       "    <tr>\n",
       "      <th>312</th>\n",
       "      <td>0.625317</td>\n",
       "      <td>110.008953</td>\n",
       "      <td>470878.259287</td>\n",
       "    </tr>\n",
       "    <tr>\n",
       "      <th>2019</th>\n",
       "      <td>0.675067</td>\n",
       "      <td>111.010860</td>\n",
       "      <td>15122.851232</td>\n",
       "    </tr>\n",
       "    <tr>\n",
       "      <th>1317</th>\n",
       "      <td>0.675067</td>\n",
       "      <td>112.006249</td>\n",
       "      <td>17726.079376</td>\n",
       "    </tr>\n",
       "    <tr>\n",
       "      <th>...</th>\n",
       "      <td>...</td>\n",
       "      <td>...</td>\n",
       "      <td>...</td>\n",
       "    </tr>\n",
       "    <tr>\n",
       "      <th>5822</th>\n",
       "      <td>21.106733</td>\n",
       "      <td>165.052680</td>\n",
       "      <td>98682.191621</td>\n",
       "    </tr>\n",
       "    <tr>\n",
       "      <th>5819</th>\n",
       "      <td>21.139900</td>\n",
       "      <td>127.959653</td>\n",
       "      <td>191276.798619</td>\n",
       "    </tr>\n",
       "    <tr>\n",
       "      <th>5813</th>\n",
       "      <td>21.106733</td>\n",
       "      <td>133.026363</td>\n",
       "      <td>54454.330364</td>\n",
       "    </tr>\n",
       "    <tr>\n",
       "      <th>5808</th>\n",
       "      <td>21.090150</td>\n",
       "      <td>107.029921</td>\n",
       "      <td>216122.826739</td>\n",
       "    </tr>\n",
       "    <tr>\n",
       "      <th>5816</th>\n",
       "      <td>21.106733</td>\n",
       "      <td>137.021630</td>\n",
       "      <td>111107.333799</td>\n",
       "    </tr>\n",
       "  </tbody>\n",
       "</table>\n",
       "<p>1887 rows × 3 columns</p>\n",
       "</div>"
      ],
      "text/plain": [
       "             rt          mz           into\n",
       "1548   0.625317  105.963279  146502.933261\n",
       "361    0.625317  107.960023  120927.914696\n",
       "312    0.625317  110.008953  470878.259287\n",
       "2019   0.675067  111.010860   15122.851232\n",
       "1317   0.675067  112.006249   17726.079376\n",
       "...         ...         ...            ...\n",
       "5822  21.106733  165.052680   98682.191621\n",
       "5819  21.139900  127.959653  191276.798619\n",
       "5813  21.106733  133.026363   54454.330364\n",
       "5808  21.090150  107.029921  216122.826739\n",
       "5816  21.106733  137.021630  111107.333799\n",
       "\n",
       "[1887 rows x 3 columns]"
      ]
     },
     "execution_count": 139,
     "metadata": {},
     "output_type": "execute_result"
    }
   ],
   "source": [
    "d_xcms.loc[xcms_index]"
   ]
  },
  {
   "cell_type": "code",
   "execution_count": 62,
   "metadata": {},
   "outputs": [
    {
     "data": {
      "text/plain": [
       "Text(0.5, 1.0, 'overlap scoring')"
      ]
     },
     "execution_count": 62,
     "metadata": {},
     "output_type": "execute_result"
    },
    {
     "data": {
      "image/png": "[encoded data removed]",
      "text/plain": [
       "<Figure size 432x288 with 1 Axes>"
      ]
     },
     "metadata": {},
     "output_type": "display_data"
    }
   ],
   "source": [
    "plt.pie(d_s1.loc[mss_index_xcms]['score'].value_counts(),labels=list(set(d_s1['score'])), autopct='%1.0f%%');\n",
    "plt.title('overlap scoring')\n",
    "#plt.xticks([1,2,3])"
   ]
  },
  {
   "cell_type": "code",
   "execution_count": 63,
   "metadata": {},
   "outputs": [
    {
     "data": {
      "text/plain": [
       "Text(0.5, 1.0, 'unique features scoring')"
      ]
     },
     "execution_count": 63,
     "metadata": {},
     "output_type": "execute_result"
    },
    {
     "data": {
      "image/png": "[encoded data removed]",
      "text/plain": [
       "<Figure size 432x288 with 1 Axes>"
      ]
     },
     "metadata": {},
     "output_type": "display_data"
    }
   ],
   "source": [
    "plt.pie(d_s1.loc[[i for i in d_s1.index if i not in mss_index_xcms]]['score'].value_counts(), autopct='%1.0f%%');\n",
    "plt.title('unique features scoring')"
   ]
  },
  {
   "cell_type": "code",
   "execution_count": 44,
   "metadata": {},
   "outputs": [
    {
     "data": {
      "text/html": [
       "<div>\n",
       "<style scoped>\n",
       "    .dataframe tbody tr th:only-of-type {\n",
       "        vertical-align: middle;\n",
       "    }\n",
       "\n",
       "    .dataframe tbody tr th {\n",
       "        vertical-align: top;\n",
       "    }\n",
       "\n",
       "    .dataframe thead th {\n",
       "        text-align: right;\n",
       "    }\n",
       "</style>\n",
       "<table border=\"1\" class=\"dataframe\">\n",
       "  <thead>\n",
       "    <tr style=\"text-align: right;\">\n",
       "      <th></th>\n",
       "      <th>RT(min)</th>\n",
       "      <th>Precursor m/z</th>\n",
       "      <th>Area</th>\n",
       "    </tr>\n",
       "  </thead>\n",
       "  <tbody>\n",
       "    <tr>\n",
       "      <th>0</th>\n",
       "      <td>0.59215</td>\n",
       "      <td>105.9635</td>\n",
       "      <td>233135.70</td>\n",
       "    </tr>\n",
       "    <tr>\n",
       "      <th>1</th>\n",
       "      <td>0.59215</td>\n",
       "      <td>107.9599</td>\n",
       "      <td>132922.30</td>\n",
       "    </tr>\n",
       "    <tr>\n",
       "      <th>2</th>\n",
       "      <td>0.59215</td>\n",
       "      <td>110.0088</td>\n",
       "      <td>521536.60</td>\n",
       "    </tr>\n",
       "    <tr>\n",
       "      <th>3</th>\n",
       "      <td>0.59215</td>\n",
       "      <td>111.0117</td>\n",
       "      <td>82580.55</td>\n",
       "    </tr>\n",
       "    <tr>\n",
       "      <th>4</th>\n",
       "      <td>0.59215</td>\n",
       "      <td>112.0069</td>\n",
       "      <td>75445.54</td>\n",
       "    </tr>\n",
       "    <tr>\n",
       "      <th>...</th>\n",
       "      <td>...</td>\n",
       "      <td>...</td>\n",
       "      <td>...</td>\n",
       "    </tr>\n",
       "    <tr>\n",
       "      <th>2964</th>\n",
       "      <td>21.20623</td>\n",
       "      <td>141.9593</td>\n",
       "      <td>15008850.00</td>\n",
       "    </tr>\n",
       "    <tr>\n",
       "      <th>2965</th>\n",
       "      <td>21.20623</td>\n",
       "      <td>182.9832</td>\n",
       "      <td>728052.60</td>\n",
       "    </tr>\n",
       "    <tr>\n",
       "      <th>2966</th>\n",
       "      <td>21.27257</td>\n",
       "      <td>128.9878</td>\n",
       "      <td>644385.40</td>\n",
       "    </tr>\n",
       "    <tr>\n",
       "      <th>2967</th>\n",
       "      <td>21.28915</td>\n",
       "      <td>113.9649</td>\n",
       "      <td>1128074.00</td>\n",
       "    </tr>\n",
       "    <tr>\n",
       "      <th>2968</th>\n",
       "      <td>21.57108</td>\n",
       "      <td>172.9779</td>\n",
       "      <td>7545718.00</td>\n",
       "    </tr>\n",
       "  </tbody>\n",
       "</table>\n",
       "<p>2221 rows × 3 columns</p>\n",
       "</div>"
      ],
      "text/plain": [
       "       RT(min)  Precursor m/z         Area\n",
       "0      0.59215       105.9635    233135.70\n",
       "1      0.59215       107.9599    132922.30\n",
       "2      0.59215       110.0088    521536.60\n",
       "3      0.59215       111.0117     82580.55\n",
       "4      0.59215       112.0069     75445.54\n",
       "...        ...            ...          ...\n",
       "2964  21.20623       141.9593  15008850.00\n",
       "2965  21.20623       182.9832    728052.60\n",
       "2966  21.27257       128.9878    644385.40\n",
       "2967  21.28915       113.9649   1128074.00\n",
       "2968  21.57108       172.9779   7545718.00\n",
       "\n",
       "[2221 rows x 3 columns]"
      ]
     },
     "execution_count": 44,
     "metadata": {},
     "output_type": "execute_result"
    }
   ],
   "source": [
    "d_msdial.loc[[i for i in d_msdial.index if i not in msd_index]]"
   ]
  },
  {
   "cell_type": "code",
   "execution_count": 63,
   "metadata": {},
   "outputs": [
    {
     "data": {
      "text/html": [
       "<div>\n",
       "<style scoped>\n",
       "    .dataframe tbody tr th:only-of-type {\n",
       "        vertical-align: middle;\n",
       "    }\n",
       "\n",
       "    .dataframe tbody tr th {\n",
       "        vertical-align: top;\n",
       "    }\n",
       "\n",
       "    .dataframe thead th {\n",
       "        text-align: right;\n",
       "    }\n",
       "</style>\n",
       "<table border=\"1\" class=\"dataframe\">\n",
       "  <thead>\n",
       "    <tr style=\"text-align: right;\">\n",
       "      <th></th>\n",
       "      <th>rt</th>\n",
       "      <th>m/z</th>\n",
       "      <th>peak area</th>\n",
       "    </tr>\n",
       "  </thead>\n",
       "  <tbody>\n",
       "    <tr>\n",
       "      <th>0</th>\n",
       "      <td>3.97</td>\n",
       "      <td>100.0113</td>\n",
       "      <td>160580.431315</td>\n",
       "    </tr>\n",
       "    <tr>\n",
       "      <th>1</th>\n",
       "      <td>3.06</td>\n",
       "      <td>100.0733</td>\n",
       "      <td>24689.075602</td>\n",
       "    </tr>\n",
       "    <tr>\n",
       "      <th>2</th>\n",
       "      <td>2.08</td>\n",
       "      <td>100.0753</td>\n",
       "      <td>53319.403320</td>\n",
       "    </tr>\n",
       "    <tr>\n",
       "      <th>3</th>\n",
       "      <td>2.68</td>\n",
       "      <td>100.1073</td>\n",
       "      <td>19946.666463</td>\n",
       "    </tr>\n",
       "    <tr>\n",
       "      <th>4</th>\n",
       "      <td>0.84</td>\n",
       "      <td>100.1113</td>\n",
       "      <td>219598.429525</td>\n",
       "    </tr>\n",
       "    <tr>\n",
       "      <th>...</th>\n",
       "      <td>...</td>\n",
       "      <td>...</td>\n",
       "      <td>...</td>\n",
       "    </tr>\n",
       "    <tr>\n",
       "      <th>10923</th>\n",
       "      <td>19.59</td>\n",
       "      <td>1679.4716</td>\n",
       "      <td>28597.217855</td>\n",
       "    </tr>\n",
       "    <tr>\n",
       "      <th>10924</th>\n",
       "      <td>19.57</td>\n",
       "      <td>1680.4796</td>\n",
       "      <td>13778.617269</td>\n",
       "    </tr>\n",
       "    <tr>\n",
       "      <th>10925</th>\n",
       "      <td>20.15</td>\n",
       "      <td>1680.4796</td>\n",
       "      <td>15459.764791</td>\n",
       "    </tr>\n",
       "    <tr>\n",
       "      <th>10926</th>\n",
       "      <td>20.22</td>\n",
       "      <td>1681.4545</td>\n",
       "      <td>12127.953857</td>\n",
       "    </tr>\n",
       "    <tr>\n",
       "      <th>10927</th>\n",
       "      <td>20.17</td>\n",
       "      <td>1682.4637</td>\n",
       "      <td>17506.074382</td>\n",
       "    </tr>\n",
       "  </tbody>\n",
       "</table>\n",
       "<p>10928 rows × 3 columns</p>\n",
       "</div>"
      ],
      "text/plain": [
       "          rt        m/z      peak area\n",
       "0       3.97   100.0113  160580.431315\n",
       "1       3.06   100.0733   24689.075602\n",
       "2       2.08   100.0753   53319.403320\n",
       "3       2.68   100.1073   19946.666463\n",
       "4       0.84   100.1113  219598.429525\n",
       "...      ...        ...            ...\n",
       "10923  19.59  1679.4716   28597.217855\n",
       "10924  19.57  1680.4796   13778.617269\n",
       "10925  20.15  1680.4796   15459.764791\n",
       "10926  20.22  1681.4545   12127.953857\n",
       "10927  20.17  1682.4637   17506.074382\n",
       "\n",
       "[10928 rows x 3 columns]"
      ]
     },
     "execution_count": 63,
     "metadata": {},
     "output_type": "execute_result"
    }
   ],
   "source": [
    "d_mss"
   ]
  },
  {
   "cell_type": "code",
   "execution_count": 97,
   "metadata": {},
   "outputs": [
    {
     "data": {
      "text/plain": [
       "{1: 1}"
      ]
     },
     "execution_count": 97,
     "metadata": {},
     "output_type": "execute_result"
    }
   ],
   "source": [
    "test_dict = {1:1,2:2,3:3}\n",
    "import itertools \n",
    "dict(itertools.islice(test_dict.items(), 1))  "
   ]
  },
  {
   "cell_type": "code",
   "execution_count": 94,
   "metadata": {},
   "outputs": [
    {
     "data": {
      "text/plain": [
       "{672: [664, 679, 393229.9112955729, 0, 1]}"
      ]
     },
     "execution_count": 94,
     "metadata": {},
     "output_type": "execute_result"
    }
   ],
   "source": [
    "peak_pick(scans,299.1765,50)"
   ]
  },
  {
   "cell_type": "code",
   "execution_count": 136,
   "metadata": {},
   "outputs": [
    {
     "data": {
      "text/html": [
       "<div>\n",
       "<style scoped>\n",
       "    .dataframe tbody tr th:only-of-type {\n",
       "        vertical-align: middle;\n",
       "    }\n",
       "\n",
       "    .dataframe tbody tr th {\n",
       "        vertical-align: top;\n",
       "    }\n",
       "\n",
       "    .dataframe thead th {\n",
       "        text-align: right;\n",
       "    }\n",
       "</style>\n",
       "<table border=\"1\" class=\"dataframe\">\n",
       "  <thead>\n",
       "    <tr style=\"text-align: right;\">\n",
       "      <th></th>\n",
       "      <th>rt</th>\n",
       "      <th>mz</th>\n",
       "      <th>into</th>\n",
       "    </tr>\n",
       "  </thead>\n",
       "  <tbody>\n",
       "    <tr>\n",
       "      <th>6502</th>\n",
       "      <td>7.760367</td>\n",
       "      <td>395.138132</td>\n",
       "      <td>32772.443676</td>\n",
       "    </tr>\n",
       "    <tr>\n",
       "      <th>6510</th>\n",
       "      <td>7.760367</td>\n",
       "      <td>465.953522</td>\n",
       "      <td>15142.679954</td>\n",
       "    </tr>\n",
       "    <tr>\n",
       "      <th>6538</th>\n",
       "      <td>7.760367</td>\n",
       "      <td>471.222196</td>\n",
       "      <td>124869.898506</td>\n",
       "    </tr>\n",
       "    <tr>\n",
       "      <th>6485</th>\n",
       "      <td>7.760367</td>\n",
       "      <td>472.225516</td>\n",
       "      <td>23902.866222</td>\n",
       "    </tr>\n",
       "    <tr>\n",
       "      <th>6539</th>\n",
       "      <td>7.760367</td>\n",
       "      <td>484.139372</td>\n",
       "      <td>47420.893985</td>\n",
       "    </tr>\n",
       "    <tr>\n",
       "      <th>...</th>\n",
       "      <td>...</td>\n",
       "      <td>...</td>\n",
       "      <td>...</td>\n",
       "    </tr>\n",
       "    <tr>\n",
       "      <th>409</th>\n",
       "      <td>8.009017</td>\n",
       "      <td>693.184732</td>\n",
       "      <td>23638.069747</td>\n",
       "    </tr>\n",
       "    <tr>\n",
       "      <th>6819</th>\n",
       "      <td>8.009017</td>\n",
       "      <td>703.081262</td>\n",
       "      <td>32270.227104</td>\n",
       "    </tr>\n",
       "    <tr>\n",
       "      <th>6793</th>\n",
       "      <td>8.009017</td>\n",
       "      <td>708.348610</td>\n",
       "      <td>12749.728072</td>\n",
       "    </tr>\n",
       "    <tr>\n",
       "      <th>1349</th>\n",
       "      <td>7.992433</td>\n",
       "      <td>909.400040</td>\n",
       "      <td>49841.495182</td>\n",
       "    </tr>\n",
       "    <tr>\n",
       "      <th>6868</th>\n",
       "      <td>8.025583</td>\n",
       "      <td>927.389469</td>\n",
       "      <td>18613.290634</td>\n",
       "    </tr>\n",
       "  </tbody>\n",
       "</table>\n",
       "<p>200 rows × 3 columns</p>\n",
       "</div>"
      ],
      "text/plain": [
       "            rt          mz           into\n",
       "6502  7.760367  395.138132   32772.443676\n",
       "6510  7.760367  465.953522   15142.679954\n",
       "6538  7.760367  471.222196  124869.898506\n",
       "6485  7.760367  472.225516   23902.866222\n",
       "6539  7.760367  484.139372   47420.893985\n",
       "...        ...         ...            ...\n",
       "409   8.009017  693.184732   23638.069747\n",
       "6819  8.009017  703.081262   32270.227104\n",
       "6793  8.009017  708.348610   12749.728072\n",
       "1349  7.992433  909.400040   49841.495182\n",
       "6868  8.025583  927.389469   18613.290634\n",
       "\n",
       "[200 rows x 3 columns]"
      ]
     },
     "execution_count": 136,
     "metadata": {},
     "output_type": "execute_result"
    }
   ],
   "source": [
    "d_xcms.iloc[exclude_index].iloc[3000:3200]"
   ]
  },
  {
   "cell_type": "code",
   "execution_count": 139,
   "metadata": {},
   "outputs": [
    {
     "name": "stdout",
     "output_type": "stream",
     "text": [
      "484.139\n"
     ]
    },
    {
     "data": {
      "image/png": "[encoded data removed]",
      "text/plain": [
       "<Figure size 1440x720 with 1 Axes>"
      ]
     },
     "metadata": {
      "needs_background": "light"
     },
     "output_type": "display_data"
    }
   ],
   "source": [
    "mss.visreader.ms_chromatogram(scans, 484.1393, 10,interactive=False)"
   ]
  }
 ],
 "metadata": {
  "kernelspec": {
   "display_name": "Python 3",
   "language": "python",
   "name": "python3"
  },
  "language_info": {
   "codemirror_mode": {
    "name": "ipython",
    "version": 3
   },
   "file_extension": ".py",
   "mimetype": "text/x-python",
   "name": "python",
   "nbconvert_exporter": "python",
   "pygments_lexer": "ipython3",
   "version": "3.7.4"
  }
 },
 "nbformat": 4,
 "nbformat_minor": 2
}

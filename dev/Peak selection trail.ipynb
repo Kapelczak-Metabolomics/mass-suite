{
 "cells": [
  {
   "cell_type": "code",
   "execution_count": 1,
   "metadata": {},
   "outputs": [],
   "source": [
    "import sys\n",
    "sys.path.append('../mss')\n",
    "import visreader as mvis\n",
    "import mssmain as mss"
   ]
  },
  {
   "cell_type": "code",
   "execution_count": 2,
   "metadata": {},
   "outputs": [],
   "source": [
    "path = '../example_data/ex_1.mzML'\n",
    "scans = mss.get_scans(path) # read mzml into scans\n",
    "mss.noise_removal(scans, 5000) #noise removal for 5000 baseline"
   ]
  },
  {
   "cell_type": "code",
   "execution_count": 3,
   "metadata": {},
   "outputs": [
    {
     "data": {
      "image/png": "[encoded data removed]",
      "text/plain": [
       "<Figure size 1440x720 with 1 Axes>"
      ]
     },
     "metadata": {
      "needs_background": "light"
     },
     "output_type": "display_data"
    }
   ],
   "source": [
    "mvis.integration_plot(scans, 105.05, 0.02) #For the data visualization"
   ]
  },
  {
   "cell_type": "code",
   "execution_count": 40,
   "metadata": {},
   "outputs": [],
   "source": [
    "def mz_locator(input_list, mz, error): #needs to refine, not use sum but use the closest mz\n",
    "    '''\n",
    "    Find specific mzs from given mz and error range out from a given mz array\n",
    "    input list: mz list\n",
    "    mz: input_mz that want to be found\n",
    "    error: error range that can be bear as same mz, e.g, mz= 150, error = 0.2, then 148.8~150.2 == 150\n",
    "    '''\n",
    "    target_mz = []\n",
    "    target_index = []\n",
    "    \n",
    "    error = error * 1e-6\n",
    "    \n",
    "    lower_mz = mz - error * mz\n",
    "    higher_mz = mz + error * mz\n",
    "\n",
    "    for i, mzs in enumerate(input_list):\n",
    "        if mzs < lower_mz:\n",
    "            continue\n",
    "        elif mzs >= lower_mz:\n",
    "            if mzs <= higher_mz:\n",
    "                target_mz.append(mzs)\n",
    "                target_index.append(i)\n",
    "#         elif mzs > higher_mz:\n",
    "#                 target_mz = 0\n",
    "#                 target_index = 'NA'\n",
    "#                 break\n",
    "        \n",
    "    return target_mz, target_index"
   ]
  },
  {
   "cell_type": "code",
   "execution_count": 44,
   "metadata": {},
   "outputs": [],
   "source": [
    "target_mz, target_index = mz_locator(scans[500].mz, 500,20) #Please use 20ppm error as default setting"
   ]
  },
  {
   "cell_type": "code",
   "execution_count": 46,
   "metadata": {},
   "outputs": [
    {
     "data": {
      "text/plain": [
       "(2.803283333333, 'minute')"
      ]
     },
     "execution_count": 46,
     "metadata": {},
     "output_type": "execute_result"
    }
   ],
   "source": [
    "scans[500].scan_time"
   ]
  },
  {
   "cell_type": "code",
   "execution_count": 22,
   "metadata": {},
   "outputs": [],
   "source": [
    "def ms_chromatogram_list(mzml_scans, input_mz, error):\n",
    "        '''\n",
    "        Generate a peak list for specific input_mz over whole rt period from the mzml file\n",
    "        ***Most useful function!\n",
    "        '''\n",
    "        #Create empty list to store the data\n",
    "        retention_time = []\n",
    "        intensity = []\n",
    "        for scan in mzml_scans:\n",
    "            #print(i)\n",
    "            retention_time.append(scan.scan_time[0])\n",
    "\n",
    "            target_mz, target_index = mz_locator(scan.mz, input_mz, error)\n",
    "            if target_index == 'NA':\n",
    "                intensity.append(0)\n",
    "            else:\n",
    "                intensity.append(sum(scan.i[target_index]))\n",
    "            \n",
    "        return retention_time, intensity"
   ]
  },
  {
   "cell_type": "code",
   "execution_count": 24,
   "metadata": {},
   "outputs": [],
   "source": [
    "rt, i =ms_chromatogram_list(scans, 299.5, 0.02)"
   ]
  },
  {
   "cell_type": "code",
   "execution_count": null,
   "metadata": {},
   "outputs": [],
   "source": [
    "scans"
   ]
  },
  {
   "cell_type": "code",
   "execution_count": 27,
   "metadata": {},
   "outputs": [
    {
     "data": {
      "text/plain": [
       "[<matplotlib.lines.Line2D at 0x21ff81cc688>]"
      ]
     },
     "execution_count": 27,
     "metadata": {},
     "output_type": "execute_result"
    },
    {
     "data": {
      "image/png": "[encoded data removed]",
      "text/plain": [
       "<Figure size 432x288 with 1 Axes>"
      ]
     },
     "metadata": {
      "needs_background": "light"
     },
     "output_type": "display_data"
    }
   ],
   "source": [
    "plt.plot(rt,i)"
   ]
  },
  {
   "cell_type": "markdown",
   "metadata": {},
   "source": [
    "sample1\n",
    "    mz 100 200 300\n",
    "rt|i\n",
    "1      1    0   5\n",
    "2      2    0   10\n",
    "3  ...\n",
    "4\n",
    "5\n",
    "6\n",
    "7\n",
    "8\n",
    "\n",
    "row stat1 stat2 stat3 y\n",
    "                      peak/not peak-peak score"
   ]
  },
  {
   "cell_type": "code",
   "execution_count": null,
   "metadata": {},
   "outputs": [],
   "source": [
    "#Deal with roi, check peakonly\n",
    "def peak_pick(mzml_scans, input_mz, error, peak_base = 5000, thr = 0.02, min_d = 1, rt_window = 1.5, peak_area_thres = 1e5, min_scan = 15, max_scan = 200, max_peak = 5, min_scan_window = 20):\n",
    "    '''\n",
    "    firstly get rt, intensity from given mz and error out of the mzml file\n",
    "    Then find peak on the intensity array, represent as index --> index\n",
    "    Find peak range by looping from peak index forward/backward until hit the peak_base --> l_range,h_range. peakspan = h_range - l_range\n",
    "    Trim/correct peak range is too small or too large, using min_scan/max_scan,min_scan_window --> trimed l/h_range\n",
    "    Integration of peak based on the given range using simp function --> peakarea\n",
    "    '''\n",
    "    \n",
    "    #Important funciont, may need to be extracted out later\n",
    "    #Data output from the chromatogram_plot function\n",
    "    def ms_chromatogram_list(mzml_scans, input_mz, error):\n",
    "        '''\n",
    "        Generate a peak list for specific input_mz over whole rt period from the mzml file\n",
    "        ***Most useful function!\n",
    "        '''\n",
    "        #Create empty list to store the data\n",
    "        retention_time = []\n",
    "        intensity = []\n",
    "        for scan in mzml_scans:\n",
    "            #print(i)\n",
    "            retention_time.append(scan.scan_time[0])\n",
    "\n",
    "            target_mz, target_index = mz_locator(scan.mz, input_mz, error)\n",
    "            if target_index == 'NA':\n",
    "                intensity.append(0)\n",
    "            else:\n",
    "                intensity.append(sum(scan.i[target_index]))\n",
    "            \n",
    "        return retention_time, intensity\n",
    "    \n",
    "    rt, intensity = ms_chromatogram_list(mzml_scans, input_mz, error)\n",
    "    \n",
    "    #Get rt_window corresponded scan number\n",
    "    scan_window = int((rt_window / (rt[int(len(intensity) / 2)] - rt[int(len(intensity) / 2) - 1])) / 2)\n",
    "    \n",
    "    #Get peak index\n",
    "    indexes = peakutils.indexes(intensity, thres=thr, min_dist = min_d)\n",
    "    \n",
    "    result_dict = {}\n",
    "    \n",
    "    for index in indexes:\n",
    "        h_range = index\n",
    "        l_range = index\n",
    "        base_intensity = peak_base\n",
    "\n",
    "        #Get the higher and lower boundary\n",
    "        while intensity[h_range] >= base_intensity:\n",
    "            h_range += 1\n",
    "            if h_range > len(intensity)-2:\n",
    "                break\n",
    "        while intensity[l_range] >= base_intensity:\n",
    "            l_range -= 1\n",
    "        #Output a range from the peak list\n",
    "        \n",
    "        peak_range = []\n",
    "        if h_range - l_range >= min_scan:\n",
    "            if rt[h_range] - rt[l_range] <= rt_window:\n",
    "                peak_range = intensity[l_range:h_range]\n",
    "            else:\n",
    "                l_range = index - scan_window\n",
    "                h_range = index + scan_window\n",
    "                peak_range = intensity[l_range:h_range]\n",
    "                #print(index + scan_window)\n",
    "\n",
    "        #Intergration based on the simps function\n",
    "        if len(peak_range) >= min_scan:\n",
    "            integration_result = simps(peak_range)\n",
    "            if integration_result >= peak_area_thres:\n",
    "                if len(result_dict) == 0:\n",
    "                    result_dict.update({index : [l_range, h_range, integration_result]})\n",
    "                elif integration_result != list(result_dict.values())[-1][2]: #Compare with previous item\n",
    "                    s_window = abs(index - list(result_dict.keys())[-1])\n",
    "                    if s_window > min_scan_window:\n",
    "                        result_dict.update({index : [l_range, h_range, integration_result]})\n",
    "                    \n",
    "                \n",
    "        #Filtering:\n",
    "        #1. delete results that l_range/h_range within 5 scans\n",
    "        #3. If still >5 then select top 5 results\n",
    "        #list(result_dict.values())[-1]\n",
    "    \n",
    "    #Noise filter\n",
    "    if len(result_dict) > max_peak:\n",
    "        result_dict = {}\n",
    "        \n",
    "\n",
    "\n",
    "    return result_dict"
   ]
  }
 ],
 "metadata": {
  "kernelspec": {
   "display_name": "Python 3",
   "language": "python",
   "name": "python3"
  },
  "language_info": {
   "codemirror_mode": {
    "name": "ipython",
    "version": 3
   },
   "file_extension": ".py",
   "mimetype": "text/x-python",
   "name": "python",
   "nbconvert_exporter": "python",
   "pygments_lexer": "ipython3",
   "version": "3.7.4"
  }
 },
 "nbformat": 4,
 "nbformat_minor": 2
}

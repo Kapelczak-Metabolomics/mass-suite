{
 "cells": [
  {
   "cell_type": "code",
   "execution_count": 89,
   "metadata": {},
   "outputs": [],
   "source": [
    "import sys\n",
    "import mss\n",
    "import pandas as pd\n",
    "import numpy as np\n",
    "\n",
    "from matplotlib_venn import venn2, venn2_circles, venn2_unweighted\n",
    "from matplotlib_venn import venn3, venn3_circles\n",
    "from matplotlib import pyplot as plt\n",
    "\n",
    "import seaborn as sns\n",
    "import peakutils\n",
    "import scipy\n",
    "from scipy.integrate import simps"
   ]
  },
  {
   "cell_type": "code",
   "execution_count": 101,
   "metadata": {},
   "outputs": [],
   "source": [
    "path = 'D:/UW/mssvalidation/20201119_ENTACT_validation_data/20201117_ENTACT_506_1.mzML'\n",
    "scans = mss.mssmain.get_scans(path, ms_all=False, ms_lv=1)\n",
    "#noise removal\n",
    "mss.mssmain.noise_removal(scans, 2000)"
   ]
  },
  {
   "cell_type": "code",
   "execution_count": 64,
   "metadata": {},
   "outputs": [],
   "source": [
    "#d_s1 = mss.mssmain.peak_list(scans, 20, enable_score=True)"
   ]
  },
  {
   "cell_type": "code",
   "execution_count": 102,
   "metadata": {},
   "outputs": [],
   "source": [
    "d_md505 = pd.read_excel('D:/UW/mssvalidation/20201119_ENTACT_validation_data/20201117_ENTACT_msdial.xlsx',sheet_name='506')"
   ]
  },
  {
   "cell_type": "code",
   "execution_count": 103,
   "metadata": {},
   "outputs": [],
   "source": [
    "d_s1 = pd.read_csv('D:/UW/mssvalidation/20201119_ENTACT_validation_data/506.csv')"
   ]
  },
  {
   "cell_type": "code",
   "execution_count": 104,
   "metadata": {},
   "outputs": [],
   "source": [
    "d_mss = d_s1[['rt', 'm/z', 'peak area']]"
   ]
  },
  {
   "cell_type": "code",
   "execution_count": 105,
   "metadata": {},
   "outputs": [],
   "source": [
    "d_msdial = d_md505[['RT (min)', 'Precursor m/z', 'Area']]"
   ]
  },
  {
   "cell_type": "code",
   "execution_count": 106,
   "metadata": {},
   "outputs": [],
   "source": [
    "def batch_alignment(d_ref, d_align, rt_error=0.5, mz_error=0.01):\n",
    "    #Alignment of new dataset\n",
    "    result = []\n",
    "    for row in np.arange(len(d_ref)):\n",
    "        #Find overlap using the error range\n",
    "        overlap = np.where((d_align.iloc[:, 0] - rt_error <=\n",
    "                                        d_ref.iloc[row, 0]) & (d_ref.iloc[row, 0] <=\n",
    "                                        d_align.iloc[:, 0] + rt_error) & (d_align.iloc[:, 1] - mz_error <=\n",
    "                                        d_ref.iloc[row, 1]) & (d_ref.iloc[row, 1] <=\n",
    "                                        d_align.iloc[:, 1] + mz_error))\n",
    "        if len(overlap[0]) == 1:\n",
    "            result.append([overlap[0][0], row])\n",
    "        elif len(overlap[0]) > 1:\n",
    "            dist = []\n",
    "            for i in overlap[0]: # if multiple hits, use the closer feature for alignment\n",
    "                dist.append(np.sqrt(((d_align.iloc[i, 0] - d_ref.iloc[row, 0])**2) +\n",
    "                                    ((d_align.iloc[i, 1] - d_ref.iloc[row, 1])**2)))\n",
    "            result.append([overlap[0][np.argmin(dist)], row])\n",
    "        \n",
    "    #Modeling using overlapping features except noises\n",
    "#     align_index = [i[0] for i in result]\n",
    "#     ref_index = [i[1] for i in result]\n",
    "#     d_align = d_align.loc[align_index]\n",
    "#     d_ref = d_ref.iloc[ref_index]\n",
    "\n",
    "#     d_align.reset_index(drop=True,inplace=True)\n",
    "#     d_ref.reset_index(drop=True,inplace=True)\n",
    "#     d_join = d_align.iloc[:,3:] #Important !! -- The indexing is important especially reading other feedin data\n",
    "#     d_merge = pd.concat([d_ref,d_join],axis=1)\n",
    "        \n",
    "    return result"
   ]
  },
  {
   "cell_type": "code",
   "execution_count": 107,
   "metadata": {},
   "outputs": [],
   "source": [
    "d_xcms_raw = pd.read_excel('D:/UW/mssvalidation/20201119_ENTACT_validation_data/ENTACT506/results/XCMS-Report-SingleClass.xlsx')"
   ]
  },
  {
   "cell_type": "code",
   "execution_count": 108,
   "metadata": {},
   "outputs": [],
   "source": [
    "d_xcms = d_xcms_raw[['rt', 'mz', 'into']].copy()\n",
    "d_xcms['rt'] = d_xcms_raw['rt'] / 60"
   ]
  },
  {
   "cell_type": "code",
   "execution_count": 109,
   "metadata": {},
   "outputs": [],
   "source": [
    "overlap_msd = batch_alignment(d_mss, d_msdial,rt_error = 0.5,mz_error=0.015)\n",
    "overlap_xcms = batch_alignment(d_mss, d_xcms,rt_error = 0.5,mz_error=0.015)"
   ]
  },
  {
   "cell_type": "code",
   "execution_count": 110,
   "metadata": {},
   "outputs": [],
   "source": [
    "mss_index_msd = [i[1] for i in overlap_msd]\n",
    "mss_index_xcms = [i[1] for i in overlap_xcms]\n",
    "msd_index = [i[0] for i in overlap_msd]\n",
    "xcms_index = [i[0] for i in overlap_xcms]"
   ]
  },
  {
   "cell_type": "code",
   "execution_count": 115,
   "metadata": {},
   "outputs": [
    {
     "data": {
      "text/plain": [
       "(16943, 3)"
      ]
     },
     "execution_count": 115,
     "metadata": {},
     "output_type": "execute_result"
    }
   ],
   "source": [
    "d_xcms.shape"
   ]
  },
  {
   "cell_type": "code",
   "execution_count": 116,
   "metadata": {},
   "outputs": [],
   "source": [
    "trip_overlap = batch_alignment(d_mss.iloc[mss_index_msd], d_xcms, rt_error=0.5, mz_error=0.015)\n",
    "q_overlap = batch_alignment(d_msdial, d_xcms, rt_error=0.5, mz_error=0.015)"
   ]
  },
  {
   "cell_type": "code",
   "execution_count": 132,
   "metadata": {},
   "outputs": [],
   "source": [
    "xcms_index_3 = [i[0] for i in q_overlap]\n",
    "exclude_index = [i for i in xcms_index_3 if i not in xcms_index]"
   ]
  },
  {
   "cell_type": "code",
   "execution_count": 133,
   "metadata": {},
   "outputs": [
    {
     "data": {
      "text/html": [
       "<div>\n",
       "<style scoped>\n",
       "    .dataframe tbody tr th:only-of-type {\n",
       "        vertical-align: middle;\n",
       "    }\n",
       "\n",
       "    .dataframe tbody tr th {\n",
       "        vertical-align: top;\n",
       "    }\n",
       "\n",
       "    .dataframe thead th {\n",
       "        text-align: right;\n",
       "    }\n",
       "</style>\n",
       "<table border=\"1\" class=\"dataframe\">\n",
       "  <thead>\n",
       "    <tr style=\"text-align: right;\">\n",
       "      <th></th>\n",
       "      <th>rt</th>\n",
       "      <th>mz</th>\n",
       "      <th>into</th>\n",
       "    </tr>\n",
       "  </thead>\n",
       "  <tbody>\n",
       "    <tr>\n",
       "      <th>2094</th>\n",
       "      <td>0.566000</td>\n",
       "      <td>111.011447</td>\n",
       "      <td>2.258294e+05</td>\n",
       "    </tr>\n",
       "    <tr>\n",
       "      <th>2038</th>\n",
       "      <td>0.168167</td>\n",
       "      <td>248.968705</td>\n",
       "      <td>2.559444e+05</td>\n",
       "    </tr>\n",
       "    <tr>\n",
       "      <th>2056</th>\n",
       "      <td>0.549433</td>\n",
       "      <td>280.986882</td>\n",
       "      <td>1.416745e+04</td>\n",
       "    </tr>\n",
       "    <tr>\n",
       "      <th>2094</th>\n",
       "      <td>0.566000</td>\n",
       "      <td>111.011447</td>\n",
       "      <td>2.258294e+05</td>\n",
       "    </tr>\n",
       "    <tr>\n",
       "      <th>2103</th>\n",
       "      <td>0.333933</td>\n",
       "      <td>102.013075</td>\n",
       "      <td>1.194567e+07</td>\n",
       "    </tr>\n",
       "    <tr>\n",
       "      <th>...</th>\n",
       "      <td>...</td>\n",
       "      <td>...</td>\n",
       "      <td>...</td>\n",
       "    </tr>\n",
       "    <tr>\n",
       "      <th>16866</th>\n",
       "      <td>21.983200</td>\n",
       "      <td>275.958243</td>\n",
       "      <td>1.816462e+04</td>\n",
       "    </tr>\n",
       "    <tr>\n",
       "      <th>16935</th>\n",
       "      <td>22.115817</td>\n",
       "      <td>320.001618</td>\n",
       "      <td>8.057900e+04</td>\n",
       "    </tr>\n",
       "    <tr>\n",
       "      <th>16887</th>\n",
       "      <td>22.115817</td>\n",
       "      <td>243.986011</td>\n",
       "      <td>3.053494e+04</td>\n",
       "    </tr>\n",
       "    <tr>\n",
       "      <th>16913</th>\n",
       "      <td>22.165550</td>\n",
       "      <td>270.951815</td>\n",
       "      <td>3.836297e+04</td>\n",
       "    </tr>\n",
       "    <tr>\n",
       "      <th>16886</th>\n",
       "      <td>22.082667</td>\n",
       "      <td>220.986394</td>\n",
       "      <td>4.004749e+04</td>\n",
       "    </tr>\n",
       "  </tbody>\n",
       "</table>\n",
       "<p>7787 rows × 3 columns</p>\n",
       "</div>"
      ],
      "text/plain": [
       "              rt          mz          into\n",
       "2094    0.566000  111.011447  2.258294e+05\n",
       "2038    0.168167  248.968705  2.559444e+05\n",
       "2056    0.549433  280.986882  1.416745e+04\n",
       "2094    0.566000  111.011447  2.258294e+05\n",
       "2103    0.333933  102.013075  1.194567e+07\n",
       "...          ...         ...           ...\n",
       "16866  21.983200  275.958243  1.816462e+04\n",
       "16935  22.115817  320.001618  8.057900e+04\n",
       "16887  22.115817  243.986011  3.053494e+04\n",
       "16913  22.165550  270.951815  3.836297e+04\n",
       "16886  22.082667  220.986394  4.004749e+04\n",
       "\n",
       "[7787 rows x 3 columns]"
      ]
     },
     "execution_count": 133,
     "metadata": {},
     "output_type": "execute_result"
    }
   ],
   "source": [
    "d_xcms.iloc[exclude_index]"
   ]
  },
  {
   "cell_type": "code",
   "execution_count": 130,
   "metadata": {},
   "outputs": [
    {
     "data": {
      "text/plain": [
       "(0, 10000000.0)"
      ]
     },
     "execution_count": 130,
     "metadata": {},
     "output_type": "execute_result"
    },
    {
     "data": {
      "image/png": "[encoded data removed]",
      "text/plain": [
       "<Figure size 432x288 with 1 Axes>"
      ]
     },
     "metadata": {
      "needs_background": "light"
     },
     "output_type": "display_data"
    }
   ],
   "source": [
    "sns.distplot(d_mss.iloc[trip_index]['peak area'])\n",
    "plt.xlim(0,1e7)"
   ]
  },
  {
   "cell_type": "code",
   "execution_count": null,
   "metadata": {},
   "outputs": [],
   "source": [
    "sns.distplot(d_mss.iloc)"
   ]
  },
  {
   "cell_type": "code",
   "execution_count": 120,
   "metadata": {},
   "outputs": [
    {
     "data": {
      "text/plain": [
       "7692"
      ]
     },
     "execution_count": 120,
     "metadata": {},
     "output_type": "execute_result"
    }
   ],
   "source": [
    "len(mss_index_xcms)"
   ]
  },
  {
   "cell_type": "code",
   "execution_count": 41,
   "metadata": {},
   "outputs": [
    {
     "data": {
      "text/plain": [
       "Text(0.5, 1.0, 'retention time difference distribution')"
      ]
     },
     "execution_count": 41,
     "metadata": {},
     "output_type": "execute_result"
    },
    {
     "data": {
      "image/png": "[encoded data removed]",
      "text/plain": [
       "<Figure size 432x288 with 1 Axes>"
      ]
     },
     "metadata": {
      "needs_background": "light"
     },
     "output_type": "display_data"
    }
   ],
   "source": [
    "rtdist = list(list(d_mss.loc[mss_index]['rt']) - (d_msdial.loc[msd_index]['RT (min)']))\n",
    "sns.distplot(rtdist)\n",
    "plt.title('retention time difference distribution')"
   ]
  },
  {
   "cell_type": "code",
   "execution_count": 44,
   "metadata": {},
   "outputs": [
    {
     "data": {
      "text/plain": [
       "Text(0.5, 1.0, 'm/z difference distribution')"
      ]
     },
     "execution_count": 44,
     "metadata": {},
     "output_type": "execute_result"
    },
    {
     "data": {
      "image/png": "[encoded data removed]",
      "text/plain": [
       "<Figure size 432x288 with 1 Axes>"
      ]
     },
     "metadata": {
      "needs_background": "light"
     },
     "output_type": "display_data"
    }
   ],
   "source": [
    "rtdist = list(list(d_mss.loc[mss_index]['m/z']) - (d_msdial.loc[msd_index]['Precursor m/z']))\n",
    "sns.distplot(rtdist)\n",
    "plt.title('m/z difference distribution')"
   ]
  },
  {
   "cell_type": "code",
   "execution_count": 32,
   "metadata": {},
   "outputs": [
    {
     "data": {
      "text/plain": [
       "Text(0.5, 1.0, 'Peak area difference distribution')"
      ]
     },
     "execution_count": 32,
     "metadata": {},
     "output_type": "execute_result"
    },
    {
     "data": {
      "image/png": "[encoded data removed]",
      "text/plain": [
       "<Figure size 432x288 with 1 Axes>"
      ]
     },
     "metadata": {
      "needs_background": "light"
     },
     "output_type": "display_data"
    }
   ],
   "source": [
    "rtdist = list(list(d_mss.loc[mss_index]['peak area']) - (d_xcms.loc[xcms_index]['into']))\n",
    "sns.distplot(rtdist)\n",
    "plt.title('Peak area difference distribution')"
   ]
  },
  {
   "cell_type": "code",
   "execution_count": 155,
   "metadata": {},
   "outputs": [
    {
     "data": {
      "text/plain": [
       "2969"
      ]
     },
     "execution_count": 155,
     "metadata": {},
     "output_type": "execute_result"
    }
   ],
   "source": [
    "d_msdial.shape[0]"
   ]
  },
  {
   "cell_type": "code",
   "execution_count": 157,
   "metadata": {},
   "outputs": [
    {
     "data": {
      "text/plain": [
       "1964"
      ]
     },
     "execution_count": 157,
     "metadata": {},
     "output_type": "execute_result"
    }
   ],
   "source": [
    "d_mss.shape[0]"
   ]
  },
  {
   "cell_type": "code",
   "execution_count": 45,
   "metadata": {},
   "outputs": [
    {
     "data": {
      "text/plain": [
       "Text(0.5, 1.0, 'rt_error = 0.5, mz_error = 0.015 Da')"
      ]
     },
     "execution_count": 45,
     "metadata": {},
     "output_type": "execute_result"
    },
    {
     "data": {
      "image/png": "[encoded data removed]",
      "text/plain": [
       "<Figure size 432x288 with 1 Axes>"
      ]
     },
     "metadata": {},
     "output_type": "display_data"
    }
   ],
   "source": [
    "venn2(subsets = (2799, 13630, 8129), set_labels = ('MSS result', 'XCMS result'))\n",
    "plt.title('rt_error = 0.5, mz_error = 0.015 Da')"
   ]
  },
  {
   "cell_type": "code",
   "execution_count": 121,
   "metadata": {},
   "outputs": [
    {
     "data": {
      "image/png": "[encoded data removed]",
      "text/plain": [
       "<Figure size 432x288 with 1 Axes>"
      ]
     },
     "metadata": {},
     "output_type": "display_data"
    }
   ],
   "source": [
    "venn3(subsets = (1930,828,494,4747,620,8423,7198), set_labels = ('MSS features', 'XCMS features', 'MSdial features'), alpha = 0.5);"
   ]
  },
  {
   "cell_type": "code",
   "execution_count": 16,
   "metadata": {},
   "outputs": [],
   "source": [
    "#distribution of mass error and rt error in aligned features\n",
    "#summary of peak area in unique and overlapped ones\n",
    "#score assessment"
   ]
  },
  {
   "cell_type": "code",
   "execution_count": 139,
   "metadata": {},
   "outputs": [
    {
     "data": {
      "text/html": [
       "<div>\n",
       "<style scoped>\n",
       "    .dataframe tbody tr th:only-of-type {\n",
       "        vertical-align: middle;\n",
       "    }\n",
       "\n",
       "    .dataframe tbody tr th {\n",
       "        vertical-align: top;\n",
       "    }\n",
       "\n",
       "    .dataframe thead th {\n",
       "        text-align: right;\n",
       "    }\n",
       "</style>\n",
       "<table border=\"1\" class=\"dataframe\">\n",
       "  <thead>\n",
       "    <tr style=\"text-align: right;\">\n",
       "      <th></th>\n",
       "      <th>rt</th>\n",
       "      <th>mz</th>\n",
       "      <th>into</th>\n",
       "    </tr>\n",
       "  </thead>\n",
       "  <tbody>\n",
       "    <tr>\n",
       "      <th>1548</th>\n",
       "      <td>0.625317</td>\n",
       "      <td>105.963279</td>\n",
       "      <td>146502.933261</td>\n",
       "    </tr>\n",
       "    <tr>\n",
       "      <th>361</th>\n",
       "      <td>0.625317</td>\n",
       "      <td>107.960023</td>\n",
       "      <td>120927.914696</td>\n",
       "    </tr>\n",
       "    <tr>\n",
       "      <th>312</th>\n",
       "      <td>0.625317</td>\n",
       "      <td>110.008953</td>\n",
       "      <td>470878.259287</td>\n",
       "    </tr>\n",
       "    <tr>\n",
       "      <th>2019</th>\n",
       "      <td>0.675067</td>\n",
       "      <td>111.010860</td>\n",
       "      <td>15122.851232</td>\n",
       "    </tr>\n",
       "    <tr>\n",
       "      <th>1317</th>\n",
       "      <td>0.675067</td>\n",
       "      <td>112.006249</td>\n",
       "      <td>17726.079376</td>\n",
       "    </tr>\n",
       "    <tr>\n",
       "      <th>...</th>\n",
       "      <td>...</td>\n",
       "      <td>...</td>\n",
       "      <td>...</td>\n",
       "    </tr>\n",
       "    <tr>\n",
       "      <th>5822</th>\n",
       "      <td>21.106733</td>\n",
       "      <td>165.052680</td>\n",
       "      <td>98682.191621</td>\n",
       "    </tr>\n",
       "    <tr>\n",
       "      <th>5819</th>\n",
       "      <td>21.139900</td>\n",
       "      <td>127.959653</td>\n",
       "      <td>191276.798619</td>\n",
       "    </tr>\n",
       "    <tr>\n",
       "      <th>5813</th>\n",
       "      <td>21.106733</td>\n",
       "      <td>133.026363</td>\n",
       "      <td>54454.330364</td>\n",
       "    </tr>\n",
       "    <tr>\n",
       "      <th>5808</th>\n",
       "      <td>21.090150</td>\n",
       "      <td>107.029921</td>\n",
       "      <td>216122.826739</td>\n",
       "    </tr>\n",
       "    <tr>\n",
       "      <th>5816</th>\n",
       "      <td>21.106733</td>\n",
       "      <td>137.021630</td>\n",
       "      <td>111107.333799</td>\n",
       "    </tr>\n",
       "  </tbody>\n",
       "</table>\n",
       "<p>1887 rows × 3 columns</p>\n",
       "</div>"
      ],
      "text/plain": [
       "             rt          mz           into\n",
       "1548   0.625317  105.963279  146502.933261\n",
       "361    0.625317  107.960023  120927.914696\n",
       "312    0.625317  110.008953  470878.259287\n",
       "2019   0.675067  111.010860   15122.851232\n",
       "1317   0.675067  112.006249   17726.079376\n",
       "...         ...         ...            ...\n",
       "5822  21.106733  165.052680   98682.191621\n",
       "5819  21.139900  127.959653  191276.798619\n",
       "5813  21.106733  133.026363   54454.330364\n",
       "5808  21.090150  107.029921  216122.826739\n",
       "5816  21.106733  137.021630  111107.333799\n",
       "\n",
       "[1887 rows x 3 columns]"
      ]
     },
     "execution_count": 139,
     "metadata": {},
     "output_type": "execute_result"
    }
   ],
   "source": [
    "d_xcms.loc[xcms_index]"
   ]
  },
  {
   "cell_type": "code",
   "execution_count": 49,
   "metadata": {},
   "outputs": [
    {
     "data": {
      "text/plain": [
       "Text(0.5, 1.0, 'overlap scoring')"
      ]
     },
     "execution_count": 49,
     "metadata": {},
     "output_type": "execute_result"
    },
    {
     "data": {
      "image/png": "[encoded data removed]",
      "text/plain": [
       "<Figure size 432x288 with 1 Axes>"
      ]
     },
     "metadata": {},
     "output_type": "display_data"
    }
   ],
   "source": [
    "plt.pie(d_s1.loc[mss_index]['score'].value_counts(),labels=list(set(d_s1['score'])), autopct='%1.0f%%');\n",
    "plt.title('overlap scoring')\n",
    "#plt.xticks([1,2,3])"
   ]
  },
  {
   "cell_type": "code",
   "execution_count": 102,
   "metadata": {},
   "outputs": [
    {
     "data": {
      "text/plain": [
       "(5827, 3)"
      ]
     },
     "execution_count": 102,
     "metadata": {},
     "output_type": "execute_result"
    }
   ],
   "source": [
    "d_xcms.shape"
   ]
  },
  {
   "cell_type": "code",
   "execution_count": 48,
   "metadata": {},
   "outputs": [
    {
     "data": {
      "text/plain": [
       "Text(0.5, 1.0, 'unique features scoring')"
      ]
     },
     "execution_count": 48,
     "metadata": {},
     "output_type": "execute_result"
    },
    {
     "data": {
      "image/png": "[encoded data removed]",
      "text/plain": [
       "<Figure size 432x288 with 1 Axes>"
      ]
     },
     "metadata": {},
     "output_type": "display_data"
    }
   ],
   "source": [
    "plt.pie(d_s1.loc[[i for i in d_s1.index if i not in mss_index]]['score'].value_counts(), autopct='%1.0f%%');\n",
    "plt.title('unique features scoring')"
   ]
  },
  {
   "cell_type": "code",
   "execution_count": 44,
   "metadata": {},
   "outputs": [
    {
     "data": {
      "text/html": [
       "<div>\n",
       "<style scoped>\n",
       "    .dataframe tbody tr th:only-of-type {\n",
       "        vertical-align: middle;\n",
       "    }\n",
       "\n",
       "    .dataframe tbody tr th {\n",
       "        vertical-align: top;\n",
       "    }\n",
       "\n",
       "    .dataframe thead th {\n",
       "        text-align: right;\n",
       "    }\n",
       "</style>\n",
       "<table border=\"1\" class=\"dataframe\">\n",
       "  <thead>\n",
       "    <tr style=\"text-align: right;\">\n",
       "      <th></th>\n",
       "      <th>RT(min)</th>\n",
       "      <th>Precursor m/z</th>\n",
       "      <th>Area</th>\n",
       "    </tr>\n",
       "  </thead>\n",
       "  <tbody>\n",
       "    <tr>\n",
       "      <th>0</th>\n",
       "      <td>0.59215</td>\n",
       "      <td>105.9635</td>\n",
       "      <td>233135.70</td>\n",
       "    </tr>\n",
       "    <tr>\n",
       "      <th>1</th>\n",
       "      <td>0.59215</td>\n",
       "      <td>107.9599</td>\n",
       "      <td>132922.30</td>\n",
       "    </tr>\n",
       "    <tr>\n",
       "      <th>2</th>\n",
       "      <td>0.59215</td>\n",
       "      <td>110.0088</td>\n",
       "      <td>521536.60</td>\n",
       "    </tr>\n",
       "    <tr>\n",
       "      <th>3</th>\n",
       "      <td>0.59215</td>\n",
       "      <td>111.0117</td>\n",
       "      <td>82580.55</td>\n",
       "    </tr>\n",
       "    <tr>\n",
       "      <th>4</th>\n",
       "      <td>0.59215</td>\n",
       "      <td>112.0069</td>\n",
       "      <td>75445.54</td>\n",
       "    </tr>\n",
       "    <tr>\n",
       "      <th>...</th>\n",
       "      <td>...</td>\n",
       "      <td>...</td>\n",
       "      <td>...</td>\n",
       "    </tr>\n",
       "    <tr>\n",
       "      <th>2964</th>\n",
       "      <td>21.20623</td>\n",
       "      <td>141.9593</td>\n",
       "      <td>15008850.00</td>\n",
       "    </tr>\n",
       "    <tr>\n",
       "      <th>2965</th>\n",
       "      <td>21.20623</td>\n",
       "      <td>182.9832</td>\n",
       "      <td>728052.60</td>\n",
       "    </tr>\n",
       "    <tr>\n",
       "      <th>2966</th>\n",
       "      <td>21.27257</td>\n",
       "      <td>128.9878</td>\n",
       "      <td>644385.40</td>\n",
       "    </tr>\n",
       "    <tr>\n",
       "      <th>2967</th>\n",
       "      <td>21.28915</td>\n",
       "      <td>113.9649</td>\n",
       "      <td>1128074.00</td>\n",
       "    </tr>\n",
       "    <tr>\n",
       "      <th>2968</th>\n",
       "      <td>21.57108</td>\n",
       "      <td>172.9779</td>\n",
       "      <td>7545718.00</td>\n",
       "    </tr>\n",
       "  </tbody>\n",
       "</table>\n",
       "<p>2221 rows × 3 columns</p>\n",
       "</div>"
      ],
      "text/plain": [
       "       RT(min)  Precursor m/z         Area\n",
       "0      0.59215       105.9635    233135.70\n",
       "1      0.59215       107.9599    132922.30\n",
       "2      0.59215       110.0088    521536.60\n",
       "3      0.59215       111.0117     82580.55\n",
       "4      0.59215       112.0069     75445.54\n",
       "...        ...            ...          ...\n",
       "2964  21.20623       141.9593  15008850.00\n",
       "2965  21.20623       182.9832    728052.60\n",
       "2966  21.27257       128.9878    644385.40\n",
       "2967  21.28915       113.9649   1128074.00\n",
       "2968  21.57108       172.9779   7545718.00\n",
       "\n",
       "[2221 rows x 3 columns]"
      ]
     },
     "execution_count": 44,
     "metadata": {},
     "output_type": "execute_result"
    }
   ],
   "source": [
    "d_msdial.loc[[i for i in d_msdial.index if i not in msd_index]]"
   ]
  },
  {
   "cell_type": "code",
   "execution_count": 63,
   "metadata": {},
   "outputs": [
    {
     "data": {
      "text/html": [
       "<div>\n",
       "<style scoped>\n",
       "    .dataframe tbody tr th:only-of-type {\n",
       "        vertical-align: middle;\n",
       "    }\n",
       "\n",
       "    .dataframe tbody tr th {\n",
       "        vertical-align: top;\n",
       "    }\n",
       "\n",
       "    .dataframe thead th {\n",
       "        text-align: right;\n",
       "    }\n",
       "</style>\n",
       "<table border=\"1\" class=\"dataframe\">\n",
       "  <thead>\n",
       "    <tr style=\"text-align: right;\">\n",
       "      <th></th>\n",
       "      <th>rt</th>\n",
       "      <th>m/z</th>\n",
       "      <th>peak area</th>\n",
       "    </tr>\n",
       "  </thead>\n",
       "  <tbody>\n",
       "    <tr>\n",
       "      <th>0</th>\n",
       "      <td>3.97</td>\n",
       "      <td>100.0113</td>\n",
       "      <td>160580.431315</td>\n",
       "    </tr>\n",
       "    <tr>\n",
       "      <th>1</th>\n",
       "      <td>3.06</td>\n",
       "      <td>100.0733</td>\n",
       "      <td>24689.075602</td>\n",
       "    </tr>\n",
       "    <tr>\n",
       "      <th>2</th>\n",
       "      <td>2.08</td>\n",
       "      <td>100.0753</td>\n",
       "      <td>53319.403320</td>\n",
       "    </tr>\n",
       "    <tr>\n",
       "      <th>3</th>\n",
       "      <td>2.68</td>\n",
       "      <td>100.1073</td>\n",
       "      <td>19946.666463</td>\n",
       "    </tr>\n",
       "    <tr>\n",
       "      <th>4</th>\n",
       "      <td>0.84</td>\n",
       "      <td>100.1113</td>\n",
       "      <td>219598.429525</td>\n",
       "    </tr>\n",
       "    <tr>\n",
       "      <th>...</th>\n",
       "      <td>...</td>\n",
       "      <td>...</td>\n",
       "      <td>...</td>\n",
       "    </tr>\n",
       "    <tr>\n",
       "      <th>10923</th>\n",
       "      <td>19.59</td>\n",
       "      <td>1679.4716</td>\n",
       "      <td>28597.217855</td>\n",
       "    </tr>\n",
       "    <tr>\n",
       "      <th>10924</th>\n",
       "      <td>19.57</td>\n",
       "      <td>1680.4796</td>\n",
       "      <td>13778.617269</td>\n",
       "    </tr>\n",
       "    <tr>\n",
       "      <th>10925</th>\n",
       "      <td>20.15</td>\n",
       "      <td>1680.4796</td>\n",
       "      <td>15459.764791</td>\n",
       "    </tr>\n",
       "    <tr>\n",
       "      <th>10926</th>\n",
       "      <td>20.22</td>\n",
       "      <td>1681.4545</td>\n",
       "      <td>12127.953857</td>\n",
       "    </tr>\n",
       "    <tr>\n",
       "      <th>10927</th>\n",
       "      <td>20.17</td>\n",
       "      <td>1682.4637</td>\n",
       "      <td>17506.074382</td>\n",
       "    </tr>\n",
       "  </tbody>\n",
       "</table>\n",
       "<p>10928 rows × 3 columns</p>\n",
       "</div>"
      ],
      "text/plain": [
       "          rt        m/z      peak area\n",
       "0       3.97   100.0113  160580.431315\n",
       "1       3.06   100.0733   24689.075602\n",
       "2       2.08   100.0753   53319.403320\n",
       "3       2.68   100.1073   19946.666463\n",
       "4       0.84   100.1113  219598.429525\n",
       "...      ...        ...            ...\n",
       "10923  19.59  1679.4716   28597.217855\n",
       "10924  19.57  1680.4796   13778.617269\n",
       "10925  20.15  1680.4796   15459.764791\n",
       "10926  20.22  1681.4545   12127.953857\n",
       "10927  20.17  1682.4637   17506.074382\n",
       "\n",
       "[10928 rows x 3 columns]"
      ]
     },
     "execution_count": 63,
     "metadata": {},
     "output_type": "execute_result"
    }
   ],
   "source": [
    "d_mss"
   ]
  },
  {
   "cell_type": "code",
   "execution_count": 97,
   "metadata": {},
   "outputs": [
    {
     "data": {
      "text/plain": [
       "{1: 1}"
      ]
     },
     "execution_count": 97,
     "metadata": {},
     "output_type": "execute_result"
    }
   ],
   "source": [
    "test_dict = {1:1,2:2,3:3}\n",
    "import itertools \n",
    "dict(itertools.islice(test_dict.items(), 1))  "
   ]
  },
  {
   "cell_type": "code",
   "execution_count": 94,
   "metadata": {},
   "outputs": [
    {
     "data": {
      "text/plain": [
       "{672: [664, 679, 393229.9112955729, 0, 1]}"
      ]
     },
     "execution_count": 94,
     "metadata": {},
     "output_type": "execute_result"
    }
   ],
   "source": [
    "peak_pick(scans,299.1765,50)"
   ]
  },
  {
   "cell_type": "code",
   "execution_count": 136,
   "metadata": {},
   "outputs": [
    {
     "data": {
      "text/html": [
       "<div>\n",
       "<style scoped>\n",
       "    .dataframe tbody tr th:only-of-type {\n",
       "        vertical-align: middle;\n",
       "    }\n",
       "\n",
       "    .dataframe tbody tr th {\n",
       "        vertical-align: top;\n",
       "    }\n",
       "\n",
       "    .dataframe thead th {\n",
       "        text-align: right;\n",
       "    }\n",
       "</style>\n",
       "<table border=\"1\" class=\"dataframe\">\n",
       "  <thead>\n",
       "    <tr style=\"text-align: right;\">\n",
       "      <th></th>\n",
       "      <th>rt</th>\n",
       "      <th>mz</th>\n",
       "      <th>into</th>\n",
       "    </tr>\n",
       "  </thead>\n",
       "  <tbody>\n",
       "    <tr>\n",
       "      <th>6502</th>\n",
       "      <td>7.760367</td>\n",
       "      <td>395.138132</td>\n",
       "      <td>32772.443676</td>\n",
       "    </tr>\n",
       "    <tr>\n",
       "      <th>6510</th>\n",
       "      <td>7.760367</td>\n",
       "      <td>465.953522</td>\n",
       "      <td>15142.679954</td>\n",
       "    </tr>\n",
       "    <tr>\n",
       "      <th>6538</th>\n",
       "      <td>7.760367</td>\n",
       "      <td>471.222196</td>\n",
       "      <td>124869.898506</td>\n",
       "    </tr>\n",
       "    <tr>\n",
       "      <th>6485</th>\n",
       "      <td>7.760367</td>\n",
       "      <td>472.225516</td>\n",
       "      <td>23902.866222</td>\n",
       "    </tr>\n",
       "    <tr>\n",
       "      <th>6539</th>\n",
       "      <td>7.760367</td>\n",
       "      <td>484.139372</td>\n",
       "      <td>47420.893985</td>\n",
       "    </tr>\n",
       "    <tr>\n",
       "      <th>...</th>\n",
       "      <td>...</td>\n",
       "      <td>...</td>\n",
       "      <td>...</td>\n",
       "    </tr>\n",
       "    <tr>\n",
       "      <th>409</th>\n",
       "      <td>8.009017</td>\n",
       "      <td>693.184732</td>\n",
       "      <td>23638.069747</td>\n",
       "    </tr>\n",
       "    <tr>\n",
       "      <th>6819</th>\n",
       "      <td>8.009017</td>\n",
       "      <td>703.081262</td>\n",
       "      <td>32270.227104</td>\n",
       "    </tr>\n",
       "    <tr>\n",
       "      <th>6793</th>\n",
       "      <td>8.009017</td>\n",
       "      <td>708.348610</td>\n",
       "      <td>12749.728072</td>\n",
       "    </tr>\n",
       "    <tr>\n",
       "      <th>1349</th>\n",
       "      <td>7.992433</td>\n",
       "      <td>909.400040</td>\n",
       "      <td>49841.495182</td>\n",
       "    </tr>\n",
       "    <tr>\n",
       "      <th>6868</th>\n",
       "      <td>8.025583</td>\n",
       "      <td>927.389469</td>\n",
       "      <td>18613.290634</td>\n",
       "    </tr>\n",
       "  </tbody>\n",
       "</table>\n",
       "<p>200 rows × 3 columns</p>\n",
       "</div>"
      ],
      "text/plain": [
       "            rt          mz           into\n",
       "6502  7.760367  395.138132   32772.443676\n",
       "6510  7.760367  465.953522   15142.679954\n",
       "6538  7.760367  471.222196  124869.898506\n",
       "6485  7.760367  472.225516   23902.866222\n",
       "6539  7.760367  484.139372   47420.893985\n",
       "...        ...         ...            ...\n",
       "409   8.009017  693.184732   23638.069747\n",
       "6819  8.009017  703.081262   32270.227104\n",
       "6793  8.009017  708.348610   12749.728072\n",
       "1349  7.992433  909.400040   49841.495182\n",
       "6868  8.025583  927.389469   18613.290634\n",
       "\n",
       "[200 rows x 3 columns]"
      ]
     },
     "execution_count": 136,
     "metadata": {},
     "output_type": "execute_result"
    }
   ],
   "source": [
    "d_xcms.iloc[exclude_index].iloc[3000:3200]"
   ]
  },
  {
   "cell_type": "code",
   "execution_count": 139,
   "metadata": {},
   "outputs": [
    {
     "name": "stdout",
     "output_type": "stream",
     "text": [
      "484.139\n"
     ]
    },
    {
     "data": {
      "image/png": "[encoded data removed]",
      "text/plain": [
       "<Figure size 1440x720 with 1 Axes>"
      ]
     },
     "metadata": {
      "needs_background": "light"
     },
     "output_type": "display_data"
    }
   ],
   "source": [
    "mss.visreader.ms_chromatogram(scans, 484.1393, 10,interactive=False)"
   ]
  }
 ],
 "metadata": {
  "kernelspec": {
   "display_name": "Python 3",
   "language": "python",
   "name": "python3"
  },
  "language_info": {
   "codemirror_mode": {
    "name": "ipython",
    "version": 3
   },
   "file_extension": ".py",
   "mimetype": "text/x-python",
   "name": "python",
   "nbconvert_exporter": "python",
   "pygments_lexer": "ipython3",
   "version": "3.7.4"
  }
 },
 "nbformat": 4,
 "nbformat_minor": 2
}

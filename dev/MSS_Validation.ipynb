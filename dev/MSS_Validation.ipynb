{
 "cells": [
  {
   "cell_type": "code",
   "execution_count": 1,
   "metadata": {},
   "outputs": [
    {
     "name": "stderr",
     "output_type": "stream",
     "text": [
      "C:\\Users\\scarlet_07\\AppData\\Roaming\\Python\\Python37\\site-packages\\sklearn\\base.py:334: UserWarning:\n",
      "\n",
      "Trying to unpickle estimator DecisionTreeClassifier from version 0.22.2.post1 when using version 0.23.0. This might lead to breaking code or invalid results. Use at your own risk.\n",
      "\n",
      "C:\\Users\\scarlet_07\\AppData\\Roaming\\Python\\Python37\\site-packages\\sklearn\\base.py:334: UserWarning:\n",
      "\n",
      "Trying to unpickle estimator RandomForestClassifier from version 0.22.2.post1 when using version 0.23.0. This might lead to breaking code or invalid results. Use at your own risk.\n",
      "\n",
      "D:\\python\\Anaconda3\\lib\\site-packages\\statsmodels\\tools\\_testing.py:19: FutureWarning:\n",
      "\n",
      "pandas.util.testing is deprecated. Use the functions in the public API at pandas.testing instead.\n",
      "\n"
     ]
    }
   ],
   "source": [
    "import sys\n",
    "import mss\n",
    "import pandas as pd\n",
    "import numpy as np\n",
    "\n",
    "from matplotlib_venn import venn2, venn2_circles, venn2_unweighted\n",
    "from matplotlib_venn import venn3, venn3_circles\n",
    "from matplotlib import pyplot as plt\n",
    "\n",
    "import seaborn as sns"
   ]
  },
  {
   "cell_type": "code",
   "execution_count": 23,
   "metadata": {},
   "outputs": [],
   "source": [
    "path = 'D:/UW/mssvalidation/s1.mzML'\n",
    "scans = mss.mssmain.get_scans(path, ms_all=False, ms_lv=1)\n",
    "#noise removal\n",
    "mss.mssmain.noise_removal(scans, 5000)"
   ]
  },
  {
   "cell_type": "code",
   "execution_count": 3,
   "metadata": {},
   "outputs": [],
   "source": [
    "# d_s3 = mss.mssmain.peak_list(scans, 20, enable_score=False)"
   ]
  },
  {
   "cell_type": "code",
   "execution_count": 4,
   "metadata": {},
   "outputs": [],
   "source": [
    "d_md1 = pd.read_csv('D:/UW/mssvalidation/s1.txt',sep='\\t')"
   ]
  },
  {
   "cell_type": "code",
   "execution_count": 5,
   "metadata": {},
   "outputs": [],
   "source": [
    "d_s1 = pd.read_csv('D:/UW/mssvalidation/s1_mss.csv')"
   ]
  },
  {
   "cell_type": "code",
   "execution_count": 6,
   "metadata": {},
   "outputs": [],
   "source": [
    "d_mss = d_s1[['rt', 'm/z', 'peak area']]"
   ]
  },
  {
   "cell_type": "code",
   "execution_count": 7,
   "metadata": {},
   "outputs": [],
   "source": [
    "d_msdial = d_md1[['RT(min)', 'Precursor m/z', 'Area']]"
   ]
  },
  {
   "cell_type": "code",
   "execution_count": 8,
   "metadata": {},
   "outputs": [],
   "source": [
    "def batch_alignment(d_ref, d_align, rt_error=0.5, mz_error=0.01):\n",
    "    #Alignment of new dataset\n",
    "    result = []\n",
    "    for row in np.arange(len(d_ref)):\n",
    "        #Find overlap using the error range\n",
    "        overlap = np.where((d_align.iloc[:, 0] - rt_error <=\n",
    "                                        d_ref.iloc[row, 0]) & (d_ref.iloc[row, 0] <=\n",
    "                                        d_align.iloc[:, 0] + rt_error) & (d_align.iloc[:, 1] - mz_error <=\n",
    "                                        d_ref.iloc[row, 1]) & (d_ref.iloc[row, 1] <=\n",
    "                                        d_align.iloc[:, 1] + mz_error))\n",
    "        if len(overlap[0]) == 1:\n",
    "            result.append([overlap[0][0], row])\n",
    "        elif len(overlap[0]) > 1:\n",
    "            dist = []\n",
    "            for i in overlap[0]: # if multiple hits, use the closer feature for alignment\n",
    "                dist.append(np.sqrt(((d_align.iloc[i, 0] - d_ref.iloc[row, 0])**2) +\n",
    "                                    ((d_align.iloc[i, 1] - d_ref.iloc[row, 1])**2)))\n",
    "            result.append([overlap[0][np.argmin(dist)], row])\n",
    "        \n",
    "    #Modeling using overlapping features except noises\n",
    "#     align_index = [i[0] for i in result]\n",
    "#     ref_index = [i[1] for i in result]\n",
    "#     d_align = d_align.loc[align_index]\n",
    "#     d_ref = d_ref.iloc[ref_index]\n",
    "\n",
    "#     d_align.reset_index(drop=True,inplace=True)\n",
    "#     d_ref.reset_index(drop=True,inplace=True)\n",
    "#     d_join = d_align.iloc[:,3:] #Important !! -- The indexing is important especially reading other feedin data\n",
    "#     d_merge = pd.concat([d_ref,d_join],axis=1)\n",
    "        \n",
    "    return result"
   ]
  },
  {
   "cell_type": "code",
   "execution_count": 9,
   "metadata": {},
   "outputs": [],
   "source": [
    "overlap = batch_alignment(d_mss, d_msdial,rt_error = 0.25,mz_error=0.01)"
   ]
  },
  {
   "cell_type": "code",
   "execution_count": 10,
   "metadata": {},
   "outputs": [],
   "source": [
    "mss_index = [i[1] for i in overlap]\n",
    "msd_index = [i[0] for i in overlap]"
   ]
  },
  {
   "cell_type": "code",
   "execution_count": 11,
   "metadata": {},
   "outputs": [
    {
     "data": {
      "text/html": [
       "<div>\n",
       "<style scoped>\n",
       "    .dataframe tbody tr th:only-of-type {\n",
       "        vertical-align: middle;\n",
       "    }\n",
       "\n",
       "    .dataframe tbody tr th {\n",
       "        vertical-align: top;\n",
       "    }\n",
       "\n",
       "    .dataframe thead th {\n",
       "        text-align: right;\n",
       "    }\n",
       "</style>\n",
       "<table border=\"1\" class=\"dataframe\">\n",
       "  <thead>\n",
       "    <tr style=\"text-align: right;\">\n",
       "      <th></th>\n",
       "      <th>RT(min)</th>\n",
       "      <th>Precursor m/z</th>\n",
       "      <th>Area</th>\n",
       "    </tr>\n",
       "  </thead>\n",
       "  <tbody>\n",
       "    <tr>\n",
       "      <th>49</th>\n",
       "      <td>2.549067</td>\n",
       "      <td>100.0762</td>\n",
       "      <td>357172.3</td>\n",
       "    </tr>\n",
       "    <tr>\n",
       "      <th>43</th>\n",
       "      <td>2.200800</td>\n",
       "      <td>101.1159</td>\n",
       "      <td>2170282.0</td>\n",
       "    </tr>\n",
       "    <tr>\n",
       "      <th>53</th>\n",
       "      <td>3.129583</td>\n",
       "      <td>102.1282</td>\n",
       "      <td>6018235.0</td>\n",
       "    </tr>\n",
       "    <tr>\n",
       "      <th>436</th>\n",
       "      <td>6.595634</td>\n",
       "      <td>102.1278</td>\n",
       "      <td>550804.5</td>\n",
       "    </tr>\n",
       "    <tr>\n",
       "      <th>54</th>\n",
       "      <td>3.129583</td>\n",
       "      <td>103.1312</td>\n",
       "      <td>402389.3</td>\n",
       "    </tr>\n",
       "    <tr>\n",
       "      <th>...</th>\n",
       "      <td>...</td>\n",
       "      <td>...</td>\n",
       "      <td>...</td>\n",
       "    </tr>\n",
       "    <tr>\n",
       "      <th>2505</th>\n",
       "      <td>17.309000</td>\n",
       "      <td>941.9121</td>\n",
       "      <td>155769.7</td>\n",
       "    </tr>\n",
       "    <tr>\n",
       "      <th>1980</th>\n",
       "      <td>15.302330</td>\n",
       "      <td>1039.7330</td>\n",
       "      <td>227430.9</td>\n",
       "    </tr>\n",
       "    <tr>\n",
       "      <th>2892</th>\n",
       "      <td>20.111700</td>\n",
       "      <td>1277.3590</td>\n",
       "      <td>546830.5</td>\n",
       "    </tr>\n",
       "    <tr>\n",
       "      <th>2894</th>\n",
       "      <td>20.111700</td>\n",
       "      <td>1279.3560</td>\n",
       "      <td>447569.7</td>\n",
       "    </tr>\n",
       "    <tr>\n",
       "      <th>2896</th>\n",
       "      <td>20.111700</td>\n",
       "      <td>1281.3490</td>\n",
       "      <td>198897.1</td>\n",
       "    </tr>\n",
       "  </tbody>\n",
       "</table>\n",
       "<p>757 rows × 3 columns</p>\n",
       "</div>"
      ],
      "text/plain": [
       "        RT(min)  Precursor m/z       Area\n",
       "49     2.549067       100.0762   357172.3\n",
       "43     2.200800       101.1159  2170282.0\n",
       "53     3.129583       102.1282  6018235.0\n",
       "436    6.595634       102.1278   550804.5\n",
       "54     3.129583       103.1312   402389.3\n",
       "...         ...            ...        ...\n",
       "2505  17.309000       941.9121   155769.7\n",
       "1980  15.302330      1039.7330   227430.9\n",
       "2892  20.111700      1277.3590   546830.5\n",
       "2894  20.111700      1279.3560   447569.7\n",
       "2896  20.111700      1281.3490   198897.1\n",
       "\n",
       "[757 rows x 3 columns]"
      ]
     },
     "execution_count": 11,
     "metadata": {},
     "output_type": "execute_result"
    }
   ],
   "source": [
    "d_msdial.loc[msd_index]"
   ]
  },
  {
   "cell_type": "code",
   "execution_count": 12,
   "metadata": {},
   "outputs": [
    {
     "data": {
      "text/plain": [
       "Text(0.5, 1.0, 'retention time difference distribution')"
      ]
     },
     "execution_count": 12,
     "metadata": {},
     "output_type": "execute_result"
    },
    {
     "data": {
      "image/png": "[encoded data removed]",
      "text/plain": [
       "<Figure size 432x288 with 1 Axes>"
      ]
     },
     "metadata": {
      "needs_background": "light"
     },
     "output_type": "display_data"
    }
   ],
   "source": [
    "rtdist = list(list(d_mss.loc[mss_index]['rt']) - (d_msdial.loc[msd_index]['RT(min)']))\n",
    "sns.distplot(rtdist)\n",
    "plt.title('retention time difference distribution')"
   ]
  },
  {
   "cell_type": "code",
   "execution_count": 13,
   "metadata": {},
   "outputs": [
    {
     "data": {
      "text/plain": [
       "Text(0.5, 1.0, 'm/z difference distribution')"
      ]
     },
     "execution_count": 13,
     "metadata": {},
     "output_type": "execute_result"
    },
    {
     "data": {
      "image/png": "[encoded data removed]",
      "text/plain": [
       "<Figure size 432x288 with 1 Axes>"
      ]
     },
     "metadata": {
      "needs_background": "light"
     },
     "output_type": "display_data"
    }
   ],
   "source": [
    "rtdist = list(list(d_mss.loc[mss_index]['m/z']) - (d_msdial.loc[msd_index]['Precursor m/z']))\n",
    "sns.distplot(rtdist)\n",
    "plt.title('m/z difference distribution')"
   ]
  },
  {
   "cell_type": "code",
   "execution_count": 14,
   "metadata": {},
   "outputs": [
    {
     "data": {
      "text/plain": [
       "Text(0.5, 1.0, 'Peak area difference distribution')"
      ]
     },
     "execution_count": 14,
     "metadata": {},
     "output_type": "execute_result"
    },
    {
     "data": {
      "image/png": "[encoded data removed]",
      "text/plain": [
       "<Figure size 432x288 with 1 Axes>"
      ]
     },
     "metadata": {
      "needs_background": "light"
     },
     "output_type": "display_data"
    }
   ],
   "source": [
    "rtdist = list(list(d_mss.loc[mss_index]['peak area']) - (d_msdial.loc[msd_index]['Area']))\n",
    "sns.distplot(rtdist)\n",
    "plt.title('Peak area difference distribution')"
   ]
  },
  {
   "cell_type": "code",
   "execution_count": 15,
   "metadata": {},
   "outputs": [
    {
     "data": {
      "text/plain": [
       "Text(0.5, 1.0, 'rt_error = 0.25, mz_error = 0.01 Da')"
      ]
     },
     "execution_count": 15,
     "metadata": {},
     "output_type": "execute_result"
    },
    {
     "data": {
      "image/png": "[encoded data removed]",
      "text/plain": [
       "<Figure size 432x288 with 1 Axes>"
      ]
     },
     "metadata": {},
     "output_type": "display_data"
    }
   ],
   "source": [
    "venn2(subsets = (885, 2212, 757), set_labels = ('MSS result', 'MSdial result'))\n",
    "plt.title('rt_error = 0.25, mz_error = 0.01 Da')"
   ]
  },
  {
   "cell_type": "code",
   "execution_count": 16,
   "metadata": {},
   "outputs": [],
   "source": [
    "#distribution of mass error and rt error in aligned features\n",
    "#summary of peak area in unique and overlapped ones\n",
    "#score assessment"
   ]
  },
  {
   "cell_type": "code",
   "execution_count": 21,
   "metadata": {},
   "outputs": [
    {
     "data": {
      "text/plain": [
       "Text(0.5, 1.0, 'overlap scoring')"
      ]
     },
     "execution_count": 21,
     "metadata": {},
     "output_type": "execute_result"
    },
    {
     "data": {
      "image/png": "[encoded data removed]",
      "text/plain": [
       "<Figure size 432x288 with 1 Axes>"
      ]
     },
     "metadata": {},
     "output_type": "display_data"
    }
   ],
   "source": [
    "plt.pie(d_s1.loc[mss_index]['score'].value_counts(),labels=list(set(d_s1['score'])), autopct='%1.0f%%');\n",
    "plt.title('overlap scoring')\n",
    "#plt.xticks([1,2,3])"
   ]
  },
  {
   "cell_type": "code",
   "execution_count": 22,
   "metadata": {},
   "outputs": [
    {
     "data": {
      "text/plain": [
       "Text(0.5, 1.0, 'unique features scoring')"
      ]
     },
     "execution_count": 22,
     "metadata": {},
     "output_type": "execute_result"
    },
    {
     "data": {
      "image/png": "[encoded data removed]",
      "text/plain": [
       "<Figure size 432x288 with 1 Axes>"
      ]
     },
     "metadata": {},
     "output_type": "display_data"
    }
   ],
   "source": [
    "plt.pie(d_s1.loc[[i for i in d_s1.index if i not in mss_index]]['score'].value_counts(), autopct='%1.0f%%');\n",
    "plt.title('unique features scoring')"
   ]
  },
  {
   "cell_type": "code",
   "execution_count": 44,
   "metadata": {},
   "outputs": [
    {
     "data": {
      "text/html": [
       "<div>\n",
       "<style scoped>\n",
       "    .dataframe tbody tr th:only-of-type {\n",
       "        vertical-align: middle;\n",
       "    }\n",
       "\n",
       "    .dataframe tbody tr th {\n",
       "        vertical-align: top;\n",
       "    }\n",
       "\n",
       "    .dataframe thead th {\n",
       "        text-align: right;\n",
       "    }\n",
       "</style>\n",
       "<table border=\"1\" class=\"dataframe\">\n",
       "  <thead>\n",
       "    <tr style=\"text-align: right;\">\n",
       "      <th></th>\n",
       "      <th>RT(min)</th>\n",
       "      <th>Precursor m/z</th>\n",
       "      <th>Area</th>\n",
       "    </tr>\n",
       "  </thead>\n",
       "  <tbody>\n",
       "    <tr>\n",
       "      <th>0</th>\n",
       "      <td>0.59215</td>\n",
       "      <td>105.9635</td>\n",
       "      <td>233135.70</td>\n",
       "    </tr>\n",
       "    <tr>\n",
       "      <th>1</th>\n",
       "      <td>0.59215</td>\n",
       "      <td>107.9599</td>\n",
       "      <td>132922.30</td>\n",
       "    </tr>\n",
       "    <tr>\n",
       "      <th>2</th>\n",
       "      <td>0.59215</td>\n",
       "      <td>110.0088</td>\n",
       "      <td>521536.60</td>\n",
       "    </tr>\n",
       "    <tr>\n",
       "      <th>3</th>\n",
       "      <td>0.59215</td>\n",
       "      <td>111.0117</td>\n",
       "      <td>82580.55</td>\n",
       "    </tr>\n",
       "    <tr>\n",
       "      <th>4</th>\n",
       "      <td>0.59215</td>\n",
       "      <td>112.0069</td>\n",
       "      <td>75445.54</td>\n",
       "    </tr>\n",
       "    <tr>\n",
       "      <th>...</th>\n",
       "      <td>...</td>\n",
       "      <td>...</td>\n",
       "      <td>...</td>\n",
       "    </tr>\n",
       "    <tr>\n",
       "      <th>2964</th>\n",
       "      <td>21.20623</td>\n",
       "      <td>141.9593</td>\n",
       "      <td>15008850.00</td>\n",
       "    </tr>\n",
       "    <tr>\n",
       "      <th>2965</th>\n",
       "      <td>21.20623</td>\n",
       "      <td>182.9832</td>\n",
       "      <td>728052.60</td>\n",
       "    </tr>\n",
       "    <tr>\n",
       "      <th>2966</th>\n",
       "      <td>21.27257</td>\n",
       "      <td>128.9878</td>\n",
       "      <td>644385.40</td>\n",
       "    </tr>\n",
       "    <tr>\n",
       "      <th>2967</th>\n",
       "      <td>21.28915</td>\n",
       "      <td>113.9649</td>\n",
       "      <td>1128074.00</td>\n",
       "    </tr>\n",
       "    <tr>\n",
       "      <th>2968</th>\n",
       "      <td>21.57108</td>\n",
       "      <td>172.9779</td>\n",
       "      <td>7545718.00</td>\n",
       "    </tr>\n",
       "  </tbody>\n",
       "</table>\n",
       "<p>2221 rows × 3 columns</p>\n",
       "</div>"
      ],
      "text/plain": [
       "       RT(min)  Precursor m/z         Area\n",
       "0      0.59215       105.9635    233135.70\n",
       "1      0.59215       107.9599    132922.30\n",
       "2      0.59215       110.0088    521536.60\n",
       "3      0.59215       111.0117     82580.55\n",
       "4      0.59215       112.0069     75445.54\n",
       "...        ...            ...          ...\n",
       "2964  21.20623       141.9593  15008850.00\n",
       "2965  21.20623       182.9832    728052.60\n",
       "2966  21.27257       128.9878    644385.40\n",
       "2967  21.28915       113.9649   1128074.00\n",
       "2968  21.57108       172.9779   7545718.00\n",
       "\n",
       "[2221 rows x 3 columns]"
      ]
     },
     "execution_count": 44,
     "metadata": {},
     "output_type": "execute_result"
    }
   ],
   "source": [
    "d_msdial.loc[[i for i in d_msdial.index if i not in msd_index]]"
   ]
  },
  {
   "cell_type": "code",
   "execution_count": 49,
   "metadata": {},
   "outputs": [
    {
     "data": {
      "image/png": "[encoded data removed]",
      "text/plain": [
       "<Figure size 1440x720 with 1 Axes>"
      ]
     },
     "metadata": {
      "needs_background": "light"
     },
     "output_type": "display_data"
    }
   ],
   "source": [
    "mss.visreader.integration_plot(scans, 111.0117, 20)"
   ]
  }
 ],
 "metadata": {
  "kernelspec": {
   "display_name": "Python 3",
   "language": "python",
   "name": "python3"
  },
  "language_info": {
   "codemirror_mode": {
    "name": "ipython",
    "version": 3
   },
   "file_extension": ".py",
   "mimetype": "text/x-python",
   "name": "python",
   "nbconvert_exporter": "python",
   "pygments_lexer": "ipython3",
   "version": "3.7.4"
  }
 },
 "nbformat": 4,
 "nbformat_minor": 2
}

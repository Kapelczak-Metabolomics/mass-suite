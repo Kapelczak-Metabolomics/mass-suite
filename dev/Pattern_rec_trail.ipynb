{
 "cells": [
  {
   "cell_type": "code",
   "execution_count": 41,
   "metadata": {},
   "outputs": [
    {
     "name": "stderr",
     "output_type": "stream",
     "text": [
      "/home/hack_summer/miniconda3/lib/python3.8/site-packages/sklearn/base.py:329: UserWarning:\n",
      "\n",
      "Trying to unpickle estimator DecisionTreeClassifier from version 0.22.2.post1 when using version 0.23.2. This might lead to breaking code or invalid results. Use at your own risk.\n",
      "\n",
      "/home/hack_summer/miniconda3/lib/python3.8/site-packages/sklearn/base.py:329: UserWarning:\n",
      "\n",
      "Trying to unpickle estimator RandomForestClassifier from version 0.22.2.post1 when using version 0.23.2. This might lead to breaking code or invalid results. Use at your own risk.\n",
      "\n"
     ]
    }
   ],
   "source": [
    "import pandas as pd\n",
    "import numpy as np\n",
    "from itertools import groupby\n",
    "from tqdm import tqdm\n",
    "import matplotlib.pyplot as plt\n",
    "import seaborn as sns\n",
    "from sklearn import preprocessing\n",
    "from sklearn import cluster,mixture\n",
    "from sklearn.ensemble import BaggingRegressor\n",
    "from sklearn.ensemble import RandomForestRegressor\n",
    "from sklearn.ensemble import ExtraTreesRegressor\n",
    "from sklearn.cluster import DBSCAN\n",
    "from sklearn.manifold import TSNE\n",
    "from sklearn.svm import SVC\n",
    "from sklearn.neighbors import KNeighborsClassifier\n",
    "from sklearn.tree import DecisionTreeClassifier\n",
    "from sklearn.linear_model import RidgeCV, LassoCV\n",
    "import scipy\n",
    "import math\n",
    "from sklearn.model_selection import train_test_split\n",
    "\n",
    "from sklearn import metrics\n",
    "from sklearn import linear_model\n",
    "\n",
    "import sys\n",
    "# import mss\n",
    "sys.path.append('../')\n",
    "from mss import visreader as mvis\n",
    "from mss import mssmain as msm\n",
    "from mss import align\n",
    "from mss import dm"
   ]
  },
  {
   "cell_type": "code",
   "execution_count": 2,
   "metadata": {},
   "outputs": [],
   "source": [
    "df = pd.read_csv('../example_data/clustering/testdata_1114_patternrec.csv')"
   ]
  },
  {
   "cell_type": "code",
   "execution_count": 21,
   "metadata": {},
   "outputs": [
    {
     "data": {
      "text/plain": [
       "(5299, 36)"
      ]
     },
     "execution_count": 21,
     "metadata": {},
     "output_type": "execute_result"
    }
   ],
   "source": [
    "source_col = df.columns[df.columns.str.contains('dil-to')]\n",
    "dfp = df[source_col].copy()\n",
    "dfp.shape"
   ]
  },
  {
   "cell_type": "code",
   "execution_count": 87,
   "metadata": {},
   "outputs": [],
   "source": [
    "mean_list = []\n",
    "for i in list(set([i[:-2] for i in df.iloc[:,5:].columns])):\n",
    "    mean_list.append(list(df.iloc[:,5:][df.iloc[:,5:].columns[df.iloc[:,5:].columns.str.contains(i)]].mean(1)))"
   ]
  },
  {
   "cell_type": "code",
   "execution_count": 88,
   "metadata": {},
   "outputs": [
    {
     "data": {
      "text/html": [
       "<div>\n",
       "<style scoped>\n",
       "    .dataframe tbody tr th:only-of-type {\n",
       "        vertical-align: middle;\n",
       "    }\n",
       "\n",
       "    .dataframe tbody tr th {\n",
       "        vertical-align: top;\n",
       "    }\n",
       "\n",
       "    .dataframe thead th {\n",
       "        text-align: right;\n",
       "    }\n",
       "</style>\n",
       "<table border=\"1\" class=\"dataframe\">\n",
       "  <thead>\n",
       "    <tr style=\"text-align: right;\">\n",
       "      <th></th>\n",
       "      <th>20181114_SR520-Creek_Mix4A</th>\n",
       "      <th>20181114_SR520-Cal-in-DI_1000mL_dil-to-10mL</th>\n",
       "      <th>20181114_CoulterCreek</th>\n",
       "      <th>20181114_MSMS_Miller-Creek-20181025_Site5down-HLB</th>\n",
       "      <th>20181114_MSMS_Miller-Creek-20181025_Site8MW-HLB</th>\n",
       "      <th>20181114_SR518-Cal_1000mL_dil-to-25mL</th>\n",
       "      <th>20181114_SR520-Cal-in-DI_1000mL_dil-to-60mL</th>\n",
       "      <th>20181114_SR518-Cal_1000mL_dil-to-400mL</th>\n",
       "      <th>20181114_SR520-Cal-in-DI_1000mL_dil-to-25mL</th>\n",
       "      <th>20181114_SR518-Cal_1000mL_dil-to-60mL</th>\n",
       "      <th>...</th>\n",
       "      <th>20181114_SwanCreek-Dec</th>\n",
       "      <th>20181114_SR520-Cal-in-DI_400mL</th>\n",
       "      <th>20181114_MSMS_Miller-Creek-20181025_Site4-HLB</th>\n",
       "      <th>20181114_SR520-Cal-in-DI_1000mL_dil-to-1mL</th>\n",
       "      <th>20181114_SR520-Cal-in-DI_1000mL_dil-to-160mL</th>\n",
       "      <th>20181114_Crescent-Creek-May</th>\n",
       "      <th>20181114_SR520-Cal-in-DI_1000mL_dil-to-400mL</th>\n",
       "      <th>20181114_SR520-Cal-in-DI_25mL</th>\n",
       "      <th>20181114_SR520-Cal-in-DI_1000mL</th>\n",
       "      <th>20181114_SR520-Cal-in-DI_1mL</th>\n",
       "    </tr>\n",
       "  </thead>\n",
       "  <tbody>\n",
       "    <tr>\n",
       "      <th>0</th>\n",
       "      <td>11058.666667</td>\n",
       "      <td>2201.333333</td>\n",
       "      <td>3204.000000</td>\n",
       "      <td>74715.0</td>\n",
       "      <td>39193.0</td>\n",
       "      <td>4968.333333</td>\n",
       "      <td>12058.000000</td>\n",
       "      <td>46733.000000</td>\n",
       "      <td>6149.333333</td>\n",
       "      <td>11792.333333</td>\n",
       "      <td>...</td>\n",
       "      <td>5038.666667</td>\n",
       "      <td>51588.333333</td>\n",
       "      <td>14036.0</td>\n",
       "      <td>346.666667</td>\n",
       "      <td>28334.333333</td>\n",
       "      <td>3607.666667</td>\n",
       "      <td>57931.333333</td>\n",
       "      <td>9069.000000</td>\n",
       "      <td>27219.904762</td>\n",
       "      <td>2727.333333</td>\n",
       "    </tr>\n",
       "    <tr>\n",
       "      <th>1</th>\n",
       "      <td>4189.666667</td>\n",
       "      <td>934.666667</td>\n",
       "      <td>2505.000000</td>\n",
       "      <td>146454.0</td>\n",
       "      <td>189119.0</td>\n",
       "      <td>2471.666667</td>\n",
       "      <td>2774.333333</td>\n",
       "      <td>25538.333333</td>\n",
       "      <td>1530.333333</td>\n",
       "      <td>3319.000000</td>\n",
       "      <td>...</td>\n",
       "      <td>1676.666667</td>\n",
       "      <td>15910.000000</td>\n",
       "      <td>153779.0</td>\n",
       "      <td>1029.666667</td>\n",
       "      <td>9873.000000</td>\n",
       "      <td>3752.666667</td>\n",
       "      <td>16742.000000</td>\n",
       "      <td>2038.333333</td>\n",
       "      <td>10014.333333</td>\n",
       "      <td>1429.333333</td>\n",
       "    </tr>\n",
       "    <tr>\n",
       "      <th>2</th>\n",
       "      <td>5127.333333</td>\n",
       "      <td>1441.666667</td>\n",
       "      <td>2379.000000</td>\n",
       "      <td>175420.0</td>\n",
       "      <td>189706.0</td>\n",
       "      <td>4827.333333</td>\n",
       "      <td>5605.666667</td>\n",
       "      <td>62643.666667</td>\n",
       "      <td>2612.333333</td>\n",
       "      <td>11075.000000</td>\n",
       "      <td>...</td>\n",
       "      <td>1501.333333</td>\n",
       "      <td>36139.000000</td>\n",
       "      <td>147749.0</td>\n",
       "      <td>1970.666667</td>\n",
       "      <td>21364.333333</td>\n",
       "      <td>3262.333333</td>\n",
       "      <td>39520.333333</td>\n",
       "      <td>3245.666667</td>\n",
       "      <td>20995.619048</td>\n",
       "      <td>1685.666667</td>\n",
       "    </tr>\n",
       "    <tr>\n",
       "      <th>3</th>\n",
       "      <td>97944.000000</td>\n",
       "      <td>22868.333333</td>\n",
       "      <td>568.666667</td>\n",
       "      <td>87411.0</td>\n",
       "      <td>137532.0</td>\n",
       "      <td>8532.333333</td>\n",
       "      <td>137878.666667</td>\n",
       "      <td>88178.666667</td>\n",
       "      <td>55173.666667</td>\n",
       "      <td>18243.000000</td>\n",
       "      <td>...</td>\n",
       "      <td>1283.666667</td>\n",
       "      <td>873611.000000</td>\n",
       "      <td>40774.0</td>\n",
       "      <td>2679.000000</td>\n",
       "      <td>325304.333333</td>\n",
       "      <td>1138.666667</td>\n",
       "      <td>710576.333333</td>\n",
       "      <td>84524.666667</td>\n",
       "      <td>358528.095238</td>\n",
       "      <td>2901.000000</td>\n",
       "    </tr>\n",
       "    <tr>\n",
       "      <th>4</th>\n",
       "      <td>1895.000000</td>\n",
       "      <td>700.000000</td>\n",
       "      <td>0.000000</td>\n",
       "      <td>34312.0</td>\n",
       "      <td>17085.0</td>\n",
       "      <td>657.000000</td>\n",
       "      <td>4073.000000</td>\n",
       "      <td>14439.666667</td>\n",
       "      <td>2116.666667</td>\n",
       "      <td>3149.000000</td>\n",
       "      <td>...</td>\n",
       "      <td>181.666667</td>\n",
       "      <td>11485.000000</td>\n",
       "      <td>0.0</td>\n",
       "      <td>0.000000</td>\n",
       "      <td>11652.666667</td>\n",
       "      <td>128.333333</td>\n",
       "      <td>21355.333333</td>\n",
       "      <td>1292.000000</td>\n",
       "      <td>9811.190476</td>\n",
       "      <td>169.000000</td>\n",
       "    </tr>\n",
       "  </tbody>\n",
       "</table>\n",
       "<p>5 rows × 38 columns</p>\n",
       "</div>"
      ],
      "text/plain": [
       "   20181114_SR520-Creek_Mix4A  20181114_SR520-Cal-in-DI_1000mL_dil-to-10mL  \\\n",
       "0                11058.666667                                  2201.333333   \n",
       "1                 4189.666667                                   934.666667   \n",
       "2                 5127.333333                                  1441.666667   \n",
       "3                97944.000000                                 22868.333333   \n",
       "4                 1895.000000                                   700.000000   \n",
       "\n",
       "   20181114_CoulterCreek  20181114_MSMS_Miller-Creek-20181025_Site5down-HLB  \\\n",
       "0            3204.000000                                            74715.0   \n",
       "1            2505.000000                                           146454.0   \n",
       "2            2379.000000                                           175420.0   \n",
       "3             568.666667                                            87411.0   \n",
       "4               0.000000                                            34312.0   \n",
       "\n",
       "   20181114_MSMS_Miller-Creek-20181025_Site8MW-HLB  \\\n",
       "0                                          39193.0   \n",
       "1                                         189119.0   \n",
       "2                                         189706.0   \n",
       "3                                         137532.0   \n",
       "4                                          17085.0   \n",
       "\n",
       "   20181114_SR518-Cal_1000mL_dil-to-25mL  \\\n",
       "0                            4968.333333   \n",
       "1                            2471.666667   \n",
       "2                            4827.333333   \n",
       "3                            8532.333333   \n",
       "4                             657.000000   \n",
       "\n",
       "   20181114_SR520-Cal-in-DI_1000mL_dil-to-60mL  \\\n",
       "0                                 12058.000000   \n",
       "1                                  2774.333333   \n",
       "2                                  5605.666667   \n",
       "3                                137878.666667   \n",
       "4                                  4073.000000   \n",
       "\n",
       "   20181114_SR518-Cal_1000mL_dil-to-400mL  \\\n",
       "0                            46733.000000   \n",
       "1                            25538.333333   \n",
       "2                            62643.666667   \n",
       "3                            88178.666667   \n",
       "4                            14439.666667   \n",
       "\n",
       "   20181114_SR520-Cal-in-DI_1000mL_dil-to-25mL  \\\n",
       "0                                  6149.333333   \n",
       "1                                  1530.333333   \n",
       "2                                  2612.333333   \n",
       "3                                 55173.666667   \n",
       "4                                  2116.666667   \n",
       "\n",
       "   20181114_SR518-Cal_1000mL_dil-to-60mL  ...  20181114_SwanCreek-Dec  \\\n",
       "0                           11792.333333  ...             5038.666667   \n",
       "1                            3319.000000  ...             1676.666667   \n",
       "2                           11075.000000  ...             1501.333333   \n",
       "3                           18243.000000  ...             1283.666667   \n",
       "4                            3149.000000  ...              181.666667   \n",
       "\n",
       "   20181114_SR520-Cal-in-DI_400mL  \\\n",
       "0                    51588.333333   \n",
       "1                    15910.000000   \n",
       "2                    36139.000000   \n",
       "3                   873611.000000   \n",
       "4                    11485.000000   \n",
       "\n",
       "   20181114_MSMS_Miller-Creek-20181025_Site4-HLB  \\\n",
       "0                                        14036.0   \n",
       "1                                       153779.0   \n",
       "2                                       147749.0   \n",
       "3                                        40774.0   \n",
       "4                                            0.0   \n",
       "\n",
       "   20181114_SR520-Cal-in-DI_1000mL_dil-to-1mL  \\\n",
       "0                                  346.666667   \n",
       "1                                 1029.666667   \n",
       "2                                 1970.666667   \n",
       "3                                 2679.000000   \n",
       "4                                    0.000000   \n",
       "\n",
       "   20181114_SR520-Cal-in-DI_1000mL_dil-to-160mL  20181114_Crescent-Creek-May  \\\n",
       "0                                  28334.333333                  3607.666667   \n",
       "1                                   9873.000000                  3752.666667   \n",
       "2                                  21364.333333                  3262.333333   \n",
       "3                                 325304.333333                  1138.666667   \n",
       "4                                  11652.666667                   128.333333   \n",
       "\n",
       "   20181114_SR520-Cal-in-DI_1000mL_dil-to-400mL  \\\n",
       "0                                  57931.333333   \n",
       "1                                  16742.000000   \n",
       "2                                  39520.333333   \n",
       "3                                 710576.333333   \n",
       "4                                  21355.333333   \n",
       "\n",
       "   20181114_SR520-Cal-in-DI_25mL  20181114_SR520-Cal-in-DI_1000mL  \\\n",
       "0                    9069.000000                     27219.904762   \n",
       "1                    2038.333333                     10014.333333   \n",
       "2                    3245.666667                     20995.619048   \n",
       "3                   84524.666667                    358528.095238   \n",
       "4                    1292.000000                      9811.190476   \n",
       "\n",
       "   20181114_SR520-Cal-in-DI_1mL  \n",
       "0                   2727.333333  \n",
       "1                   1429.333333  \n",
       "2                   1685.666667  \n",
       "3                   2901.000000  \n",
       "4                    169.000000  \n",
       "\n",
       "[5 rows x 38 columns]"
      ]
     },
     "execution_count": 88,
     "metadata": {},
     "output_type": "execute_result"
    }
   ],
   "source": [
    "df_m = pd.DataFrame(mean_list).T\n",
    "df_m.columns = list(set([i[:-2] for i in df.iloc[:,5:].columns]))\n",
    "df_m.head()"
   ]
  },
  {
   "cell_type": "code",
   "execution_count": 25,
   "metadata": {},
   "outputs": [],
   "source": [
    "mean_list = []\n",
    "for i in list(set([i[:-2] for i in source_col])):\n",
    "    mean_list.append(list(dfp[dfp.columns[dfp.columns.str.contains(i)]].mean(1)))"
   ]
  },
  {
   "cell_type": "code",
   "execution_count": 35,
   "metadata": {},
   "outputs": [],
   "source": [
    "df_mean = pd.DataFrame(mean_list).T\n",
    "df_mean.columns = list(set([i[:-2] for i in source_col]))\n",
    "d_clu = df_mean[df_mean.columns[df_mean.columns.str.contains('520')]].copy()"
   ]
  },
  {
   "cell_type": "code",
   "execution_count": 39,
   "metadata": {},
   "outputs": [
    {
     "name": "stderr",
     "output_type": "stream",
     "text": [
      "<ipython-input-39-65655e08fa95>:2: RuntimeWarning: invalid value encountered in true_divide\n",
      "  c_norm = [((row-np.mean(row))/np.std(row)) for row in c_data]\n"
     ]
    }
   ],
   "source": [
    "c_data = d_clu.values\n",
    "c_norm = [((row-np.mean(row))/np.std(row)) for row in c_data]\n",
    "#Clean up dataframe\n",
    "c_norm = np.asarray(c_norm)\n",
    "d_norm = pd.DataFrame(c_norm)\n",
    "d_norm['index']=d_clu.index\n",
    "d_norm.set_index('index',inplace=True)\n",
    "d_norm.dropna(how='all',inplace=True)\n",
    "d_norm.columns = d_clu.columns"
   ]
  },
  {
   "cell_type": "code",
   "execution_count": 42,
   "metadata": {},
   "outputs": [
    {
     "name": "stdout",
     "output_type": "stream",
     "text": [
      "eps selected 0.9590720349692694\n"
     ]
    },
    {
     "data": {
      "text/plain": [
       "array([0.        , 0.        , 0.        , ..., 1.27108023, 1.27154856,\n",
       "       1.42381247])"
      ]
     },
     "execution_count": 42,
     "metadata": {},
     "output_type": "execute_result"
    },
    {
     "data": {
      "image/png": "[encoded data removed]",
      "text/plain": [
       "<Figure size 432x288 with 1 Axes>"
      ]
     },
     "metadata": {
      "needs_background": "light"
     },
     "output_type": "display_data"
    }
   ],
   "source": [
    "dm.eps_assess(d_norm, 12)"
   ]
  },
  {
   "cell_type": "code",
   "execution_count": 48,
   "metadata": {},
   "outputs": [
    {
     "data": {
      "text/plain": [
       "Index(['20181114_SR520-Cal-in-DI_1000mL_dil-to-25mL',\n",
       "       '20181114_SR520-Cal-in-DI_1000mL_dil-to-10mL',\n",
       "       '20181114_SR520-Cal-in-DI_1000mL_dil-to-60mL',\n",
       "       '20181114_SR520-Cal-in-DI_1000mL_dil-to-160mL',\n",
       "       '20181114_SR520-Cal-in-DI_1000mL_dil-to-400mL',\n",
       "       '20181114_SR520-Cal-in-DI_1000mL_dil-to-1mL'],\n",
       "      dtype='object')"
      ]
     },
     "execution_count": 48,
     "metadata": {},
     "output_type": "execute_result"
    }
   ],
   "source": [
    "d_norm.columns"
   ]
  },
  {
   "cell_type": "code",
   "execution_count": 75,
   "metadata": {},
   "outputs": [
    {
     "name": "stderr",
     "output_type": "stream",
     "text": [
      "/home/hack_summer/miniconda3/lib/python3.8/site-packages/seaborn/matrix.py:659: UserWarning:\n",
      "\n",
      "Clustering large matrix with scipy. Installing `fastcluster` may give better performance.\n",
      "\n"
     ]
    },
    {
     "data": {
      "image/png": "[encoded data removed]",
      "text/plain": [
       "<Figure size 360x360 with 4 Axes>"
      ]
     },
     "metadata": {
      "needs_background": "light"
     },
     "output_type": "display_data"
    },
    {
     "data": {
      "image/png": "[encoded data removed]",
      "text/plain": [
       "<Figure size 360x360 with 4 Axes>"
      ]
     },
     "metadata": {
      "needs_background": "light"
     },
     "output_type": "display_data"
    },
    {
     "data": {
      "image/png": "[encoded data removed]",
      "text/plain": [
       "<Figure size 360x360 with 4 Axes>"
      ]
     },
     "metadata": {
      "needs_background": "light"
     },
     "output_type": "display_data"
    },
    {
     "data": {
      "image/png": "[encoded data removed]",
      "text/plain": [
       "<Figure size 360x360 with 4 Axes>"
      ]
     },
     "metadata": {
      "needs_background": "light"
     },
     "output_type": "display_data"
    },
    {
     "data": {
      "image/png": "[encoded data removed]",
      "text/plain": [
       "<Figure size 360x360 with 4 Axes>"
      ]
     },
     "metadata": {
      "needs_background": "light"
     },
     "output_type": "display_data"
    },
    {
     "data": {
      "image/png": "[encoded data removed]",
      "text/plain": [
       "<Figure size 360x360 with 4 Axes>"
      ]
     },
     "metadata": {
      "needs_background": "light"
     },
     "output_type": "display_data"
    },
    {
     "data": {
      "image/png": "[encoded data removed]",
      "text/plain": [
       "<Figure size 360x360 with 4 Axes>"
      ]
     },
     "metadata": {
      "needs_background": "light"
     },
     "output_type": "display_data"
    },
    {
     "data": {
      "image/png": "[encoded data removed]",
      "text/plain": [
       "<Figure size 360x360 with 4 Axes>"
      ]
     },
     "metadata": {
      "needs_background": "light"
     },
     "output_type": "display_data"
    },
    {
     "data": {
      "image/png": "[encoded data removed]",
      "text/plain": [
       "<Figure size 360x360 with 4 Axes>"
      ]
     },
     "metadata": {
      "needs_background": "light"
     },
     "output_type": "display_data"
    }
   ],
   "source": [
    "dbscan = cluster.DBSCAN(eps=0.2, min_samples=12).fit(d_norm)\n",
    "labels = dbscan.labels_\n",
    "unique_labels = set(dbscan.labels_)\n",
    "\n",
    "for i,k in enumerate(unique_labels):\n",
    "    indexlist = list(np.argwhere(labels==k).reshape(1,-1)[0])\n",
    "    sns.clustermap(d_norm.iloc[indexlist].values,cmap='Reds',col_cluster=False,yticklabels=False,xticklabels=False,figsize=(5,5))\n",
    "    plt.title(' label='+ str(k))\n",
    "    plt.show()\n",
    "    \n",
    "d_init = d_clu.copy()\n",
    "d_label = d_clu.loc[d_norm.index] #Use the index to match back to the original datasheet\n",
    "d_label.insert(len(d_clu.columns),\"label\", dbscan.labels_.tolist())"
   ]
  },
  {
   "cell_type": "code",
   "execution_count": 76,
   "metadata": {},
   "outputs": [],
   "source": [
    "d_source = df.loc[d_label[d_label['label'] == 0].index].copy()\n",
    "d_bg = df.loc[d_label[d_label['label'] != 0].index].copy()"
   ]
  },
  {
   "cell_type": "code",
   "execution_count": 83,
   "metadata": {},
   "outputs": [
    {
     "data": {
      "text/plain": [
       "<matplotlib.collections.PathCollection at 0x7feb5c0be5b0>"
      ]
     },
     "execution_count": 83,
     "metadata": {},
     "output_type": "execute_result"
    },
    {
     "data": {
      "image/png": "[encoded data removed]",
      "text/plain": [
       "<Figure size 432x288 with 1 Axes>"
      ]
     },
     "metadata": {
      "needs_background": "light"
     },
     "output_type": "display_data"
    }
   ],
   "source": [
    "plt.scatter(d_source['Average RT (min)'], d_source['Average m/z'],s=3)\n",
    "#plt.scatter(d_bg['Average RT (min)'], d_bg['Average m/z'],s=3,alpha=0.5)"
   ]
  },
  {
   "cell_type": "code",
   "execution_count": 158,
   "metadata": {},
   "outputs": [
    {
     "data": {
      "text/plain": [
       "Index(['20181114_SR520-Creek_Mix4A',\n",
       "       '20181114_SR520-Cal-in-DI_1000mL_dil-to-10mL', '20181114_CoulterCreek',\n",
       "       '20181114_MSMS_Miller-Creek-20181025_Site5down-HLB',\n",
       "       '20181114_MSMS_Miller-Creek-20181025_Site8MW-HLB',\n",
       "       '20181114_SR518-Cal_1000mL_dil-to-25mL',\n",
       "       '20181114_SR520-Cal-in-DI_1000mL_dil-to-60mL',\n",
       "       '20181114_SR518-Cal_1000mL_dil-to-400mL',\n",
       "       '20181114_SR520-Cal-in-DI_1000mL_dil-to-25mL',\n",
       "       '20181114_SR518-Cal_1000mL_dil-to-60mL', '20181114_SR518-Cal_1000mL',\n",
       "       '20181114_SR520-Cal-in-DI_10mL', '20181114_SR520-Creek_Mix5A',\n",
       "       '20181114_SR520-Creek_Mix1', '20181114_SR520-Creek_Mix5B',\n",
       "       '20181114_SR518-Cal_1000mL_dil-to-1mL', '20181114_SR520-Cal-in-DI_60mL',\n",
       "       '20181114_SR520-Creek_Mix3', '20181114_SR518-Cal_1000mL_dil-to-10mL',\n",
       "       '20181114_SR518-Cal_1000mL_dil-to-160mL', '20181114_SR520-Creek_Mix6A',\n",
       "       '20181114_RuralCreek', '20181114_SR520-Creek_Mix2',\n",
       "       '20181114_SwanCreek-May', '20181114_Crescent-Creek-Jan',\n",
       "       '20181114_SR520-Creek_Mix6B', '20181114_SR520-Creek_Mix4B',\n",
       "       '20181114_SR520-Cal-in-DI_160mL', '20181114_SwanCreek-Dec',\n",
       "       '20181114_SR520-Cal-in-DI_400mL',\n",
       "       '20181114_MSMS_Miller-Creek-20181025_Site4-HLB',\n",
       "       '20181114_SR520-Cal-in-DI_1000mL_dil-to-1mL',\n",
       "       '20181114_SR520-Cal-in-DI_1000mL_dil-to-160mL',\n",
       "       '20181114_Crescent-Creek-May',\n",
       "       '20181114_SR520-Cal-in-DI_1000mL_dil-to-400mL',\n",
       "       '20181114_SR520-Cal-in-DI_25mL', '20181114_SR520-Cal-in-DI_1000mL',\n",
       "       '20181114_SR520-Cal-in-DI_1mL'],\n",
       "      dtype='object')"
      ]
     },
     "execution_count": 158,
     "metadata": {},
     "output_type": "execute_result"
    }
   ],
   "source": [
    "df_m.columns"
   ]
  },
  {
   "cell_type": "code",
   "execution_count": 161,
   "metadata": {},
   "outputs": [
    {
     "name": "stdout",
     "output_type": "stream",
     "text": [
      "simple source prediction score:  0.33224852071005917\n",
      "msdial algorithm score: 0.9951044762930272\n"
     ]
    }
   ],
   "source": [
    "#select comparison sample\n",
    "source_col = '20181114_SR520-Cal-in-DI_400mL'\n",
    "sample_col ='20181114_SwanCreek-Dec'\n",
    "\n",
    "d_index = df_m.index[df_m[sample_col] >= 2000]\n",
    "source_index = d_source.index\n",
    "print('simple source prediction score: ', len([i for i in source_index if i in d_index])/len(source_index))\n",
    "\n",
    "#MSDIAL algorithm, if 2d only consider mz/rt, 3d (plus intensity) need to alter their equations\n",
    "#Maybe not accurate\n",
    "union_index = list(set(source_index).union(set(d_index)))\n",
    "intersec_index = [i for i in source_index if i in d_index]\n",
    "\n",
    "sl = df_m[source_col]\n",
    "union_b = np.asarray(df_m.iloc[union_index,0])\n",
    "intersec_b = np.asarray(df_m.iloc[intersec_index,0])\n",
    "union_s = np.asarray([sl[i] for i in union_index])\n",
    "intersec_s = np.asarray([sl[i] for i in intersec_index])\n",
    "#Normalize?\n",
    "print('msdial algorithm score:', (np.dot(union_b,union_s)\n",
    " /(np.linalg.norm(union_b)\n",
    "   *np.linalg.norm(union_s)))\n",
    "/(np.dot(intersec_b,intersec_s)\n",
    "  /(np.linalg.norm(intersec_b)\n",
    "    *np.linalg.norm(intersec_s))))"
   ]
  },
  {
   "cell_type": "code",
   "execution_count": 149,
   "metadata": {},
   "outputs": [
    {
     "data": {
      "text/plain": [
       "4.898979485566356"
      ]
     },
     "execution_count": 149,
     "metadata": {},
     "output_type": "execute_result"
    }
   ],
   "source": [
    "np.linalg.norm(np.array([2,2,2,2,2,2]))"
   ]
  },
  {
   "cell_type": "code",
   "execution_count": 150,
   "metadata": {},
   "outputs": [
    {
     "data": {
      "text/plain": [
       "0.9992621378893152"
      ]
     },
     "execution_count": 150,
     "metadata": {},
     "output_type": "execute_result"
    }
   ],
   "source": [
    "(np.dot(union_b,union_s)/(np.linalg.norm(union_b)*np.linalg.norm(union_s)))/(np.dot(intersec_b,intersec_s)/(np.linalg.norm(intersec_b)*np.linalg.norm(intersec_s)))"
   ]
  }
 ],
 "metadata": {
  "kernelspec": {
   "display_name": "Python 3",
   "language": "python",
   "name": "python3"
  },
  "language_info": {
   "codemirror_mode": {
    "name": "ipython",
    "version": 3
   },
   "file_extension": ".py",
   "mimetype": "text/x-python",
   "name": "python",
   "nbconvert_exporter": "python",
   "pygments_lexer": "ipython3",
   "version": "3.8.5"
  }
 },
 "nbformat": 4,
 "nbformat_minor": 4
}

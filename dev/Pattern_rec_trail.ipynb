{
 "cells": [
  {
   "cell_type": "code",
   "execution_count": 85,
   "metadata": {},
   "outputs": [],
   "source": [
    "import pandas as pd\n",
    "import numpy as np\n",
    "from itertools import groupby\n",
    "from tqdm import tqdm\n",
    "import matplotlib.pyplot as plt\n",
    "import seaborn as sns\n",
    "from sklearn import preprocessing\n",
    "from sklearn import cluster,mixture\n",
    "from sklearn.ensemble import BaggingRegressor\n",
    "from sklearn.ensemble import RandomForestRegressor\n",
    "from sklearn.ensemble import ExtraTreesRegressor\n",
    "from sklearn.cluster import DBSCAN\n",
    "from sklearn.manifold import TSNE\n",
    "from sklearn.svm import SVC\n",
    "from sklearn.neighbors import KNeighborsClassifier\n",
    "from sklearn.tree import DecisionTreeClassifier\n",
    "from sklearn.linear_model import RidgeCV, LassoCV\n",
    "import scipy\n",
    "import math\n",
    "from sklearn.model_selection import train_test_split\n",
    "\n",
    "from sklearn import metrics\n",
    "from sklearn import linear_model\n",
    "\n",
    "import sys\n",
    "# import mss\n",
    "sys.path.append('../')\n",
    "from mss import visreader as mvis\n",
    "from mss import mssmain as msm\n",
    "from mss import align\n",
    "from mss import dm\n",
    "from sklearn.metrics import jaccard_score\n",
    "from scipy.stats import entropy"
   ]
  },
  {
   "cell_type": "code",
   "execution_count": 2,
   "metadata": {},
   "outputs": [],
   "source": [
    "df = pd.read_csv('../example_data/clustering/testdata_1114_patternrec.csv')"
   ]
  },
  {
   "cell_type": "code",
   "execution_count": 3,
   "metadata": {},
   "outputs": [
    {
     "data": {
      "text/plain": [
       "(5299, 36)"
      ]
     },
     "execution_count": 3,
     "metadata": {},
     "output_type": "execute_result"
    }
   ],
   "source": [
    "source_col = df.columns[df.columns.str.contains('dil-to')]\n",
    "dfp = df[source_col].copy()\n",
    "dfp.shape"
   ]
  },
  {
   "cell_type": "code",
   "execution_count": 4,
   "metadata": {},
   "outputs": [],
   "source": [
    "mean_list = []\n",
    "for i in list(set([i[:-2] for i in df.iloc[:,5:].columns])):\n",
    "    mean_list.append(list(df.iloc[:,5:][df.iloc[:,5:].columns[df.iloc[:,5:].columns.str.contains(i)]].mean(1)))"
   ]
  },
  {
   "cell_type": "code",
   "execution_count": 5,
   "metadata": {},
   "outputs": [
    {
     "data": {
      "text/html": [
       "<div>\n",
       "<style scoped>\n",
       "    .dataframe tbody tr th:only-of-type {\n",
       "        vertical-align: middle;\n",
       "    }\n",
       "\n",
       "    .dataframe tbody tr th {\n",
       "        vertical-align: top;\n",
       "    }\n",
       "\n",
       "    .dataframe thead th {\n",
       "        text-align: right;\n",
       "    }\n",
       "</style>\n",
       "<table border=\"1\" class=\"dataframe\">\n",
       "  <thead>\n",
       "    <tr style=\"text-align: right;\">\n",
       "      <th></th>\n",
       "      <th>20181114_Crescent-Creek-May</th>\n",
       "      <th>20181114_MSMS_Miller-Creek-20181025_Site8MW-HLB</th>\n",
       "      <th>20181114_SwanCreek-May</th>\n",
       "      <th>20181114_SR520-Creek_Mix6B</th>\n",
       "      <th>20181114_SR520-Cal-in-DI_1mL</th>\n",
       "      <th>20181114_SR520-Cal-in-DI_400mL</th>\n",
       "      <th>20181114_CoulterCreek</th>\n",
       "      <th>20181114_MSMS_Miller-Creek-20181025_Site4-HLB</th>\n",
       "      <th>20181114_SR520-Creek_Mix6A</th>\n",
       "      <th>20181114_SR520-Cal-in-DI_160mL</th>\n",
       "      <th>...</th>\n",
       "      <th>20181114_SR520-Cal-in-DI_1000mL</th>\n",
       "      <th>20181114_SR518-Cal_1000mL_dil-to-25mL</th>\n",
       "      <th>20181114_SR520-Creek_Mix4A</th>\n",
       "      <th>20181114_SR520-Cal-in-DI_1000mL_dil-to-60mL</th>\n",
       "      <th>20181114_SR520-Cal-in-DI_1000mL_dil-to-400mL</th>\n",
       "      <th>20181114_RuralCreek</th>\n",
       "      <th>20181114_SR520-Cal-in-DI_10mL</th>\n",
       "      <th>20181114_SwanCreek-Dec</th>\n",
       "      <th>20181114_SR520-Cal-in-DI_25mL</th>\n",
       "      <th>20181114_SR520-Cal-in-DI_60mL</th>\n",
       "    </tr>\n",
       "  </thead>\n",
       "  <tbody>\n",
       "    <tr>\n",
       "      <th>0</th>\n",
       "      <td>3607.666667</td>\n",
       "      <td>39193.0</td>\n",
       "      <td>2784.000000</td>\n",
       "      <td>5432.333333</td>\n",
       "      <td>2727.333333</td>\n",
       "      <td>51588.333333</td>\n",
       "      <td>3204.000000</td>\n",
       "      <td>14036.0</td>\n",
       "      <td>4308.0</td>\n",
       "      <td>24381.666667</td>\n",
       "      <td>...</td>\n",
       "      <td>27219.904762</td>\n",
       "      <td>4968.333333</td>\n",
       "      <td>11058.666667</td>\n",
       "      <td>12058.000000</td>\n",
       "      <td>57931.333333</td>\n",
       "      <td>2674.666667</td>\n",
       "      <td>5345.000000</td>\n",
       "      <td>5038.666667</td>\n",
       "      <td>9069.000000</td>\n",
       "      <td>10873.666667</td>\n",
       "    </tr>\n",
       "    <tr>\n",
       "      <th>1</th>\n",
       "      <td>3752.666667</td>\n",
       "      <td>189119.0</td>\n",
       "      <td>1781.000000</td>\n",
       "      <td>1836.000000</td>\n",
       "      <td>1429.333333</td>\n",
       "      <td>15910.000000</td>\n",
       "      <td>2505.000000</td>\n",
       "      <td>153779.0</td>\n",
       "      <td>2074.0</td>\n",
       "      <td>9577.333333</td>\n",
       "      <td>...</td>\n",
       "      <td>10014.333333</td>\n",
       "      <td>2471.666667</td>\n",
       "      <td>4189.666667</td>\n",
       "      <td>2774.333333</td>\n",
       "      <td>16742.000000</td>\n",
       "      <td>1013.333333</td>\n",
       "      <td>1294.333333</td>\n",
       "      <td>1676.666667</td>\n",
       "      <td>2038.333333</td>\n",
       "      <td>4296.000000</td>\n",
       "    </tr>\n",
       "    <tr>\n",
       "      <th>2</th>\n",
       "      <td>3262.333333</td>\n",
       "      <td>189706.0</td>\n",
       "      <td>1968.666667</td>\n",
       "      <td>2783.333333</td>\n",
       "      <td>1685.666667</td>\n",
       "      <td>36139.000000</td>\n",
       "      <td>2379.000000</td>\n",
       "      <td>147749.0</td>\n",
       "      <td>2768.0</td>\n",
       "      <td>19389.666667</td>\n",
       "      <td>...</td>\n",
       "      <td>20995.619048</td>\n",
       "      <td>4827.333333</td>\n",
       "      <td>5127.333333</td>\n",
       "      <td>5605.666667</td>\n",
       "      <td>39520.333333</td>\n",
       "      <td>1866.000000</td>\n",
       "      <td>1422.333333</td>\n",
       "      <td>1501.333333</td>\n",
       "      <td>3245.666667</td>\n",
       "      <td>5119.333333</td>\n",
       "    </tr>\n",
       "    <tr>\n",
       "      <th>3</th>\n",
       "      <td>1138.666667</td>\n",
       "      <td>137532.0</td>\n",
       "      <td>500.666667</td>\n",
       "      <td>8821.666667</td>\n",
       "      <td>2901.000000</td>\n",
       "      <td>873611.000000</td>\n",
       "      <td>568.666667</td>\n",
       "      <td>40774.0</td>\n",
       "      <td>5701.0</td>\n",
       "      <td>342946.333333</td>\n",
       "      <td>...</td>\n",
       "      <td>358528.095238</td>\n",
       "      <td>8532.333333</td>\n",
       "      <td>97944.000000</td>\n",
       "      <td>137878.666667</td>\n",
       "      <td>710576.333333</td>\n",
       "      <td>625.333333</td>\n",
       "      <td>26690.000000</td>\n",
       "      <td>1283.666667</td>\n",
       "      <td>84524.666667</td>\n",
       "      <td>112613.666667</td>\n",
       "    </tr>\n",
       "    <tr>\n",
       "      <th>4</th>\n",
       "      <td>128.333333</td>\n",
       "      <td>17085.0</td>\n",
       "      <td>267.000000</td>\n",
       "      <td>557.000000</td>\n",
       "      <td>169.000000</td>\n",
       "      <td>11485.000000</td>\n",
       "      <td>0.000000</td>\n",
       "      <td>0.0</td>\n",
       "      <td>241.0</td>\n",
       "      <td>7561.333333</td>\n",
       "      <td>...</td>\n",
       "      <td>9811.190476</td>\n",
       "      <td>657.000000</td>\n",
       "      <td>1895.000000</td>\n",
       "      <td>4073.000000</td>\n",
       "      <td>21355.333333</td>\n",
       "      <td>183.000000</td>\n",
       "      <td>171.333333</td>\n",
       "      <td>181.666667</td>\n",
       "      <td>1292.000000</td>\n",
       "      <td>2543.666667</td>\n",
       "    </tr>\n",
       "  </tbody>\n",
       "</table>\n",
       "<p>5 rows × 38 columns</p>\n",
       "</div>"
      ],
      "text/plain": [
       "   20181114_Crescent-Creek-May  \\\n",
       "0                  3607.666667   \n",
       "1                  3752.666667   \n",
       "2                  3262.333333   \n",
       "3                  1138.666667   \n",
       "4                   128.333333   \n",
       "\n",
       "   20181114_MSMS_Miller-Creek-20181025_Site8MW-HLB  20181114_SwanCreek-May  \\\n",
       "0                                          39193.0             2784.000000   \n",
       "1                                         189119.0             1781.000000   \n",
       "2                                         189706.0             1968.666667   \n",
       "3                                         137532.0              500.666667   \n",
       "4                                          17085.0              267.000000   \n",
       "\n",
       "   20181114_SR520-Creek_Mix6B  20181114_SR520-Cal-in-DI_1mL  \\\n",
       "0                 5432.333333                   2727.333333   \n",
       "1                 1836.000000                   1429.333333   \n",
       "2                 2783.333333                   1685.666667   \n",
       "3                 8821.666667                   2901.000000   \n",
       "4                  557.000000                    169.000000   \n",
       "\n",
       "   20181114_SR520-Cal-in-DI_400mL  20181114_CoulterCreek  \\\n",
       "0                    51588.333333            3204.000000   \n",
       "1                    15910.000000            2505.000000   \n",
       "2                    36139.000000            2379.000000   \n",
       "3                   873611.000000             568.666667   \n",
       "4                    11485.000000               0.000000   \n",
       "\n",
       "   20181114_MSMS_Miller-Creek-20181025_Site4-HLB  20181114_SR520-Creek_Mix6A  \\\n",
       "0                                        14036.0                      4308.0   \n",
       "1                                       153779.0                      2074.0   \n",
       "2                                       147749.0                      2768.0   \n",
       "3                                        40774.0                      5701.0   \n",
       "4                                            0.0                       241.0   \n",
       "\n",
       "   20181114_SR520-Cal-in-DI_160mL  ...  20181114_SR520-Cal-in-DI_1000mL  \\\n",
       "0                    24381.666667  ...                     27219.904762   \n",
       "1                     9577.333333  ...                     10014.333333   \n",
       "2                    19389.666667  ...                     20995.619048   \n",
       "3                   342946.333333  ...                    358528.095238   \n",
       "4                     7561.333333  ...                      9811.190476   \n",
       "\n",
       "   20181114_SR518-Cal_1000mL_dil-to-25mL  20181114_SR520-Creek_Mix4A  \\\n",
       "0                            4968.333333                11058.666667   \n",
       "1                            2471.666667                 4189.666667   \n",
       "2                            4827.333333                 5127.333333   \n",
       "3                            8532.333333                97944.000000   \n",
       "4                             657.000000                 1895.000000   \n",
       "\n",
       "   20181114_SR520-Cal-in-DI_1000mL_dil-to-60mL  \\\n",
       "0                                 12058.000000   \n",
       "1                                  2774.333333   \n",
       "2                                  5605.666667   \n",
       "3                                137878.666667   \n",
       "4                                  4073.000000   \n",
       "\n",
       "   20181114_SR520-Cal-in-DI_1000mL_dil-to-400mL  20181114_RuralCreek  \\\n",
       "0                                  57931.333333          2674.666667   \n",
       "1                                  16742.000000          1013.333333   \n",
       "2                                  39520.333333          1866.000000   \n",
       "3                                 710576.333333           625.333333   \n",
       "4                                  21355.333333           183.000000   \n",
       "\n",
       "   20181114_SR520-Cal-in-DI_10mL  20181114_SwanCreek-Dec  \\\n",
       "0                    5345.000000             5038.666667   \n",
       "1                    1294.333333             1676.666667   \n",
       "2                    1422.333333             1501.333333   \n",
       "3                   26690.000000             1283.666667   \n",
       "4                     171.333333              181.666667   \n",
       "\n",
       "   20181114_SR520-Cal-in-DI_25mL  20181114_SR520-Cal-in-DI_60mL  \n",
       "0                    9069.000000                   10873.666667  \n",
       "1                    2038.333333                    4296.000000  \n",
       "2                    3245.666667                    5119.333333  \n",
       "3                   84524.666667                  112613.666667  \n",
       "4                    1292.000000                    2543.666667  \n",
       "\n",
       "[5 rows x 38 columns]"
      ]
     },
     "execution_count": 5,
     "metadata": {},
     "output_type": "execute_result"
    }
   ],
   "source": [
    "df_m = pd.DataFrame(mean_list).T\n",
    "df_m.columns = list(set([i[:-2] for i in df.iloc[:,5:].columns]))\n",
    "df_m.head()"
   ]
  },
  {
   "cell_type": "code",
   "execution_count": 6,
   "metadata": {},
   "outputs": [],
   "source": [
    "mean_list = []\n",
    "for i in list(set([i[:-2] for i in source_col])):\n",
    "    mean_list.append(list(dfp[dfp.columns[dfp.columns.str.contains(i)]].mean(1)))"
   ]
  },
  {
   "cell_type": "code",
   "execution_count": 7,
   "metadata": {},
   "outputs": [],
   "source": [
    "df_mean = pd.DataFrame(mean_list).T\n",
    "df_mean.columns = list(set([i[:-2] for i in source_col]))\n",
    "d_clu = df_mean[df_mean.columns[df_mean.columns.str.contains('520')]].copy()"
   ]
  },
  {
   "cell_type": "code",
   "execution_count": 8,
   "metadata": {},
   "outputs": [
    {
     "name": "stderr",
     "output_type": "stream",
     "text": [
      "D:\\python\\Anaconda3\\lib\\site-packages\\ipykernel_launcher.py:2: RuntimeWarning:\n",
      "\n",
      "invalid value encountered in true_divide\n",
      "\n"
     ]
    }
   ],
   "source": [
    "c_data = d_clu.values\n",
    "c_norm = [((row-np.mean(row))/np.std(row)) for row in c_data]\n",
    "#Clean up dataframe\n",
    "c_norm = np.asarray(c_norm)\n",
    "d_norm = pd.DataFrame(c_norm)\n",
    "d_norm['index']=d_clu.index\n",
    "d_norm.set_index('index',inplace=True)\n",
    "d_norm.dropna(how='all',inplace=True)\n",
    "d_norm.columns = d_clu.columns"
   ]
  },
  {
   "cell_type": "code",
   "execution_count": 9,
   "metadata": {},
   "outputs": [
    {
     "name": "stdout",
     "output_type": "stream",
     "text": [
      "eps selected 0.9590720349692695\n"
     ]
    },
    {
     "data": {
      "text/plain": [
       "array([0.        , 0.        , 0.        , ..., 1.27108023, 1.27154856,\n",
       "       1.42381247])"
      ]
     },
     "execution_count": 9,
     "metadata": {},
     "output_type": "execute_result"
    },
    {
     "data": {
      "image/png": "[encoded data removed]",
      "text/plain": [
       "<Figure size 432x288 with 1 Axes>"
      ]
     },
     "metadata": {
      "needs_background": "light"
     },
     "output_type": "display_data"
    }
   ],
   "source": [
    "dm.eps_assess(d_norm, 12)"
   ]
  },
  {
   "cell_type": "code",
   "execution_count": 10,
   "metadata": {},
   "outputs": [
    {
     "data": {
      "text/plain": [
       "Index(['20181114_SR520-Cal-in-DI_1000mL_dil-to-160mL',\n",
       "       '20181114_SR520-Cal-in-DI_1000mL_dil-to-1mL',\n",
       "       '20181114_SR520-Cal-in-DI_1000mL_dil-to-60mL',\n",
       "       '20181114_SR520-Cal-in-DI_1000mL_dil-to-400mL',\n",
       "       '20181114_SR520-Cal-in-DI_1000mL_dil-to-10mL',\n",
       "       '20181114_SR520-Cal-in-DI_1000mL_dil-to-25mL'],\n",
       "      dtype='object')"
      ]
     },
     "execution_count": 10,
     "metadata": {},
     "output_type": "execute_result"
    }
   ],
   "source": [
    "d_norm.columns"
   ]
  },
  {
   "cell_type": "code",
   "execution_count": 11,
   "metadata": {},
   "outputs": [
    {
     "data": {
      "image/png": "[encoded data removed]",
      "text/plain": [
       "<Figure size 360x360 with 4 Axes>"
      ]
     },
     "metadata": {
      "needs_background": "light"
     },
     "output_type": "display_data"
    },
    {
     "data": {
      "image/png": "[encoded data removed]",
      "text/plain": [
       "<Figure size 360x360 with 4 Axes>"
      ]
     },
     "metadata": {
      "needs_background": "light"
     },
     "output_type": "display_data"
    },
    {
     "data": {
      "image/png": "[encoded data removed]",
      "text/plain": [
       "<Figure size 360x360 with 4 Axes>"
      ]
     },
     "metadata": {
      "needs_background": "light"
     },
     "output_type": "display_data"
    },
    {
     "data": {
      "image/png": "[encoded data removed]",
      "text/plain": [
       "<Figure size 360x360 with 4 Axes>"
      ]
     },
     "metadata": {
      "needs_background": "light"
     },
     "output_type": "display_data"
    },
    {
     "data": {
      "image/png": "[encoded data removed]",
      "text/plain": [
       "<Figure size 360x360 with 4 Axes>"
      ]
     },
     "metadata": {
      "needs_background": "light"
     },
     "output_type": "display_data"
    },
    {
     "data": {
      "image/png": "[encoded data removed]",
      "text/plain": [
       "<Figure size 360x360 with 4 Axes>"
      ]
     },
     "metadata": {
      "needs_background": "light"
     },
     "output_type": "display_data"
    },
    {
     "data": {
      "image/png": "[encoded data removed]",
      "text/plain": [
       "<Figure size 360x360 with 4 Axes>"
      ]
     },
     "metadata": {
      "needs_background": "light"
     },
     "output_type": "display_data"
    },
    {
     "data": {
      "image/png": "[encoded data removed]",
      "text/plain": [
       "<Figure size 360x360 with 4 Axes>"
      ]
     },
     "metadata": {
      "needs_background": "light"
     },
     "output_type": "display_data"
    },
    {
     "data": {
      "image/png": "[encoded data removed]",
      "text/plain": [
       "<Figure size 360x360 with 4 Axes>"
      ]
     },
     "metadata": {
      "needs_background": "light"
     },
     "output_type": "display_data"
    }
   ],
   "source": [
    "dbscan = cluster.DBSCAN(eps=0.2, min_samples=12).fit(d_norm)\n",
    "labels = dbscan.labels_\n",
    "unique_labels = set(dbscan.labels_)\n",
    "\n",
    "for i,k in enumerate(unique_labels):\n",
    "    indexlist = list(np.argwhere(labels==k).reshape(1,-1)[0])\n",
    "    sns.clustermap(d_norm.iloc[indexlist].values,cmap='Reds',col_cluster=False,yticklabels=False,xticklabels=False,figsize=(5,5))\n",
    "    plt.title(' label='+ str(k))\n",
    "    plt.show()\n",
    "    \n",
    "d_init = d_clu.copy()\n",
    "d_label = d_clu.loc[d_norm.index] #Use the index to match back to the original datasheet\n",
    "d_label.insert(len(d_clu.columns),\"label\", dbscan.labels_.tolist())"
   ]
  },
  {
   "cell_type": "code",
   "execution_count": 12,
   "metadata": {},
   "outputs": [],
   "source": [
    "d_source = df.loc[d_label[d_label['label'] == 0].index].copy()\n",
    "d_bg = df.loc[d_label[d_label['label'] != 0].index].copy()"
   ]
  },
  {
   "cell_type": "code",
   "execution_count": 13,
   "metadata": {},
   "outputs": [
    {
     "data": {
      "text/plain": [
       "<matplotlib.collections.PathCollection at 0x1808c4905c8>"
      ]
     },
     "execution_count": 13,
     "metadata": {},
     "output_type": "execute_result"
    },
    {
     "data": {
      "image/png": "[encoded data removed]",
      "text/plain": [
       "<Figure size 432x288 with 1 Axes>"
      ]
     },
     "metadata": {
      "needs_background": "light"
     },
     "output_type": "display_data"
    }
   ],
   "source": [
    "plt.scatter(d_source['Average RT (min)'], d_source['Average m/z'],s=3)\n",
    "#plt.scatter(d_bg['Average RT (min)'], d_bg['Average m/z'],s=3,alpha=0.5)"
   ]
  },
  {
   "cell_type": "code",
   "execution_count": 83,
   "metadata": {},
   "outputs": [
    {
     "data": {
      "text/plain": [
       "Index(['20181114_Crescent-Creek-May',\n",
       "       '20181114_MSMS_Miller-Creek-20181025_Site8MW-HLB',\n",
       "       '20181114_SwanCreek-May', '20181114_SR520-Creek_Mix6B',\n",
       "       '20181114_CoulterCreek',\n",
       "       '20181114_MSMS_Miller-Creek-20181025_Site4-HLB',\n",
       "       '20181114_SR520-Creek_Mix6A', '20181114_SR520-Creek_Mix5B',\n",
       "       '20181114_SR520-Creek_Mix1', '20181114_SR520-Creek_Mix2',\n",
       "       '20181114_MSMS_Miller-Creek-20181025_Site5down-HLB',\n",
       "       '20181114_SR520-Creek_Mix5A', '20181114_SR520-Creek_Mix3',\n",
       "       '20181114_SR520-Creek_Mix4B', '20181114_Crescent-Creek-Jan',\n",
       "       '20181114_SR520-Creek_Mix4A', '20181114_RuralCreek',\n",
       "       '20181114_SwanCreek-Dec'],\n",
       "      dtype='object')"
      ]
     },
     "execution_count": 83,
     "metadata": {},
     "output_type": "execute_result"
    }
   ],
   "source": [
    "df_m.columns[df_m.columns.str.contains('Creek')]"
   ]
  },
  {
   "cell_type": "code",
   "execution_count": 104,
   "metadata": {},
   "outputs": [
    {
     "name": "stdout",
     "output_type": "stream",
     "text": [
      "simple source prediction score:  0.24319526627218935\n",
      "dot product score: 0.9876634635848016\n",
      "Jaccard score(raw): 0.09995390267530854\n",
      "Jaccard score(binary): 0.6693598508390305\n",
      "raw data entropy inf\n",
      "log data entropy inf\n",
      "[0.24319526627218935, 0.9876634635848016, 0.09995390267530854, 0.6693598508390305, inf, inf]\n"
     ]
    }
   ],
   "source": [
    "#select comparison sample\n",
    "source_col = '20181114_SR520-Cal-in-DI_400mL'\n",
    "sample_col ='20181114_RuralCreek'\n",
    "\n",
    "d_index = df_m.index[df_m[sample_col] >= 2000] #Threshold?\n",
    "source_index = d_source.index\n",
    "simp_score = len([i for i in source_index if i in d_index])/len(source_index)\n",
    "print('simple source prediction score: ', simp_score)\n",
    "\n",
    "#MSDIAL algorithm, if 2d only consider mz/rt, 3d (plus intensity) need to alter their equations\n",
    "#Maybe not accurate\n",
    "union_index = list(set(source_index).union(set(d_index)))\n",
    "intersec_index = [i for i in source_index if i in d_index]\n",
    "\n",
    "sl = df_m[source_col]\n",
    "samplel = df_m[sample_col]\n",
    "union_b = np.asarray(df_m.iloc[union_index,0])\n",
    "intersec_b = np.asarray(df_m.iloc[intersec_index,0])\n",
    "union_s = np.asarray([sl[i] for i in union_index])\n",
    "intersec_s = np.asarray([sl[i] for i in intersec_index])\n",
    "#Normalize?\n",
    "dot_score = ((np.dot(union_b,union_s)\n",
    " /(np.linalg.norm(union_b)\n",
    "   *np.linalg.norm(union_s)))\n",
    "/(np.dot(intersec_b,intersec_s)\n",
    "  /(np.linalg.norm(intersec_b)\n",
    "    *np.linalg.norm(intersec_s))))\n",
    "print('dot product score:', dot_score)\n",
    "\n",
    "#Jaccard score can only be used on label\n",
    "#log transformed situation\n",
    "a = list(map(lambda x: 1 if x == 0 else x, sl))\n",
    "logsl = [int(round((np.log(i)))) for i in a]\n",
    "b = list(map(lambda x: 1 if x == 0 else x, samplel))\n",
    "logsamplel = [int(round((np.log(i)))) for i in b]\n",
    "j_score_raw = jaccard_score(logsl,logsamplel,average='weighted')\n",
    "print('Jaccard score(raw):', j_score_raw) #https://scikit-learn.org/stable/modules/generated/sklearn.metrics.jaccard_score.html\n",
    "\n",
    "#Binary transformed situation\n",
    "binsl = list(map(lambda x: 1 if x > 0 else x, sl))\n",
    "binsamplel = list(map(lambda x: 1 if x > 0 else x, samplel))\n",
    "j_score_bin = jaccard_score(binsl,binsamplel,average='binary')\n",
    "print('Jaccard score(binary):',j_score_bin)\n",
    "\n",
    "#KL divergence\n",
    "from scipy.stats import entropy\n",
    "print('raw data entropy', entropy(sl, samplel))\n",
    "print('log data entropy', entropy(logsl, logsamplel))\n",
    "scores = [simp_score, dot_score, j_score_raw,\n",
    "          j_score_bin, entropy(sl, samplel),\n",
    "          entropy(logsl, logsamplel)]"
   ]
  },
  {
   "cell_type": "code",
   "execution_count": 116,
   "metadata": {},
   "outputs": [],
   "source": [
    "def similarity_score(source_col, sample_col,dataframe, threshold=2000):\n",
    "    df_m = dataframe.copy()\n",
    "    d_index = df_m.index[df_m[sample_col] >= threshold] #Threshold?\n",
    "    source_index = d_source.index\n",
    "    simp_score = len([i for i in source_index if i in d_index])/len(source_index)\n",
    "\n",
    "    union_index = list(set(source_index).union(set(d_index)))\n",
    "    intersec_index = [i for i in source_index if i in d_index]\n",
    "\n",
    "    sl = df_m[source_col]\n",
    "    samplel = df_m[sample_col]\n",
    "    union_b = np.asarray(df_m.iloc[union_index,0])\n",
    "    intersec_b = np.asarray(df_m.iloc[intersec_index,0])\n",
    "    union_s = np.asarray([sl[i] for i in union_index])\n",
    "    intersec_s = np.asarray([sl[i] for i in intersec_index])\n",
    "    #Normalize?\n",
    "    dot_score = ((np.dot(union_b,union_s)\n",
    "     /(np.linalg.norm(union_b)\n",
    "       *np.linalg.norm(union_s)))\n",
    "    /(np.dot(intersec_b,intersec_s)\n",
    "      /(np.linalg.norm(intersec_b)\n",
    "        *np.linalg.norm(intersec_s))))\n",
    "\n",
    "    #Jaccard score can only be used on label\n",
    "    #log transformed situation\n",
    "    a = list(map(lambda x: 1 if x == 0 else x, sl))\n",
    "    logsl = [int(round((np.log(i)))) for i in a]\n",
    "    b = list(map(lambda x: 1 if x == 0 else x, samplel))\n",
    "    logsamplel = [int(round((np.log(i)))) for i in b]\n",
    "    j_score_raw = jaccard_score(logsl,logsamplel,average='weighted')\n",
    "\n",
    "    #Binary transformed situation\n",
    "    binsl = list(map(lambda x: 1 if x > 0 else x, sl))\n",
    "    binsamplel = list(map(lambda x: 1 if x > 0 else x, samplel))\n",
    "    j_score_bin = jaccard_score(binsl,binsamplel,average='binary')\n",
    "\n",
    "    #KL divergence\n",
    "    from scipy.stats import entropy\n",
    "    scores = [simp_score, dot_score, j_score_raw,\n",
    "              j_score_bin, entropy(sl, samplel),\n",
    "              entropy(logsl, logsamplel)]\n",
    "    return scores"
   ]
  },
  {
   "cell_type": "code",
   "execution_count": 114,
   "metadata": {},
   "outputs": [],
   "source": [
    "score_list = []\n",
    "for i in df_m.columns[df_m.columns.str.contains('Creek')]:\n",
    "    score_list.append(similarity_score('20181114_SR520-Cal-in-DI_400mL', i, df_m))\n",
    "df_score = pd.DataFrame(score_list)\n",
    "df_score.columns = ['Simple score', 'dot product', 'jaccard_raw', 'jaccard_bin', 'entropy_raw', 'entropy_log']\n",
    "df_score.index = df_m.columns[df_m.columns.str.contains('Creek')]"
   ]
  },
  {
   "cell_type": "code",
   "execution_count": 159,
   "metadata": {},
   "outputs": [
    {
     "data": {
      "text/html": [
       "<div>\n",
       "<style scoped>\n",
       "    .dataframe tbody tr th:only-of-type {\n",
       "        vertical-align: middle;\n",
       "    }\n",
       "\n",
       "    .dataframe tbody tr th {\n",
       "        vertical-align: top;\n",
       "    }\n",
       "\n",
       "    .dataframe thead th {\n",
       "        text-align: right;\n",
       "    }\n",
       "</style>\n",
       "<table border=\"1\" class=\"dataframe\">\n",
       "  <thead>\n",
       "    <tr style=\"text-align: right;\">\n",
       "      <th></th>\n",
       "      <th>Simple score</th>\n",
       "      <th>dot product</th>\n",
       "      <th>jaccard_raw</th>\n",
       "      <th>jaccard_bin</th>\n",
       "      <th>entropy_raw</th>\n",
       "      <th>entropy_log</th>\n",
       "    </tr>\n",
       "  </thead>\n",
       "  <tbody>\n",
       "    <tr>\n",
       "      <th>20181114_Crescent-Creek-May</th>\n",
       "      <td>0.351775</td>\n",
       "      <td>0.989801</td>\n",
       "      <td>0.108476</td>\n",
       "      <td>0.641371</td>\n",
       "      <td>inf</td>\n",
       "      <td>inf</td>\n",
       "    </tr>\n",
       "    <tr>\n",
       "      <th>20181114_MSMS_Miller-Creek-20181025_Site8MW-HLB</th>\n",
       "      <td>0.773964</td>\n",
       "      <td>0.999143</td>\n",
       "      <td>0.082750</td>\n",
       "      <td>0.672175</td>\n",
       "      <td>inf</td>\n",
       "      <td>inf</td>\n",
       "    </tr>\n",
       "    <tr>\n",
       "      <th>20181114_SwanCreek-May</th>\n",
       "      <td>0.284615</td>\n",
       "      <td>0.990103</td>\n",
       "      <td>0.098841</td>\n",
       "      <td>0.664229</td>\n",
       "      <td>inf</td>\n",
       "      <td>inf</td>\n",
       "    </tr>\n",
       "    <tr>\n",
       "      <th>20181114_SR520-Creek_Mix6B</th>\n",
       "      <td>0.421006</td>\n",
       "      <td>0.997690</td>\n",
       "      <td>0.102731</td>\n",
       "      <td>0.693609</td>\n",
       "      <td>inf</td>\n",
       "      <td>inf</td>\n",
       "    </tr>\n",
       "    <tr>\n",
       "      <th>20181114_CoulterCreek</th>\n",
       "      <td>0.321893</td>\n",
       "      <td>0.987700</td>\n",
       "      <td>0.099641</td>\n",
       "      <td>0.651235</td>\n",
       "      <td>inf</td>\n",
       "      <td>inf</td>\n",
       "    </tr>\n",
       "    <tr>\n",
       "      <th>20181114_MSMS_Miller-Creek-20181025_Site4-HLB</th>\n",
       "      <td>0.574556</td>\n",
       "      <td>0.998413</td>\n",
       "      <td>0.094831</td>\n",
       "      <td>0.552951</td>\n",
       "      <td>inf</td>\n",
       "      <td>inf</td>\n",
       "    </tr>\n",
       "    <tr>\n",
       "      <th>20181114_SR520-Creek_Mix6A</th>\n",
       "      <td>0.405621</td>\n",
       "      <td>0.997631</td>\n",
       "      <td>0.118119</td>\n",
       "      <td>0.696862</td>\n",
       "      <td>inf</td>\n",
       "      <td>inf</td>\n",
       "    </tr>\n",
       "    <tr>\n",
       "      <th>20181114_SR520-Creek_Mix5B</th>\n",
       "      <td>0.567751</td>\n",
       "      <td>0.998865</td>\n",
       "      <td>0.124529</td>\n",
       "      <td>0.710892</td>\n",
       "      <td>inf</td>\n",
       "      <td>inf</td>\n",
       "    </tr>\n",
       "    <tr>\n",
       "      <th>20181114_SR520-Creek_Mix1</th>\n",
       "      <td>0.904734</td>\n",
       "      <td>0.999254</td>\n",
       "      <td>0.445358</td>\n",
       "      <td>0.900739</td>\n",
       "      <td>inf</td>\n",
       "      <td>inf</td>\n",
       "    </tr>\n",
       "    <tr>\n",
       "      <th>20181114_SR520-Creek_Mix2</th>\n",
       "      <td>0.876036</td>\n",
       "      <td>0.999310</td>\n",
       "      <td>0.305324</td>\n",
       "      <td>0.886826</td>\n",
       "      <td>inf</td>\n",
       "      <td>inf</td>\n",
       "    </tr>\n",
       "    <tr>\n",
       "      <th>20181114_MSMS_Miller-Creek-20181025_Site5down-HLB</th>\n",
       "      <td>0.794083</td>\n",
       "      <td>0.999017</td>\n",
       "      <td>0.086489</td>\n",
       "      <td>0.696440</td>\n",
       "      <td>inf</td>\n",
       "      <td>inf</td>\n",
       "    </tr>\n",
       "    <tr>\n",
       "      <th>20181114_SR520-Creek_Mix5A</th>\n",
       "      <td>0.496746</td>\n",
       "      <td>0.998908</td>\n",
       "      <td>0.116107</td>\n",
       "      <td>0.715399</td>\n",
       "      <td>inf</td>\n",
       "      <td>inf</td>\n",
       "    </tr>\n",
       "    <tr>\n",
       "      <th>20181114_SR520-Creek_Mix3</th>\n",
       "      <td>0.790828</td>\n",
       "      <td>0.999236</td>\n",
       "      <td>0.192617</td>\n",
       "      <td>0.849081</td>\n",
       "      <td>inf</td>\n",
       "      <td>inf</td>\n",
       "    </tr>\n",
       "    <tr>\n",
       "      <th>20181114_SR520-Creek_Mix4B</th>\n",
       "      <td>0.671006</td>\n",
       "      <td>0.999145</td>\n",
       "      <td>0.174701</td>\n",
       "      <td>0.744462</td>\n",
       "      <td>inf</td>\n",
       "      <td>inf</td>\n",
       "    </tr>\n",
       "    <tr>\n",
       "      <th>20181114_Crescent-Creek-Jan</th>\n",
       "      <td>0.338166</td>\n",
       "      <td>0.990959</td>\n",
       "      <td>0.105939</td>\n",
       "      <td>0.625768</td>\n",
       "      <td>inf</td>\n",
       "      <td>inf</td>\n",
       "    </tr>\n",
       "    <tr>\n",
       "      <th>20181114_SR520-Creek_Mix4A</th>\n",
       "      <td>0.690237</td>\n",
       "      <td>0.999245</td>\n",
       "      <td>0.149112</td>\n",
       "      <td>0.795010</td>\n",
       "      <td>inf</td>\n",
       "      <td>inf</td>\n",
       "    </tr>\n",
       "    <tr>\n",
       "      <th>20181114_RuralCreek</th>\n",
       "      <td>0.243195</td>\n",
       "      <td>0.987663</td>\n",
       "      <td>0.099954</td>\n",
       "      <td>0.669360</td>\n",
       "      <td>inf</td>\n",
       "      <td>inf</td>\n",
       "    </tr>\n",
       "    <tr>\n",
       "      <th>20181114_SwanCreek-Dec</th>\n",
       "      <td>0.332249</td>\n",
       "      <td>0.991398</td>\n",
       "      <td>0.097870</td>\n",
       "      <td>0.650834</td>\n",
       "      <td>inf</td>\n",
       "      <td>inf</td>\n",
       "    </tr>\n",
       "  </tbody>\n",
       "</table>\n",
       "</div>"
      ],
      "text/plain": [
       "                                                   Simple score  dot product  \\\n",
       "20181114_Crescent-Creek-May                            0.351775     0.989801   \n",
       "20181114_MSMS_Miller-Creek-20181025_Site8MW-HLB        0.773964     0.999143   \n",
       "20181114_SwanCreek-May                                 0.284615     0.990103   \n",
       "20181114_SR520-Creek_Mix6B                             0.421006     0.997690   \n",
       "20181114_CoulterCreek                                  0.321893     0.987700   \n",
       "20181114_MSMS_Miller-Creek-20181025_Site4-HLB          0.574556     0.998413   \n",
       "20181114_SR520-Creek_Mix6A                             0.405621     0.997631   \n",
       "20181114_SR520-Creek_Mix5B                             0.567751     0.998865   \n",
       "20181114_SR520-Creek_Mix1                              0.904734     0.999254   \n",
       "20181114_SR520-Creek_Mix2                              0.876036     0.999310   \n",
       "20181114_MSMS_Miller-Creek-20181025_Site5down-HLB      0.794083     0.999017   \n",
       "20181114_SR520-Creek_Mix5A                             0.496746     0.998908   \n",
       "20181114_SR520-Creek_Mix3                              0.790828     0.999236   \n",
       "20181114_SR520-Creek_Mix4B                             0.671006     0.999145   \n",
       "20181114_Crescent-Creek-Jan                            0.338166     0.990959   \n",
       "20181114_SR520-Creek_Mix4A                             0.690237     0.999245   \n",
       "20181114_RuralCreek                                    0.243195     0.987663   \n",
       "20181114_SwanCreek-Dec                                 0.332249     0.991398   \n",
       "\n",
       "                                                   jaccard_raw  jaccard_bin  \\\n",
       "20181114_Crescent-Creek-May                           0.108476     0.641371   \n",
       "20181114_MSMS_Miller-Creek-20181025_Site8MW-HLB       0.082750     0.672175   \n",
       "20181114_SwanCreek-May                                0.098841     0.664229   \n",
       "20181114_SR520-Creek_Mix6B                            0.102731     0.693609   \n",
       "20181114_CoulterCreek                                 0.099641     0.651235   \n",
       "20181114_MSMS_Miller-Creek-20181025_Site4-HLB         0.094831     0.552951   \n",
       "20181114_SR520-Creek_Mix6A                            0.118119     0.696862   \n",
       "20181114_SR520-Creek_Mix5B                            0.124529     0.710892   \n",
       "20181114_SR520-Creek_Mix1                             0.445358     0.900739   \n",
       "20181114_SR520-Creek_Mix2                             0.305324     0.886826   \n",
       "20181114_MSMS_Miller-Creek-20181025_Site5down-HLB     0.086489     0.696440   \n",
       "20181114_SR520-Creek_Mix5A                            0.116107     0.715399   \n",
       "20181114_SR520-Creek_Mix3                             0.192617     0.849081   \n",
       "20181114_SR520-Creek_Mix4B                            0.174701     0.744462   \n",
       "20181114_Crescent-Creek-Jan                           0.105939     0.625768   \n",
       "20181114_SR520-Creek_Mix4A                            0.149112     0.795010   \n",
       "20181114_RuralCreek                                   0.099954     0.669360   \n",
       "20181114_SwanCreek-Dec                                0.097870     0.650834   \n",
       "\n",
       "                                                   entropy_raw  entropy_log  \n",
       "20181114_Crescent-Creek-May                                inf          inf  \n",
       "20181114_MSMS_Miller-Creek-20181025_Site8MW-HLB            inf          inf  \n",
       "20181114_SwanCreek-May                                     inf          inf  \n",
       "20181114_SR520-Creek_Mix6B                                 inf          inf  \n",
       "20181114_CoulterCreek                                      inf          inf  \n",
       "20181114_MSMS_Miller-Creek-20181025_Site4-HLB              inf          inf  \n",
       "20181114_SR520-Creek_Mix6A                                 inf          inf  \n",
       "20181114_SR520-Creek_Mix5B                                 inf          inf  \n",
       "20181114_SR520-Creek_Mix1                                  inf          inf  \n",
       "20181114_SR520-Creek_Mix2                                  inf          inf  \n",
       "20181114_MSMS_Miller-Creek-20181025_Site5down-HLB          inf          inf  \n",
       "20181114_SR520-Creek_Mix5A                                 inf          inf  \n",
       "20181114_SR520-Creek_Mix3                                  inf          inf  \n",
       "20181114_SR520-Creek_Mix4B                                 inf          inf  \n",
       "20181114_Crescent-Creek-Jan                                inf          inf  \n",
       "20181114_SR520-Creek_Mix4A                                 inf          inf  \n",
       "20181114_RuralCreek                                        inf          inf  \n",
       "20181114_SwanCreek-Dec                                     inf          inf  "
      ]
     },
     "execution_count": 159,
     "metadata": {},
     "output_type": "execute_result"
    }
   ],
   "source": [
    "df_score"
   ]
  },
  {
   "cell_type": "code",
   "execution_count": 151,
   "metadata": {},
   "outputs": [],
   "source": [
    "# Alignment assessment?\n",
    "#1. find closest neighbour for each mz/RT\n",
    "#2. calc entropy?\n",
    "\n",
    "def dist_euclidean(elem1, elem2):\n",
    "    t_sum=0\n",
    "    for i in range(len(elem1)):\n",
    "        for j in range(len(elem1[0])):\n",
    "            t_sum+= np.square(elem1[i][j]-elem2[i][j])\n",
    "    return np.sqrt(t_sum)\n",
    "\n",
    "from scipy.spatial import distance\n",
    "def dist_cosine(elem1, elem2):\n",
    "    temp1=[]\n",
    "    temp2=[]\n",
    "    for i in range(len(elem1)):\n",
    "        temp1.extend(elem1[i])\n",
    "        temp2.extend(elem2[i])\n",
    "    return distance.cosine(temp1, temp2)\n",
    "\n",
    "from scipy.stats import entropy\n",
    "def dist_KL_row_avg(elem1, elem2):\n",
    "    Y=[]\n",
    "    for i in range(len(elem1)):\n",
    "        Y.append(entropy(elem1[i], elem2[i]))\n",
    "    return np.average(Y)"
   ]
  },
  {
   "cell_type": "code",
   "execution_count": 156,
   "metadata": {},
   "outputs": [
    {
     "name": "stdout",
     "output_type": "stream",
     "text": [
      "euclidean dist: 0.08145980603955932\n",
      "cos similarity: 2.0101698083863084e-12\n",
      "KL divergence avg: 1.021268757516956e-12\n"
     ]
    }
   ],
   "source": [
    "a = np.array([[200.9,300.5],[0,1]])\n",
    "b = np.array([[200.8553,300.4319],[0,1]])\n",
    "# The smaller the better\n",
    "print('euclidean dist:', dist_euclidean(a,b))\n",
    "print('cos similarity:', dist_cosine(a, b))\n",
    "print('KL divergence avg:', dist_KL_row_avg(a, b))"
   ]
  },
  {
   "cell_type": "code",
   "execution_count": null,
   "metadata": {},
   "outputs": [],
   "source": [
    "#Next: using dummy data to assess the alignment score system"
   ]
  }
 ],
 "metadata": {
  "kernelspec": {
   "display_name": "Python 3",
   "language": "python",
   "name": "python3"
  },
  "language_info": {
   "codemirror_mode": {
    "name": "ipython",
    "version": 3
   },
   "file_extension": ".py",
   "mimetype": "text/x-python",
   "name": "python",
   "nbconvert_exporter": "python",
   "pygments_lexer": "ipython3",
   "version": "3.7.4"
  }
 },
 "nbformat": 4,
 "nbformat_minor": 4
}

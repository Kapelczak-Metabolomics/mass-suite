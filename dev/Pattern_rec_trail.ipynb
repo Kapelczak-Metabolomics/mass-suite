{
 "cells": [
  {
   "cell_type": "code",
   "execution_count": 366,
   "metadata": {},
   "outputs": [],
   "source": [
    "import pandas as pd\n",
    "import numpy as np\n",
    "from itertools import groupby\n",
    "from tqdm import tqdm\n",
    "import matplotlib.pyplot as plt\n",
    "import seaborn as sns\n",
    "from sklearn import preprocessing\n",
    "from sklearn import cluster,mixture\n",
    "from sklearn.ensemble import BaggingRegressor\n",
    "from sklearn.ensemble import RandomForestRegressor\n",
    "from sklearn.ensemble import ExtraTreesRegressor\n",
    "from sklearn.cluster import DBSCAN\n",
    "from sklearn.manifold import TSNE\n",
    "from sklearn.svm import SVC\n",
    "from sklearn.neighbors import KNeighborsClassifier\n",
    "from sklearn.tree import DecisionTreeClassifier\n",
    "from sklearn.linear_model import RidgeCV, LassoCV\n",
    "import scipy\n",
    "import math\n",
    "from sklearn.model_selection import train_test_split\n",
    "\n",
    "from sklearn import metrics\n",
    "from sklearn import linear_model\n",
    "\n",
    "import sys\n",
    "# import mss\n",
    "sys.path.append('../')\n",
    "from mss import visreader as mvis\n",
    "from mss import mssmain as msm\n",
    "from mss import align\n",
    "from mss import dm\n",
    "from sklearn.metrics import jaccard_score\n",
    "from scipy.stats import entropy\n",
    "from scipy import spatial\n",
    "from scipy.spatial import distance"
   ]
  },
  {
   "cell_type": "code",
   "execution_count": 161,
   "metadata": {},
   "outputs": [],
   "source": [
    "df = pd.read_csv('../example_data/clustering/testdata_1114_patternrec.csv')"
   ]
  },
  {
   "cell_type": "code",
   "execution_count": 162,
   "metadata": {},
   "outputs": [],
   "source": [
    "df = df[(df['Average RT (min)'] >= 2) & (df['Average RT (min)'] <=18)].copy()\n",
    "df.reset_index(inplace=True,drop=True)"
   ]
  },
  {
   "cell_type": "code",
   "execution_count": 164,
   "metadata": {},
   "outputs": [
    {
     "data": {
      "text/plain": [
       "(5134, 36)"
      ]
     },
     "execution_count": 164,
     "metadata": {},
     "output_type": "execute_result"
    }
   ],
   "source": [
    "source_col = df.columns[df.columns.str.contains('dil-to')]\n",
    "dfp = df[source_col].copy()\n",
    "dfp.shape"
   ]
  },
  {
   "cell_type": "code",
   "execution_count": 165,
   "metadata": {},
   "outputs": [],
   "source": [
    "mean_list = []\n",
    "for i in list(set([i[:-2] for i in df.iloc[:,5:].columns])):\n",
    "    mean_list.append(list(df.iloc[:,5:][df.iloc[:,5:].columns[df.iloc[:,5:].columns.str.contains(i)]].mean(1)))"
   ]
  },
  {
   "cell_type": "code",
   "execution_count": 166,
   "metadata": {},
   "outputs": [
    {
     "data": {
      "text/html": [
       "<div>\n",
       "<style scoped>\n",
       "    .dataframe tbody tr th:only-of-type {\n",
       "        vertical-align: middle;\n",
       "    }\n",
       "\n",
       "    .dataframe tbody tr th {\n",
       "        vertical-align: top;\n",
       "    }\n",
       "\n",
       "    .dataframe thead th {\n",
       "        text-align: right;\n",
       "    }\n",
       "</style>\n",
       "<table border=\"1\" class=\"dataframe\">\n",
       "  <thead>\n",
       "    <tr style=\"text-align: right;\">\n",
       "      <th></th>\n",
       "      <th>20181114_RuralCreek</th>\n",
       "      <th>20181114_SR520-Cal-in-DI_1000mL_dil-to-1mL</th>\n",
       "      <th>20181114_SR518-Cal_1000mL_dil-to-10mL</th>\n",
       "      <th>20181114_SwanCreek-May</th>\n",
       "      <th>20181114_MSMS_Miller-Creek-20181025_Site5down-HLB</th>\n",
       "      <th>20181114_SR520-Cal-in-DI_1mL</th>\n",
       "      <th>20181114_SR518-Cal_1000mL_dil-to-160mL</th>\n",
       "      <th>20181114_SR520-Creek_Mix6A</th>\n",
       "      <th>20181114_SR520-Creek_Mix4A</th>\n",
       "      <th>20181114_SR520-Cal-in-DI_25mL</th>\n",
       "      <th>...</th>\n",
       "      <th>20181114_Crescent-Creek-Jan</th>\n",
       "      <th>20181114_SR518-Cal_1000mL_dil-to-60mL</th>\n",
       "      <th>20181114_SR518-Cal_1000mL_dil-to-25mL</th>\n",
       "      <th>20181114_SR518-Cal_1000mL</th>\n",
       "      <th>20181114_MSMS_Miller-Creek-20181025_Site4-HLB</th>\n",
       "      <th>20181114_SR520-Cal-in-DI_1000mL_dil-to-400mL</th>\n",
       "      <th>20181114_SR520-Creek_Mix5B</th>\n",
       "      <th>20181114_SR520-Cal-in-DI_1000mL</th>\n",
       "      <th>20181114_SR520-Creek_Mix3</th>\n",
       "      <th>20181114_SR520-Cal-in-DI_400mL</th>\n",
       "    </tr>\n",
       "  </thead>\n",
       "  <tbody>\n",
       "    <tr>\n",
       "      <th>0</th>\n",
       "      <td>2674.666667</td>\n",
       "      <td>346.666667</td>\n",
       "      <td>1652.000000</td>\n",
       "      <td>2784.000000</td>\n",
       "      <td>74715.0</td>\n",
       "      <td>2727.333333</td>\n",
       "      <td>24321.333333</td>\n",
       "      <td>4308.0</td>\n",
       "      <td>11058.666667</td>\n",
       "      <td>9069.000000</td>\n",
       "      <td>...</td>\n",
       "      <td>3622.666667</td>\n",
       "      <td>11792.333333</td>\n",
       "      <td>4968.333333</td>\n",
       "      <td>24611.380952</td>\n",
       "      <td>14036.0</td>\n",
       "      <td>57931.333333</td>\n",
       "      <td>11472.333333</td>\n",
       "      <td>27219.904762</td>\n",
       "      <td>16504.333333</td>\n",
       "      <td>51588.333333</td>\n",
       "    </tr>\n",
       "    <tr>\n",
       "      <th>1</th>\n",
       "      <td>1013.333333</td>\n",
       "      <td>1029.666667</td>\n",
       "      <td>1098.666667</td>\n",
       "      <td>1781.000000</td>\n",
       "      <td>146454.0</td>\n",
       "      <td>1429.333333</td>\n",
       "      <td>5090.666667</td>\n",
       "      <td>2074.0</td>\n",
       "      <td>4189.666667</td>\n",
       "      <td>2038.333333</td>\n",
       "      <td>...</td>\n",
       "      <td>2011.333333</td>\n",
       "      <td>3319.000000</td>\n",
       "      <td>2471.666667</td>\n",
       "      <td>17034.761905</td>\n",
       "      <td>153779.0</td>\n",
       "      <td>16742.000000</td>\n",
       "      <td>2608.666667</td>\n",
       "      <td>10014.333333</td>\n",
       "      <td>6482.666667</td>\n",
       "      <td>15910.000000</td>\n",
       "    </tr>\n",
       "    <tr>\n",
       "      <th>2</th>\n",
       "      <td>1866.000000</td>\n",
       "      <td>1970.666667</td>\n",
       "      <td>2764.666667</td>\n",
       "      <td>1968.666667</td>\n",
       "      <td>175420.0</td>\n",
       "      <td>1685.666667</td>\n",
       "      <td>29622.333333</td>\n",
       "      <td>2768.0</td>\n",
       "      <td>5127.333333</td>\n",
       "      <td>3245.666667</td>\n",
       "      <td>...</td>\n",
       "      <td>3860.666667</td>\n",
       "      <td>11075.000000</td>\n",
       "      <td>4827.333333</td>\n",
       "      <td>35953.666667</td>\n",
       "      <td>147749.0</td>\n",
       "      <td>39520.333333</td>\n",
       "      <td>11360.333333</td>\n",
       "      <td>20995.619048</td>\n",
       "      <td>6701.000000</td>\n",
       "      <td>36139.000000</td>\n",
       "    </tr>\n",
       "    <tr>\n",
       "      <th>3</th>\n",
       "      <td>625.333333</td>\n",
       "      <td>2679.000000</td>\n",
       "      <td>3221.333333</td>\n",
       "      <td>500.666667</td>\n",
       "      <td>87411.0</td>\n",
       "      <td>2901.000000</td>\n",
       "      <td>39947.000000</td>\n",
       "      <td>5701.0</td>\n",
       "      <td>97944.000000</td>\n",
       "      <td>84524.666667</td>\n",
       "      <td>...</td>\n",
       "      <td>581.333333</td>\n",
       "      <td>18243.000000</td>\n",
       "      <td>8532.333333</td>\n",
       "      <td>49141.809524</td>\n",
       "      <td>40774.0</td>\n",
       "      <td>710576.333333</td>\n",
       "      <td>34094.666667</td>\n",
       "      <td>358528.095238</td>\n",
       "      <td>192073.333333</td>\n",
       "      <td>873611.000000</td>\n",
       "    </tr>\n",
       "    <tr>\n",
       "      <th>4</th>\n",
       "      <td>183.000000</td>\n",
       "      <td>0.000000</td>\n",
       "      <td>191.666667</td>\n",
       "      <td>267.000000</td>\n",
       "      <td>34312.0</td>\n",
       "      <td>169.000000</td>\n",
       "      <td>7213.333333</td>\n",
       "      <td>241.0</td>\n",
       "      <td>1895.000000</td>\n",
       "      <td>1292.000000</td>\n",
       "      <td>...</td>\n",
       "      <td>0.000000</td>\n",
       "      <td>3149.000000</td>\n",
       "      <td>657.000000</td>\n",
       "      <td>6482.238095</td>\n",
       "      <td>0.0</td>\n",
       "      <td>21355.333333</td>\n",
       "      <td>2153.000000</td>\n",
       "      <td>9811.190476</td>\n",
       "      <td>4040.333333</td>\n",
       "      <td>11485.000000</td>\n",
       "    </tr>\n",
       "  </tbody>\n",
       "</table>\n",
       "<p>5 rows × 38 columns</p>\n",
       "</div>"
      ],
      "text/plain": [
       "   20181114_RuralCreek  20181114_SR520-Cal-in-DI_1000mL_dil-to-1mL  \\\n",
       "0          2674.666667                                  346.666667   \n",
       "1          1013.333333                                 1029.666667   \n",
       "2          1866.000000                                 1970.666667   \n",
       "3           625.333333                                 2679.000000   \n",
       "4           183.000000                                    0.000000   \n",
       "\n",
       "   20181114_SR518-Cal_1000mL_dil-to-10mL  20181114_SwanCreek-May  \\\n",
       "0                            1652.000000             2784.000000   \n",
       "1                            1098.666667             1781.000000   \n",
       "2                            2764.666667             1968.666667   \n",
       "3                            3221.333333              500.666667   \n",
       "4                             191.666667              267.000000   \n",
       "\n",
       "   20181114_MSMS_Miller-Creek-20181025_Site5down-HLB  \\\n",
       "0                                            74715.0   \n",
       "1                                           146454.0   \n",
       "2                                           175420.0   \n",
       "3                                            87411.0   \n",
       "4                                            34312.0   \n",
       "\n",
       "   20181114_SR520-Cal-in-DI_1mL  20181114_SR518-Cal_1000mL_dil-to-160mL  \\\n",
       "0                   2727.333333                            24321.333333   \n",
       "1                   1429.333333                             5090.666667   \n",
       "2                   1685.666667                            29622.333333   \n",
       "3                   2901.000000                            39947.000000   \n",
       "4                    169.000000                             7213.333333   \n",
       "\n",
       "   20181114_SR520-Creek_Mix6A  20181114_SR520-Creek_Mix4A  \\\n",
       "0                      4308.0                11058.666667   \n",
       "1                      2074.0                 4189.666667   \n",
       "2                      2768.0                 5127.333333   \n",
       "3                      5701.0                97944.000000   \n",
       "4                       241.0                 1895.000000   \n",
       "\n",
       "   20181114_SR520-Cal-in-DI_25mL  ...  20181114_Crescent-Creek-Jan  \\\n",
       "0                    9069.000000  ...                  3622.666667   \n",
       "1                    2038.333333  ...                  2011.333333   \n",
       "2                    3245.666667  ...                  3860.666667   \n",
       "3                   84524.666667  ...                   581.333333   \n",
       "4                    1292.000000  ...                     0.000000   \n",
       "\n",
       "   20181114_SR518-Cal_1000mL_dil-to-60mL  \\\n",
       "0                           11792.333333   \n",
       "1                            3319.000000   \n",
       "2                           11075.000000   \n",
       "3                           18243.000000   \n",
       "4                            3149.000000   \n",
       "\n",
       "   20181114_SR518-Cal_1000mL_dil-to-25mL  20181114_SR518-Cal_1000mL  \\\n",
       "0                            4968.333333               24611.380952   \n",
       "1                            2471.666667               17034.761905   \n",
       "2                            4827.333333               35953.666667   \n",
       "3                            8532.333333               49141.809524   \n",
       "4                             657.000000                6482.238095   \n",
       "\n",
       "   20181114_MSMS_Miller-Creek-20181025_Site4-HLB  \\\n",
       "0                                        14036.0   \n",
       "1                                       153779.0   \n",
       "2                                       147749.0   \n",
       "3                                        40774.0   \n",
       "4                                            0.0   \n",
       "\n",
       "   20181114_SR520-Cal-in-DI_1000mL_dil-to-400mL  20181114_SR520-Creek_Mix5B  \\\n",
       "0                                  57931.333333                11472.333333   \n",
       "1                                  16742.000000                 2608.666667   \n",
       "2                                  39520.333333                11360.333333   \n",
       "3                                 710576.333333                34094.666667   \n",
       "4                                  21355.333333                 2153.000000   \n",
       "\n",
       "   20181114_SR520-Cal-in-DI_1000mL  20181114_SR520-Creek_Mix3  \\\n",
       "0                     27219.904762               16504.333333   \n",
       "1                     10014.333333                6482.666667   \n",
       "2                     20995.619048                6701.000000   \n",
       "3                    358528.095238              192073.333333   \n",
       "4                      9811.190476                4040.333333   \n",
       "\n",
       "   20181114_SR520-Cal-in-DI_400mL  \n",
       "0                    51588.333333  \n",
       "1                    15910.000000  \n",
       "2                    36139.000000  \n",
       "3                   873611.000000  \n",
       "4                    11485.000000  \n",
       "\n",
       "[5 rows x 38 columns]"
      ]
     },
     "execution_count": 166,
     "metadata": {},
     "output_type": "execute_result"
    }
   ],
   "source": [
    "df_m = pd.DataFrame(mean_list).T\n",
    "df_m.columns = list(set([i[:-2] for i in df.iloc[:,5:].columns]))\n",
    "df_m.head()"
   ]
  },
  {
   "cell_type": "code",
   "execution_count": 167,
   "metadata": {},
   "outputs": [],
   "source": [
    "mean_list = []\n",
    "for i in list(set([i[:-2] for i in source_col])):\n",
    "    mean_list.append(list(dfp[dfp.columns[dfp.columns.str.contains(i)]].mean(1)))"
   ]
  },
  {
   "cell_type": "code",
   "execution_count": 168,
   "metadata": {},
   "outputs": [],
   "source": [
    "df_mean = pd.DataFrame(mean_list).T\n",
    "df_mean.columns = list(set([i[:-2] for i in source_col]))\n",
    "d_clu = df_mean[df_mean.columns[df_mean.columns.str.contains('520')]].copy()"
   ]
  },
  {
   "cell_type": "code",
   "execution_count": 169,
   "metadata": {},
   "outputs": [
    {
     "name": "stderr",
     "output_type": "stream",
     "text": [
      "D:\\python\\Anaconda3\\lib\\site-packages\\ipykernel_launcher.py:2: RuntimeWarning:\n",
      "\n",
      "invalid value encountered in true_divide\n",
      "\n"
     ]
    }
   ],
   "source": [
    "c_data = d_clu.values\n",
    "c_norm = [((row-np.mean(row))/np.std(row)) for row in c_data]\n",
    "#Clean up dataframe\n",
    "c_norm = np.asarray(c_norm)\n",
    "d_norm = pd.DataFrame(c_norm)\n",
    "d_norm['index']=d_clu.index\n",
    "d_norm.set_index('index',inplace=True)\n",
    "d_norm.dropna(how='all',inplace=True)\n",
    "d_norm.columns = d_clu.columns"
   ]
  },
  {
   "cell_type": "code",
   "execution_count": 149,
   "metadata": {},
   "outputs": [
    {
     "name": "stdout",
     "output_type": "stream",
     "text": [
      "eps selected 2.311585892094129\n"
     ]
    },
    {
     "data": {
      "text/plain": [
       "array([0.        , 0.        , 0.        , ..., 2.92846687, 2.95941942,\n",
       "       3.03145393])"
      ]
     },
     "execution_count": 149,
     "metadata": {},
     "output_type": "execute_result"
    },
    {
     "data": {
      "image/png": "[encoded data removed]",
      "text/plain": [
       "<Figure size 432x288 with 1 Axes>"
      ]
     },
     "metadata": {
      "needs_background": "light"
     },
     "output_type": "display_data"
    }
   ],
   "source": [
    "dm.eps_assess(d_norm, 26)"
   ]
  },
  {
   "cell_type": "code",
   "execution_count": 150,
   "metadata": {},
   "outputs": [
    {
     "data": {
      "text/plain": [
       "Index(['SR520_Cal_in_DI_1000mL_dil_to_10mL', 'SR520_Cal_in_DI_160mL',\n",
       "       'SR520_Cal_in_DI_1000mL', 'SR520_Cal_in_DI_10mL',\n",
       "       'SR520_Cal_in_DI_1000mL_dil_to_160mL', 'SR520_Cal_in_DI_60mL',\n",
       "       'SR520_Cal_in_DI_1000mL_dil_to_400mL',\n",
       "       'SR520_Cal_in_DI_1000mL_dil_to_25mL',\n",
       "       'SR520_Cal_in_DI_1000mL_dil_to_60mL',\n",
       "       'SR520_Cal_in_DI_1000mL_dil_to_1mL', 'SR520_Cal_in_DI_25mL',\n",
       "       'SR520_Cal_in_DI_1mL', 'SR520_Cal_in_DI_400mL'],\n",
       "      dtype='object')"
      ]
     },
     "execution_count": 150,
     "metadata": {},
     "output_type": "execute_result"
    }
   ],
   "source": [
    "d_norm.columns"
   ]
  },
  {
   "cell_type": "code",
   "execution_count": 170,
   "metadata": {},
   "outputs": [
    {
     "data": {
      "image/png": "[encoded data removed]",
      "text/plain": [
       "<Figure size 360x360 with 4 Axes>"
      ]
     },
     "metadata": {
      "needs_background": "light"
     },
     "output_type": "display_data"
    },
    {
     "data": {
      "image/png": "[encoded data removed]",
      "text/plain": [
       "<Figure size 360x360 with 4 Axes>"
      ]
     },
     "metadata": {
      "needs_background": "light"
     },
     "output_type": "display_data"
    },
    {
     "data": {
      "image/png": "[encoded data removed]",
      "text/plain": [
       "<Figure size 360x360 with 4 Axes>"
      ]
     },
     "metadata": {
      "needs_background": "light"
     },
     "output_type": "display_data"
    },
    {
     "data": {
      "image/png": "[encoded data removed]",
      "text/plain": [
       "<Figure size 360x360 with 4 Axes>"
      ]
     },
     "metadata": {
      "needs_background": "light"
     },
     "output_type": "display_data"
    },
    {
     "data": {
      "image/png": "[encoded data removed]",
      "text/plain": [
       "<Figure size 360x360 with 4 Axes>"
      ]
     },
     "metadata": {
      "needs_background": "light"
     },
     "output_type": "display_data"
    },
    {
     "data": {
      "image/png": "[encoded data removed]",
      "text/plain": [
       "<Figure size 360x360 with 4 Axes>"
      ]
     },
     "metadata": {
      "needs_background": "light"
     },
     "output_type": "display_data"
    },
    {
     "data": {
      "image/png": "[encoded data removed]",
      "text/plain": [
       "<Figure size 360x360 with 4 Axes>"
      ]
     },
     "metadata": {
      "needs_background": "light"
     },
     "output_type": "display_data"
    },
    {
     "data": {
      "image/png": "[encoded data removed]",
      "text/plain": [
       "<Figure size 360x360 with 4 Axes>"
      ]
     },
     "metadata": {
      "needs_background": "light"
     },
     "output_type": "display_data"
    },
    {
     "data": {
      "image/png": "[encoded data removed]",
      "text/plain": [
       "<Figure size 360x360 with 4 Axes>"
      ]
     },
     "metadata": {
      "needs_background": "light"
     },
     "output_type": "display_data"
    }
   ],
   "source": [
    "dbscan = cluster.DBSCAN(eps=0.2, min_samples=13).fit(d_norm)\n",
    "labels = dbscan.labels_\n",
    "unique_labels = set(dbscan.labels_)\n",
    "\n",
    "for i,k in enumerate(unique_labels):\n",
    "    indexlist = list(np.argwhere(labels==k).reshape(1,-1)[0])\n",
    "    sns.clustermap(d_norm.iloc[indexlist].values,cmap='Reds',col_cluster=False,yticklabels=False,xticklabels=False,figsize=(5,5))\n",
    "    plt.title(' label='+ str(k))\n",
    "    plt.show()\n",
    "    \n",
    "d_init = d_clu.copy()\n",
    "d_label = d_clu.loc[d_norm.index] #Use the index to match back to the original datasheet\n",
    "d_label.insert(len(d_clu.columns),\"label\", dbscan.labels_.tolist())"
   ]
  },
  {
   "cell_type": "code",
   "execution_count": 171,
   "metadata": {},
   "outputs": [],
   "source": [
    "d_source = df.loc[d_label[d_label['label'] == 0].index].copy()\n",
    "d_bg = df.loc[d_label[d_label['label'] != 0].index].copy()"
   ]
  },
  {
   "cell_type": "code",
   "execution_count": 133,
   "metadata": {},
   "outputs": [
    {
     "data": {
      "text/plain": [
       "<matplotlib.collections.PathCollection at 0x192ad5f9f08>"
      ]
     },
     "execution_count": 133,
     "metadata": {},
     "output_type": "execute_result"
    },
    {
     "data": {
      "image/png": "[encoded data removed]",
      "text/plain": [
       "<Figure size 432x288 with 1 Axes>"
      ]
     },
     "metadata": {
      "needs_background": "light"
     },
     "output_type": "display_data"
    }
   ],
   "source": [
    "plt.scatter(d_source['Average RT (min)'], d_source['Average m/z'],s=3)\n",
    "#plt.scatter(d_bg['Average RT (min)'], d_bg['Average m/z'],s=3,alpha=0.5)"
   ]
  },
  {
   "cell_type": "code",
   "execution_count": 134,
   "metadata": {},
   "outputs": [
    {
     "data": {
      "text/plain": [
       "Index(['20181114_RuralCreek', '20181114_SwanCreek-May',\n",
       "       '20181114_MSMS_Miller-Creek-20181025_Site5down-HLB',\n",
       "       '20181114_SR520-Creek_Mix6A', '20181114_SR520-Creek_Mix4A',\n",
       "       '20181114_SwanCreek-Dec', '20181114_SR520-Creek_Mix6B',\n",
       "       '20181114_MSMS_Miller-Creek-20181025_Site8MW-HLB',\n",
       "       '20181114_SR520-Creek_Mix5A', '20181114_SR520-Creek_Mix1',\n",
       "       '20181114_CoulterCreek', '20181114_SR520-Creek_Mix2',\n",
       "       '20181114_SR520-Creek_Mix4B', '20181114_Crescent-Creek-May',\n",
       "       '20181114_Crescent-Creek-Jan',\n",
       "       '20181114_MSMS_Miller-Creek-20181025_Site4-HLB',\n",
       "       '20181114_SR520-Creek_Mix5B', '20181114_SR520-Creek_Mix3'],\n",
       "      dtype='object')"
      ]
     },
     "execution_count": 134,
     "metadata": {},
     "output_type": "execute_result"
    }
   ],
   "source": [
    "df_m.columns[df_m.columns.str.contains('Creek')]"
   ]
  },
  {
   "cell_type": "code",
   "execution_count": 112,
   "metadata": {},
   "outputs": [
    {
     "ename": "KeyError",
     "evalue": "'20181114_RuralCreek'",
     "output_type": "error",
     "traceback": [
      "\u001b[1;31m---------------------------------------------------------------------------\u001b[0m",
      "\u001b[1;31mKeyError\u001b[0m                                  Traceback (most recent call last)",
      "\u001b[1;32mD:\\python\\Anaconda3\\lib\\site-packages\\pandas\\core\\indexes\\base.py\u001b[0m in \u001b[0;36mget_loc\u001b[1;34m(self, key, method, tolerance)\u001b[0m\n\u001b[0;32m   2894\u001b[0m             \u001b[1;32mtry\u001b[0m\u001b[1;33m:\u001b[0m\u001b[1;33m\u001b[0m\u001b[1;33m\u001b[0m\u001b[0m\n\u001b[1;32m-> 2895\u001b[1;33m                 \u001b[1;32mreturn\u001b[0m \u001b[0mself\u001b[0m\u001b[1;33m.\u001b[0m\u001b[0m_engine\u001b[0m\u001b[1;33m.\u001b[0m\u001b[0mget_loc\u001b[0m\u001b[1;33m(\u001b[0m\u001b[0mcasted_key\u001b[0m\u001b[1;33m)\u001b[0m\u001b[1;33m\u001b[0m\u001b[1;33m\u001b[0m\u001b[0m\n\u001b[0m\u001b[0;32m   2896\u001b[0m             \u001b[1;32mexcept\u001b[0m \u001b[0mKeyError\u001b[0m \u001b[1;32mas\u001b[0m \u001b[0merr\u001b[0m\u001b[1;33m:\u001b[0m\u001b[1;33m\u001b[0m\u001b[1;33m\u001b[0m\u001b[0m\n",
      "\u001b[1;32mpandas\\_libs\\index.pyx\u001b[0m in \u001b[0;36mpandas._libs.index.IndexEngine.get_loc\u001b[1;34m()\u001b[0m\n",
      "\u001b[1;32mpandas\\_libs\\index.pyx\u001b[0m in \u001b[0;36mpandas._libs.index.IndexEngine.get_loc\u001b[1;34m()\u001b[0m\n",
      "\u001b[1;32mpandas\\_libs\\hashtable_class_helper.pxi\u001b[0m in \u001b[0;36mpandas._libs.hashtable.PyObjectHashTable.get_item\u001b[1;34m()\u001b[0m\n",
      "\u001b[1;32mpandas\\_libs\\hashtable_class_helper.pxi\u001b[0m in \u001b[0;36mpandas._libs.hashtable.PyObjectHashTable.get_item\u001b[1;34m()\u001b[0m\n",
      "\u001b[1;31mKeyError\u001b[0m: '20181114_RuralCreek'",
      "\nThe above exception was the direct cause of the following exception:\n",
      "\u001b[1;31mKeyError\u001b[0m                                  Traceback (most recent call last)",
      "\u001b[1;32m<ipython-input-112-ff3ba5876f05>\u001b[0m in \u001b[0;36m<module>\u001b[1;34m\u001b[0m\n\u001b[0;32m      3\u001b[0m \u001b[0msample_col\u001b[0m \u001b[1;33m=\u001b[0m\u001b[1;34m'20181114_RuralCreek'\u001b[0m\u001b[1;33m\u001b[0m\u001b[1;33m\u001b[0m\u001b[0m\n\u001b[0;32m      4\u001b[0m \u001b[1;33m\u001b[0m\u001b[0m\n\u001b[1;32m----> 5\u001b[1;33m \u001b[0md_index\u001b[0m \u001b[1;33m=\u001b[0m \u001b[0mdf_m\u001b[0m\u001b[1;33m.\u001b[0m\u001b[0mindex\u001b[0m\u001b[1;33m[\u001b[0m\u001b[0mdf_m\u001b[0m\u001b[1;33m[\u001b[0m\u001b[0msample_col\u001b[0m\u001b[1;33m]\u001b[0m \u001b[1;33m>=\u001b[0m \u001b[1;36m2000\u001b[0m\u001b[1;33m]\u001b[0m \u001b[1;31m#Threshold?\u001b[0m\u001b[1;33m\u001b[0m\u001b[1;33m\u001b[0m\u001b[0m\n\u001b[0m\u001b[0;32m      6\u001b[0m \u001b[0msource_index\u001b[0m \u001b[1;33m=\u001b[0m \u001b[0md_source\u001b[0m\u001b[1;33m.\u001b[0m\u001b[0mindex\u001b[0m\u001b[1;33m\u001b[0m\u001b[1;33m\u001b[0m\u001b[0m\n\u001b[0;32m      7\u001b[0m \u001b[0msimp_score\u001b[0m \u001b[1;33m=\u001b[0m \u001b[0mlen\u001b[0m\u001b[1;33m(\u001b[0m\u001b[1;33m[\u001b[0m\u001b[0mi\u001b[0m \u001b[1;32mfor\u001b[0m \u001b[0mi\u001b[0m \u001b[1;32min\u001b[0m \u001b[0msource_index\u001b[0m \u001b[1;32mif\u001b[0m \u001b[0mi\u001b[0m \u001b[1;32min\u001b[0m \u001b[0md_index\u001b[0m\u001b[1;33m]\u001b[0m\u001b[1;33m)\u001b[0m\u001b[1;33m/\u001b[0m\u001b[0mlen\u001b[0m\u001b[1;33m(\u001b[0m\u001b[0msource_index\u001b[0m\u001b[1;33m)\u001b[0m\u001b[1;33m\u001b[0m\u001b[1;33m\u001b[0m\u001b[0m\n",
      "\u001b[1;32mD:\\python\\Anaconda3\\lib\\site-packages\\pandas\\core\\frame.py\u001b[0m in \u001b[0;36m__getitem__\u001b[1;34m(self, key)\u001b[0m\n\u001b[0;32m   2900\u001b[0m             \u001b[1;32mif\u001b[0m \u001b[0mself\u001b[0m\u001b[1;33m.\u001b[0m\u001b[0mcolumns\u001b[0m\u001b[1;33m.\u001b[0m\u001b[0mnlevels\u001b[0m \u001b[1;33m>\u001b[0m \u001b[1;36m1\u001b[0m\u001b[1;33m:\u001b[0m\u001b[1;33m\u001b[0m\u001b[1;33m\u001b[0m\u001b[0m\n\u001b[0;32m   2901\u001b[0m                 \u001b[1;32mreturn\u001b[0m \u001b[0mself\u001b[0m\u001b[1;33m.\u001b[0m\u001b[0m_getitem_multilevel\u001b[0m\u001b[1;33m(\u001b[0m\u001b[0mkey\u001b[0m\u001b[1;33m)\u001b[0m\u001b[1;33m\u001b[0m\u001b[1;33m\u001b[0m\u001b[0m\n\u001b[1;32m-> 2902\u001b[1;33m             \u001b[0mindexer\u001b[0m \u001b[1;33m=\u001b[0m \u001b[0mself\u001b[0m\u001b[1;33m.\u001b[0m\u001b[0mcolumns\u001b[0m\u001b[1;33m.\u001b[0m\u001b[0mget_loc\u001b[0m\u001b[1;33m(\u001b[0m\u001b[0mkey\u001b[0m\u001b[1;33m)\u001b[0m\u001b[1;33m\u001b[0m\u001b[1;33m\u001b[0m\u001b[0m\n\u001b[0m\u001b[0;32m   2903\u001b[0m             \u001b[1;32mif\u001b[0m \u001b[0mis_integer\u001b[0m\u001b[1;33m(\u001b[0m\u001b[0mindexer\u001b[0m\u001b[1;33m)\u001b[0m\u001b[1;33m:\u001b[0m\u001b[1;33m\u001b[0m\u001b[1;33m\u001b[0m\u001b[0m\n\u001b[0;32m   2904\u001b[0m                 \u001b[0mindexer\u001b[0m \u001b[1;33m=\u001b[0m \u001b[1;33m[\u001b[0m\u001b[0mindexer\u001b[0m\u001b[1;33m]\u001b[0m\u001b[1;33m\u001b[0m\u001b[1;33m\u001b[0m\u001b[0m\n",
      "\u001b[1;32mD:\\python\\Anaconda3\\lib\\site-packages\\pandas\\core\\indexes\\base.py\u001b[0m in \u001b[0;36mget_loc\u001b[1;34m(self, key, method, tolerance)\u001b[0m\n\u001b[0;32m   2895\u001b[0m                 \u001b[1;32mreturn\u001b[0m \u001b[0mself\u001b[0m\u001b[1;33m.\u001b[0m\u001b[0m_engine\u001b[0m\u001b[1;33m.\u001b[0m\u001b[0mget_loc\u001b[0m\u001b[1;33m(\u001b[0m\u001b[0mcasted_key\u001b[0m\u001b[1;33m)\u001b[0m\u001b[1;33m\u001b[0m\u001b[1;33m\u001b[0m\u001b[0m\n\u001b[0;32m   2896\u001b[0m             \u001b[1;32mexcept\u001b[0m \u001b[0mKeyError\u001b[0m \u001b[1;32mas\u001b[0m \u001b[0merr\u001b[0m\u001b[1;33m:\u001b[0m\u001b[1;33m\u001b[0m\u001b[1;33m\u001b[0m\u001b[0m\n\u001b[1;32m-> 2897\u001b[1;33m                 \u001b[1;32mraise\u001b[0m \u001b[0mKeyError\u001b[0m\u001b[1;33m(\u001b[0m\u001b[0mkey\u001b[0m\u001b[1;33m)\u001b[0m \u001b[1;32mfrom\u001b[0m \u001b[0merr\u001b[0m\u001b[1;33m\u001b[0m\u001b[1;33m\u001b[0m\u001b[0m\n\u001b[0m\u001b[0;32m   2898\u001b[0m \u001b[1;33m\u001b[0m\u001b[0m\n\u001b[0;32m   2899\u001b[0m         \u001b[1;32mif\u001b[0m \u001b[0mtolerance\u001b[0m \u001b[1;32mis\u001b[0m \u001b[1;32mnot\u001b[0m \u001b[1;32mNone\u001b[0m\u001b[1;33m:\u001b[0m\u001b[1;33m\u001b[0m\u001b[1;33m\u001b[0m\u001b[0m\n",
      "\u001b[1;31mKeyError\u001b[0m: '20181114_RuralCreek'"
     ]
    }
   ],
   "source": [
    "#select comparison sample\n",
    "source_col = '20181114_SR520-Cal-in-DI_400mL'\n",
    "sample_col ='20181114_RuralCreek'\n",
    "\n",
    "d_index = df_m.index[df_m[sample_col] >= 2000] #Threshold?\n",
    "source_index = d_source.index\n",
    "simp_score = len([i for i in source_index if i in d_index])/len(source_index)\n",
    "print('simple source prediction score: ', simp_score)\n",
    "\n",
    "#MSDIAL algorithm, if 2d only consider mz/rt, 3d (plus intensity) need to alter their equations\n",
    "#Maybe not accurate\n",
    "union_index = list(set(source_index).union(set(d_index)))\n",
    "intersec_index = [i for i in source_index if i in d_index]\n",
    "\n",
    "sl = df_m[source_col]\n",
    "samplel = df_m[sample_col]\n",
    "union_b = np.asarray(df_m.iloc[union_index,0])\n",
    "intersec_b = np.asarray(df_m.iloc[intersec_index,0])\n",
    "union_s = np.asarray([sl[i] for i in union_index])\n",
    "intersec_s = np.asarray([sl[i] for i in intersec_index])\n",
    "#Normalize?\n",
    "dot_score = ((np.dot(union_b,union_s)\n",
    " /(np.linalg.norm(union_b)\n",
    "   *np.linalg.norm(union_s)))\n",
    "/(np.dot(intersec_b,intersec_s)\n",
    "  /(np.linalg.norm(intersec_b)\n",
    "    *np.linalg.norm(intersec_s))))\n",
    "print('dot product score:', dot_score)\n",
    "\n",
    "#Jaccard score can only be used on label\n",
    "#log transformed situation\n",
    "a = list(map(lambda x: 1 if x == 0 else x, sl))\n",
    "logsl = [int(round((np.log(i)))) for i in a]\n",
    "b = list(map(lambda x: 1 if x == 0 else x, samplel))\n",
    "logsamplel = [int(round((np.log(i)))) for i in b]\n",
    "j_score_raw = jaccard_score(logsl,logsamplel,average='weighted')\n",
    "print('Jaccard score(raw):', j_score_raw) #https://scikit-learn.org/stable/modules/generated/sklearn.metrics.jaccard_score.html\n",
    "\n",
    "#Binary transformed situation\n",
    "binsl = list(map(lambda x: 1 if x > 0 else x, sl))\n",
    "binsamplel = list(map(lambda x: 1 if x > 0 else x, samplel))\n",
    "j_score_bin = jaccard_score(binsl,binsamplel,average='binary')\n",
    "print('Jaccard score(binary):',j_score_bin)\n",
    "\n",
    "#KL divergence\n",
    "from scipy.stats import entropy\n",
    "print('raw data entropy', entropy(sl, samplel))\n",
    "print('log data entropy', entropy(logsl, logsamplel))\n",
    "scores = [simp_score, dot_score, j_score_raw,\n",
    "          j_score_bin, entropy(sl, samplel),\n",
    "          entropy(logsl, logsamplel)]"
   ]
  },
  {
   "cell_type": "code",
   "execution_count": 172,
   "metadata": {},
   "outputs": [],
   "source": [
    "def similarity_score(source_col, sample_col,dataframe, threshold=2000):\n",
    "    df_m = dataframe.copy()\n",
    "    d_index = df_m.index[df_m[sample_col] >= threshold] #Threshold?\n",
    "    source_index = d_source.index\n",
    "    simp_score = len([i for i in source_index if i in d_index])/len(source_index)\n",
    "\n",
    "    union_index = list(set(source_index).union(set(d_index)))\n",
    "    intersec_index = [i for i in source_index if i in d_index]\n",
    "\n",
    "    sl = df_m[source_col]\n",
    "    samplel = df_m[sample_col]\n",
    "    union_b = np.asarray(df_m.iloc[union_index,0])\n",
    "    intersec_b = np.asarray(df_m.iloc[intersec_index,0])\n",
    "    union_s = np.asarray([sl[i] for i in union_index])\n",
    "    intersec_s = np.asarray([sl[i] for i in intersec_index])\n",
    "    #Normalize?\n",
    "    dot_score = ((np.dot(union_b,union_s)\n",
    "     /(np.linalg.norm(union_b)\n",
    "       *np.linalg.norm(union_s)))\n",
    "    /(np.dot(intersec_b,intersec_s)\n",
    "      /(np.linalg.norm(intersec_b)\n",
    "        *np.linalg.norm(intersec_s))))\n",
    "\n",
    "    #Jaccard score can only be used on label\n",
    "    #log transformed situation\n",
    "    a = list(map(lambda x: 1 if x == 0 else x, sl))\n",
    "    logsl = [int(round((np.log(i)))) for i in a]\n",
    "    b = list(map(lambda x: 1 if x == 0 else x, samplel))\n",
    "    logsamplel = [int(round((np.log(i)))) for i in b]\n",
    "    j_score_raw = jaccard_score(logsl,logsamplel,average='weighted')\n",
    "\n",
    "    #Binary transformed situation\n",
    "    binsl = list(map(lambda x: 1 if x > 0 else x, sl))\n",
    "    binsamplel = list(map(lambda x: 1 if x > 0 else x, samplel))\n",
    "    j_score_bin = jaccard_score(binsl,binsamplel,average='binary')\n",
    "\n",
    "    #KL divergence\n",
    "    from scipy.stats import entropy\n",
    "    scores = [simp_score, dot_score, j_score_raw,\n",
    "              j_score_bin, entropy(sl, samplel),\n",
    "              entropy(logsl, logsamplel)]\n",
    "    return scores"
   ]
  },
  {
   "cell_type": "code",
   "execution_count": 173,
   "metadata": {},
   "outputs": [
    {
     "data": {
      "text/plain": [
       "Index(['20181114_SR520-Cal-in-DI_1000mL_dil-to-1mL',\n",
       "       '20181114_SR520-Cal-in-DI_1mL', '20181114_SR520-Creek_Mix6A',\n",
       "       '20181114_SR520-Creek_Mix4A', '20181114_SR520-Cal-in-DI_25mL',\n",
       "       '20181114_SR520-Creek_Mix6B',\n",
       "       '20181114_SR520-Cal-in-DI_1000mL_dil-to-60mL',\n",
       "       '20181114_SR520-Creek_Mix5A',\n",
       "       '20181114_SR520-Cal-in-DI_1000mL_dil-to-160mL',\n",
       "       '20181114_SR520-Cal-in-DI_60mL',\n",
       "       '20181114_SR520-Cal-in-DI_1000mL_dil-to-10mL',\n",
       "       '20181114_SR520-Creek_Mix1', '20181114_SR520-Cal-in-DI_160mL',\n",
       "       '20181114_SR520-Cal-in-DI_1000mL_dil-to-25mL',\n",
       "       '20181114_SR520-Creek_Mix2', '20181114_SR520-Creek_Mix4B',\n",
       "       '20181114_SR520-Cal-in-DI_10mL',\n",
       "       '20181114_SR520-Cal-in-DI_1000mL_dil-to-400mL',\n",
       "       '20181114_SR520-Creek_Mix5B', '20181114_SR520-Cal-in-DI_1000mL',\n",
       "       '20181114_SR520-Creek_Mix3', '20181114_SR520-Cal-in-DI_400mL'],\n",
       "      dtype='object')"
      ]
     },
     "execution_count": 173,
     "metadata": {},
     "output_type": "execute_result"
    }
   ],
   "source": [
    "df_m.columns[df_m.columns.str.contains('520')]"
   ]
  },
  {
   "cell_type": "code",
   "execution_count": 194,
   "metadata": {},
   "outputs": [
    {
     "data": {
      "text/html": [
       "<div>\n",
       "<style scoped>\n",
       "    .dataframe tbody tr th:only-of-type {\n",
       "        vertical-align: middle;\n",
       "    }\n",
       "\n",
       "    .dataframe tbody tr th {\n",
       "        vertical-align: top;\n",
       "    }\n",
       "\n",
       "    .dataframe thead th {\n",
       "        text-align: right;\n",
       "    }\n",
       "</style>\n",
       "<table border=\"1\" class=\"dataframe\">\n",
       "  <thead>\n",
       "    <tr style=\"text-align: right;\">\n",
       "      <th></th>\n",
       "      <th>Average RT (min)</th>\n",
       "      <th>Average m/z</th>\n",
       "      <th>20181114_SR520-Cal-in-DI_400mL_1</th>\n",
       "      <th>20181114_SR520-Creek_Mix5A_1</th>\n",
       "    </tr>\n",
       "  </thead>\n",
       "  <tbody>\n",
       "    <tr>\n",
       "      <th>0</th>\n",
       "      <td>5.696</td>\n",
       "      <td>200.07405</td>\n",
       "      <td>52611</td>\n",
       "      <td>6210</td>\n",
       "    </tr>\n",
       "    <tr>\n",
       "      <th>1</th>\n",
       "      <td>4.326</td>\n",
       "      <td>200.12823</td>\n",
       "      <td>20188</td>\n",
       "      <td>3940</td>\n",
       "    </tr>\n",
       "    <tr>\n",
       "      <th>2</th>\n",
       "      <td>4.220</td>\n",
       "      <td>200.12869</td>\n",
       "      <td>31573</td>\n",
       "      <td>3972</td>\n",
       "    </tr>\n",
       "    <tr>\n",
       "      <th>3</th>\n",
       "      <td>5.920</td>\n",
       "      <td>200.16484</td>\n",
       "      <td>928752</td>\n",
       "      <td>24297</td>\n",
       "    </tr>\n",
       "    <tr>\n",
       "      <th>4</th>\n",
       "      <td>5.295</td>\n",
       "      <td>200.20181</td>\n",
       "      <td>12580</td>\n",
       "      <td>410</td>\n",
       "    </tr>\n",
       "    <tr>\n",
       "      <th>...</th>\n",
       "      <td>...</td>\n",
       "      <td>...</td>\n",
       "      <td>...</td>\n",
       "      <td>...</td>\n",
       "    </tr>\n",
       "    <tr>\n",
       "      <th>5129</th>\n",
       "      <td>15.569</td>\n",
       "      <td>795.62750</td>\n",
       "      <td>0</td>\n",
       "      <td>0</td>\n",
       "    </tr>\n",
       "    <tr>\n",
       "      <th>5130</th>\n",
       "      <td>5.228</td>\n",
       "      <td>796.45288</td>\n",
       "      <td>5185</td>\n",
       "      <td>174</td>\n",
       "    </tr>\n",
       "    <tr>\n",
       "      <th>5131</th>\n",
       "      <td>13.722</td>\n",
       "      <td>796.54181</td>\n",
       "      <td>9702</td>\n",
       "      <td>3052</td>\n",
       "    </tr>\n",
       "    <tr>\n",
       "      <th>5132</th>\n",
       "      <td>5.058</td>\n",
       "      <td>798.47003</td>\n",
       "      <td>15683</td>\n",
       "      <td>476</td>\n",
       "    </tr>\n",
       "    <tr>\n",
       "      <th>5133</th>\n",
       "      <td>14.247</td>\n",
       "      <td>799.62860</td>\n",
       "      <td>0</td>\n",
       "      <td>0</td>\n",
       "    </tr>\n",
       "  </tbody>\n",
       "</table>\n",
       "<p>5134 rows × 4 columns</p>\n",
       "</div>"
      ],
      "text/plain": [
       "      Average RT (min)  Average m/z  20181114_SR520-Cal-in-DI_400mL_1  \\\n",
       "0                5.696    200.07405                             52611   \n",
       "1                4.326    200.12823                             20188   \n",
       "2                4.220    200.12869                             31573   \n",
       "3                5.920    200.16484                            928752   \n",
       "4                5.295    200.20181                             12580   \n",
       "...                ...          ...                               ...   \n",
       "5129            15.569    795.62750                                 0   \n",
       "5130             5.228    796.45288                              5185   \n",
       "5131            13.722    796.54181                              9702   \n",
       "5132             5.058    798.47003                             15683   \n",
       "5133            14.247    799.62860                                 0   \n",
       "\n",
       "      20181114_SR520-Creek_Mix5A_1  \n",
       "0                             6210  \n",
       "1                             3940  \n",
       "2                             3972  \n",
       "3                            24297  \n",
       "4                              410  \n",
       "...                            ...  \n",
       "5129                             0  \n",
       "5130                           174  \n",
       "5131                          3052  \n",
       "5132                           476  \n",
       "5133                             0  \n",
       "\n",
       "[5134 rows x 4 columns]"
      ]
     },
     "execution_count": 194,
     "metadata": {},
     "output_type": "execute_result"
    }
   ],
   "source": [
    "df[['Average RT (min)','Average m/z','20181114_SR520-Cal-in-DI_400mL_1','20181114_SR520-Creek_Mix5A_1']]"
   ]
  },
  {
   "cell_type": "code",
   "execution_count": 175,
   "metadata": {},
   "outputs": [
    {
     "data": {
      "text/plain": [
       "[0.9282916541126845, 0.9984753975961559, 1.0, 1.0, 0.0, 0.0]"
      ]
     },
     "execution_count": 175,
     "metadata": {},
     "output_type": "execute_result"
    }
   ],
   "source": [
    "similarity_score('SR520_Cal_in_DI_400mL', 'SR520_Cal_in_DI_400mL', df_m)"
   ]
  },
  {
   "cell_type": "code",
   "execution_count": 156,
   "metadata": {},
   "outputs": [],
   "source": [
    "score_list = []\n",
    "for i in df_m.columns[df_m.columns.str.contains('Creek')]:\n",
    "    score_list.append(similarity_score('SR520_Cal_in_DI_400mL', i, df_m))\n",
    "df_score = pd.DataFrame(score_list)\n",
    "df_score.columns = ['Simple score', 'dot product', 'jaccard_raw', 'jaccard_bin', 'entropy_raw', 'entropy_log']\n",
    "df_score.index = df_m.columns[df_m.columns.str.contains('Creek')]"
   ]
  },
  {
   "cell_type": "code",
   "execution_count": 157,
   "metadata": {},
   "outputs": [],
   "source": [
    "df_score.to_csv('../dev/dummydata/0815scores2.csv')"
   ]
  },
  {
   "cell_type": "code",
   "execution_count": 365,
   "metadata": {},
   "outputs": [],
   "source": [
    "# Alignment assessment?\n",
    "#1. find closest neighbour for each mz/RT\n",
    "#2. calc entropy?\n",
    "\n",
    "def dist_euclidean(elem1, elem2):\n",
    "    t_sum=0\n",
    "    for i in range(len(elem1)):\n",
    "        for j in range(len(elem1[0])):\n",
    "            t_sum+= np.square(elem1[i][j]-elem2[i][j])\n",
    "    return np.sqrt(t_sum)\n",
    "\n",
    "def dist_cosine(elem1, elem2):\n",
    "    temp1=[]\n",
    "    temp2=[]\n",
    "    for i in range(len(elem1)):\n",
    "        temp1.extend(elem1[i])\n",
    "        temp2.extend(elem2[i])\n",
    "    return distance.cosine(temp1, temp2)\n",
    "\n",
    "from scipy.stats import entropy\n",
    "def dist_KL_row_avg(elem1, elem2):\n",
    "    Y=[]\n",
    "    for i in range(len(elem1)):\n",
    "        Y.append(entropy(elem1[i], elem2[i]))\n",
    "    return np.average(Y)"
   ]
  },
  {
   "cell_type": "code",
   "execution_count": 353,
   "metadata": {},
   "outputs": [
    {
     "name": "stdout",
     "output_type": "stream",
     "text": [
      "euclidean dist: 0.08145980603955932\n",
      "cos similarity: 2.0101698083863084e-12\n",
      "KL divergence avg: 1.021268757516956e-12\n"
     ]
    }
   ],
   "source": [
    "a = np.array([[200.9,300.5],[0,1]])\n",
    "b = np.array([[200.8553,300.4319],[0,1]])\n",
    "# The smaller the better\n",
    "print('euclidean dist:', dist_euclidean(a,b))\n",
    "print('cos similarity:', dist_cosine(a, b))\n",
    "print('KL divergence avg:', dist_KL_row_avg(a, b))"
   ]
  },
  {
   "cell_type": "code",
   "execution_count": 367,
   "metadata": {},
   "outputs": [],
   "source": [
    "#Next: using dummy data to assess the alignment score system\n",
    "import pickle\n",
    "with open('./dummydata/sourcepair.data', 'rb') as filehandle:\n",
    "    # read the data as binary data stream\n",
    "    source = pickle.load(filehandle)"
   ]
  },
  {
   "cell_type": "code",
   "execution_count": 368,
   "metadata": {},
   "outputs": [],
   "source": [
    "with open('./dummydata/randsource_missing_pattern.data', 'rb') as f:\n",
    "    # read the data as binary data stream\n",
    "    source_miss = pickle.load(f)"
   ]
  },
  {
   "cell_type": "code",
   "execution_count": 396,
   "metadata": {},
   "outputs": [],
   "source": [
    "data=[]\n",
    "for i_s,j in enumerate(source):\n",
    "    zipsource = list(zip(j[0],j[1]))\n",
    "    for i_miss in np.arange(i_s * 5,(i_s + 1) * 5):\n",
    "        zipmiss = list(zip(source_miss[i_miss][0], source_miss[i_miss][1]))\n",
    "        source_pair = []\n",
    "        miss_pair = []\n",
    "        for i in zipmiss:\n",
    "            _,index = spatial.KDTree(zipsource).query(i)\n",
    "            #if abs(i[0] - zipsource[index][0]) <= 200*5e-6 and abs(i[1] - zipsource[index][1]) < 0.2:\n",
    "            source_pair.append(zipsource[index])\n",
    "            miss_pair.append(i)\n",
    "        data.append([i_s, dist_euclidean(source_pair,miss_pair),\n",
    "               dist_cosine(source_pair,miss_pair),\n",
    "               dist_KL_row_avg(source_pair,miss_pair),\n",
    "               len(miss_pair)/200])\n",
    "#         print('euclidean dist:', dist_euclidean(source_pair,miss_pair))\n",
    "#         print('cos similarity:', dist_cosine(source_pair,miss_pair))\n",
    "#         print('KL divergence avg:', dist_KL_row_avg(source_pair,miss_pair))\n",
    "#         print('total match:', len(miss_pair)/200)\n",
    "dfilter=pd.DataFrame(data)\n",
    "dfilter.columns = ['source #', 'euclidean dist', 'cos score', 'KL divergence', 'simple match']"
   ]
  },
  {
   "cell_type": "code",
   "execution_count": 397,
   "metadata": {},
   "outputs": [],
   "source": [
    "dfilter.to_csv('./dummydata/d_wofilter_alignmentassessment.csv')"
   ]
  }
 ],
 "metadata": {
  "kernelspec": {
   "display_name": "Python 3",
   "language": "python",
   "name": "python3"
  },
  "language_info": {
   "codemirror_mode": {
    "name": "ipython",
    "version": 3
   },
   "file_extension": ".py",
   "mimetype": "text/x-python",
   "name": "python",
   "nbconvert_exporter": "python",
   "pygments_lexer": "ipython3",
   "version": "3.7.4"
  }
 },
 "nbformat": 4,
 "nbformat_minor": 4
}

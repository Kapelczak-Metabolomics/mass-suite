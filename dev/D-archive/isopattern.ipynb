{
 "cells": [
  {
   "cell_type": "code",
   "execution_count": 65,
   "metadata": {},
   "outputs": [],
   "source": [
    "import pyisopach\n",
    "import matplotlib.pyplot as plt\n",
    "from pyteomics import mass\n",
    "import numpy as np\n",
    "import pandas as pd\n",
    "import re\n",
    "import mss\n",
    "from scipy import special"
   ]
  },
  {
   "cell_type": "code",
   "execution_count": 2,
   "metadata": {},
   "outputs": [],
   "source": [
    "mol = pyisopach.Molecule('C18H23N2O2')"
   ]
  },
  {
   "cell_type": "code",
   "execution_count": 3,
   "metadata": {},
   "outputs": [
    {
     "data": {
      "text/plain": [
       "299.1765013928997"
      ]
     },
     "execution_count": 3,
     "metadata": {},
     "output_type": "execute_result"
    }
   ],
   "source": [
    "mol.isotopic_distribution()[0][0]"
   ]
  },
  {
   "cell_type": "code",
   "execution_count": 4,
   "metadata": {},
   "outputs": [
    {
     "data": {
      "text/plain": [
       "<BarContainer object of 4 artists>"
      ]
     },
     "execution_count": 4,
     "metadata": {},
     "output_type": "execute_result"
    },
    {
     "data": {
      "image/png": "[encoded data removed]",
      "text/plain": [
       "<Figure size 432x288 with 1 Axes>"
      ]
     },
     "metadata": {
      "needs_background": "light"
     },
     "output_type": "display_data"
    }
   ],
   "source": [
    "plt.bar(mol.isotopic_distribution()[0], mol.isotopic_distribution()[1], width=0.05)"
   ]
  },
  {
   "cell_type": "code",
   "execution_count": 5,
   "metadata": {},
   "outputs": [],
   "source": [
    "cfg = pd.read_csv('./cfg/100-500.csv',index_col=0)"
   ]
  },
  {
   "cell_type": "code",
   "execution_count": 86,
   "metadata": {},
   "outputs": [],
   "source": [
    "def formula_calc(mz, composition, error=5, mode='pos'):\n",
    "    e_weight = 0.0005485799\n",
    "    if mode == 'pos':\n",
    "        mz = mz + e_weight\n",
    "    elif mode == 'neg':\n",
    "        mz = mz - e_weight\n",
    "    \n",
    "    low_mz = mz - mz * error * 1e-6\n",
    "    high_mz = mz + mz * error * 1e-6\n",
    "    \n",
    "    hit = cfg[(cfg['Mass'] >= low_mz) & (cfg['Mass'] <= high_mz)].copy()\n",
    "    hit['M.Mass'] = mz\n",
    "    hit['error in Da'] = mz - hit['Mass']\n",
    "    hit['error in ppm'] = hit['error in Da'] / mz * 1e6\n",
    "    \n",
    "    hit = hit.iloc[hit['error in ppm'].abs().argsort()]\n",
    "    \n",
    "    for i in hit.index:\n",
    "        f_reg = re.findall(r'([A-Z][a-z]*)', i)\n",
    "        ip_reg = re.findall(r'([A-Z][a-z]*)', composition)\n",
    "        if len([i for i in f_reg if i not in ip_reg]) > 0:\n",
    "            hit.drop(i,inplace=True)\n",
    "    \n",
    "    return hit"
   ]
  },
  {
   "cell_type": "code",
   "execution_count": 152,
   "metadata": {},
   "outputs": [
    {
     "data": {
      "text/html": [
       "<div>\n",
       "<style scoped>\n",
       "    .dataframe tbody tr th:only-of-type {\n",
       "        vertical-align: middle;\n",
       "    }\n",
       "\n",
       "    .dataframe tbody tr th {\n",
       "        vertical-align: top;\n",
       "    }\n",
       "\n",
       "    .dataframe thead th {\n",
       "        text-align: right;\n",
       "    }\n",
       "</style>\n",
       "<table border=\"1\" class=\"dataframe\">\n",
       "  <thead>\n",
       "    <tr style=\"text-align: right;\">\n",
       "      <th></th>\n",
       "      <th>Mass</th>\n",
       "      <th>M.Mass</th>\n",
       "      <th>error in Da</th>\n",
       "      <th>error in ppm</th>\n",
       "    </tr>\n",
       "  </thead>\n",
       "  <tbody>\n",
       "    <tr>\n",
       "      <th>C6H27O9N4</th>\n",
       "      <td>299.17764</td>\n",
       "      <td>299.177049</td>\n",
       "      <td>-0.000591</td>\n",
       "      <td>-1.976823</td>\n",
       "    </tr>\n",
       "    <tr>\n",
       "      <th>C18H23O2N2</th>\n",
       "      <td>299.17586</td>\n",
       "      <td>299.177049</td>\n",
       "      <td>0.001189</td>\n",
       "      <td>3.972831</td>\n",
       "    </tr>\n",
       "  </tbody>\n",
       "</table>\n",
       "</div>"
      ],
      "text/plain": [
       "                 Mass      M.Mass  error in Da  error in ppm\n",
       "C6H27O9N4   299.17764  299.177049    -0.000591     -1.976823\n",
       "C18H23O2N2  299.17586  299.177049     0.001189      3.972831"
      ]
     },
     "execution_count": 152,
     "metadata": {},
     "output_type": "execute_result"
    }
   ],
   "source": [
    "formula_calc(299.1765,'CHON')"
   ]
  },
  {
   "cell_type": "code",
   "execution_count": 8,
   "metadata": {},
   "outputs": [],
   "source": [
    "path = 's1.mzML'\n",
    "scans = mss.mssmain.get_scans(path, ms_all=False, ms_lv=1)\n",
    "#noise removal\n",
    "mss.mssmain.noise_removal(scans, 5000)"
   ]
  },
  {
   "cell_type": "code",
   "execution_count": 9,
   "metadata": {},
   "outputs": [],
   "source": [
    "def ms_chromatogram_list(mzml_scans, input_mz, error):\n",
    "    '''\n",
    "    Generate a peak list for specific input_mz over\n",
    "    whole rt period from the mzml file\n",
    "    ***Most useful function!\n",
    "    '''\n",
    "\n",
    "    # Create empty list to store the data\n",
    "    retention_time = []\n",
    "    intensity = []\n",
    "    for scan in mzml_scans:\n",
    "        # print(i)\n",
    "        retention_time.append(scan.scan_time[0])\n",
    "\n",
    "        target_mz, target_index = mss.mssmain.mz_locator(scan.mz, input_mz, error)\n",
    "        if len(target_index) == 0:\n",
    "            intensity.append(0)\n",
    "        else:\n",
    "            # intensity.append(scan.i[target_index])\n",
    "            # if select_app=True\n",
    "            intensity.append(sum(scan.i[target_index]))\n",
    "\n",
    "    return retention_time, intensity"
   ]
  },
  {
   "cell_type": "code",
   "execution_count": 10,
   "metadata": {},
   "outputs": [],
   "source": [
    "def iso_plot(mzml_scan, input_mz, error, formula):\n",
    "    '''\n",
    "    Interactive spectrum plot with nearest retention time from the given scan\n",
    "    mzml_scans: mzfile\n",
    "    time: selected time for the scan\n",
    "    '''\n",
    "    def ms_chromatogram_list(mzml_scans, input_mz, error):\n",
    "        '''\n",
    "        Generate a peak list for specific input_mz over\n",
    "        whole rt period from the mzml file\n",
    "        ***Most useful function!\n",
    "        '''\n",
    "\n",
    "        # Create empty list to store the data\n",
    "        retention_time = []\n",
    "        intensity = []\n",
    "        for scan in mzml_scans:\n",
    "            # print(i)\n",
    "            retention_time.append(scan.scan_time[0])\n",
    "\n",
    "            target_mz, target_index = mss.mssmain.mz_locator(scan.mz, input_mz, error) #remove the mss.mssmain prefix here when intergrate\n",
    "            if len(target_index) == 0:\n",
    "                intensity.append(0)\n",
    "            else:\n",
    "                # intensity.append(scan.i[target_index])\n",
    "                # if select_app=True\n",
    "                intensity.append(sum(scan.i[target_index]))\n",
    "\n",
    "        return retention_time, intensity\n",
    "    \n",
    "    def closest(lst, K): \n",
    "        idx = np.abs(np.asarray(lst) - K).argmin()\n",
    "        return idx\n",
    "    \n",
    "    scan = mzml_scan[np.argmax(ms_chromatogram_list(mzml_scan, input_mz, error)[1])]\n",
    "    \n",
    "    mz = scan.mz\n",
    "    ints = scan.i\n",
    "    rt = scan.scan_time[0]\n",
    "    \n",
    "    precursor_idx = closest(mz, input_mz)\n",
    "    precursor_mz = mz[precursor_idx]\n",
    "    precursor_ints = ints[precursor_idx]\n",
    "    \n",
    "    rel_abundance = [i / precursor_ints * 100 for i in ints]\n",
    "    \n",
    "    #Predicted isotope pattern\n",
    "    mol = pyisopach.Molecule(formula)\n",
    "    isotope_i = [-i for i in mol.isotopic_distribution()[1]]\n",
    "    \n",
    "    \n",
    "    wd = 0.05\n",
    "    fig, ax = plt.subplots(figsize=(12, 9))\n",
    "    ax.bar(mz, rel_abundance, width=wd, label='scan spectrum')\n",
    "    ax.bar(mol.isotopic_distribution()[0], isotope_i, width=wd, label='predicted isotope pattern')\n",
    "    ax.axhline(y=0, color='k')\n",
    "    plt.ticklabel_format(style='sci', axis='y', scilimits=(0, 0))\n",
    "    ticks = ax.get_yticks()\n",
    "    ax.set_yticklabels([int(abs(tick)) for tick in ticks])\n",
    "    plt.xlabel('m/z')\n",
    "    plt.ylabel('Relative Intensity %')\n",
    "    plt.title('Isotope pattern comparison')\n",
    "    plt.legend()\n",
    "    plt.xlim(precursor_mz - 5, precursor_mz + 10)\n",
    "\n",
    "    return\n"
   ]
  },
  {
   "cell_type": "code",
   "execution_count": 11,
   "metadata": {},
   "outputs": [
    {
     "data": {
      "image/png": "[encoded data removed]",
      "text/plain": [
       "<Figure size 864x648 with 1 Axes>"
      ]
     },
     "metadata": {
      "needs_background": "light"
     },
     "output_type": "display_data"
    }
   ],
   "source": [
    "iso_plot(scans,299.1765,5,'C18H23N2O2')"
   ]
  },
  {
   "cell_type": "code",
   "execution_count": 221,
   "metadata": {},
   "outputs": [],
   "source": [
    "def formula_prediction(mzml_scan, input_mz, error, composition = 'CHON', f_error=5, mode='pos', relintensity_thres = 1):\n",
    "    '''\n",
    "    Interactive spectrum plot with nearest retention time from the given scan\n",
    "    mzml_scans: mzfile\n",
    "    time: selected time for the scan\n",
    "    '''\n",
    "    def ms_chromatogram_list(mzml_scans, input_mz, error):\n",
    "        '''\n",
    "        Generate a peak list for specific input_mz over\n",
    "        whole rt period from the mzml file\n",
    "        ***Most useful function!\n",
    "        '''\n",
    "\n",
    "        # Create empty list to store the data\n",
    "        retention_time = []\n",
    "        intensity = []\n",
    "        for scan in mzml_scans:\n",
    "            # print(i)\n",
    "            retention_time.append(scan.scan_time[0])\n",
    "\n",
    "            target_mz, target_index = mss.mssmain.mz_locator(scan.mz, input_mz, error) #remove the mss.mssmain prefix here when intergrate\n",
    "            if len(target_index) == 0:\n",
    "                intensity.append(0)\n",
    "            else:\n",
    "                # intensity.append(scan.i[target_index])\n",
    "                # if select_app=True\n",
    "                intensity.append(sum(scan.i[target_index]))\n",
    "\n",
    "        return retention_time, intensity\n",
    "    \n",
    "    def closest(lst, K): \n",
    "        idx = np.abs(np.asarray(lst) - K).argmin()\n",
    "        return idx\n",
    "    \n",
    "    scan = mzml_scan[np.argmax(ms_chromatogram_list(mzml_scan, input_mz, error)[1])]\n",
    "    \n",
    "    mz = scan.mz\n",
    "    ints = scan.i\n",
    "    \n",
    "    precursor_idx = closest(mz, input_mz)\n",
    "    precursor_mz = mz[precursor_idx]\n",
    "    precursor_ints = ints[precursor_idx]\n",
    "    \n",
    "    rel_abundance = [i / precursor_ints * 100 for i in ints]\n",
    "    \n",
    "    prediction_table = formula_calc(precursor_mz, composition, error=f_error, mode='pos')\n",
    "    \n",
    "    #Find closest pair\n",
    "    measured_spec = list(zip(mz, rel_abundance))\n",
    "    \n",
    "    def alpha(f):\n",
    "        if f >= 80:\n",
    "            alpha = 1\n",
    "        elif 20 <= f < 80:\n",
    "            alpha = -0.0033 * f + 1.2667\n",
    "        elif 10 <= f < 20:\n",
    "            alpha = -0.08 * f + 2.8\n",
    "        elif 5 <= f < 10:\n",
    "            alpha = -0.1 * f + 3\n",
    "        elif 1<= f < 5:\n",
    "            alpha = -1.875 * f + 11.875\n",
    "        return alpha\n",
    "\n",
    "    def beta(f):\n",
    "        if f >= 80:\n",
    "            beta = 0.06\n",
    "        elif 1 <= f < 80:\n",
    "            beta = 2.0437 * (f ** 0.765)\n",
    "        return beta\n",
    "\n",
    "    for formula in prediction_table.index:\n",
    "        mol = pyisopach.Molecule(formula)\n",
    "        istp_mass = mol.isotopic_distribution()[0]\n",
    "        istp_ints = mol.isotopic_distribution()[1]\n",
    "        idx = np.argwhere(istp_ints >= intensity_thres).reshape(1, -1)[0]\n",
    "        #Ref SIRUIS 2013 paper\n",
    "        m_list = istp_mass[idx]\n",
    "        f_list = istp_ints[idx]\n",
    "\n",
    "        theo_spec = list(zip(m_list, f_list))\n",
    "            \n",
    "        dist = lambda x, y: (x[0]-y[0])**2 + (x[1]-y[1])**2\n",
    "        score = []\n",
    "        for p in theo_spec:\n",
    "        \n",
    "            measured_peak = [i for i in measured_spec if i[0] >= p[0]*(1-1e-6*7) \n",
    "                             and i[0] <= p[0]*(1+1e-6*7)]\n",
    "            if len(measured_peak) != 0:\n",
    "                hit_peak = min(measured_peak, key=lambda peak: dist(peak, p))\n",
    "                \n",
    "                # Function from SIRIUS, may need later validation\n",
    "                f = hit_peak[1]\n",
    "                sigma_m = np.sqrt(2) * hit_peak[0] * 1/3 * 1e-6 * 7 * alpha(f)\n",
    "                x = abs(hit_peak[0] - p[0]) / sigma_m\n",
    "                P_Mm = special.erfc(x)\n",
    "                \n",
    "                sigma_f = np.sqrt(2) * 1/3 * hit_peak[1] * np.log10(1 + beta(f))\n",
    "                y = np.log10(hit_peak[1] / p[1]) / sigma_f\n",
    "                P_fp = special.erfc(y)\n",
    "                \n",
    "                score.append(0.5 * (P_Mm + P_fp))\n",
    "                \n",
    "            else:\n",
    "                hit_peak = []\n",
    "                score.append(0)\n",
    "        prediction_table.loc[formula, 'score'] = np.mean(score) * 100\n",
    "    \n",
    "    prediction_table.sort_values(by=['score'], inplace=True, ascending=False)\n",
    "    \n",
    "    return prediction_table"
   ]
  },
  {
   "cell_type": "code",
   "execution_count": 223,
   "metadata": {},
   "outputs": [
    {
     "data": {
      "text/html": [
       "<div>\n",
       "<style scoped>\n",
       "    .dataframe tbody tr th:only-of-type {\n",
       "        vertical-align: middle;\n",
       "    }\n",
       "\n",
       "    .dataframe tbody tr th {\n",
       "        vertical-align: top;\n",
       "    }\n",
       "\n",
       "    .dataframe thead th {\n",
       "        text-align: right;\n",
       "    }\n",
       "</style>\n",
       "<table border=\"1\" class=\"dataframe\">\n",
       "  <thead>\n",
       "    <tr style=\"text-align: right;\">\n",
       "      <th></th>\n",
       "      <th>Mass</th>\n",
       "      <th>M.Mass</th>\n",
       "      <th>error in Da</th>\n",
       "      <th>error in ppm</th>\n",
       "      <th>score</th>\n",
       "    </tr>\n",
       "  </thead>\n",
       "  <tbody>\n",
       "    <tr>\n",
       "      <th>C18H23O2N2</th>\n",
       "      <td>299.17586</td>\n",
       "      <td>299.177601</td>\n",
       "      <td>0.001741</td>\n",
       "      <td>5.819185</td>\n",
       "      <td>73.208437</td>\n",
       "    </tr>\n",
       "    <tr>\n",
       "      <th>C6H27O9N4</th>\n",
       "      <td>299.17764</td>\n",
       "      <td>299.177601</td>\n",
       "      <td>-0.000039</td>\n",
       "      <td>-0.130458</td>\n",
       "      <td>43.004197</td>\n",
       "    </tr>\n",
       "    <tr>\n",
       "      <th>C16H21ON5</th>\n",
       "      <td>299.17462</td>\n",
       "      <td>299.177601</td>\n",
       "      <td>0.002981</td>\n",
       "      <td>9.963880</td>\n",
       "      <td>33.682879</td>\n",
       "    </tr>\n",
       "    <tr>\n",
       "      <th>C8H29O10N</th>\n",
       "      <td>299.17888</td>\n",
       "      <td>299.177601</td>\n",
       "      <td>-0.001279</td>\n",
       "      <td>-4.275154</td>\n",
       "      <td>27.183590</td>\n",
       "    </tr>\n",
       "    <tr>\n",
       "      <th>C9H25O6N5</th>\n",
       "      <td>299.18040</td>\n",
       "      <td>299.177601</td>\n",
       "      <td>-0.002799</td>\n",
       "      <td>-9.355748</td>\n",
       "      <td>18.528898</td>\n",
       "    </tr>\n",
       "    <tr>\n",
       "      <th>C7H23O5N8</th>\n",
       "      <td>299.17916</td>\n",
       "      <td>299.177601</td>\n",
       "      <td>-0.001559</td>\n",
       "      <td>-5.211053</td>\n",
       "      <td>17.787027</td>\n",
       "    </tr>\n",
       "    <tr>\n",
       "      <th>C23H23</th>\n",
       "      <td>299.17986</td>\n",
       "      <td>299.177601</td>\n",
       "      <td>-0.002259</td>\n",
       "      <td>-7.550800</td>\n",
       "      <td>0.000000</td>\n",
       "    </tr>\n",
       "  </tbody>\n",
       "</table>\n",
       "</div>"
      ],
      "text/plain": [
       "                 Mass      M.Mass  error in Da  error in ppm      score\n",
       "C18H23O2N2  299.17586  299.177601     0.001741      5.819185  73.208437\n",
       "C6H27O9N4   299.17764  299.177601    -0.000039     -0.130458  43.004197\n",
       "C16H21ON5   299.17462  299.177601     0.002981      9.963880  33.682879\n",
       "C8H29O10N   299.17888  299.177601    -0.001279     -4.275154  27.183590\n",
       "C9H25O6N5   299.18040  299.177601    -0.002799     -9.355748  18.528898\n",
       "C7H23O5N8   299.17916  299.177601    -0.001559     -5.211053  17.787027\n",
       "C23H23      299.17986  299.177601    -0.002259     -7.550800   0.000000"
      ]
     },
     "execution_count": 223,
     "metadata": {},
     "output_type": "execute_result"
    }
   ],
   "source": [
    "formula_prediction(scans, 299.1765, 5, f_error=10)"
   ]
  }
 ],
 "metadata": {
  "kernelspec": {
   "display_name": "Python 3",
   "language": "python",
   "name": "python3"
  },
  "language_info": {
   "codemirror_mode": {
    "name": "ipython",
    "version": 3
   },
   "file_extension": ".py",
   "mimetype": "text/x-python",
   "name": "python",
   "nbconvert_exporter": "python",
   "pygments_lexer": "ipython3",
   "version": "3.7.4"
  }
 },
 "nbformat": 4,
 "nbformat_minor": 2
}

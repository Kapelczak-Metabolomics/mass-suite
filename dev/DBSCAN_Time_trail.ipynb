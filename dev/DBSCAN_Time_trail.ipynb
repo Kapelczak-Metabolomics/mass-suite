{
 "cells": [
  {
   "cell_type": "code",
   "execution_count": 1,
   "metadata": {},
   "outputs": [],
   "source": [
    "def mz_locator(array, mz, error):\n",
    "    '''\n",
    "    Find specific mzs from given mz and error range out from a given mz array\n",
    "    input list: mz list\n",
    "    mz: input_mz that want to be found\n",
    "    error: error range is now changed to ppm level\n",
    "    all_than_close False only select closest one, True will append all\n",
    "    '''\n",
    "    # ppm conversion\n",
    "    error = error * 1e-6\n",
    "\n",
    "    lower_mz = mz - error * mz\n",
    "    higher_mz = mz + error * mz\n",
    "\n",
    "    index = (array >= lower_mz) & (array <= higher_mz)\n",
    "\n",
    "    return array[index], np.where(index)[0]"
   ]
  },
  {
   "cell_type": "code",
   "execution_count": 4,
   "metadata": {},
   "outputs": [],
   "source": [
    "import numpy as np\n",
    "test_array = np.array([0, 10, 20, 50, 100])\n",
    "result = mz_locator(test_array, 49.9999, 20)"
   ]
  },
  {
   "cell_type": "code",
   "execution_count": 5,
   "metadata": {},
   "outputs": [
    {
     "data": {
      "text/plain": [
       "(array([50]), array([3]))"
      ]
     },
     "execution_count": 5,
     "metadata": {},
     "output_type": "execute_result"
    }
   ],
   "source": [
    "result"
   ]
  },
  {
   "cell_type": "code",
   "execution_count": 5,
   "metadata": {},
   "outputs": [],
   "source": [
    "import numpy as np\n",
    "import matplotlib.pyplot as plt\n",
    "from sklearn.datasets.samples_generator import make_blobs\n",
    "from sklearn.datasets import make_moons\n",
    "from sklearn.cluster import DBSCAN\n",
    "from sklearn.neighbors import NearestNeighbors\n",
    "import seaborn as sns\n",
    "from kneed import KneeLocator\n",
    "from scipy.interpolate import interp1d\n",
    "from scipy.stats import chisquare\n",
    "from scipy.stats import ks_2samp\n",
    "sns.set()"
   ]
  },
  {
   "cell_type": "code",
   "execution_count": 2,
   "metadata": {},
   "outputs": [
    {
     "name": "stderr",
     "output_type": "stream",
     "text": [
      "C:\\Users\\scarlet_07\\AppData\\Roaming\\Python\\Python37\\site-packages\\sklearn\\base.py:334: UserWarning:\n",
      "\n",
      "Trying to unpickle estimator DecisionTreeClassifier from version 0.22.2.post1 when using version 0.23.0. This might lead to breaking code or invalid results. Use at your own risk.\n",
      "\n",
      "C:\\Users\\scarlet_07\\AppData\\Roaming\\Python\\Python37\\site-packages\\sklearn\\base.py:334: UserWarning:\n",
      "\n",
      "Trying to unpickle estimator RandomForestClassifier from version 0.22.2.post1 when using version 0.23.0. This might lead to breaking code or invalid results. Use at your own risk.\n",
      "\n"
     ]
    }
   ],
   "source": [
    "import sys\n",
    "# import mss\n",
    "sys.path.append('../')\n",
    "from mss import visreader as mvis\n",
    "from mss import mssmain as msm\n",
    "from mss import align\n",
    "import pandas as pd\n",
    "import numpy as np\n",
    "from tqdm import tqdm"
   ]
  },
  {
   "cell_type": "code",
   "execution_count": null,
   "metadata": {},
   "outputs": [],
   "source": [
    "mz_list = [100,100.5,100.6,100.7,100.8]\n",
    "mz_locator (100,50 ppm(relative error),mz_list)\n",
    "100*(1-50*10e-6)"
   ]
  },
  {
   "cell_type": "code",
   "execution_count": 62,
   "metadata": {},
   "outputs": [
    {
     "data": {
      "text/plain": [
       "<matplotlib.collections.PathCollection at 0x28b899efc48>"
      ]
     },
     "execution_count": 62,
     "metadata": {},
     "output_type": "execute_result"
    },
    {
     "data": {
      "image/png": "[encoded data removed]",
      "text/plain": [
       "<Figure size 432x288 with 1 Axes>"
      ]
     },
     "metadata": {
      "needs_background": "light"
     },
     "output_type": "display_data"
    }
   ],
   "source": [
    "x1,y = make_blobs(n_samples=600, centers=5, cluster_std=0.7, random_state=123)\n",
    "plt.scatter(x1[:,0], x1[:,1])"
   ]
  },
  {
   "cell_type": "code",
   "execution_count": 102,
   "metadata": {},
   "outputs": [],
   "source": [
    "test = pd.read_csv('D:/UW/directproject/example_data/example_peaklist/test_vali.csv')\n",
    "test = test.iloc[:,-3:]"
   ]
  },
  {
   "cell_type": "code",
   "execution_count": 124,
   "metadata": {},
   "outputs": [],
   "source": [
    "# in case minPts = 5\n",
    "def eps_assess(data, min_pts):\n",
    "    neigh = NearestNeighbors(n_neighbors=min_pts)\n",
    "    nbrs = neigh.fit(data)\n",
    "    distances, indices = nbrs.kneighbors(data)\n",
    "    distances = np.sort(distances, axis=0)\n",
    "    distances = distances[:,1]\n",
    "    x = np.arange(1, len(distances)+1)\n",
    "    y = distances\n",
    "    plt.plot(x, y)\n",
    "    f = interp1d(x,y)\n",
    "    kn = KneeLocator(x, y, curve='convex', direction='increasing')\n",
    "    plt.scatter(kn.knee, f(kn.knee),color='red', marker='+',s=50)\n",
    "    print('eps selected', f(kn.knee))\n",
    "    return distances"
   ]
  },
  {
   "cell_type": "code",
   "execution_count": 126,
   "metadata": {},
   "outputs": [
    {
     "name": "stdout",
     "output_type": "stream",
     "text": [
      "eps selected 14923957.566044604\n"
     ]
    },
    {
     "data": {
      "text/plain": [
       "array([0.00000000e+00, 0.00000000e+00, 0.00000000e+00, ...,\n",
       "       2.60649940e+07, 5.93102560e+07, 1.54609692e+08])"
      ]
     },
     "execution_count": 126,
     "metadata": {},
     "output_type": "execute_result"
    },
    {
     "data": {
      "image/png": "[encoded data removed]",
      "text/plain": [
       "<Figure size 432x288 with 1 Axes>"
      ]
     },
     "metadata": {},
     "output_type": "display_data"
    }
   ],
   "source": [
    "eps_assess(test,200)"
   ]
  },
  {
   "cell_type": "code",
   "execution_count": 36,
   "metadata": {},
   "outputs": [
    {
     "data": {
      "text/plain": [
       "<matplotlib.collections.PathCollection at 0x2544c342188>"
      ]
     },
     "execution_count": 36,
     "metadata": {},
     "output_type": "execute_result"
    },
    {
     "data": {
      "image/png": "[encoded data removed]",
      "text/plain": [
       "<Figure size 432x288 with 1 Axes>"
      ]
     },
     "metadata": {},
     "output_type": "display_data"
    }
   ],
   "source": [
    "m = DBSCAN(eps=0.1,min_samples = 5)\n",
    "m.fit(x2)\n",
    "clusters = m.labels_\n",
    "colors = ['royalblue', 'maroon', 'forestgreen', 'mediumorchid', 'tan', 'deeppink', 'olive', 'goldenrod', 'lightcyan', 'navy']\n",
    "vectorizer = np.vectorize(lambda x: colors[x % len(colors)])\n",
    "plt.scatter(x2[:,0], x2[:,1], c=vectorizer(clusters))"
   ]
  },
  {
   "cell_type": "code",
   "execution_count": 16,
   "metadata": {},
   "outputs": [
    {
     "data": {
      "text/plain": [
       "<matplotlib.collections.PathCollection at 0x2544add4408>"
      ]
     },
     "execution_count": 16,
     "metadata": {},
     "output_type": "execute_result"
    },
    {
     "data": {
      "image/png": "[encoded data removed]",
      "text/plain": [
       "<Figure size 432x288 with 1 Axes>"
      ]
     },
     "metadata": {},
     "output_type": "display_data"
    }
   ],
   "source": [
    "x2,y = make_moons(n_samples=600, noise=0.1)\n",
    "plt.scatter(x2[:,0], x2[:,1])"
   ]
  },
  {
   "cell_type": "code",
   "execution_count": 55,
   "metadata": {},
   "outputs": [
    {
     "name": "stdout",
     "output_type": "stream",
     "text": [
      "2\n",
      "Wall time: 968 µs\n",
      "Time: 0.0009684562683105469\n"
     ]
    }
   ],
   "source": [
    "import time\n",
    "\n",
    "start = time.time()\n",
    "\n",
    "a = 1\n",
    "b = 1\n",
    "c = a+b\n",
    "%time print(c)\n",
    "\n",
    "print(f'Time: {time.time() - start}')"
   ]
  },
  {
   "cell_type": "markdown",
   "metadata": {},
   "source": [
    "# Instrumentation"
   ]
  },
  {
   "cell_type": "code",
   "execution_count": 5,
   "metadata": {},
   "outputs": [],
   "source": [
    "import instrument\n",
    "from time import sleep"
   ]
  },
  {
   "cell_type": "code",
   "execution_count": 72,
   "metadata": {},
   "outputs": [
    {
     "name": "stdout",
     "output_type": "stream",
     "text": [
      "[1, 2, 3, 4, 5, 6, 7, 8, 9, 10]\n",
      "__main__.func: 1 items in 0.00 seconds\n"
     ]
    },
    {
     "data": {
      "text/plain": [
       "'func'"
      ]
     },
     "execution_count": 72,
     "metadata": {},
     "output_type": "execute_result"
    }
   ],
   "source": [
    "@instrument.function()\n",
    "def func():\n",
    "    j = []\n",
    "    for i in np.arange(0,10):\n",
    "        i += 1\n",
    "        j.append(i)\n",
    "    print(j)\n",
    "    return ('func')\n",
    "func()"
   ]
  },
  {
   "cell_type": "code",
   "execution_count": 91,
   "metadata": {},
   "outputs": [
    {
     "name": "stdout",
     "output_type": "stream",
     "text": [
      "slowcode: 1 items in 0.18 seconds\n"
     ]
    }
   ],
   "source": [
    "with instrument.block(name=\"slowcode\"):\n",
    "    j = []\n",
    "    for i in np.arange(0,1000000):\n",
    "        j.append(i)"
   ]
  },
  {
   "cell_type": "code",
   "execution_count": 92,
   "metadata": {},
   "outputs": [],
   "source": [
    "def math_is_hard(N):\n",
    "    x = 0\n",
    "    while x < N:\n",
    "        sleep(.1)\n",
    "        yield x * x\n",
    "        x += 1\n",
    "\n",
    "_ = instrument.each(math_is_hard(5))\n",
    "# squares = list(_)"
   ]
  },
  {
   "cell_type": "code",
   "execution_count": 9,
   "metadata": {},
   "outputs": [
    {
     "name": "stdout",
     "output_type": "stream",
     "text": [
      "function start\n",
      "function end\n",
      "function start\n",
      "function end\n",
      "10.01207389999999\n"
     ]
    }
   ],
   "source": [
    "import timeit\n",
    "import time\n",
    "def long_function():\n",
    "    print('function start')\n",
    "    time.sleep(5)\n",
    "    print('function end')\n",
    "print(timeit.Timer(long_function).timeit(number=2))"
   ]
  },
  {
   "cell_type": "code",
   "execution_count": null,
   "metadata": {},
   "outputs": [],
   "source": [
    "import sys\n",
    "# import mss\n",
    "sys.path.append('../')\n",
    "from mss import visreader as mvis\n",
    "from mss import mssmain as msm\n",
    "from mss import align\n",
    "import pandas as pd\n",
    "import numpy as np\n",
    "from tqdm import tqdm"
   ]
  },
  {
   "cell_type": "code",
   "execution_count": 4,
   "metadata": {},
   "outputs": [],
   "source": [
    "path = '../example_data/ex_1.mzML'\n",
    "scans = msm.get_scans(path, ms_all=False, ms_lv=1)\n",
    "#noise removal\n",
    "msm.noise_removal(scans, 2000)"
   ]
  },
  {
   "cell_type": "code",
   "execution_count": 22,
   "metadata": {},
   "outputs": [],
   "source": [
    "def ms_chromatogram_list(mzml_scans, input_mz, error):\n",
    "    '''\n",
    "    Generate a peak list for specific input_mz over\n",
    "    whole rt period from the mzml file\n",
    "    ***Most useful function!\n",
    "    '''\n",
    "    intensity = []\n",
    "    retention_time = [i.scan_time[0] for i in mzml_scans]\n",
    "    for scan in mzml_scans:\n",
    "        _, target_index = msm.mz_locator(scan.mz, input_mz, error)\n",
    "        if len(target_index) == 0:\n",
    "            intensity.append(0)\n",
    "        else:\n",
    "            # intensity.append(scan.i[target_index])\n",
    "            # CR -> if all_than_close=True\n",
    "            # Change from sum to max\n",
    "            intensity.append(max(scan.i[target_index]))\n",
    "\n",
    "    return retention_time, intensity"
   ]
  },
  {
   "cell_type": "code",
   "execution_count": 25,
   "metadata": {},
   "outputs": [
    {
     "data": {
      "text/plain": [
       "{1395: [1259, 1530, 11141765.265787758, 168.969, 1],\n",
       " 1379: [1243, 1514, 11024315.757649738, 39.016, 1],\n",
       " 1411: [1275, 1546, 10521883.167805988, 4.484, 1],\n",
       " 1353: [1217, 1488, 10279178.235351562, 8.623, 1],\n",
       " 2667: [2531, 2802, 10136409.091308592, 35.089, 1]}"
      ]
     },
     "execution_count": 25,
     "metadata": {},
     "output_type": "execute_result"
    }
   ],
   "source": [
    "msm.peak_pick(scans, 299.1765,5000)"
   ]
  },
  {
   "cell_type": "code",
   "execution_count": 24,
   "metadata": {},
   "outputs": [
    {
     "name": "stdout",
     "output_type": "stream",
     "text": [
      "34.4 ms ± 2.61 ms per loop (mean ± std. dev. of 7 runs, 10 loops each)\n"
     ]
    }
   ],
   "source": [
    "%timeit msm.ms_chromatogram_list(scans, 299.1765,5000)"
   ]
  },
  {
   "cell_type": "code",
   "execution_count": 23,
   "metadata": {},
   "outputs": [
    {
     "name": "stdout",
     "output_type": "stream",
     "text": [
      "33.1 ms ± 1.22 ms per loop (mean ± std. dev. of 7 runs, 10 loops each)\n"
     ]
    }
   ],
   "source": [
    "%timeit ms_chromatogram_list(scans, 299.1765,5000)"
   ]
  },
  {
   "cell_type": "code",
   "execution_count": 161,
   "metadata": {},
   "outputs": [
    {
     "name": "stdout",
     "output_type": "stream",
     "text": [
      "mzlocator: 1 items in 0.27 seconds\n"
     ]
    }
   ],
   "source": [
    "with instrument.block(name=\"mzlocator\"):\n",
    "    mzml_scans = scans\n",
    "    input_mz = 299.1765\n",
    "    error = 500\n",
    "    retention_time = []\n",
    "    intensity = []\n",
    "    for scan in mzml_scans: #iteration efficiency is low\n",
    "        retention_time.append(scan.scan_time[0])\n",
    "        _, target_index = msm.mz_locator(scan.mz, input_mz, error)\n",
    "        if len(target_index) == 0:\n",
    "            intensity.append(0)\n",
    "        else:\n",
    "            # intensity.append(scan.i[target_index])\n",
    "            # CR -> if all_than_close=True\n",
    "            # Change from sum to max\n",
    "            intensity.append(max(scan.i[target_index]))"
   ]
  },
  {
   "cell_type": "code",
   "execution_count": 165,
   "metadata": {},
   "outputs": [
    {
     "name": "stdout",
     "output_type": "stream",
     "text": [
      "mzlocator: 1 items in 0.38 seconds\n"
     ]
    }
   ],
   "source": [
    "with instrument.block(name=\"mzlocator\"):\n",
    "    for scan in scans:\n",
    "        input_list = scan.mz\n",
    "        mz = 119.08\n",
    "        error = 500\n",
    "        target_mz = []\n",
    "        target_index = []\n",
    "\n",
    "        # ppm conversion\n",
    "        error = error * 1e-6\n",
    "\n",
    "        lower_mz = mz - error * mz\n",
    "        higher_mz = mz + error * mz\n",
    "\n",
    "        for i, mzs in enumerate(input_list):\n",
    "            if mzs < lower_mz:\n",
    "                continue\n",
    "            elif mzs >= lower_mz:\n",
    "                if mzs <= higher_mz:\n",
    "                    target_mz.append(mzs)\n",
    "                    target_index.append(i)\n",
    "        t_mz = target_mz\n",
    "        t_i = target_index\n",
    "        "
   ]
  },
  {
   "cell_type": "code",
   "execution_count": 16,
   "metadata": {},
   "outputs": [],
   "source": [
    "mzg = range(100)"
   ]
  },
  {
   "cell_type": "code",
   "execution_count": 17,
   "metadata": {},
   "outputs": [
    {
     "name": "stdout",
     "output_type": "stream",
     "text": [
      "410 µs ± 38.1 µs per loop (mean ± std. dev. of 7 runs, 1000 loops each)\n"
     ]
    }
   ],
   "source": [
    "def test():\n",
    "    final_mz=[]\n",
    "    for m in mzg:\n",
    "        lm = m - 1\n",
    "        hm = m + 1\n",
    "        if len([i for i in mzg if i<=hm and i>=lm]) >= 2:\n",
    "            final_mz.append(m)\n",
    "    return\n",
    "%timeit test()"
   ]
  },
  {
   "cell_type": "code",
   "execution_count": 3,
   "metadata": {},
   "outputs": [],
   "source": [
    "path = '../example_data/ex_1.mzML'\n",
    "scans = msm.get_scans(path, ms_all=False, ms_lv=1)\n",
    "#noise removal\n",
    "msm.noise_removal(scans, 2000)"
   ]
  },
  {
   "cell_type": "code",
   "execution_count": null,
   "metadata": {},
   "outputs": [],
   "source": [
    "%timeit msm.ms_chromatogram_list(scans, 299.1765,500)"
   ]
  },
  {
   "cell_type": "code",
   "execution_count": 8,
   "metadata": {},
   "outputs": [
    {
     "name": "stdout",
     "output_type": "stream",
     "text": [
      "1.96 ms ± 45.1 µs per loop (mean ± std. dev. of 7 runs, 1000 loops each)\n"
     ]
    }
   ],
   "source": [
    "%timeit [i.scan_time[0] for i in scans]"
   ]
  },
  {
   "cell_type": "code",
   "execution_count": 9,
   "metadata": {},
   "outputs": [
    {
     "name": "stdout",
     "output_type": "stream",
     "text": [
      "2.18 ms ± 133 µs per loop (mean ± std. dev. of 7 runs, 100 loops each)\n"
     ]
    }
   ],
   "source": [
    "def test():\n",
    "    scant=[]\n",
    "    for i in scans:\n",
    "        scant.append(i.scan_time[0])\n",
    "    return scant\n",
    "%timeit test()"
   ]
  },
  {
   "cell_type": "code",
   "execution_count": 100,
   "metadata": {},
   "outputs": [],
   "source": [
    "def mz_locator(input_list, mz, error, all_than_close=True):\n",
    "    '''\n",
    "    Find specific mzs from given mz and error range out from a given mz array\n",
    "    input list: mz list\n",
    "    mz: input_mz that want to be found\n",
    "    error: error range is now changed to ppm level\n",
    "    all_than_close: False only select closest one, True will append all\n",
    "    '''\n",
    "    # np.asarray(input_list)\n",
    "    target_mz = []\n",
    "    target_index = []\n",
    "\n",
    "    # ppm conversion\n",
    "    error = error * 1e-6\n",
    "\n",
    "    lower_mz = mz - error * mz\n",
    "    higher_mz = mz + error * mz\n",
    "\n",
    "    #cython/numpy array\n",
    "    # 1. keep as python, but change to tuple append rather than two seperate list append\n",
    "    # 2. cython --> faster python loop --> seperate function?\n",
    "    # Check list comprehension\n",
    "    # boolean index \n",
    "    # https://towardsdatascience.com/speeding-up-python-code-fast-filtering-and-slow-loops-8e11a09a9c2f\n",
    "    # index = (mzs <= higher_mz) & (mzs >= lower_mz)\n",
    "    for i, mzs in enumerate(input_list):\n",
    "        if mzs >= lower_mz and mzs <= higher_mz:\n",
    "            target_mz.append(mzs)\n",
    "            target_index.append(i)\n",
    "\n",
    "    if all_than_close is False:\n",
    "        if len(target_mz) != 0:\n",
    "            target_error = [abs(i - mz) for i in target_mz]\n",
    "            minpos = target_error.index(min(target_error))\n",
    "            t_mz = target_mz[minpos]\n",
    "            t_i = target_index[minpos]\n",
    "        else:\n",
    "            t_mz = 0\n",
    "            t_i = 'NA'\n",
    "    if all_than_close is True:\n",
    "        t_mz = target_mz\n",
    "        t_i = target_index\n",
    "\n",
    "    return t_mz, t_i"
   ]
  },
  {
   "cell_type": "code",
   "execution_count": 42,
   "metadata": {},
   "outputs": [],
   "source": [
    "def mz_locator(input_list, mz, error, all_than_close=True):\n",
    "    # ppm conversion\n",
    "    error = error * 1e-6\n",
    "\n",
    "    lower_mz = mz - error * mz\n",
    "    higher_mz = mz + error * mz\n",
    "\n",
    "    target_list = [(i,j) for i, j in enumerate(input_list) if j >= lower_mz and j <= higher_mz]\n",
    "\n",
    "    if all_than_close is False:\n",
    "        if len(target_mz) != 0:\n",
    "            target_error = [abs(i - mz) for i in target_mz]\n",
    "            minpos = target_error.index(min(target_error))\n",
    "            t_mz = target_mz[minpos]\n",
    "            t_i = target_index[minpos]\n",
    "        else:\n",
    "            t_mz = 0\n",
    "            t_i = 'NA'\n",
    "    if all_than_close is True:\n",
    "        t_mz = [i[1] for i in target_list]\n",
    "        t_i = [i[0] for i in target_list]\n",
    "\n",
    "    return t_mz, t_i"
   ]
  },
  {
   "cell_type": "code",
   "execution_count": 44,
   "metadata": {},
   "outputs": [
    {
     "name": "stdout",
     "output_type": "stream",
     "text": [
      "7.62 µs ± 828 ns per loop (mean ± std. dev. of 7 runs, 100000 loops each)\n"
     ]
    }
   ],
   "source": [
    "%timeit msm.mz_locator(scans[1].mz,199.08,50)"
   ]
  },
  {
   "cell_type": "code",
   "execution_count": 101,
   "metadata": {},
   "outputs": [
    {
     "name": "stdout",
     "output_type": "stream",
     "text": [
      "9.08 µs ± 1.03 µs per loop (mean ± std. dev. of 7 runs, 100000 loops each)\n"
     ]
    }
   ],
   "source": [
    "%timeit mz_locator(scans[1].mz,119.08,50)"
   ]
  },
  {
   "cell_type": "code",
   "execution_count": null,
   "metadata": {},
   "outputs": [],
   "source": []
  },
  {
   "cell_type": "code",
   "execution_count": 49,
   "metadata": {},
   "outputs": [],
   "source": [
    "input_list = scans[1].mz\n",
    "array = np.asarray(input_list)"
   ]
  },
  {
   "cell_type": "code",
   "execution_count": 55,
   "metadata": {},
   "outputs": [],
   "source": [
    "index = (array>=107) & (array<=120)"
   ]
  },
  {
   "cell_type": "code",
   "execution_count": 63,
   "metadata": {},
   "outputs": [
    {
     "data": {
      "text/plain": [
       "(array([1, 2]),)"
      ]
     },
     "execution_count": 63,
     "metadata": {},
     "output_type": "execute_result"
    }
   ],
   "source": [
    "np.where(index)"
   ]
  },
  {
   "cell_type": "code",
   "execution_count": 103,
   "metadata": {},
   "outputs": [
    {
     "name": "stdout",
     "output_type": "stream",
     "text": [
      "Boolean index:\t4.31 µs ± 418 ns per loop (mean ± std. dev. of 7 runs, 100000 loops each)\n"
     ]
    }
   ],
   "source": [
    "input_list = scans[1].mz\n",
    "array = np.asarray(input_list)\n",
    "\n",
    "def boolean_index(array,mz,error,all_than_close=True):\n",
    "    #array = np.asarray(input_list)\n",
    "    error = error * 1e-6\n",
    "\n",
    "    lower_mz = mz - error * mz\n",
    "    higher_mz = mz + error * mz\n",
    "    \n",
    "\n",
    "    index = (array >= lower_mz) & (array <= higher_mz)\n",
    "\n",
    "    return array[index],np.where(index)[0]\n",
    "\n",
    "print('Boolean index:\\t', end='')\n",
    "%timeit boolean_index(array,119.08,50)"
   ]
  },
  {
   "cell_type": "code",
   "execution_count": 90,
   "metadata": {},
   "outputs": [
    {
     "data": {
      "text/plain": [
       "(array([119.0813377]), array([2]))"
      ]
     },
     "execution_count": 90,
     "metadata": {},
     "output_type": "execute_result"
    }
   ],
   "source": [
    "boolean_index(input_list,119.08,50)"
   ]
  },
  {
   "cell_type": "code",
   "execution_count": 98,
   "metadata": {},
   "outputs": [
    {
     "name": "stdout",
     "output_type": "stream",
     "text": [
      "198 ms ± 22 ms per loop (mean ± std. dev. of 7 runs, 1 loop each)\n"
     ]
    }
   ],
   "source": [
    "def ms_chromatogram_list(mzml_scans, input_mz, error):\n",
    "    '''\n",
    "    Generate a peak list for specific input_mz over\n",
    "    whole rt period from the mzml file\n",
    "    ***Most useful function!\n",
    "    '''\n",
    "\n",
    "    # Create empty list to store the data\n",
    "    retention_time = []\n",
    "    intensity = []\n",
    "    for scan in mzml_scans:\n",
    "        retention_time.append(scan.scan_time[0])\n",
    "        _, target_index = mz_locator(scan.mz, input_mz, error)\n",
    "        if len(target_index) == 0:\n",
    "            intensity.append(0)\n",
    "        else:\n",
    "            intensity.append(max(scan.i[target_index]))\n",
    "\n",
    "    return retention_time, intensity\n",
    "%timeit ms_chromatogram_list(scans,299.1765,5000)"
   ]
  },
  {
   "cell_type": "code",
   "execution_count": 95,
   "metadata": {},
   "outputs": [
    {
     "data": {
      "text/plain": [
       "[<matplotlib.lines.Line2D at 0x7fea62b8ee50>]"
      ]
     },
     "execution_count": 95,
     "metadata": {},
     "output_type": "execute_result"
    },
    {
     "data": {
      "image/png": "[encoded data removed]",
      "text/plain": [
       "<Figure size 432x288 with 1 Axes>"
      ]
     },
     "metadata": {},
     "output_type": "display_data"
    }
   ],
   "source": [
    "i,j = ms_chromatogram_list(scans,299.1765,5000)\n",
    "plt.plot(i,j)"
   ]
  },
  {
   "cell_type": "code",
   "execution_count": 13,
   "metadata": {},
   "outputs": [
    {
     "data": {
      "text/plain": [
       "KstestResult(statistic=1.0, pvalue=0.007936507936507936)"
      ]
     },
     "execution_count": 13,
     "metadata": {},
     "output_type": "execute_result"
    }
   ],
   "source": [
    "#Compare different distributions\n",
    "ks_2samp([1,2,3,4,5],[9,9,9,9,9])"
   ]
  },
  {
   "cell_type": "code",
   "execution_count": null,
   "metadata": {},
   "outputs": [],
   "source": [
    "'''\n",
    "1. use rt/mz pair to align unknown with the source features\n",
    "2. if lower than n%, then using relative distance for correction\n",
    "3. use ks_2samp to compare the peak area distribution similarity \n",
    "4. generate scores based on values obtained\n",
    "'''\n",
    "\n",
    "'''\n",
    "image process\n",
    "1. generate key feature image from source feautures only\n",
    "2. scoring use sample image with both source and noise\n",
    "'''"
   ]
  }
 ],
 "metadata": {
  "kernelspec": {
   "display_name": "Python 3",
   "language": "python",
   "name": "python3"
  },
  "language_info": {
   "codemirror_mode": {
    "name": "ipython",
    "version": 3
   },
   "file_extension": ".py",
   "mimetype": "text/x-python",
   "name": "python",
   "nbconvert_exporter": "python",
   "pygments_lexer": "ipython3",
   "version": "3.8.5"
  }
 },
 "nbformat": 4,
 "nbformat_minor": 2
}

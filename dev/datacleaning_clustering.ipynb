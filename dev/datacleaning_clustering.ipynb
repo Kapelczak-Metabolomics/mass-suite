{
 "cells": [
  {
   "cell_type": "code",
   "execution_count": 2,
   "metadata": {},
   "outputs": [],
   "source": [
    "import pandas as pd\n",
    "import numpy as np\n",
    "from itertools import groupby\n",
    "from tqdm import tqdm\n",
    "import matplotlib.pyplot as plt\n",
    "import seaborn as sns\n",
    "from sklearn import preprocessing\n",
    "from sklearn import cluster,mixture\n",
    "from sklearn.cluster import DBSCAN\n",
    "from sklearn.manifold import TSNE\n",
    "import scipy"
   ]
  },
  {
   "cell_type": "code",
   "execution_count": 3,
   "metadata": {},
   "outputs": [],
   "source": [
    "d_ms = pd.read_csv('../example_data/clustering/sample1114.csv')"
   ]
  },
  {
   "cell_type": "code",
   "execution_count": 4,
   "metadata": {},
   "outputs": [],
   "source": [
    "d_ms = d_ms.rename(columns={'Average Rt(min)': 'Average RT (min)', 'Average Mz': 'Average m/z', 'S/N average': 'Average sn'})\n",
    "d_ms.insert(3, \"Average score\", 1)"
   ]
  },
  {
   "cell_type": "code",
   "execution_count": 5,
   "metadata": {},
   "outputs": [],
   "source": [
    "keys=['CEC','Blank','ISTD','Wash','Shutdown']"
   ]
  },
  {
   "cell_type": "code",
   "execution_count": 6,
   "metadata": {},
   "outputs": [],
   "source": [
    "def data_prep(d_input, blank_keyword, svb_thres=10, empty_thres=0, cv_thres=5,rt_range=[0, 30], mz_range=[0, 1200], sn_thres=3, score_thres=0, area_thres=5000):\n",
    "    '''\n",
    "    The function is used to clean the dataframe according to user setting\n",
    "    blank_keyword: part of string from column that indicates the column is a blank sample\n",
    "    svb_thres: sample vs blank thres\n",
    "    empty_thres: empty cell thres in a row\n",
    "    cv_thres: as all sample is in triplicate, calculate the CV for every triplicate sample set #Needs to be updated in case there is no triplicate samples\n",
    "    rt_range: rt filter\n",
    "    mz_range: mz filter\n",
    "    sn_thres: signal/noise column thres\n",
    "    score_thres: score column thres\n",
    "    area_thres: count for max peak area from each row\n",
    "    '''\n",
    "    d_thres = d_input[d_input[d_input.columns[4:]].max(1) >= area_thres]\n",
    "    \n",
    "    d_thres = d_thres[(d_thres['Average RT (min)'] > rt_range[0]) & (d_thres['Average RT (min)'] < rt_range[1])]\n",
    "    d_thres = d_thres[(d_thres['Average m/z'] > mz_range[0]) & (d_thres['Average m/z'] < mz_range[1])]\n",
    "    d_thres = d_thres[d_thres['Average sn'] >= sn_thres]\n",
    "    d_thres = d_thres[d_thres['Average score'] >= score_thres]\n",
    "    d_thres.reset_index(inplace=True, drop=True)\n",
    "    \n",
    "    col_blank = []\n",
    "    for key in blank_keyword:\n",
    "        # Get column name if it contains blank indicating strings\n",
    "        col_blank.extend([col for col in d_thres.columns if key in col])\n",
    "        \n",
    "    col_sample = [col for col in d_thres.columns if col not in col_blank]\n",
    "    # Sample maximum area vs Blank average area to count for svb\n",
    "    d_sample = d_thres[d_thres[col_sample[4:]].max(axis=1) / d_thres[col_blank].mean(axis=1) > svb_thres][col_sample] \n",
    "    d_sample.reset_index(inplace=True)\n",
    "    d_sample.drop(columns=['index'],inplace=True)\n",
    "    \n",
    "    # Get a list of triplicate, every triplicate is in a sublist\n",
    "    #Sample: [[a1,a2,a3],[b1,b2,b3]]\n",
    "    #Note: the triplicate parsing is now only used '_' which needs update in the future\n",
    "    trip_list = [list(i) for j, i in groupby(d_sample.columns[4:], lambda a: a.split('_')[:-1])] \n",
    "    trip_list = [i for i in trip_list if len(i)>=2] #filter out columns that is not in triplicate -- sample naming issue\n",
    "\n",
    "    for triplicate in tqdm(trip_list):\n",
    "        # DM: maybe use iterrtuples? iterrows has low efficiency and is not reccomended \n",
    "        for row in d_sample[triplicate].itertuples(): # Loop for every sets of triplicates\n",
    "            if row[1:].count(0) > empty_thres:\n",
    "                d_sample.loc[row.Index, triplicate] = 0 # if more than thres, then set all three values to 0\n",
    "            elif np.mean(row[1:]) != 0:\n",
    "                if np.std(row[1:]) / np.mean(row[1:]) > cv_thres:\n",
    "                    d_sample.loc[row.Index, triplicate] = 0 #If delete or reduce all number to avg?\n",
    "            else:\n",
    "                pass\n",
    "            \n",
    "    d_sample = d_sample[~(d_sample[d_sample.columns[4:]]==0).all(1)] #clean rows with all 0\n",
    "    \n",
    "    return d_sample"
   ]
  },
  {
   "cell_type": "code",
   "execution_count": 7,
   "metadata": {},
   "outputs": [
    {
     "name": "stderr",
     "output_type": "stream",
     "text": [
      "100%|██████████| 35/35 [02:12<00:00,  3.79s/it]\n"
     ]
    }
   ],
   "source": [
    "d_sample = data_prep(d_ms,keys,rt_range = [1,30], mz_range = [200,800], area_thres=500)"
   ]
  },
  {
   "cell_type": "code",
   "execution_count": 8,
   "metadata": {},
   "outputs": [],
   "source": [
    "def ms_cluster(d_input, select_keyword, normalization='linear', visual=False, d_reduce=True, d_reduce_method='tsne', perplexity=20, cluster_method='dbscan',eps=0.8,min_samples=10):\n",
    "    '''\n",
    "    Function for direct clustering:\n",
    "    normalization method: linear, zscore, log\n",
    "    d_reduce: if perform the dimension reduction algorithm, method: only tsne is avilable now\n",
    "    perplexity: parameter for tsne\n",
    "    cluster_method: dbscan, later will update optic and spectrum\n",
    "    eps: parameter for dbscan, threshold of radius that used to count neighbours\n",
    "    min_samples: general parameter for clustering, min neighbourhoods to be counted as a cluster\n",
    "    '''\n",
    "    col_select = []\n",
    "    for key in select_keyword:\n",
    "        col_select.extend([col for col in d_input.columns if key in col])\n",
    "    d_clu = d_input[col_select]\n",
    "    \n",
    "    c_data = d_clu.values\n",
    "    c_norm = []\n",
    "    #Performs normalization\n",
    "    np.seterr(divide='ignore', invalid='ignore') #silent the warning -- but divide by 0 still exist\n",
    "    for row in c_data:\n",
    "        if normalization == 'linear':\n",
    "            c_norm.append(row/max(row))\n",
    "        elif normalization == 'zscore':\n",
    "            c_norm.append((row-np.mean(row))/np.std(row))\n",
    "        elif normalization == 'log':\n",
    "            row[row==0]=1\n",
    "            c_norm.append(np.log10(row)/np.log10(max(row)))\n",
    "        else:\n",
    "            pass\n",
    "    #Clean up dataframe\n",
    "    c_norm = np.asarray(c_norm)\n",
    "    d_norm = pd.DataFrame(c_norm)\n",
    "    d_norm['index']=d_sample.index\n",
    "    d_norm.set_index('index',inplace=True)\n",
    "    d_norm.dropna(how='all',inplace=True)\n",
    "    \n",
    "    if d_reduce == True:\n",
    "        if d_reduce_method == 'tsne':\n",
    "            model = TSNE(learning_rate=100,perplexity=50,n_iter=1000) #Tune perplexity and n_iter\n",
    "            transformed = model.fit_transform(d_norm)\n",
    "            d_feature = transformed.copy()\n",
    "        else:\n",
    "            pass\n",
    "    elif d_reduce == False:\n",
    "        d_feature = d_norm.copy()\n",
    "    else:\n",
    "        pass\n",
    "    \n",
    "    if cluster_method == 'dbscan':\n",
    "        dbscan = cluster.DBSCAN(eps=eps, min_samples=min_samples).fit(d_feature)\n",
    "        labels = dbscan.labels_\n",
    "        unique_labels = set(dbscan.labels_)\n",
    "        \n",
    "        if visual == True:\n",
    "            for i,k in enumerate(unique_labels):\n",
    "                indexlist = list(np.argwhere(labels==k).reshape(1,-1)[0])\n",
    "                sns.clustermap(d_norm.iloc[indexlist].values,cmap='Reds',col_cluster=True,yticklabels=False,xticklabels=False,figsize=(5,5))\n",
    "                plt.title(str(dbscan)+'label='+ str(k))\n",
    "                plt.show()\n",
    "        else:\n",
    "            pass\n",
    "        d_init = d_sample.copy()\n",
    "        d_label = d_init.loc[d_norm.index] #Use the index to match back to the original datasheet\n",
    "        d_label.insert(4,\"label\", dbscan.labels_.tolist())\n",
    "    elif cluster_method == 'optics':\n",
    "        optics = cluster.OPTICS(min_samples=min_samples).fit(d_feature)\n",
    "        labels = optics.labels_\n",
    "        unique_labels = set(optics.labels_)\n",
    "        if visual == True:\n",
    "            for i,k in enumerate(unique_labels):\n",
    "                indexlist = list(np.argwhere(labels==k).reshape(1,-1)[0])\n",
    "                sns.clustermap(d_norm.iloc[indexlist].values,cmap='Reds',col_cluster=True,yticklabels=False,xticklabels=False,figsize=(5,5))\n",
    "                plt.title(str(optics)+'label='+ str(k))\n",
    "                plt.show()\n",
    "        else:\n",
    "            pass\n",
    "        d_init = d_sample.copy()\n",
    "        d_label = d_init.loc[d_norm.index] #Use the index to match back to the original datasheet\n",
    "        d_label.insert(4,\"label\", optics.labels_.tolist())\n",
    "    else:\n",
    "        pass\n",
    "    \n",
    "    #Post filter -- filter out features that present in other sources but not SR520 -- keep it open for now\n",
    "    #If activate add one more variable:source_keyword\n",
    "#     col_source = []\n",
    "#     for key in source_keyword:\n",
    "#         col_app = [col for col in d_thres.columns if key in col]\n",
    "#         col_source += col_app\n",
    "#     col_rest = [col for col in d_label.columns if col not in source][5:]\n",
    "#     d_label[col_app].max(1) / d_label[col_rest].max(1)\n",
    "    \n",
    "    return d_label"
   ]
  },
  {
   "cell_type": "code",
   "execution_count": 9,
   "metadata": {},
   "outputs": [],
   "source": [
    "d_label = ms_cluster(d_sample, ['SR520-Cal'], 'linear', d_reduce=False, visual=False, cluster_method='dbscan', eps=0.6, min_samples=10)"
   ]
  },
  {
   "cell_type": "code",
   "execution_count": 10,
   "metadata": {},
   "outputs": [],
   "source": [
    "# options: all_data/clusters seperately\n",
    "# models: multiple linear/ random forest/ etc..\n",
    "# def modeling:\n",
    "#     select option\n",
    "#     select model\n",
    "#     if option all_data:\n",
    "#         model.fit(data) --> training 1114data, test 0815data\n",
    "#     elif option cluster:\n",
    "#         for group in cluster:\n",
    "#             model.fit(group)\n",
    "#         all_model -- > final_model"
   ]
  },
  {
   "cell_type": "code",
   "execution_count": 11,
   "metadata": {},
   "outputs": [],
   "source": [
    "# post filtering of dilution cluster\n",
    "# source tracking:\n",
    "#     1. samples from different sites\n",
    "#     2. vann diagram--> 'source subtraction' --> unique features for different source\n",
    "#     3. use cluster/noise distinguish method --> remove noises, get clusters\n",
    "#     4. source proportioning prediction "
   ]
  },
  {
   "cell_type": "markdown",
   "metadata": {},
   "source": [
    "# Trend Clustering Method "
   ]
  },
  {
   "cell_type": "code",
   "execution_count": 12,
   "metadata": {},
   "outputs": [],
   "source": [
    "def trend_calc(d_input, select_keyword, min_size=5, normalization='linear', method='pearsonr',visual=True):\n",
    "    \"\"\"This function calculates clustering based on the pearson correlation.\n",
    "    It takes in a dataframe and a user defined value for what qualifies as a cluster.\n",
    "    User can choose whether or not to have a visual plot of the scatter with True/False.\"\"\"\n",
    "    col_select = []\n",
    "    for key in select_keyword:\n",
    "        col_app = [col for col in d_input.columns if key in col]\n",
    "        col_select += col_app\n",
    "    d_clu = d_input[col_select]\n",
    "    \n",
    "    c_data = d_clu.values\n",
    "    c_norm = []\n",
    "    for row in c_data:\n",
    "        if normalization == 'linear':\n",
    "            c_norm.append(row/max(row))\n",
    "        elif normalization == 'zscore':\n",
    "            c_norm.append((row-np.mean(row))/np.std(row))\n",
    "        elif normalization == 'log':\n",
    "            row[row==0]=1\n",
    "            c_norm.append(np.log10(row)/np.log10(max(row)))\n",
    "    c_norm = np.asarray(c_norm)\n",
    "    d_norm = pd.DataFrame(c_norm)\n",
    "    d_norm['index']=d_sample.index\n",
    "    d_norm.set_index('index',inplace=True)\n",
    "    d_norm.dropna(how='all',inplace=True)\n",
    "    \n",
    "    #Post treatment to fit the d_norm into original codes\n",
    "    d_norm.insert(0,\"RT\", d_label['Average RT (min)'].tolist())\n",
    "    d_norm.insert(1,\"MZ\", d_label['Average m/z'].tolist())\n",
    "    d_norm = d_norm.reset_index(drop=True)\n",
    "    \n",
    "    \n",
    "    #Original codes\n",
    "    cluster = [] # individual cluster holder\n",
    "    cluster_sum = [] # total clusters\n",
    "    drop_list = [] # rows that are dropped from the df\n",
    "    noise = [] # list for containing noise features\n",
    "    while len(d_norm) > 0:\n",
    "        for row in range(len(d_norm)):\n",
    "            feature_1 = d_norm.iloc[0]\n",
    "            feature_2 = d_norm.iloc[row]\n",
    "            if method == 'pearsonr':\n",
    "                corr, p_val = scipy.stats.pearsonr(d_norm.iloc[0, 2:], d_norm.iloc[row, 2:]) \n",
    "            elif method == 'mannwhitneyu':\n",
    "                corr, p_val = scipy.stats.mannwhitneyu(d_norm.iloc[0, 2:], d_norm.iloc[row, 2:]) \n",
    "            elif method == 'kruskal':\n",
    "                corr, p_val = scipy.stats.kruskal(d_norm.iloc[0, 2:], d_norm.iloc[row, 2:]) \n",
    "            if p_val < 0.05:\n",
    "                drop_list.append(row)\n",
    "                cluster += [feature_2]\n",
    "            else:\n",
    "                pass\n",
    "        if len(cluster) <= min_size:\n",
    "            noise += [cluster]\n",
    "            cluster = []\n",
    "        else:\n",
    "            cluster_sum += [cluster]\n",
    "            cluster = []\n",
    "        d_norm = d_norm.drop(drop_list)\n",
    "        d_norm = d_norm.reset_index(drop=True)\n",
    "        drop_list = []\n",
    "    append_list = []\n",
    "    for i in range(len(cluster_sum)):\n",
    "        for j in range(len(cluster_sum[i])):\n",
    "            cluster_sum[i][j].loc['Score']= i\n",
    "            listing = np.array(cluster_sum[i][j])\n",
    "            append_list.append(listing)\n",
    "    cluster_df = pd.DataFrame(append_list) #Add columns use d_clu\n",
    "    append_list2 = []\n",
    "    for k in range(len(noise)):\n",
    "        for l in range(len(noise[k])):\n",
    "            noise[k][l].loc['Score']= -1\n",
    "            listing2 = np.array(noise[k][l])\n",
    "            append_list2.append(listing2)\n",
    "    noise_df = pd.DataFrame(append_list2)\n",
    "    final_df = pd.concat([cluster_df, noise_df])\n",
    "    final_df = final_df.reset_index(drop=True)\n",
    "    if visual == True:\n",
    "        labels = final_df.iloc[:,-1:].values.reshape(1,-1)[0]\n",
    "        unique_labels = set(labels)\n",
    "        for i,k in enumerate(unique_labels):\n",
    "            indexlist = list(np.argwhere(labels==k).reshape(1,-1)[0])\n",
    "            sns.clustermap(final_df.iloc[indexlist,2:-1].values,cmap='Reds',col_cluster=True,yticklabels=False,xticklabels=False,figsize=(5,5))\n",
    "            plt.title('trend'+'label='+ str(k))\n",
    "            plt.show()\n",
    "    else:\n",
    "        pass\n",
    "    return final_df"
   ]
  },
  {
   "cell_type": "code",
   "execution_count": 13,
   "metadata": {},
   "outputs": [],
   "source": [
    "d_1=trend_calc(d_sample, ['SR520-Cal'], min_size=5, normalization='zscore', visual=False)"
   ]
  },
  {
   "cell_type": "code",
   "execution_count": 14,
   "metadata": {},
   "outputs": [],
   "source": [
    "# Modeling part"
   ]
  },
  {
   "cell_type": "code",
   "execution_count": 15,
   "metadata": {},
   "outputs": [],
   "source": [
    "d_test = pd.read_csv('../example_data/clustering/sample0815.csv')\n",
    "d_model = d_label[d_label['label']!=-1] # 1114.csv"
   ]
  },
  {
   "cell_type": "code",
   "execution_count": 16,
   "metadata": {},
   "outputs": [],
   "source": [
    "#Alignment of new dataset\n",
    "rt_error = 0.5\n",
    "mz_error = 0.015\n",
    "result = []\n",
    "for row in np.arange(len(d_model)):\n",
    "    overlap = np.where((d_test.iloc[:, 0] - rt_error <=\n",
    "                                    d_model.iloc[row, 0]) & (d_model.iloc[row, 0] <=\n",
    "                                    d_test.iloc[:, 0] + rt_error) & (d_test.iloc[:, 1] - mz_error <=\n",
    "                                    d_model.iloc[row, 1]) & (d_model.iloc[row, 1] <=\n",
    "                                    d_test.iloc[:, 1] + mz_error))\n",
    "    if len(overlap[0]) == 1:\n",
    "        result.append([overlap[0][0], row])\n",
    "    elif len(overlap[0]) > 1:\n",
    "        dist = []\n",
    "        for i in overlap[0]:\n",
    "            dist.append(np.sqrt(((d_test.iloc[i, 0] - d_model.iloc[row, 0])**2) +\n",
    "                                ((d_test.iloc[i, 1] - d_model.iloc[row, 1])**2)))\n",
    "        result.append([overlap[0][np.argmin(dist)], row])"
   ]
  },
  {
   "cell_type": "code",
   "execution_count": 17,
   "metadata": {},
   "outputs": [],
   "source": [
    "#Modeling using overlapping features except noises\n",
    "test_index = [i[0] for i in result]\n",
    "model_index = [i[1] for i in result]\n",
    "d_test = d_test.loc[test_index]\n",
    "d_model = d_model.iloc[model_index]\n",
    "data = [d_model, d_test]"
   ]
  },
  {
   "cell_type": "code",
   "execution_count": 18,
   "metadata": {},
   "outputs": [],
   "source": [
    "col_model = [col for col in d_model.columns if 'SR520-Cal' in col]\n",
    "d_model = d_model[col_model].T\n",
    "d_model.reset_index(inplace=True)\n",
    "d_model = d_model.rename(columns={'index':'dilu_vol'})\n",
    "d_model['dilu_vol'] = d_model['dilu_vol'].apply(lambda x : x.replace('-','_'))\n",
    "d_model['dilu_vol'] = d_model['dilu_vol'].apply(lambda x : float(x.split('_')[-2][:-2]))"
   ]
  },
  {
   "cell_type": "code",
   "execution_count": 19,
   "metadata": {},
   "outputs": [],
   "source": [
    "col_test = [col for col in d_test.columns if 'SR520_Cal' in col]\n",
    "d_test = d_test[col_test].T\n",
    "d_test.reset_index(inplace=True)\n",
    "d_test = d_test.rename(columns={'index':'dilu_vol'})\n",
    "d_test['dilu_vol'] = d_test['dilu_vol'].apply(lambda x : float(x.split('_')[-2][:-2]))"
   ]
  },
  {
   "cell_type": "code",
   "execution_count": 20,
   "metadata": {},
   "outputs": [],
   "source": [
    "from sklearn.ensemble import RandomForestClassifier\n",
    "from sklearn import metrics\n",
    "from sklearn import linear_model"
   ]
  },
  {
   "cell_type": "code",
   "execution_count": 21,
   "metadata": {},
   "outputs": [],
   "source": [
    "X_train = d_model.iloc[: , 1:]\n",
    "y_train = d_model['dilu_vol']\n",
    "X_test = d_test.iloc[: , 1:]\n",
    "y_test = d_test['dilu_vol']"
   ]
  },
  {
   "cell_type": "code",
   "execution_count": 22,
   "metadata": {},
   "outputs": [
    {
     "name": "stdout",
     "output_type": "stream",
     "text": [
      "Accuracy: 0.7692307692307693\n"
     ]
    }
   ],
   "source": [
    "#Ref: selflearning/direct-modeling.ipynb\n",
    "#Due to small sample size, maybe consider decision tree or random forest rather than knn\n",
    "#Model all features at one step:\n",
    "model = RandomForestClassifier(n_estimators=100, \n",
    "                               bootstrap = True,\n",
    "                               max_features = 'sqrt')\n",
    "# Fit on training data\n",
    "model.fit(X_train, y_train)\n",
    "y_pred = model.predict(X_test)\n",
    "print(\"Accuracy:\",metrics.accuracy_score(y_test, y_pred)) #How to deal with the data shape? -- align old data and new data together"
   ]
  },
  {
   "cell_type": "code",
   "execution_count": 23,
   "metadata": {},
   "outputs": [],
   "source": [
    "reg = linear_model.LinearRegression() #Colinearity is heavy -- grouping and reduce variable could impact alot\n",
    "reg.fit(X_train, y_train)\n",
    "y_pred = reg.predict(X_test)"
   ]
  },
  {
   "cell_type": "code",
   "execution_count": 24,
   "metadata": {},
   "outputs": [
    {
     "data": {
      "text/plain": [
       "[<matplotlib.lines.Line2D at 0x7fcb161fedd0>]"
      ]
     },
     "execution_count": 24,
     "metadata": {},
     "output_type": "execute_result"
    },
    {
     "data": {
      "image/png": "[encoded data removed]",
      "text/plain": [
       "<Figure size 432x288 with 1 Axes>"
      ]
     },
     "metadata": {
      "needs_background": "light"
     },
     "output_type": "display_data"
    }
   ],
   "source": [
    "plt.scatter(y_test,y_pred,marker='+')\n",
    "plt.plot([0,1000],[0,1000])"
   ]
  },
  {
   "cell_type": "markdown",
   "metadata": {},
   "source": [
    "|x1 0|x2 1|x3 0|x4 1|x5 1|y|\n",
    "|---|---|---|---|---|---|\n",
    "|1|2|3|5|6|dilution|\n",
    "|1|2|3|5|6|dilution|\n",
    "|1|2|3|5|6|dilution|\n",
    "|1|2|3|5|6|dilution|\n",
    "|1|2|3|5|6|dilution|\n",
    "|1|2|3|5|6|dilution|\n",
    "|5|5|8|10|100|unknown dilution|"
   ]
  },
  {
   "cell_type": "markdown",
   "metadata": {},
   "source": [
    "cluster 0 : 1000 features\n",
    "\n",
    "cluster 1: 1000features \n",
    "\n",
    "2: 1000\n",
    "    \n",
    "1. build models on individual clusters: model0 from cluster0 1000 features, model1 from c1 1000features\n",
    "y = ax1+bx2+c\n",
    "y = ax1+blog(x1)+cx1^2+dx2+ --> simplified one\n",
    "\n",
    "2. build models iteratively: randomly pick 50 features from each of clusters, 50 * 3 = 150 features --> model1 --> repeat n times --> \n",
    "\n",
    "3. select representative features:  --> reduce feature numbers in each clusters\n",
    "     1. exclude outliers, 25%-5/50%-10/75%-5 (intensity) features for each cluster\n",
    "     2. calculate the general trend of your cluster and select features base on that"
   ]
  },
  {
   "cell_type": "code",
   "execution_count": 25,
   "metadata": {},
   "outputs": [
    {
     "ename": "SyntaxError",
     "evalue": "invalid syntax (<ipython-input-25-e93aad92a2e9>, line 3)",
     "output_type": "error",
     "traceback": [
      "\u001b[0;36m  File \u001b[0;32m\"<ipython-input-25-e93aad92a2e9>\"\u001b[0;36m, line \u001b[0;32m3\u001b[0m\n\u001b[0;31m    pretreat dataset -- realignment, data clean, etc.\u001b[0m\n\u001b[0m                   ^\u001b[0m\n\u001b[0;31mSyntaxError\u001b[0m\u001b[0;31m:\u001b[0m invalid syntax\n"
     ]
    }
   ],
   "source": [
    "def function(dataset, cluster_algorithm=True, model_method='OLS,RF,etc.', report=True, *model_param):\n",
    "    #All the data inputed should be in the same shape\n",
    "    pretreat dataset -- realignment, data clean, etc.\n",
    "    split dataset into train and test\n",
    "    if use cluster information\n",
    "    \n",
    "    train model\n",
    "    test model\n",
    "    \n",
    "    if generate report -- RSE,loss function\n",
    "    return model\n",
    "\n",
    "the model should be able to use later use model.predict()"
   ]
  },
  {
   "cell_type": "markdown",
   "metadata": {},
   "source": [
    "# Small data solution:\n",
    "1. use simple model -- OLS, rf/dt\n",
    "2. emsemble method -- combine models from different clusters\n",
    "    1. for instance, seperately build model on n clusters and combine the prediction result at the end\n",
    "    2. further, do the iterative modeling -- take n features out from each cluster, build model, merge result, repeat the process\n",
    "3. use less features for modeling -- only use the features that is representative for the clusters\n",
    "\n",
    "this is especially useful in our case as most of the features within the same cluster should have strong collinearity\n",
    "    \n",
    "    strategy to reduce features in clusters:\n",
    "    0. before reduction, need to verify the cluster is correctly seperated\n",
    "    1. select features most close to the average (normalized average)\n",
    "    2. select features at lower/upper/25%/50%/75% boundaries\n",
    "    3. select features with highest intensity/lowest intensity\n",
    "    \n",
    "<font color = 'red'>4. get confidence interval rather than only a solid prediction result\n"
   ]
  },
  {
   "cell_type": "code",
   "execution_count": 28,
   "metadata": {},
   "outputs": [],
   "source": [
    "from sklearn.ensemble import RandomForestClassifier\n",
    "from sklearn import metrics\n",
    "from sklearn import linear_model\n",
    "from sklearn.svm import SVC\n",
    "from sklearn.ensemble import BaggingClassifier\n",
    "from sklearn.ensemble import BaggingRegressor\n",
    "\n",
    "from sklearn.datasets import make_classification\n",
    "from sklearn.neighbors import KNeighborsClassifier\n",
    "from sklearn.datasets import make_classification"
   ]
  },
  {
   "cell_type": "code",
   "execution_count": 34,
   "metadata": {},
   "outputs": [
    {
     "name": "stdout",
     "output_type": "stream",
     "text": [
      "Accuracy: 0.9395012567181343\n"
     ]
    }
   ],
   "source": [
    "model1  = BaggingRegressor(base_estimator=SVC(),\n",
    "...                         n_estimators=1000, random_state=0).fit(X_train, y_train)\n",
    "y_pred = model1.predict(X_test)\n",
    "print(\"Accuracy:\",model1.score(X_test,y_test)) #How to deal with the data shape? -- align old data and new data together"
   ]
  },
  {
   "cell_type": "code",
   "execution_count": 54,
   "metadata": {},
   "outputs": [
    {
     "name": "stdout",
     "output_type": "stream",
     "text": [
      "Accuracy: 1.0\n"
     ]
    }
   ],
   "source": [
    "model1  = BaggingClassifier(base_estimator=KNeighborsClassifier(),\n",
    "...                         n_estimators=1000, random_state=0).fit(X_train, y_train)\n",
    "y_pred = model1.predict(X_test)\n",
    "print(\"Accuracy:\",metrics.accuracy_score(y_test, y_pred)) #How to deal with the data shape? -- align old data and new data together"
   ]
  },
  {
   "cell_type": "code",
   "execution_count": 58,
   "metadata": {},
   "outputs": [
    {
     "name": "stdout",
     "output_type": "stream",
     "text": [
      "Accuracy: 0.8461538461538461\n"
     ]
    }
   ],
   "source": [
    "model = RandomForestClassifier(n_estimators=1000, \n",
    "                               bootstrap = True,\n",
    "                               max_features = 'sqrt')\n",
    "model.fit(X_train, y_train)\n",
    "y_pred = model.predict(X_test)\n",
    "print(\"Accuracy:\",metrics.accuracy_score(y_test, y_pred)) #How to deal with the data shape? -- align old data and new data together"
   ]
  },
  {
   "cell_type": "code",
   "execution_count": 99,
   "metadata": {
    "scrolled": true
   },
   "outputs": [
    {
     "name": "stdout",
     "output_type": "stream",
     "text": [
      "what confidence level would you like to test? 90\n",
      "your confidence level is 90 +/- 18.71%\n"
     ]
    }
   ],
   "source": [
    "# confidence interval: Z = 1.64(90%), 1.96(95%), 2.33(98%), 2/58(99%)\n",
    "confidence_interval = int(input(\"what confidence level would you like to test? \"))\n",
    "z_value = {90:1.64,95:1.96,98:2.33,99:2.58}\n",
    "n = 10\n",
    "interval = z_value[confidence_interval] * ((metrics.accuracy_score(y_test,y_pred) * (1-metrics.accuracy_score(y_test,y_pred)))/n)**(1/2)\n",
    "new_interval = format(interval*100, '.2f')\n",
    "print(\"your confidence level is \" + str(confidence_interval) + \" +/- \" + str(new_interval) + \"%\")"
   ]
  },
  {
   "cell_type": "code",
   "execution_count": 102,
   "metadata": {},
   "outputs": [
    {
     "name": "stdout",
     "output_type": "stream",
     "text": [
      "Automatically created module for IPython interactive environment\n"
     ]
    },
    {
     "ename": "ValueError",
     "evalue": "x and y must have same first dimension, but have shapes (400,) and (1,)",
     "output_type": "error",
     "traceback": [
      "\u001b[0;31m---------------------------------------------------------------------------\u001b[0m",
      "\u001b[0;31mValueError\u001b[0m                                Traceback (most recent call last)",
      "\u001b[0;32m<ipython-input-102-94047d6739f0>\u001b[0m in \u001b[0;36m<module>\u001b[0;34m\u001b[0m\n\u001b[1;32m     35\u001b[0m ax.plot(np.arange(n_estimators) + 1, dt_err,\n\u001b[1;32m     36\u001b[0m         \u001b[0mlabel\u001b[0m\u001b[0;34m=\u001b[0m\u001b[0;34m'Discrete AdaBoost Test Error'\u001b[0m\u001b[0;34m,\u001b[0m\u001b[0;34m\u001b[0m\u001b[0;34m\u001b[0m\u001b[0m\n\u001b[0;32m---> 37\u001b[0;31m         color='red')\n\u001b[0m\u001b[1;32m     38\u001b[0m \u001b[0;31m#ax.plot(np.arange(n_estimators) + 1, ada_discrete_err_train,\u001b[0m\u001b[0;34m\u001b[0m\u001b[0;34m\u001b[0m\u001b[0;34m\u001b[0m\u001b[0m\n\u001b[1;32m     39\u001b[0m \u001b[0;31m#        label='Discrete AdaBoost Train Error',\u001b[0m\u001b[0;34m\u001b[0m\u001b[0;34m\u001b[0m\u001b[0;34m\u001b[0m\u001b[0m\n",
      "\u001b[0;32m~/anaconda3/lib/python3.7/site-packages/matplotlib/axes/_axes.py\u001b[0m in \u001b[0;36mplot\u001b[0;34m(self, scalex, scaley, data, *args, **kwargs)\u001b[0m\n\u001b[1;32m   1663\u001b[0m         \"\"\"\n\u001b[1;32m   1664\u001b[0m         \u001b[0mkwargs\u001b[0m \u001b[0;34m=\u001b[0m \u001b[0mcbook\u001b[0m\u001b[0;34m.\u001b[0m\u001b[0mnormalize_kwargs\u001b[0m\u001b[0;34m(\u001b[0m\u001b[0mkwargs\u001b[0m\u001b[0;34m,\u001b[0m \u001b[0mmlines\u001b[0m\u001b[0;34m.\u001b[0m\u001b[0mLine2D\u001b[0m\u001b[0;34m.\u001b[0m\u001b[0m_alias_map\u001b[0m\u001b[0;34m)\u001b[0m\u001b[0;34m\u001b[0m\u001b[0;34m\u001b[0m\u001b[0m\n\u001b[0;32m-> 1665\u001b[0;31m         \u001b[0mlines\u001b[0m \u001b[0;34m=\u001b[0m \u001b[0;34m[\u001b[0m\u001b[0;34m*\u001b[0m\u001b[0mself\u001b[0m\u001b[0;34m.\u001b[0m\u001b[0m_get_lines\u001b[0m\u001b[0;34m(\u001b[0m\u001b[0;34m*\u001b[0m\u001b[0margs\u001b[0m\u001b[0;34m,\u001b[0m \u001b[0mdata\u001b[0m\u001b[0;34m=\u001b[0m\u001b[0mdata\u001b[0m\u001b[0;34m,\u001b[0m \u001b[0;34m**\u001b[0m\u001b[0mkwargs\u001b[0m\u001b[0;34m)\u001b[0m\u001b[0;34m]\u001b[0m\u001b[0;34m\u001b[0m\u001b[0;34m\u001b[0m\u001b[0m\n\u001b[0m\u001b[1;32m   1666\u001b[0m         \u001b[0;32mfor\u001b[0m \u001b[0mline\u001b[0m \u001b[0;32min\u001b[0m \u001b[0mlines\u001b[0m\u001b[0;34m:\u001b[0m\u001b[0;34m\u001b[0m\u001b[0;34m\u001b[0m\u001b[0m\n\u001b[1;32m   1667\u001b[0m             \u001b[0mself\u001b[0m\u001b[0;34m.\u001b[0m\u001b[0madd_line\u001b[0m\u001b[0;34m(\u001b[0m\u001b[0mline\u001b[0m\u001b[0;34m)\u001b[0m\u001b[0;34m\u001b[0m\u001b[0;34m\u001b[0m\u001b[0m\n",
      "\u001b[0;32m~/anaconda3/lib/python3.7/site-packages/matplotlib/axes/_base.py\u001b[0m in \u001b[0;36m__call__\u001b[0;34m(self, *args, **kwargs)\u001b[0m\n\u001b[1;32m    223\u001b[0m                 \u001b[0mthis\u001b[0m \u001b[0;34m+=\u001b[0m \u001b[0margs\u001b[0m\u001b[0;34m[\u001b[0m\u001b[0;36m0\u001b[0m\u001b[0;34m]\u001b[0m\u001b[0;34m,\u001b[0m\u001b[0;34m\u001b[0m\u001b[0;34m\u001b[0m\u001b[0m\n\u001b[1;32m    224\u001b[0m                 \u001b[0margs\u001b[0m \u001b[0;34m=\u001b[0m \u001b[0margs\u001b[0m\u001b[0;34m[\u001b[0m\u001b[0;36m1\u001b[0m\u001b[0;34m:\u001b[0m\u001b[0;34m]\u001b[0m\u001b[0;34m\u001b[0m\u001b[0;34m\u001b[0m\u001b[0m\n\u001b[0;32m--> 225\u001b[0;31m             \u001b[0;32myield\u001b[0m \u001b[0;32mfrom\u001b[0m \u001b[0mself\u001b[0m\u001b[0;34m.\u001b[0m\u001b[0m_plot_args\u001b[0m\u001b[0;34m(\u001b[0m\u001b[0mthis\u001b[0m\u001b[0;34m,\u001b[0m \u001b[0mkwargs\u001b[0m\u001b[0;34m)\u001b[0m\u001b[0;34m\u001b[0m\u001b[0;34m\u001b[0m\u001b[0m\n\u001b[0m\u001b[1;32m    226\u001b[0m \u001b[0;34m\u001b[0m\u001b[0m\n\u001b[1;32m    227\u001b[0m     \u001b[0;32mdef\u001b[0m \u001b[0mget_next_color\u001b[0m\u001b[0;34m(\u001b[0m\u001b[0mself\u001b[0m\u001b[0;34m)\u001b[0m\u001b[0;34m:\u001b[0m\u001b[0;34m\u001b[0m\u001b[0;34m\u001b[0m\u001b[0m\n",
      "\u001b[0;32m~/anaconda3/lib/python3.7/site-packages/matplotlib/axes/_base.py\u001b[0m in \u001b[0;36m_plot_args\u001b[0;34m(self, tup, kwargs)\u001b[0m\n\u001b[1;32m    389\u001b[0m             \u001b[0mx\u001b[0m\u001b[0;34m,\u001b[0m \u001b[0my\u001b[0m \u001b[0;34m=\u001b[0m \u001b[0mindex_of\u001b[0m\u001b[0;34m(\u001b[0m\u001b[0mtup\u001b[0m\u001b[0;34m[\u001b[0m\u001b[0;34m-\u001b[0m\u001b[0;36m1\u001b[0m\u001b[0;34m]\u001b[0m\u001b[0;34m)\u001b[0m\u001b[0;34m\u001b[0m\u001b[0;34m\u001b[0m\u001b[0m\n\u001b[1;32m    390\u001b[0m \u001b[0;34m\u001b[0m\u001b[0m\n\u001b[0;32m--> 391\u001b[0;31m         \u001b[0mx\u001b[0m\u001b[0;34m,\u001b[0m \u001b[0my\u001b[0m \u001b[0;34m=\u001b[0m \u001b[0mself\u001b[0m\u001b[0;34m.\u001b[0m\u001b[0m_xy_from_xy\u001b[0m\u001b[0;34m(\u001b[0m\u001b[0mx\u001b[0m\u001b[0;34m,\u001b[0m \u001b[0my\u001b[0m\u001b[0;34m)\u001b[0m\u001b[0;34m\u001b[0m\u001b[0;34m\u001b[0m\u001b[0m\n\u001b[0m\u001b[1;32m    392\u001b[0m \u001b[0;34m\u001b[0m\u001b[0m\n\u001b[1;32m    393\u001b[0m         \u001b[0;32mif\u001b[0m \u001b[0mself\u001b[0m\u001b[0;34m.\u001b[0m\u001b[0mcommand\u001b[0m \u001b[0;34m==\u001b[0m \u001b[0;34m'plot'\u001b[0m\u001b[0;34m:\u001b[0m\u001b[0;34m\u001b[0m\u001b[0;34m\u001b[0m\u001b[0m\n",
      "\u001b[0;32m~/anaconda3/lib/python3.7/site-packages/matplotlib/axes/_base.py\u001b[0m in \u001b[0;36m_xy_from_xy\u001b[0;34m(self, x, y)\u001b[0m\n\u001b[1;32m    268\u001b[0m         \u001b[0;32mif\u001b[0m \u001b[0mx\u001b[0m\u001b[0;34m.\u001b[0m\u001b[0mshape\u001b[0m\u001b[0;34m[\u001b[0m\u001b[0;36m0\u001b[0m\u001b[0;34m]\u001b[0m \u001b[0;34m!=\u001b[0m \u001b[0my\u001b[0m\u001b[0;34m.\u001b[0m\u001b[0mshape\u001b[0m\u001b[0;34m[\u001b[0m\u001b[0;36m0\u001b[0m\u001b[0;34m]\u001b[0m\u001b[0;34m:\u001b[0m\u001b[0;34m\u001b[0m\u001b[0;34m\u001b[0m\u001b[0m\n\u001b[1;32m    269\u001b[0m             raise ValueError(\"x and y must have same first dimension, but \"\n\u001b[0;32m--> 270\u001b[0;31m                              \"have shapes {} and {}\".format(x.shape, y.shape))\n\u001b[0m\u001b[1;32m    271\u001b[0m         \u001b[0;32mif\u001b[0m \u001b[0mx\u001b[0m\u001b[0;34m.\u001b[0m\u001b[0mndim\u001b[0m \u001b[0;34m>\u001b[0m \u001b[0;36m2\u001b[0m \u001b[0;32mor\u001b[0m \u001b[0my\u001b[0m\u001b[0;34m.\u001b[0m\u001b[0mndim\u001b[0m \u001b[0;34m>\u001b[0m \u001b[0;36m2\u001b[0m\u001b[0;34m:\u001b[0m\u001b[0;34m\u001b[0m\u001b[0;34m\u001b[0m\u001b[0m\n\u001b[1;32m    272\u001b[0m             raise ValueError(\"x and y can be no greater than 2-D, but have \"\n",
      "\u001b[0;31mValueError\u001b[0m: x and y must have same first dimension, but have shapes (400,) and (1,)"
     ]
    },
    {
     "data": {
      "image/png": "[encoded data removed]",
      "text/plain": [
       "<Figure size 432x288 with 1 Axes>"
      ]
     },
     "metadata": {
      "needs_background": "light"
     },
     "output_type": "display_data"
    }
   ],
   "source": [
    "# visualization\n",
    "print(__doc__)\n",
    "\n",
    "# Author: Peter Prettenhofer <peter.prettenhofer@gmail.com>,\n",
    "#         Noel Dawe <noel.dawe@gmail.com>\n",
    "#\n",
    "# License: BSD 3 clause\n",
    "\n",
    "\n",
    "n_estimators = 400\n",
    "# A learning rate of 1. may not be optimal for both SAMME and SAMME.R\n",
    "learning_rate = 1.\n",
    "\n",
    "model = RandomForestClassifier(n_estimators=400, \n",
    "                               bootstrap = True,\n",
    "                               max_features = 'sqrt')\n",
    "model.fit(X_train, y_train)\n",
    "y_pred = model.predict(X_test)\n",
    "model_err = 1.0 - model.score(X_test, y_test)\n",
    "\n",
    "dt = DecisionTreeClassifier(max_depth=9, min_samples_leaf=1)\n",
    "dt.fit(X_train, y_train)\n",
    "dt_err = 1.0 - dt.score(X_test, y_test)\n",
    "\n",
    "fig = plt.figure()\n",
    "ax = fig.add_subplot(111)\n",
    "\n",
    "ax.plot([1, n_estimators], [model_err] * 2, 'k-',\n",
    "        label='Decision Stump Error')\n",
    "\n",
    "ada_real_err_train = np.zeros((n_estimators,))\n",
    "for i, y_pred in enumerate(ada_real.staged_predict(X_train)):\n",
    "    ada_real_err_train[i] = zero_one_loss(y_pred, y_train)\n",
    "\n",
    "ax.plot(np.arange(n_estimators) + 1, dt_err,\n",
    "        label='Discrete AdaBoost Test Error',\n",
    "        color='red')\n",
    "#ax.plot(np.arange(n_estimators) + 1, ada_discrete_err_train,\n",
    "#        label='Discrete AdaBoost Train Error',\n",
    "#        color='blue')\n",
    "#ax.plot(np.arange(n_estimators) + 1, ada_real_err,\n",
    "#        label='Real AdaBoost Test Error',\n",
    "#        color='orange')\n",
    "#ax.plot(np.arange(n_estimators) + 1, ada_real_err_train,\n",
    "#        label='Real AdaBoost Train Error',\n",
    "#        color='green') \n",
    "\n",
    "ax.set_ylim((0.0, 0.5))\n",
    "ax.set_xlabel('n_estimators')\n",
    "ax.set_ylabel('error rate')\n",
    "\n",
    "leg = ax.legend(loc='upper right', fancybox=True)\n",
    "leg.get_frame().set_alpha(0.7)\n",
    "\n",
    "plt.show()"
   ]
  },
  {
   "cell_type": "code",
   "execution_count": null,
   "metadata": {},
   "outputs": [],
   "source": []
  }
 ],
 "metadata": {
  "kernelspec": {
   "display_name": "Python 3",
   "language": "python",
   "name": "python3"
  },
  "language_info": {
   "codemirror_mode": {
    "name": "ipython",
    "version": 3
   },
   "file_extension": ".py",
   "mimetype": "text/x-python",
   "name": "python",
   "nbconvert_exporter": "python",
   "pygments_lexer": "ipython3",
   "version": "3.7.6"
  }
 },
 "nbformat": 4,
 "nbformat_minor": 2
}

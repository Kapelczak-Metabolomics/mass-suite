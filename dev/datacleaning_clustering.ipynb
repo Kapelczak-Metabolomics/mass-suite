{
 "cells": [
  {
   "cell_type": "code",
   "execution_count": 1,
   "metadata": {},
   "outputs": [
    {
     "name": "stderr",
     "output_type": "stream",
     "text": [
      "D:\\python\\Anaconda3\\lib\\site-packages\\statsmodels\\tools\\_testing.py:19: FutureWarning: pandas.util.testing is deprecated. Use the functions in the public API at pandas.testing instead.\n",
      "  import pandas.util.testing as tm\n"
     ]
    }
   ],
   "source": [
    "import pandas as pd\n",
    "import numpy as np\n",
    "from itertools import groupby\n",
    "from tqdm import tqdm\n",
    "import matplotlib.pyplot as plt\n",
    "import seaborn as sns\n",
    "from sklearn import preprocessing\n",
    "from sklearn import cluster,mixture\n",
    "from sklearn.ensemble import BaggingRegressor\n",
    "from sklearn.ensemble import RandomForestRegressor\n",
    "from sklearn.ensemble import ExtraTreesRegressor\n",
    "from sklearn.cluster import DBSCAN\n",
    "from sklearn.manifold import TSNE\n",
    "from sklearn.svm import SVC\n",
    "from sklearn.neighbors import KNeighborsClassifier\n",
    "from sklearn.tree import DecisionTreeClassifier\n",
    "from sklearn.linear_model import RidgeCV, LassoCV\n",
    "import scipy\n",
    "import math\n",
    "from sklearn.model_selection import train_test_split\n",
    "\n",
    "from sklearn import metrics\n",
    "from sklearn import linear_model"
   ]
  },
  {
   "cell_type": "code",
   "execution_count": 2,
   "metadata": {},
   "outputs": [],
   "source": [
    "d_ms = pd.read_csv('../example_data/clustering/sample1114.csv')"
   ]
  },
  {
   "cell_type": "code",
   "execution_count": 3,
   "metadata": {},
   "outputs": [],
   "source": [
    "d_t = pd.read_csv('D:/python/work folder/prasselab/Python code/NC/summary/0519CDexport/Summary-0519-rear.csv')"
   ]
  },
  {
   "cell_type": "code",
   "execution_count": 33,
   "metadata": {},
   "outputs": [],
   "source": [
    "d_dev = d_t.head(1000)"
   ]
  },
  {
   "cell_type": "code",
   "execution_count": 34,
   "metadata": {},
   "outputs": [],
   "source": [
    "def mss_convert(d_input, rtmz_key, pa_index):\n",
    "    d_rtmz = d_input[rtmz_key].copy()\n",
    "    d_pa = d_input.iloc[:, pa_index:].copy()\n",
    "    d_pa.fillna(0, inplace=True)\n",
    "    d_merge = pd.concat([d_rtmz, d_pa], axis=1)\n",
    "    d_merge = d_merge.rename(columns={rtmz_key[0] : 'Average RT (min)', rtmz_key[1] : 'Average m/z'})\n",
    "    d_merge.insert(2, \"Average sn\", 100)\n",
    "    d_merge.insert(3, \"Average score\", 1)\n",
    "    return d_merge"
   ]
  },
  {
   "cell_type": "code",
   "execution_count": 47,
   "metadata": {},
   "outputs": [],
   "source": [
    "d_merge = mss_convert(d_dev, ['RT [min]', 'Molecular Weight'], 7)"
   ]
  },
  {
   "cell_type": "code",
   "execution_count": 3,
   "metadata": {},
   "outputs": [],
   "source": [
    "d_ms = d_ms.rename(columns={'Average Rt(min)': 'Average RT (min)', 'Average Mz': 'Average m/z', 'S/N average': 'Average sn'})\n",
    "d_ms.insert(3, \"Average score\", 1)"
   ]
  },
  {
   "cell_type": "code",
   "execution_count": 4,
   "metadata": {},
   "outputs": [],
   "source": [
    "keys=['CEC','Blank','ISTD','Wash','Shutdown']"
   ]
  },
  {
   "cell_type": "code",
   "execution_count": 44,
   "metadata": {},
   "outputs": [],
   "source": [
    "def data_prep(d_input, blank_keyword, svb_thres=10, empty_thres=0, cv_thres=5,rt_range=[0, 30], mz_range=[0, 1200], sn_thres=3, score_thres=0, area_thres=5000):\n",
    "    '''\n",
    "    The function is used to clean the dataframe according to user setting\n",
    "    blank_keyword: part of string from column that indicates the column is a blank sample\n",
    "    svb_thres: sample vs blank thres\n",
    "    empty_thres: empty cell thres in a row\n",
    "    cv_thres: as all sample is in triplicate, calculate the CV for every triplicate sample set #Needs to be updated in case there is no triplicate samples\n",
    "    rt_range: rt filter\n",
    "    mz_range: mz filter\n",
    "    sn_thres: signal/noise column thres\n",
    "    score_thres: score column thres\n",
    "    area_thres: count for max peak area from each row\n",
    "    '''\n",
    "    d_thres = d_input[d_input[d_input.columns[4:]].max(1) >= area_thres]\n",
    "    \n",
    "    d_thres = d_thres[(d_thres['Average RT (min)'] > rt_range[0]) & (d_thres['Average RT (min)'] < rt_range[1])]\n",
    "    d_thres = d_thres[(d_thres['Average m/z'] > mz_range[0]) & (d_thres['Average m/z'] < mz_range[1])]\n",
    "    d_thres = d_thres[d_thres['Average sn'] >= sn_thres]\n",
    "    d_thres = d_thres[d_thres['Average score'] >= score_thres]\n",
    "    d_thres.reset_index(inplace=True, drop=True)\n",
    "    \n",
    "    col_blank = []\n",
    "    for key in blank_keyword:\n",
    "        # Get column name if it contains blank indicating strings\n",
    "        try:\n",
    "            col_blank.extend([col for col in d_thres.columns if key in col])\n",
    "        except:\n",
    "            pass\n",
    "        \n",
    "    col_sample = [col for col in d_thres.columns if col not in col_blank]\n",
    "    # Sample maximum area vs Blank average area to count for svb\n",
    "    d_sample = d_thres[d_thres[col_sample[4:]].max(axis=1) / d_thres[col_blank].mean(axis=1) > svb_thres][col_sample] \n",
    "    d_sample.reset_index(inplace=True)\n",
    "    d_sample.drop(columns=['index'],inplace=True)\n",
    "    \n",
    "    # Get a list of triplicate, every triplicate is in a sublist\n",
    "    #Sample: [[a1,a2,a3],[b1,b2,b3]]\n",
    "    #Note: the triplicate parsing is now only used '_' which needs update in the future\n",
    "    trip_list = [list(i) for j, i in groupby(d_sample.columns[4:], lambda a: a.split('_')[:-1])] \n",
    "    trip_list = [i for i in trip_list if len(i)>=2] #filter out columns that is not in triplicate -- sample naming issue\n",
    "\n",
    "    for triplicate in tqdm(trip_list):\n",
    "        # DM: maybe use iterrtuples? iterrows has low efficiency and is not reccomended \n",
    "        for row in d_sample[triplicate].itertuples(): # Loop for every sets of triplicates\n",
    "            if row[1:].count(0) > empty_thres:\n",
    "                d_sample.loc[row.Index, triplicate] = 0 # if more than thres, then set all three values to 0\n",
    "            elif np.mean(row[1:]) != 0:\n",
    "                if np.std(row[1:]) / np.mean(row[1:]) > cv_thres:\n",
    "                    d_sample.loc[row.Index, triplicate] = 0 #If delete or reduce all number to avg?\n",
    "            else:\n",
    "                pass\n",
    "            \n",
    "    d_sample = d_sample[~(d_sample[d_sample.columns[4:]]==0).all(1)] #clean rows with all 0\n",
    "    \n",
    "    return d_sample"
   ]
  },
  {
   "cell_type": "code",
   "execution_count": 66,
   "metadata": {},
   "outputs": [
    {
     "name": "stderr",
     "output_type": "stream",
     "text": [
      "100%|██████████| 26/26 [00:45<00:00,  1.77s/it]\n"
     ]
    }
   ],
   "source": [
    "d_sample = data_prep(d_merge,['Blank'],rt_range = [1,30], mz_range = [200,800], area_thres=5000)"
   ]
  },
  {
   "cell_type": "code",
   "execution_count": 60,
   "metadata": {},
   "outputs": [],
   "source": [
    "def ms_cluster(d_input, select_keyword, normalization='linear', visual=False, d_reduce=True, d_reduce_method='tsne', perplexity=20, cluster_method='dbscan',eps=0.8,min_samples=10):\n",
    "    '''\n",
    "    Function for direct clustering:\n",
    "    normalization method: linear, zscore, log\n",
    "    d_reduce: if perform the dimension reduction algorithm, method: only tsne is avilable now\n",
    "    perplexity: parameter for tsne\n",
    "    cluster_method: dbscan, later will update optic and spectrum\n",
    "    eps: parameter for dbscan, threshold of radius that used to count neighbours\n",
    "    min_samples: general parameter for clustering, min neighbourhoods to be counted as a cluster\n",
    "    '''\n",
    "    col_select = []\n",
    "    for key in select_keyword:\n",
    "        col_select.extend([col for col in d_input.columns if key in col])\n",
    "    d_clu = d_input[col_select]\n",
    "    \n",
    "    c_data = d_clu.values\n",
    "    c_norm = []\n",
    "    #Performs normalization\n",
    "    np.seterr(divide='ignore', invalid='ignore') #silent the warning -- but divide by 0 still exist\n",
    "    for row in c_data:\n",
    "        if normalization == 'linear':\n",
    "            c_norm.append(row/max(row))\n",
    "        elif normalization == 'zscore':\n",
    "            c_norm.append((row-np.mean(row))/np.std(row))\n",
    "        elif normalization == 'log':\n",
    "            row[row==0]=1\n",
    "            c_norm.append(np.log10(row)/np.log10(max(row)))\n",
    "        else:\n",
    "            pass\n",
    "    #Clean up dataframe\n",
    "    c_norm = np.asarray(c_norm)\n",
    "    d_norm = pd.DataFrame(c_norm)\n",
    "    d_norm['index']=d_input.index\n",
    "    d_norm.set_index('index',inplace=True)\n",
    "    d_norm.dropna(how='all',inplace=True)\n",
    "    \n",
    "    if d_reduce == True:\n",
    "        if d_reduce_method == 'tsne':\n",
    "            model = TSNE(learning_rate=100,perplexity=50,n_iter=1000) #Tune perplexity and n_iter\n",
    "            transformed = model.fit_transform(d_norm)\n",
    "            d_feature = transformed.copy()\n",
    "        else:\n",
    "            pass\n",
    "    elif d_reduce == False:\n",
    "        d_feature = d_norm.copy()\n",
    "    else:\n",
    "        pass\n",
    "    \n",
    "    if cluster_method == 'dbscan':\n",
    "        dbscan = cluster.DBSCAN(eps=eps, min_samples=min_samples).fit(d_feature)\n",
    "        labels = dbscan.labels_\n",
    "        unique_labels = set(dbscan.labels_)\n",
    "        \n",
    "        if visual == True:\n",
    "            for i,k in enumerate(unique_labels):\n",
    "                indexlist = list(np.argwhere(labels==k).reshape(1,-1)[0])\n",
    "                sns.clustermap(d_norm.iloc[indexlist].values,cmap='Reds',col_cluster=False,yticklabels=False,xticklabels=False,figsize=(5,5))\n",
    "                plt.title(str(cluster_method)+' label='+ str(k))\n",
    "                plt.show()\n",
    "        else:\n",
    "            pass\n",
    "        d_init = d_input.copy()\n",
    "        d_label = d_init.loc[d_norm.index] #Use the index to match back to the original datasheet\n",
    "        d_label.insert(4,\"label\", dbscan.labels_.tolist())\n",
    "    elif cluster_method == 'optics':\n",
    "        optics = cluster.OPTICS(min_samples=min_samples).fit(d_feature)\n",
    "        labels = optics.labels_\n",
    "        unique_labels = set(optics.labels_)\n",
    "        if visual == True:\n",
    "            for i,k in enumerate(unique_labels):\n",
    "                indexlist = list(np.argwhere(labels==k).reshape(1,-1)[0])\n",
    "                sns.clustermap(d_norm.iloc[indexlist].values,cmap='Reds',col_cluster=False,yticklabels=False,xticklabels=False,figsize=(5,5))\n",
    "                plt.title(str(cluster_method)+' label='+ str(k))\n",
    "                plt.show()\n",
    "        else:\n",
    "            pass\n",
    "        d_init = d_input.copy()\n",
    "        d_label = d_init.loc[d_norm.index] #Use the index to match back to the original datasheet\n",
    "        d_label.insert(4,\"label\", optics.labels_.tolist())\n",
    "    else:\n",
    "        print('method error!')\n",
    "        pass\n",
    "    \n",
    "    #Post filter -- filter out features that present in other sources but not SR520 -- keep it open for now\n",
    "    #If activate add one more variable:source_keyword\n",
    "#     col_source = []\n",
    "#     for key in source_keyword:\n",
    "#         col_app = [col for col in d_thres.columns if key in col]\n",
    "#         col_source += col_app\n",
    "#     col_rest = [col for col in d_label.columns if col not in source][5:]\n",
    "#     d_label[col_app].max(1) / d_label[col_rest].max(1)\n",
    "    \n",
    "    return d_label"
   ]
  },
  {
   "cell_type": "code",
   "execution_count": 64,
   "metadata": {},
   "outputs": [],
   "source": [
    "d_label = ms_cluster(d_merge, ['site'], 'linear', d_reduce=False, visual=False, cluster_method='dbscan', eps=0.6, min_samples=10)"
   ]
  },
  {
   "cell_type": "code",
   "execution_count": 10,
   "metadata": {},
   "outputs": [
    {
     "data": {
      "text/plain": [
       "Text(0.5, 1.0, 'clustering scatter (ambient feature excluded)')"
      ]
     },
     "execution_count": 10,
     "metadata": {},
     "output_type": "execute_result"
    },
    {
     "data": {
      "image/png": "[encoded data removed]",
      "text/plain": [
       "<Figure size 1080x720 with 1 Axes>"
      ]
     },
     "metadata": {
      "needs_background": "light"
     },
     "output_type": "display_data"
    }
   ],
   "source": [
    "u_label = list(set(d_label['label']))\n",
    "figure = plt.figure(figsize=(15,10))\n",
    "for i in u_label:\n",
    "    if i != -1 and i != 0:\n",
    "        gra = d_label[d_label['label']==i]\n",
    "        plt.scatter(gra['Average RT (min)'], gra['Average m/z'], label = str(i))\n",
    "plt.legend()\n",
    "plt.xlabel('RT')\n",
    "plt.ylabel('mz')\n",
    "plt.title('clustering scatter (ambient feature excluded)')"
   ]
  },
  {
   "cell_type": "code",
   "execution_count": 11,
   "metadata": {},
   "outputs": [],
   "source": [
    "# options: all_data/clusters seperately\n",
    "# models: multiple linear/ random forest/ etc..\n",
    "# def modeling:\n",
    "#     select option\n",
    "#     select model\n",
    "#     if option all_data:\n",
    "#         model.fit(data) --> training 1114data, test 0815data\n",
    "#     elif option cluster:\n",
    "#         for group in cluster:\n",
    "#             model.fit(group)\n",
    "#         all_model -- > final_model"
   ]
  },
  {
   "cell_type": "code",
   "execution_count": 12,
   "metadata": {},
   "outputs": [],
   "source": [
    "# post filtering of dilution cluster\n",
    "# source tracking:\n",
    "#     1. samples from different sites\n",
    "#     2. vann diagram--> 'source subtraction' --> unique features for different source\n",
    "#     3. use cluster/noise distinguish method --> remove noises, get clusters\n",
    "#     4. source proportioning prediction "
   ]
  },
  {
   "cell_type": "markdown",
   "metadata": {},
   "source": [
    "# Trend Clustering Method "
   ]
  },
  {
   "cell_type": "code",
   "execution_count": 14,
   "metadata": {},
   "outputs": [],
   "source": [
    "def trend_calc(d_input, select_keyword, min_size=5, normalization='linear',\n",
    "               method='pearsonr', visual=True):\n",
    "\n",
    "    \"\"\"This function calculates clustering\n",
    "    based on the pearson correlation. It takes in a dataframe\n",
    "    and a user defined value for what qualifies as a cluster.\n",
    "    User can choose whether or not to have a visual\n",
    "    plot of the scatter with True/False.\"\"\"\n",
    "    col_select = []\n",
    "    for key in select_keyword:\n",
    "        col_select.extend([col for col in d_input.columns if key in col])\n",
    "    d_clu = d_input[col_select]\n",
    "    c_data = d_clu.values\n",
    "    c_norm = []\n",
    "    for row in c_data:\n",
    "        if normalization == 'linear':\n",
    "            c_norm.append(row/max(row))\n",
    "        elif normalization == 'zscore':\n",
    "            c_norm.append((row-np.mean(row))/np.std(row))\n",
    "        elif normalization == 'log':\n",
    "            row[row == 0] = 1\n",
    "            c_norm.append(np.log10(row)/np.log10(max(row)))\n",
    "    c_norm = np.asarray(c_norm)\n",
    "    d_norm = pd.DataFrame(c_norm)\n",
    "    d_norm['index'] = d_input.index\n",
    "    d_norm.set_index('index', inplace=True)\n",
    "    dropna_col = d_norm.columns\n",
    "    # Post treatment to fit the d_norm into original codes\n",
    "    d_norm.insert(0, \"RT\", d_input['Average RT (min)'].tolist())\n",
    "    d_norm.insert(1, \"MZ\", d_input['Average m/z'].tolist())\n",
    "    d_norm.dropna(subset=dropna_col, inplace=True)\n",
    "    d_norm.reset_index(drop=True, inplace=True)\n",
    "    # Original codes\n",
    "    cluster = []  # individual cluster holder\n",
    "    cluster_sum = []  # total clusters\n",
    "    drop_list = []  # rows that are dropped from the df\n",
    "    noise = []  # list for containing noise features\n",
    "    while len(d_norm) > 0:\n",
    "        for row in range(len(d_norm)):\n",
    "            # feature_1 = d_norm.iloc[0]\n",
    "            feature_2 = d_norm.iloc[row]\n",
    "            if method == 'pearsonr':\n",
    "                corr, p_val = scipy.stats.pearsonr(d_norm.iloc[0, 2:],\n",
    "                                                   d_norm.iloc[row, 2:])\n",
    "            elif method == 'mannwhitneyu':\n",
    "                corr, p_val = scipy.stats.mannwhitneyu(d_norm.iloc[0, 2:],\n",
    "                                                       d_norm.iloc[row, 2:])\n",
    "            elif method == 'kruskal':\n",
    "                corr, p_val = scipy.stats.kruskal(d_norm.iloc[0, 2:],\n",
    "                                                  d_norm.iloc[row, 2:])\n",
    "            if p_val < 0.05:\n",
    "                drop_list.append(row)\n",
    "                cluster += [feature_2]\n",
    "            else:\n",
    "                pass\n",
    "        if len(cluster) <= min_size:\n",
    "            noise += [cluster]\n",
    "            cluster = []\n",
    "        else:\n",
    "            cluster_sum += [cluster]\n",
    "            cluster = []\n",
    "        d_norm = d_norm.drop(drop_list)\n",
    "        d_norm = d_norm.reset_index(drop=True)\n",
    "        drop_list = []\n",
    "    append_list = []\n",
    "    for i in range(len(cluster_sum)):\n",
    "        for j in range(len(cluster_sum[i])):\n",
    "            cluster_sum[i][j].loc['Score'] = i\n",
    "            listing = np.array(cluster_sum[i][j])\n",
    "            append_list.append(listing)\n",
    "    cluster_df = pd.DataFrame(append_list)  # Add columns use d_clu\n",
    "    append_list2 = []\n",
    "    for k in range(len(noise)):\n",
    "        for n in range(len(noise[k])):\n",
    "            noise[k][n].loc['Score'] = -1\n",
    "            listing2 = np.array(noise[k][n])\n",
    "            append_list2.append(listing2)\n",
    "    noise_df = pd.DataFrame(append_list2)\n",
    "    final_df = pd.concat([cluster_df, noise_df])\n",
    "    final_df = final_df.reset_index(drop=True)\n",
    "    if visual is True:\n",
    "        labels = final_df.iloc[:, -1:].values.reshape(1, -1)[0]\n",
    "        unique_labels = set(labels)\n",
    "        for i, k in enumerate(unique_labels):\n",
    "            indexlist = list(np.argwhere(labels == k).reshape(1, -1)[0])\n",
    "            sns.clustermap(final_df.iloc[indexlist, 2: -1].values, cmap='Reds',\n",
    "                           col_cluster=True, yticklabels=False,\n",
    "                           xticklabels=False, figsize=(5, 5))\n",
    "            plt.title('trend' + 'label=' + str(k))\n",
    "            plt.show()\n",
    "    else:\n",
    "        pass\n",
    "    return final_df"
   ]
  },
  {
   "cell_type": "code",
   "execution_count": 15,
   "metadata": {},
   "outputs": [
    {
     "name": "stderr",
     "output_type": "stream",
     "text": [
      "D:\\python\\Anaconda3\\lib\\site-packages\\ipykernel_launcher.py:19: RuntimeWarning: invalid value encountered in true_divide\n"
     ]
    }
   ],
   "source": [
    "d_1=trend_calc(d_sample, ['SR520-Cal'], min_size=5, normalization='zscore', visual=False)"
   ]
  },
  {
   "cell_type": "code",
   "execution_count": 15,
   "metadata": {},
   "outputs": [],
   "source": [
    "# Modeling part"
   ]
  },
  {
   "cell_type": "code",
   "execution_count": 16,
   "metadata": {},
   "outputs": [],
   "source": [
    "d_test = pd.read_csv('../example_data/clustering/sample0815.csv')\n",
    "d_model = d_label[d_label['label']!=-1] # 1114.csv and excludes noise here"
   ]
  },
  {
   "cell_type": "code",
   "execution_count": 17,
   "metadata": {},
   "outputs": [],
   "source": [
    "def batch_alignment(d_ref, d_align, rt_error=0.5, mz_error=0.015):\n",
    "    #Alignment of new dataset\n",
    "    result = []\n",
    "    for row in np.arange(len(d_ref)):\n",
    "        #Find overlap using the error range\n",
    "        overlap = np.where((d_align.iloc[:, 0] - rt_error <=\n",
    "                                        d_ref.iloc[row, 0]) & (d_ref.iloc[row, 0] <=\n",
    "                                        d_align.iloc[:, 0] + rt_error) & (d_align.iloc[:, 1] - mz_error <=\n",
    "                                        d_ref.iloc[row, 1]) & (d_ref.iloc[row, 1] <=\n",
    "                                        d_align.iloc[:, 1] + mz_error))\n",
    "        if len(overlap[0]) == 1:\n",
    "            result.append([overlap[0][0], row])\n",
    "        elif len(overlap[0]) > 1:\n",
    "            dist = []\n",
    "            for i in overlap[0]: # if multiple hits, use the closer feature for alignment\n",
    "                dist.append(np.sqrt(((d_align.iloc[i, 0] - d_ref.iloc[row, 0])**2) +\n",
    "                                    ((d_align.iloc[i, 1] - d_ref.iloc[row, 1])**2)))\n",
    "            result.append([overlap[0][np.argmin(dist)], row])\n",
    "        \n",
    "    #Modeling using overlapping features except noises\n",
    "    align_index = [i[0] for i in result]\n",
    "    ref_index = [i[1] for i in result]\n",
    "    d_align = d_align.loc[align_index]\n",
    "    d_ref = d_ref.iloc[ref_index]\n",
    "\n",
    "    d_align.reset_index(drop=True,inplace=True)\n",
    "    d_ref.reset_index(drop=True,inplace=True)\n",
    "    d_join = d_align.iloc[:,3:] #Important !! -- The indexing is important especially reading other feedin data\n",
    "    d_merge = pd.concat([d_ref,d_join],axis=1)\n",
    "        \n",
    "    return d_merge"
   ]
  },
  {
   "cell_type": "code",
   "execution_count": 18,
   "metadata": {},
   "outputs": [],
   "source": [
    "d_merge = batch_alignment(d_model,d_test)"
   ]
  },
  {
   "cell_type": "code",
   "execution_count": 19,
   "metadata": {},
   "outputs": [],
   "source": [
    "#transpose the dataframe without label column\n",
    "def transpose(d_input, target_col): #This should be converted to a built-in function within the pipeline, not having a common use case\n",
    "    list_label = d_input['label']\n",
    "    d_transpose = d_input.copy()\n",
    "    col_model = []\n",
    "    for c_dilu in target_col:\n",
    "        col_model.extend([col for col in d_transpose.columns if c_dilu in col])\n",
    "    d_transpose = d_transpose[col_model].T\n",
    "    d_transpose.reset_index(inplace=True)\n",
    "    d_transpose = d_transpose.rename(columns={'index':'dilu_vol'})\n",
    "    d_transpose['dilu_vol'] = d_transpose['dilu_vol'].apply(lambda x : x.replace('-','_'))\n",
    "    d_transpose['dilu_vol'] = d_transpose['dilu_vol'].apply(lambda x : float(x.split('_')[-2][:-2]))\n",
    "    list_insert = [-2] + list(list_label)\n",
    "    df_length = len(d_transpose)\n",
    "    d_transpose.loc[df_length] = list_insert\n",
    "    #d_transpose.sort_values(by=d_transpose.index[-1], ascending=True, axis=1, inplace = True)\n",
    "    \n",
    "    return d_transpose"
   ]
  },
  {
   "cell_type": "code",
   "execution_count": 20,
   "metadata": {},
   "outputs": [],
   "source": [
    "dilu_col=['SR520-Cal','SR520_Cal']\n",
    "d_transpose = transpose(d_merge, dilu_col)"
   ]
  },
  {
   "cell_type": "markdown",
   "metadata": {},
   "source": [
    "----------seperation--------------"
   ]
  },
  {
   "cell_type": "code",
   "execution_count": 21,
   "metadata": {},
   "outputs": [],
   "source": [
    "#have the train/test split here prior to the cluster split, make the data corresponding to each other"
   ]
  },
  {
   "cell_type": "markdown",
   "metadata": {},
   "source": [
    "|x1 0|x2 1|x3 0|x4 1|x5 1|y|\n",
    "|---|---|---|---|---|---|\n",
    "|1|2|3|5|6|dilution|\n",
    "|1|2|3|5|6|dilution|\n",
    "|1|2|3|5|6|dilution|\n",
    "|1|2|3|5|6|dilution|\n",
    "|1|2|3|5|6|dilution|\n",
    "|1|2|3|5|6|dilution|\n",
    "|5|5|8|10|100|unknown dilution|"
   ]
  },
  {
   "cell_type": "markdown",
   "metadata": {},
   "source": [
    "cluster 0 : 1000 features\n",
    "\n",
    "cluster 1: 1000features \n",
    "\n",
    "2: 1000\n",
    "    \n",
    "1. build models on individual clusters: model0 from cluster0 1000 features, model1 from c1 1000features\n",
    "y = ax1+bx2+c\n",
    "y = ax1+blog(x1)+cx1^2+dx2+ --> simplified one\n",
    "\n",
    "2. build models iteratively: randomly pick 50 features from each of clusters, 50 * 3 = 150 features --> model1 --> repeat n times --> \n",
    "\n",
    "3. select representative features:  --> reduce feature numbers in each clusters\n",
    "     1. exclude outliers, 25%-5/50%-10/75%-5 (intensity) features for each cluster\n",
    "     2. calculate the general trend of your cluster and select features base on that"
   ]
  },
  {
   "cell_type": "code",
   "execution_count": 28,
   "metadata": {},
   "outputs": [],
   "source": [
    "def feature_model(d_input, cluster_algorithm=False, test_frac=0.5, model_method='linear_reg', report=False): \n",
    "    \"\"\"This function predicts the dilution of samples through two methods as that\n",
    "    can be chosen by the user. The methods revolve around using all of the features\n",
    "    or clustered features. It takes in two dataframes and requires the user\"\"\"\n",
    "    d_transpose = d_input.copy() # avoid pandas warning\n",
    "    if cluster_algorithm == True:\n",
    "        # cluster separation\n",
    "        cluster_index = d_transpose.iloc[-1][1:]\n",
    "        d_concat_model = d_transpose.drop([d_transpose.index[-1]]) \n",
    "        # drop the index row\n",
    "        xtrain, xtest, ytrain, ytest = train_test_split(d_transpose[d_transpose.columns[1:]], \n",
    "                                                        d_transpose['dilu_vol'], \n",
    "                                                        test_size=test_frac, random_state=42)\n",
    "        #reattach the cluster row back for indexing\n",
    "        xtrain.reset_index(inplace=True, drop=True)\n",
    "        xtest.reset_index(inplace=True, drop=True)\n",
    "        ytrain.reset_index(inplace=True, drop=True)\n",
    "        ytest.reset_index(inplace=True, drop=True)\n",
    "        xtrain.loc[len(xtrain)] = cluster_index\n",
    "        xtest.loc[len(xtest)] = cluster_index\n",
    "        unique_label = list(set(cluster_index)) \n",
    "        # both set should have same unique_label, so no need to replicate\n",
    "        list_clusterDF = []\n",
    "        list_clusterDF2 = []\n",
    "        for label in unique_label:\n",
    "            d_cm_label = xtrain[[i for i in xtrain.columns if xtrain.iloc[-1][i] == label]] \n",
    "            #index using the label row --update later to avoid warning\n",
    "            d_cm_label.drop(d_cm_label.tail(1).index, inplace=True) \n",
    "            list_clusterDF.append(d_cm_label) \n",
    "            d_cm_label2 = xtest[[i for i in xtest.columns if xtest.iloc[-1][i] == label]] \n",
    "            d_cm_label2.drop(d_cm_label2.tail(1).index, inplace=True)\n",
    "            list_clusterDF2.append(d_cm_label2) \n",
    "    else:\n",
    "        # all features used for modelling\n",
    "        cluster_index = d_transpose.iloc[-1]\n",
    "        d_concat_model = d_transpose.drop([d_transpose.index[-1]])\n",
    "        xtrain, xtest, ytrain, ytest = train_test_split(d_transpose[d_transpose.columns[1:]], \n",
    "                                                        d_transpose['dilu_vol'], \n",
    "                                                        test_size=0.5, random_state=42)\n",
    "    print('data split finished!')\n",
    "    if model_method == 'linear_reg':\n",
    "        reg_list = []\n",
    "        slope = []\n",
    "        intercept = []\n",
    "        scores = []\n",
    "        pred = []\n",
    "        if cluster_algorithm == True:\n",
    "            for i in range(len(list_clusterDF)):\n",
    "                model = linear_model.LinearRegression()\n",
    "                reg = model.fit(list_clusterDF[i], ytrain)\n",
    "                pred.append(reg.predict(list_clusterDF2[i]))\n",
    "                scores.append(reg.score(list_clusterDF2[i], ytest))\n",
    "                slope.append(reg.coef_)\n",
    "                intercept.append(reg.intercept_)\n",
    "                reg_list.append(reg)\n",
    "        else:\n",
    "            model = linear_model.LinearRegression()\n",
    "            reg = model.fit(xtrain, ytrain)\n",
    "            reg.predict(xtest)\n",
    "            slope.append(reg.coef_)\n",
    "            intercept.append(reg.intercept_)\n",
    "    \n",
    "    # For all below modelings, in later dev should either have a reasonable default param, \n",
    "    # or leave space in function for user to define params\n",
    "    elif model_method == 'ensemble_rf':\n",
    "        features = 5 #this number needs to be smaller than the X numbers otherwise will raise error\n",
    "        seed = 10\n",
    "        reg_list = []\n",
    "        scores = []\n",
    "        pred = []\n",
    "        if cluster_algorithm == True:\n",
    "            for i in range(len(list_clusterDF)):\n",
    "                model = RandomForestRegressor(n_estimators=1000, max_features=features, random_state=seed)\n",
    "                reg = model.fit(list_clusterDF[i], ytrain)\n",
    "                scores.append(reg.score(list_clusterDF2[i], ytest))\n",
    "                pred.append(reg.predict(list_clusterDF2[i]))\n",
    "                reg_list.append(reg)\n",
    "        else:\n",
    "            model = RandomForestRegressor(n_estimators=1000, max_features=features, random_state=seed)\n",
    "            reg = model.fit(xtrain, ytrain)\n",
    "            reg.predict(xtest)    \n",
    "    elif model_method == 'ensemble_bagging_dt':\n",
    "        num_trees = 5\n",
    "        seed = 10\n",
    "        reg_list = []\n",
    "        pred = []\n",
    "        scores = []\n",
    "        if cluster_algorithm == True:\n",
    "            for i in range(len(list_clusterDF)):\n",
    "                model = BaggingRegressor(base_estimator=DecisionTreeClassifier(), n_estimators=num_trees, random_state=seed)\n",
    "                reg = model.fit(list_clusterDF[i], ytrain)\n",
    "                scores.append(reg.score(list_clusterDF2[i], ytest))\n",
    "                pred.append(reg.predict(list_clusterDF2[i]))\n",
    "                reg_list.append(reg)\n",
    "        else:\n",
    "            model = BaggingRegressor(base_estimator=DecisionTreeClassifier(), n_estimators=num_trees, random_state=seed)\n",
    "            reg = model.fit(xtrain, ytrain)\n",
    "            reg.predict(xtest)\n",
    "            \n",
    "    elif model_method == 'ensemble_bagging_svc':\n",
    "        num_trees = 5\n",
    "        seed=10\n",
    "        reg_list = []\n",
    "        pred = []\n",
    "        scores = []\n",
    "        if cluster_algorithm == True:\n",
    "            for i in range(len(list_clusterDF)):\n",
    "                model = BaggingRegressor(base_estimator=SVC(), \n",
    "                                         n_estimators=num_trees, random_state=seed)\n",
    "                reg = model.fit(list_clusterDF[i], ytrain)\n",
    "                scores.append(reg.score(list_clusterDF2[i], ytest))\n",
    "                pred.append(reg.predict(list_clusterDF2[i]))\n",
    "                reg_list.append(reg)\n",
    "        else:\n",
    "            model = BaggingRegressor(base_estimator=SVC(), \n",
    "                                     n_estimators=num_trees, random_state=seed)\n",
    "            reg = model.fit(xtrain, ytrain)\n",
    "            reg.predict(xtest)\n",
    "            \n",
    "    else:\n",
    "        print('please define a valid model!')\n",
    "        pass\n",
    "    print('modeling finished!')\n",
    "    \n",
    "    if report == True:\n",
    "        print('Report starting...')\n",
    "        if cluster_algorithm == True: \n",
    "            reg = reg_list\n",
    "            if model_method == 'linear_reg':\n",
    "                print(reg[0])\n",
    "                for value in range(len(slope)):\n",
    "                    plt.figure()\n",
    "                    slope_val = slope[value]\n",
    "                    intercept_val = intercept[value]\n",
    "                    score_val = round(scores[value], 3)\n",
    "                    ypred = pred[value]\n",
    "                    print('The slope for cluster', value, 'is:', slope_val)\n",
    "                    print('The intercept for cluster', value, 'is:', intercept_val)\n",
    "                    print('The model score for cluster', value, 'is:', score_val)\n",
    "                    plt.scatter(ytest, ypred, label=value)\n",
    "                    plt.xlabel('Actual dilution (mL)')\n",
    "                    plt.ylabel('Predicted dilution (mL)')\n",
    "                    plt.legend(loc='center left', bbox_to_anchor=(1, 0.5))\n",
    "                print('The model score reflects coefficient of determination.')\n",
    "                print('Report finished!')\n",
    "            else:\n",
    "                print(reg[0])\n",
    "                for value in range(len(scores)):\n",
    "                    score_val = round(scores[value], 3)\n",
    "                    print('The model score for cluster', value, 'is:', score_val)\n",
    "                    ypred = pred[value]\n",
    "                    plt.figure()\n",
    "                    plt.scatter(ytest, ypred, label=value)\n",
    "                    plt.xlabel('Actual dilution (mL)')\n",
    "                    plt.ylabel('Predicted dilution (mL)')\n",
    "                    plt.legend(loc='center left', bbox_to_anchor=(1, 0.5))\n",
    "                print('The model score reflects the coefficient of determination.')\n",
    "                print('Report finished!')\n",
    "                pass\n",
    "        else:\n",
    "            if model_method == 'linear_reg':\n",
    "                plt.scatter(ytest, reg.predict(xtest))\n",
    "                plt.xlabel('Actual dilution (mL)')\n",
    "                plt.ylabel('Predicted dilution (mL)')\n",
    "                print('The model score is:' ,'%.3f' % reg.score(xtest, ytest))\n",
    "                print('The model score reflects the coefficient of determination.')\n",
    "                print('The predicted slope is:', score, 'and intercept is:', intercept[0])\n",
    "                print('Report finished!')\n",
    "            else:\n",
    "                plt.scatter(ytest, reg.predict(xtest))\n",
    "                plt.xlabel('Actual dilution (mL)')\n",
    "                plt.ylabel('Predicted dilution (mL)')\n",
    "                print('The model score is:' ,'%.3f' % reg.score(xtest, ytest))\n",
    "                print('The model score reflects the coefficient of determination.')\n",
    "                print('Report finished!')\n",
    "    else:\n",
    "        pass\n",
    "    \n",
    "    if cluster_algorithm == True:\n",
    "        reg = reg_list\n",
    "    else:\n",
    "        pass\n",
    "    \n",
    "    return reg"
   ]
  },
  {
   "cell_type": "code",
   "execution_count": 29,
   "metadata": {},
   "outputs": [
    {
     "name": "stderr",
     "output_type": "stream",
     "text": [
      "D:\\python\\Anaconda3\\lib\\site-packages\\pandas\\core\\frame.py:3997: SettingWithCopyWarning: \n",
      "A value is trying to be set on a copy of a slice from a DataFrame\n",
      "\n",
      "See the caveats in the documentation: https://pandas.pydata.org/pandas-docs/stable/user_guide/indexing.html#returning-a-view-versus-a-copy\n",
      "  errors=errors,\n"
     ]
    },
    {
     "name": "stdout",
     "output_type": "stream",
     "text": [
      "data split finished!\n",
      "modeling finished!\n",
      "Report starting...\n",
      "BaggingRegressor(base_estimator=SVC(), n_estimators=5, random_state=10)\n",
      "The model score for cluster 0 is: 0.939\n",
      "The model score for cluster 1 is: 0.198\n",
      "The model score for cluster 2 is: -0.274\n",
      "The model score for cluster 3 is: -0.007\n",
      "The model score for cluster 4 is: -0.444\n",
      "The model score for cluster 5 is: 0.215\n",
      "The model score for cluster 6 is: -0.71\n",
      "The model score for cluster 7 is: -0.062\n",
      "The model score for cluster 8 is: -0.997\n",
      "The model score for cluster 9 is: -1.999\n",
      "The model score for cluster 10 is: -0.3\n",
      "The model score reflects the coefficient of determination.\n",
      "Report finished!\n"
     ]
    },
    {
     "data": {
      "image/png": "[encoded data removed]",
      "text/plain": [
       "<Figure size 432x288 with 1 Axes>"
      ]
     },
     "metadata": {
      "needs_background": "light"
     },
     "output_type": "display_data"
    },
    {
     "data": {
      "image/png": "[encoded data removed]",
      "text/plain": [
       "<Figure size 432x288 with 1 Axes>"
      ]
     },
     "metadata": {
      "needs_background": "light"
     },
     "output_type": "display_data"
    },
    {
     "data": {
      "image/png": "[encoded data removed]",
      "text/plain": [
       "<Figure size 432x288 with 1 Axes>"
      ]
     },
     "metadata": {
      "needs_background": "light"
     },
     "output_type": "display_data"
    },
    {
     "data": {
      "image/png": "[encoded data removed]",
      "text/plain": [
       "<Figure size 432x288 with 1 Axes>"
      ]
     },
     "metadata": {
      "needs_background": "light"
     },
     "output_type": "display_data"
    },
    {
     "data": {
      "image/png": "[encoded data removed]",
      "text/plain": [
       "<Figure size 432x288 with 1 Axes>"
      ]
     },
     "metadata": {
      "needs_background": "light"
     },
     "output_type": "display_data"
    },
    {
     "data": {
      "image/png": "[encoded data removed]",
      "text/plain": [
       "<Figure size 432x288 with 1 Axes>"
      ]
     },
     "metadata": {
      "needs_background": "light"
     },
     "output_type": "display_data"
    },
    {
     "data": {
      "image/png": "[encoded data removed]",
      "text/plain": [
       "<Figure size 432x288 with 1 Axes>"
      ]
     },
     "metadata": {
      "needs_background": "light"
     },
     "output_type": "display_data"
    },
    {
     "data": {
      "image/png": "[encoded data removed]",
      "text/plain": [
       "<Figure size 432x288 with 1 Axes>"
      ]
     },
     "metadata": {
      "needs_background": "light"
     },
     "output_type": "display_data"
    },
    {
     "data": {
      "image/png": "[encoded data removed]",
      "text/plain": [
       "<Figure size 432x288 with 1 Axes>"
      ]
     },
     "metadata": {
      "needs_background": "light"
     },
     "output_type": "display_data"
    },
    {
     "data": {
      "image/png": "[encoded data removed]",
      "text/plain": [
       "<Figure size 432x288 with 1 Axes>"
      ]
     },
     "metadata": {
      "needs_background": "light"
     },
     "output_type": "display_data"
    },
    {
     "data": {
      "image/png": "[encoded data removed]",
      "text/plain": [
       "<Figure size 432x288 with 1 Axes>"
      ]
     },
     "metadata": {
      "needs_background": "light"
     },
     "output_type": "display_data"
    }
   ],
   "source": [
    "reg3 = feature_model(d_transpose, cluster_algorithm=True, model_method='ensemble_bagging_svc', report=True)"
   ]
  },
  {
   "cell_type": "markdown",
   "metadata": {},
   "source": [
    "For all feature modeling, as the output already a model, just fit using model.predict() should work"
   ]
  },
  {
   "cell_type": "code",
   "execution_count": 24,
   "metadata": {},
   "outputs": [],
   "source": [
    "def cluster_pred(model_list, d_merge, col_name, selected_cluster, model_merge='weighted_size',confidence=0.95): #The function only works with cluster==True in dilu_predict\n",
    "    '''The selected_cluster will be user based according to score report from feature_model function'''\n",
    "    input_label = sorted(selected_cluster)\n",
    "    unique_label = list(set(d_merge['label']))\n",
    "    idx = [i for i, label in enumerate(unique_label) if label in input_label] #get position for input labels\n",
    "    model_list = [model_list[i] for i in idx] #slice model list according to index\n",
    "    \n",
    "    if len(model_list) != len(input_label):\n",
    "        print(\"model didn't match labels!\")\n",
    "    else:\n",
    "        pass\n",
    "    \n",
    "    pred_list = []\n",
    "    for i in np.arange(len(model_list)):\n",
    "        pred_list.extend(model_list[i].predict(np.asarray(d_merge[d_merge['label'] == input_label[i]][col_name]).reshape(1,-1)))\n",
    "    \n",
    "    def mean_confidence_interval(data, confidence):\n",
    "        a = 1.0 * np.array(data)\n",
    "        n = len(a)\n",
    "        se = scipy.stats.sem(a)\n",
    "        h = se * scipy.stats.t.ppf((1 + confidence) / 2., n-1)\n",
    "        return h\n",
    "    \n",
    "    if model_merge == 'weighted_size':\n",
    "        size_list = []\n",
    "        for i in input_label:\n",
    "            size_list.append(d_merge[d_merge['label'] == i].shape[0])\n",
    "        weight_list = [i/sum(size_list) for i in size_list]\n",
    "        pred = sum([p * w for p, w in zip(pred_list, weight_list)])\n",
    "        #Leave the CI part out for now..\n",
    "        #ci = mean_confidence_interval(pred_list, confidence=confidence)\n",
    "    elif model_merge == 'average':\n",
    "        pred = np.mean(pred_list)\n",
    "        #ci = mean_confidence_interval(pred_list, confidence=confidence)\n",
    "        \n",
    "    return pred"
   ]
  },
  {
   "cell_type": "code",
   "execution_count": 25,
   "metadata": {},
   "outputs": [
    {
     "data": {
      "text/plain": [
       "22.061519302615192"
      ]
     },
     "execution_count": 25,
     "metadata": {},
     "output_type": "execute_result"
    }
   ],
   "source": [
    "cluster_pred(reg3, d_merge, '20181114_CoulterCreek_1', selected_cluster=[0,1,3,5,7,9], model_merge='weighted_size')"
   ]
  },
  {
   "cell_type": "markdown",
   "metadata": {},
   "source": [
    "# Small data solution:\n",
    "1. use simple model -- OLS, rf/dt\n",
    "2. emsemble method -- combine models from different clusters\n",
    "    1. for instance, seperately build model on n clusters and combine the prediction result at the end\n",
    "    2. further, do the iterative modeling -- take n features out from each cluster, build model, merge result, repeat the process\n",
    "3. use less features for modeling -- only use the features that is representative for the clusters\n",
    "\n",
    "this is especially useful in our case as most of the features within the same cluster should have strong collinearity\n",
    "    \n",
    "    strategy to reduce features in clusters:\n",
    "    0. before reduction, need to verify the cluster is correctly seperated\n",
    "    1. select features most close to the average (normalized average)\n",
    "    2. select features at lower/upper/25%/50%/75% boundaries\n",
    "    3. select features with highest intensity/lowest intensity\n",
    "    \n",
    "<font color = 'red'>4. get confidence interval rather than only a solid prediction result\n"
   ]
  }
 ],
 "metadata": {
  "kernelspec": {
   "display_name": "Python 3",
   "language": "python",
   "name": "python3"
  },
  "language_info": {
   "codemirror_mode": {
    "name": "ipython",
    "version": 3
   },
   "file_extension": ".py",
   "mimetype": "text/x-python",
   "name": "python",
   "nbconvert_exporter": "python",
   "pygments_lexer": "ipython3",
   "version": "3.7.4"
  }
 },
 "nbformat": 4,
 "nbformat_minor": 2
}

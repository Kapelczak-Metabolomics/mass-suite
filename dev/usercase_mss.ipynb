{
 "cells": [
  {
   "cell_type": "code",
   "execution_count": 1,
   "metadata": {},
   "outputs": [],
   "source": [
    "import sys\n",
    "sys.path.append('../mss')\n",
    "import mssmain as mss\n",
    "import frag"
   ]
  },
  {
   "cell_type": "code",
   "execution_count": 2,
   "metadata": {},
   "outputs": [],
   "source": [
    "#read in mzml files\n",
    "path = 'D:/UW/massmotif/mzml/DRO_DIE_1ppm_10h_exp1_method_1.mzML'\n",
    "scans = mss.get_scans(path, ms_all=True)\n",
    "#noise removal\n",
    "#mss.noise_removal(scans, 5000)"
   ]
  },
  {
   "cell_type": "code",
   "execution_count": null,
   "metadata": {},
   "outputs": [],
   "source": [
    "#read in mzml files in batch mode\n",
    "batch_scan, file_list = mss.batch_scans('../example_data/batch', remove_noise=True, thres_noise=1000)"
   ]
  },
  {
   "cell_type": "code",
   "execution_count": 3,
   "metadata": {},
   "outputs": [
    {
     "data": {
      "text/plain": [
       "{2740: [2726, 2773, 1572655.1061197917, 2.675, 1],\n",
       " 2764: [2726, 2780, 1693305.2631022134, 2.045, 1],\n",
       " 2789: [2726, 2795, 1841928.0673828123, 0, 1]}"
      ]
     },
     "execution_count": 3,
     "metadata": {},
     "output_type": "execute_result"
    }
   ],
   "source": [
    "mss.peak_pick(scans, 299.6, 1000)"
   ]
  },
  {
   "cell_type": "code",
   "execution_count": 4,
   "metadata": {},
   "outputs": [
    {
     "name": "stdout",
     "output_type": "stream",
     "text": [
      "Generating mz list...\n",
      "Finding peaks...\n"
     ]
    },
    {
     "name": "stderr",
     "output_type": "stream",
     "text": [
      "100%|██████████| 119/119 [00:40<00:00,  2.91it/s]\n"
     ]
    },
    {
     "name": "stdout",
     "output_type": "stream",
     "text": [
      "Peak processing finished!\n",
      "Dataframe created!\n"
     ]
    }
   ],
   "source": [
    "#generate peak list as dataframe output, detailed parameter please refer to peak picking function\n",
    "d_test = mss.peak_list(scans[:200], 20)"
   ]
  },
  {
   "cell_type": "code",
   "execution_count": 3,
   "metadata": {},
   "outputs": [
    {
     "name": "stdout",
     "output_type": "stream",
     "text": [
      "Now showing index 0 of 435 total found scans\n",
      "Precursor: 196.9923 precursor intensity: 100795.8\n",
      "Scan time: 21.54 minute\n",
      "[87.4]\n",
      "[100.0]\n"
     ]
    },
    {
     "data": {
      "image/png": "[encoded data removed]",
      "text/plain": [
       "<Figure size 720x360 with 1 Axes>"
      ]
     },
     "metadata": {
      "needs_background": "light"
     },
     "output_type": "display_data"
    }
   ],
   "source": [
    "frag.frag_comp(scans, 196.9922, scan_index=0)"
   ]
  }
 ],
 "metadata": {
  "kernelspec": {
   "display_name": "Python 3",
   "language": "python",
   "name": "python3"
  },
  "language_info": {
   "codemirror_mode": {
    "name": "ipython",
    "version": 3
   },
   "file_extension": ".py",
   "mimetype": "text/x-python",
   "name": "python",
   "nbconvert_exporter": "python",
   "pygments_lexer": "ipython3",
   "version": "3.7.4"
  }
 },
 "nbformat": 4,
 "nbformat_minor": 2
}

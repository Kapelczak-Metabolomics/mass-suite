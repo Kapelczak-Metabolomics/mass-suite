{
 "cells": [
  {
   "cell_type": "markdown",
   "metadata": {},
   "source": [
    "This notebook displays the functionality in the alignment file. There are two parts essentially built in the function. "
   ]
  },
  {
   "cell_type": "code",
   "execution_count": 1,
   "metadata": {},
   "outputs": [],
   "source": [
    "import sys\n",
    "sys.path.append('../mss')\n",
    "import alignment\n",
    "import numpy as np\n",
    "import pandas as pd"
   ]
  },
  {
   "cell_type": "markdown",
   "metadata": {},
   "source": [
    "It takes in the given path where all of the files have been output into and reads them in one by one to create one dataframe. It returns the total number of files located in the path and the dataframe."
   ]
  },
  {
   "cell_type": "code",
   "execution_count": 2,
   "metadata": {
    "scrolled": false
   },
   "outputs": [],
   "source": [
    "# read in example files to create one sample dataframe\n",
    "path = '../example_data/peakdata/mssoutput/'\n",
    "#alignment.stack(path)"
   ]
  },
  {
   "cell_type": "markdown",
   "metadata": {},
   "source": [
    "The dataframe created from above the function is later used in the realignment function. It creates a reference dataframe based off the first sample. If any rows that exist from the above dataframe in the reference, it realigns them within a user inputted error for rt/mz. If they do not exist, then the rows will be added to the reference and will be used moving forward for any following samples. The reference dataframe will be turned in terms of the file type that the user prefers. "
   ]
  },
  {
   "cell_type": "code",
   "execution_count": 3,
   "metadata": {
    "scrolled": true
   },
   "outputs": [
    {
     "name": "stdout",
     "output_type": "stream",
     "text": [
      "Reading in files...\n",
      "Process completed!\n",
      "Initial reference built\n",
      "Alignment beginning..\n"
     ]
    },
    {
     "name": "stderr",
     "output_type": "stream",
     "text": [
      " 25%|██▌       | 2440/9717 [00:12<00:40, 178.73it/s]../mss\\alignment.py:95: RuntimeWarning: invalid value encountered in greater\n",
      "  if (alignment_df.iloc[overlap, col_index]) > 0:\n",
      "100%|██████████| 9717/9717 [01:01<00:00, 157.95it/s]\n"
     ]
    },
    {
     "name": "stdout",
     "output_type": "stream",
     "text": [
      "Alignment done!\n",
      "File saved\n"
     ]
    }
   ],
   "source": [
    "df = alignment.realignment(path, 'may.2.2020', '.csv', 0.05, 0.015)"
   ]
  },
  {
   "cell_type": "code",
   "execution_count": 5,
   "metadata": {},
   "outputs": [
    {
     "data": {
      "text/html": [
       "<div>\n",
       "<style scoped>\n",
       "    .dataframe tbody tr th:only-of-type {\n",
       "        vertical-align: middle;\n",
       "    }\n",
       "\n",
       "    .dataframe tbody tr th {\n",
       "        vertical-align: top;\n",
       "    }\n",
       "\n",
       "    .dataframe thead th {\n",
       "        text-align: right;\n",
       "    }\n",
       "</style>\n",
       "<table border=\"1\" class=\"dataframe\">\n",
       "  <thead>\n",
       "    <tr style=\"text-align: right;\">\n",
       "      <th></th>\n",
       "      <th>Average m/z</th>\n",
       "      <th>Average RT (min)</th>\n",
       "      <th>Average sn</th>\n",
       "      <th>Average score</th>\n",
       "      <th>20181114_CoulterCreek_2</th>\n",
       "      <th>20181114_Crescent-Creek-May_2</th>\n",
       "      <th>20181114_SR518-Cal_1000mL_dil-to-160mL_3</th>\n",
       "      <th>20181114_SR520-Cal-in-DI_1000mL_dil-to-60mL_1</th>\n",
       "      <th>20181114_SR520-Cal-in-DI_400mL_2</th>\n",
       "      <th>20181114_SwanCreek-Dec_3</th>\n",
       "    </tr>\n",
       "  </thead>\n",
       "  <tbody>\n",
       "    <tr>\n",
       "      <th>0</th>\n",
       "      <td>100.111603</td>\n",
       "      <td>5.59</td>\n",
       "      <td>inf</td>\n",
       "      <td>0.1</td>\n",
       "      <td>745722.5625</td>\n",
       "      <td>0.0000</td>\n",
       "      <td>0.000000</td>\n",
       "      <td>0.0</td>\n",
       "      <td>0.000000</td>\n",
       "      <td>0.0</td>\n",
       "    </tr>\n",
       "    <tr>\n",
       "      <th>1</th>\n",
       "      <td>100.111671</td>\n",
       "      <td>5.47</td>\n",
       "      <td>inf</td>\n",
       "      <td>0.4</td>\n",
       "      <td>0.0000</td>\n",
       "      <td>658076.9375</td>\n",
       "      <td>0.000000</td>\n",
       "      <td>0.0</td>\n",
       "      <td>461195.968750</td>\n",
       "      <td>691249.0</td>\n",
       "    </tr>\n",
       "    <tr>\n",
       "      <th>2</th>\n",
       "      <td>100.111801</td>\n",
       "      <td>5.34</td>\n",
       "      <td>1.649</td>\n",
       "      <td>0.6</td>\n",
       "      <td>0.0000</td>\n",
       "      <td>0.0000</td>\n",
       "      <td>136595.515625</td>\n",
       "      <td>0.0</td>\n",
       "      <td>0.000000</td>\n",
       "      <td>0.0</td>\n",
       "    </tr>\n",
       "    <tr>\n",
       "      <th>3</th>\n",
       "      <td>107.070297</td>\n",
       "      <td>13.76</td>\n",
       "      <td>inf</td>\n",
       "      <td>1.0</td>\n",
       "      <td>0.0000</td>\n",
       "      <td>0.0000</td>\n",
       "      <td>0.000000</td>\n",
       "      <td>0.0</td>\n",
       "      <td>111404.835938</td>\n",
       "      <td>0.0</td>\n",
       "    </tr>\n",
       "    <tr>\n",
       "      <th>4</th>\n",
       "      <td>114.091904</td>\n",
       "      <td>3.53</td>\n",
       "      <td>inf</td>\n",
       "      <td>0.6</td>\n",
       "      <td>0.0000</td>\n",
       "      <td>0.0000</td>\n",
       "      <td>0.000000</td>\n",
       "      <td>0.0</td>\n",
       "      <td>123020.796875</td>\n",
       "      <td>0.0</td>\n",
       "    </tr>\n",
       "  </tbody>\n",
       "</table>\n",
       "</div>"
      ],
      "text/plain": [
       "   Average m/z  Average RT (min)  Average sn  Average score  \\\n",
       "0   100.111603              5.59         inf            0.1   \n",
       "1   100.111671              5.47         inf            0.4   \n",
       "2   100.111801              5.34       1.649            0.6   \n",
       "3   107.070297             13.76         inf            1.0   \n",
       "4   114.091904              3.53         inf            0.6   \n",
       "\n",
       "   20181114_CoulterCreek_2  20181114_Crescent-Creek-May_2  \\\n",
       "0              745722.5625                         0.0000   \n",
       "1                   0.0000                    658076.9375   \n",
       "2                   0.0000                         0.0000   \n",
       "3                   0.0000                         0.0000   \n",
       "4                   0.0000                         0.0000   \n",
       "\n",
       "   20181114_SR518-Cal_1000mL_dil-to-160mL_3  \\\n",
       "0                                  0.000000   \n",
       "1                                  0.000000   \n",
       "2                             136595.515625   \n",
       "3                                  0.000000   \n",
       "4                                  0.000000   \n",
       "\n",
       "   20181114_SR520-Cal-in-DI_1000mL_dil-to-60mL_1  \\\n",
       "0                                            0.0   \n",
       "1                                            0.0   \n",
       "2                                            0.0   \n",
       "3                                            0.0   \n",
       "4                                            0.0   \n",
       "\n",
       "   20181114_SR520-Cal-in-DI_400mL_2  20181114_SwanCreek-Dec_3  \n",
       "0                          0.000000                       0.0  \n",
       "1                     461195.968750                  691249.0  \n",
       "2                          0.000000                       0.0  \n",
       "3                     111404.835938                       0.0  \n",
       "4                     123020.796875                       0.0  "
      ]
     },
     "execution_count": 5,
     "metadata": {},
     "output_type": "execute_result"
    }
   ],
   "source": [
    "df.head()"
   ]
  }
 ],
 "metadata": {
  "kernelspec": {
   "display_name": "Python 3",
   "language": "python",
   "name": "python3"
  },
  "language_info": {
   "codemirror_mode": {
    "name": "ipython",
    "version": 3
   },
   "file_extension": ".py",
   "mimetype": "text/x-python",
   "name": "python",
   "nbconvert_exporter": "python",
   "pygments_lexer": "ipython3",
   "version": "3.7.4"
  }
 },
 "nbformat": 4,
 "nbformat_minor": 4
}

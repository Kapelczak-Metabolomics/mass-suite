{
 "cells": [
  {
   "cell_type": "markdown",
   "metadata": {},
   "source": [
    "https://pymzml.readthedocs.io/en/latest/pymzml_spec.html"
   ]
  },
  {
   "cell_type": "code",
   "execution_count": 1,
   "metadata": {},
   "outputs": [],
   "source": [
    "import pymzml\n",
    "from tqdm import tqdm\n",
    "import matplotlib.pyplot as plt\n",
    "import numpy as np\n",
    "\n",
    "import pyteomics\n",
    "from pyteomics import mzml, auxiliary\n",
    "import matplotlib.pyplot as plt\n",
    "import numpy as np\n",
    "import math\n",
    "import plotly.graph_objects as go\n",
    "import re\n",
    "from scipy.integrate import simps\n",
    "import pandas as pd\n",
    "\n",
    "import peakutils\n",
    "from peakutils.plot import plot as pplot"
   ]
  },
  {
   "cell_type": "code",
   "execution_count": 2,
   "metadata": {},
   "outputs": [],
   "source": [
    "path = 'D:/UW/directproject/example_data/20191210_MSpos_tl_frac_B7_F5_narrow_2_noSPE.mzML'"
   ]
  },
  {
   "cell_type": "code",
   "execution_count": 3,
   "metadata": {},
   "outputs": [],
   "source": [
    "def get_scans(path, ms_lv = 1):\n",
    "    run = pymzml.run.Reader(path)\n",
    "    scans = []\n",
    "    for scan in run:\n",
    "        if scan.ms_level == ms_lv:\n",
    "            scans.append(scan)\n",
    "    return scans"
   ]
  },
  {
   "cell_type": "code",
   "execution_count": 4,
   "metadata": {},
   "outputs": [],
   "source": [
    "scans = get_scans(path)"
   ]
  },
  {
   "cell_type": "code",
   "execution_count": 5,
   "metadata": {},
   "outputs": [],
   "source": [
    "#Noise removal\n",
    "def noise_removal(mzml_scans, int_thres = 5000):\n",
    "    '''\n",
    "    the output will overwrite the original mzml file\n",
    "    '''\n",
    "    for scan in mzml_scans:\n",
    "        drop_index = np.argwhere(scan.i <= int_thres)\n",
    "        scan.i = np.delete(scan.i, drop_index)\n",
    "        scan.mz = np.delete(scan.mz, drop_index)\n",
    "    \n",
    "    return"
   ]
  },
  {
   "cell_type": "code",
   "execution_count": 6,
   "metadata": {},
   "outputs": [],
   "source": [
    "noise_removal(scans, 1000)"
   ]
  },
  {
   "cell_type": "code",
   "execution_count": 7,
   "metadata": {},
   "outputs": [],
   "source": [
    "#TIC plot\n",
    "def tic_plot(mzml_scans, interactive=True):\n",
    "    '''\n",
    "    Static tic plot function\n",
    "    '''\n",
    "    time=[]\n",
    "    TIC=[]\n",
    "    for scan in mzml_scans:\n",
    "        time.append(scan.scan_time[0])\n",
    "        TIC.append(scan.TIC)\n",
    "    \n",
    "    if interactive == True:\n",
    "        fig = go.Figure([go.Scatter(x=time, y=TIC,\n",
    "                        hovertemplate = 'Int: %{y}' + '<br>RT: %{x}minute<br>')])\n",
    "\n",
    "        fig.update_layout(\n",
    "            template = 'simple_white',\n",
    "            width = 1000,\n",
    "            height = 600,\n",
    "            xaxis = {'title':'Retention Time (min)'},\n",
    "            yaxis = dict(\n",
    "                showexponent = 'all',\n",
    "                exponentformat = 'e',\n",
    "                title = 'Intensity'))\n",
    "\n",
    "        fig.show()\n",
    "    \n",
    "    elif interactive == False:\n",
    "        plt.figure(figsize=(10,6))\n",
    "        plt.plot(time,TIC)\n",
    "        plt.ticklabel_format(style='sci', axis='y', scilimits=(0,0))\n",
    "        plt.xlabel('RT (min)')\n",
    "        plt.ylabel('TIC')\n",
    "        plt.title('TIC spectrum')\n",
    "        plt.show()\n",
    "    \n",
    "    return"
   ]
  },
  {
   "cell_type": "code",
   "execution_count": 8,
   "metadata": {},
   "outputs": [
    {
     "data": {
      "image/png": "[encoded data removed]",
      "text/plain": [
       "<Figure size 720x432 with 1 Axes>"
      ]
     },
     "metadata": {
      "needs_background": "light"
     },
     "output_type": "display_data"
    }
   ],
   "source": [
    "tic_plot(scans,False)"
   ]
  },
  {
   "cell_type": "code",
   "execution_count": 9,
   "metadata": {},
   "outputs": [],
   "source": [
    "def ms_plot(mzml_scans, time, interactive=False):\n",
    "    '''\n",
    "    Interactive spectrum plot with nearest retention time from the given time\n",
    "    '''\n",
    "    for scan in mzml_scans:\n",
    "        if scan.scan_time[0] >= time:\n",
    "            mz = scan.mz\n",
    "            ints = scan.i\n",
    "            rt = scan.scan_time[0]\n",
    "            break\n",
    "    \n",
    "    if interactive == True:        \n",
    "        fig = go.Figure([go.Bar(x=mz, y=ints, marker_color = 'red', width = 0.5,\n",
    "                        hovertemplate =\n",
    "                        'Int: %{y}'+\n",
    "                        '<br>m/z: %{x}<br>')])\n",
    "        fig.update_layout(\n",
    "                title_text=str(round(rt, 3)) + ' min MS1 spectrum, input '+ str(time) + ' min',\n",
    "                template = 'simple_white',\n",
    "                width = 1000,\n",
    "                height = 600,\n",
    "                xaxis = {'title':'m/z ratio'},\n",
    "                yaxis = dict(\n",
    "                    showexponent = 'all',\n",
    "                    exponentformat = 'e',\n",
    "                    title = 'Intensity'))\n",
    "        fig.show()\n",
    "    \n",
    "    elif interactive == False:\n",
    "        plt.figure(figsize=(10,5))\n",
    "        plt.bar(mz, ints, width = 1.0)\n",
    "        plt.ticklabel_format(style='sci', axis='y', scilimits=(0,0))\n",
    "        plt.xlabel('m/z')\n",
    "        plt.ylabel('Intensity')\n",
    "        plt.title('MS1 spectrum')\n",
    "    \n",
    "    return"
   ]
  },
  {
   "cell_type": "code",
   "execution_count": 10,
   "metadata": {},
   "outputs": [
    {
     "data": {
      "image/png": "[encoded data removed]",
      "text/plain": [
       "<Figure size 720x360 with 1 Axes>"
      ]
     },
     "metadata": {
      "needs_background": "light"
     },
     "output_type": "display_data"
    }
   ],
   "source": [
    "ms_plot(scans, 22, False)"
   ]
  },
  {
   "cell_type": "code",
   "execution_count": 11,
   "metadata": {},
   "outputs": [],
   "source": [
    "def mz_locator(input_list, mz, error):\n",
    "    '''\n",
    "    Find specific mzs from given mz and error range\n",
    "    input list: mz list\n",
    "    '''\n",
    "    target_mz = []\n",
    "    target_index = []\n",
    "    \n",
    "    lower_mz = mz - error\n",
    "    higher_mz = mz + error\n",
    "\n",
    "    for i, mzs in enumerate(input_list):\n",
    "        if mzs < lower_mz:\n",
    "            continue\n",
    "        elif mzs >= lower_mz:\n",
    "            if mzs <= higher_mz:\n",
    "                target_mz.append(mzs)\n",
    "                target_index.append(i)\n",
    "        elif mzs > higher_mz:\n",
    "                target_mz = 0\n",
    "                target_index = 'NA'\n",
    "                break\n",
    "        \n",
    "    return target_mz, target_index"
   ]
  },
  {
   "cell_type": "code",
   "execution_count": 12,
   "metadata": {},
   "outputs": [],
   "source": [
    "def formula_mass(input_formula, mode = 'pos'):\n",
    "    '''\n",
    "    sudo code:\n",
    "    convert input string into a list with element:number structure\n",
    "    convert all the element into upper case\n",
    "    match the string list into a given list of element weight\n",
    "    add adduct/delete H according to mode -- also have neutral mode\n",
    "    '''\n",
    "    #Define a list\n",
    "    elist = {'C': 12, \n",
    "            'H':1.00782,\n",
    "            'N':14.0031,\n",
    "            'O':15.9949,\n",
    "            'S':31.9721,\n",
    "            'P':30.973763,\n",
    "            'e':0.0005485799}\n",
    "    \n",
    "    mol_weight = 0\n",
    "    parsed_formula = re.findall(r'([A-Z][a-z]*)(\\d*)', input_formula)\n",
    "    for element_count in parsed_formula:\n",
    "        element = element_count[0]\n",
    "        count = element_count[1]\n",
    "        if count == '':\n",
    "            count = 1\n",
    "        \n",
    "        mol_weight += elist[element]*float(count)\n",
    "    \n",
    "    if mode == 'pos':\n",
    "        mol_weight += elist['e'] + elist['H']\n",
    "    elif mode == 'neg':\n",
    "        mol_weight -= elist['e'] + elist['H']\n",
    "    else:\n",
    "        pass\n",
    "    \n",
    "    return mol_weight"
   ]
  },
  {
   "cell_type": "code",
   "execution_count": 13,
   "metadata": {},
   "outputs": [],
   "source": [
    "def ms_chromatogram(mzml_scans, input_mz, error, smooth=False, mode='pos', interactive=True):\n",
    "    '''\n",
    "    Interactive chromatogram for selected m/z\n",
    "    '''\n",
    "    if type(input_mz) == float:\n",
    "        pass\n",
    "    elif type(input_mz) == int:\n",
    "        pass\n",
    "    elif type(input_mz) == str:\n",
    "        input_mz = formula_mass(input_mz, mode)\n",
    "    else:\n",
    "        print('Cant recognize input type!')\n",
    "    \n",
    "    print(round(input_mz,3))\n",
    "    \n",
    "    \n",
    "    \n",
    "    retention_time = []\n",
    "    intensity = []\n",
    "    for scan in mzml_scans:\n",
    "        #print(i)\n",
    "        retention_time.append(scan.scan_time[0])\n",
    "        \n",
    "        target_mz, target_index = mz_locator(scan.mz, input_mz, error)\n",
    "        if target_index == 'NA':\n",
    "            intensity.append(0)\n",
    "        else:\n",
    "            intensity.append(sum(scan.i[target_index]))\n",
    "\n",
    "    def peak_smooth(input_list, baseline=500):\n",
    "        for i, int_ in enumerate(input_list):\n",
    "            if i > 1 and i < len(input_list)-3:\n",
    "                if int_ > baseline:\n",
    "                    for index in np.arange(i+1,i+3):\n",
    "                        if input_list[index] == 0:\n",
    "                            input_list[index] = (input_list[index-1]+input_list[index+1])/2\n",
    "                        else:\n",
    "                            continue\n",
    "            \n",
    "    if smooth == True:\n",
    "        peak_smooth(intensity)\n",
    "\n",
    "    if interactive == True:\n",
    "        fig = go.Figure([go.Scatter(x=retention_time, y=intensity,\n",
    "                    hovertemplate = 'Int: %{y}' + '<br>RT: %{x}minute<br>')])\n",
    "\n",
    "        fig.update_layout(\n",
    "            title_text=str(round(input_mz, 2)) + ' chromatogram, error '+ str(error),\n",
    "            template = 'simple_white',\n",
    "            width = 1000,\n",
    "            height = 600,\n",
    "            xaxis = {'title':'Retention Time (min)'},\n",
    "            yaxis = dict(\n",
    "                showexponent = 'all',\n",
    "                exponentformat = 'e',\n",
    "                title = 'Intensity'))\n",
    "\n",
    "        fig.show()\n",
    "    elif interactive == False:\n",
    "        plt.figure(figsize=(20,10))\n",
    "        plt.plot(retention_time, intensity)\n",
    "        plt.ticklabel_format(style='sci', axis='y', scilimits=(0,0))\n",
    "        plt.xlabel('m/z')\n",
    "        plt.ylabel('Intensity')\n",
    "        plt.title('MS1 spectrum')\n",
    "        plt.xlim(0,retention_time[-1])\n",
    "        plt.ylim(0,)\n",
    "        plt.show()\n",
    "    return"
   ]
  },
  {
   "cell_type": "code",
   "execution_count": 14,
   "metadata": {},
   "outputs": [
    {
     "name": "stdout",
     "output_type": "stream",
     "text": [
      "299.176\n"
     ]
    },
    {
     "data": {
      "image/png": "[encoded data removed]",
      "text/plain": [
       "<Figure size 1440x720 with 1 Axes>"
      ]
     },
     "metadata": {
      "needs_background": "light"
     },
     "output_type": "display_data"
    }
   ],
   "source": [
    "ms_chromatogram(scans, 'C18H22N2O2', 0.002, False, 'pos',False)"
   ]
  },
  {
   "cell_type": "code",
   "execution_count": 15,
   "metadata": {},
   "outputs": [],
   "source": [
    "#Deal with roi, check peakonly\n",
    "def peak_pick(mzml_scans, input_mz, error, peak_base = 5000, thr = 0.02, min_d = 1, rt_window = 1.5, peak_area_thres = 1e5, min_scan = 15, max_scan = 200, max_peak = 7):\n",
    "    '''\n",
    "    rt, ints from ms_chromatogram_list\n",
    "    rt_window now set up for minutes\n",
    "    '''\n",
    "    \n",
    "    #Important funciont, may need to be extracted out later\n",
    "    def ms_chromatogram_list(mzml_scans, input_mz, error):\n",
    "        '''\n",
    "        Generate a peak list for specific input_mz over whole rt period from the mzml file\n",
    "        ***Most useful function!\n",
    "        '''\n",
    "        retention_time = []\n",
    "        intensity = []\n",
    "        for scan in mzml_scans:\n",
    "            #print(i)\n",
    "            retention_time.append(scan.scan_time[0])\n",
    "\n",
    "            target_mz, target_index = mz_locator(scan.mz, input_mz, error)\n",
    "            if target_index == 'NA':\n",
    "                intensity.append(0)\n",
    "            else:\n",
    "                intensity.append(sum(scan.i[target_index]))\n",
    "            \n",
    "        return retention_time, intensity\n",
    "    \n",
    "    rt, intensity = ms_chromatogram_list(mzml_scans, input_mz, error)\n",
    "    \n",
    "    #Get rt_window corresponded scan number\n",
    "    scan_window = int((rt_window / (rt[int(len(intensity) / 2)] - rt[int(len(intensity) / 2) - 1])) / 2)\n",
    "    \n",
    "    #Get peak index\n",
    "    indexes = peakutils.indexes(intensity, thres=thr, min_dist = min_d)\n",
    "    \n",
    "    result_dict = {}\n",
    "    \n",
    "    for index in indexes:\n",
    "        h_range = index\n",
    "        l_range = index\n",
    "        base_intensity = peak_base\n",
    "\n",
    "        #Get the higher and lower boundary\n",
    "        while intensity[h_range] >= base_intensity:\n",
    "            h_range += 1\n",
    "            if h_range > len(intensity)-2:\n",
    "                break\n",
    "        while intensity[l_range] >= base_intensity:\n",
    "            l_range -= 1\n",
    "        #Output a range from the peak list\n",
    "        \n",
    "        peak_range = []\n",
    "        if h_range - l_range >= min_scan:\n",
    "            if rt[h_range] - rt[l_range] <= rt_window:\n",
    "                peak_range = intensity[l_range:h_range]\n",
    "            else:\n",
    "                l_range = index - scan_window\n",
    "                h_range = index + scan_window\n",
    "                peak_range = intensity[l_range:h_range]\n",
    "                #print(index + scan_window)\n",
    "\n",
    "        #Intergration based on the simps function\n",
    "        if len(peak_range) >= min_scan:\n",
    "            integration_result = simps(peak_range)\n",
    "            if integration_result >= peak_area_thres:\n",
    "                if len(result_dict) == 0:\n",
    "                    result_dict.update({index : [l_range, h_range, integration_result]})\n",
    "                elif integration_result != list(result_dict.values())[-1][2]: #Compare with previous item\n",
    "                    result_dict.update({index : [l_range, h_range, integration_result]})\n",
    "                \n",
    "        #Filtering:\n",
    "        #1. delete results that l_range/h_range within 5 scans\n",
    "        #3. If still >5 then select top 5 results\n",
    "        #list(result_dict.values())[-1]\n",
    "    \n",
    "    #Noise filter\n",
    "    if len(result_dict) > max_peak:\n",
    "        result_dict = {}\n",
    "        \n",
    "\n",
    "\n",
    "    return result_dict"
   ]
  },
  {
   "cell_type": "code",
   "execution_count": 16,
   "metadata": {},
   "outputs": [],
   "source": [
    "test_dict = peak_pick(scans, 299.5, 0.5)"
   ]
  },
  {
   "cell_type": "code",
   "execution_count": 17,
   "metadata": {},
   "outputs": [
    {
     "data": {
      "text/plain": [
       "{1971: [1881, 2111, 102785039.67763263], 2187: [2113, 2302, 9271622.19897461]}"
      ]
     },
     "execution_count": 17,
     "metadata": {},
     "output_type": "execute_result"
    }
   ],
   "source": [
    "test_dict"
   ]
  },
  {
   "cell_type": "code",
   "execution_count": 18,
   "metadata": {},
   "outputs": [],
   "source": [
    "def integration_plot(mzml_scans, input_mz, error, peak_base = 0.005, thr = 0.02, min_d = 1, rt_window = 2, peak_area_thres = 1e5):\n",
    "    \n",
    "    result_dict = peak_pick(mzml_scans, input_mz, error)\n",
    "    \n",
    "    def ms_chromatogram_list(mzml_scans, input_mz, error):\n",
    "        '''\n",
    "        Generate a peak list for specific input_mz over whole rt period from the mzml file\n",
    "        ***Most useful function!\n",
    "        '''\n",
    "        retention_time = []\n",
    "        intensity = []\n",
    "        for scan in mzml_scans:\n",
    "            #print(i)\n",
    "            retention_time.append(scan.scan_time[0])\n",
    "\n",
    "            target_mz, target_index = mz_locator(scan.mz, input_mz, error)\n",
    "            if target_index == 'NA':\n",
    "                intensity.append(0)\n",
    "            else:\n",
    "                intensity.append(sum(scan.i[target_index]))\n",
    "\n",
    "        return retention_time, intensity\n",
    "\n",
    "    rt, ints = ms_chromatogram_list(mzml_scans, input_mz, error)\n",
    "    \n",
    "    plt.figure(figsize=(20,10))\n",
    "    plt.plot(rt, ints)\n",
    "    plt.ticklabel_format(style='sci', axis='y', scilimits=(0,0))\n",
    "    plt.xlabel('m/z')\n",
    "    plt.ylabel('Intensity')\n",
    "    plt.title('Integration result')\n",
    "    plt.xlim(0,rt[-1])\n",
    "    plt.ylim(0,)\n",
    "    \n",
    "    for index in result_dict:\n",
    "        print('Peak retention time: {:0.2f} minute, Peak area: {:0.1f}'.format(rt[index], result_dict[index][2]))\n",
    "        plt.fill_between(rt[result_dict[index][0] : result_dict[index][1]], ints[result_dict[index][0] : result_dict[index][1]])\n",
    "        \n",
    "    \n",
    "    return"
   ]
  },
  {
   "cell_type": "code",
   "execution_count": 19,
   "metadata": {},
   "outputs": [
    {
     "name": "stdout",
     "output_type": "stream",
     "text": [
      "Peak retention time: 10.94 minute, Peak area: 102785039.7\n",
      "Peak retention time: 12.13 minute, Peak area: 9271622.2\n"
     ]
    },
    {
     "data": {
      "image/png": "[encoded data removed]",
      "text/plain": [
       "<Figure size 1440x720 with 1 Axes>"
      ]
     },
     "metadata": {
      "needs_background": "light"
     },
     "output_type": "display_data"
    }
   ],
   "source": [
    "integration_plot(scans, 299.5, 0.5)"
   ]
  },
  {
   "cell_type": "code",
   "execution_count": 40,
   "metadata": {},
   "outputs": [],
   "source": [
    "#Main dev issue--iteration efficiency & peak picking algorithm update\n",
    "#2way: 1. optimize iteration algorithm, 2. optimize mz_list selection--drop useless mzs\n",
    "def peak_list(mzml_scans, mz_error, mzmin = 0, mzmax=1000, peak_base = 0.005, thr = 0.02, min_d = 1, rt_window = 1.5, peak_area_thres = 1e5, min_scan = 7, scan_thres = 7):\n",
    "    '''\n",
    "    input from ms1_baseline function\n",
    "    Q to solve: how to correctly select mz slice?? see mz_locator\n",
    "    '''\n",
    "    \n",
    "    #Get m/z range\n",
    "    def mz_array(scans, mz_error):\n",
    "        min_mz = scans[0].mz.min()\n",
    "        max_mz = scans[0].mz.max()\n",
    "        for scan in scans:\n",
    "            if min_mz > scan.mz.min():\n",
    "                min_mz = scan.mz.min()\n",
    "            if max_mz < scan.mz.max():\n",
    "                max_mz = scan.mz.max()\n",
    "\n",
    "        mz_list = np.arange(min_mz + mz_error, max_mz - mz_error,2 * mz_error)\n",
    "\n",
    "        return mz_list\n",
    "    \n",
    "    mzlist = mz_array(mzml_scans, mz_error)\n",
    "    \n",
    "    if mzlist.max() >= mzmax:\n",
    "        mzlist = mzlist[mzlist <= mzmax]\n",
    "    if mzlist.min() <= mzmin:\n",
    "        mzlist = mzlist[mzlist >= mzmin]\n",
    "    \n",
    "    \n",
    "    result_dict = {}\n",
    "    rt = []\n",
    "    for scan in mzml_scans:\n",
    "        rt.append(scan.scan_time[0])\n",
    "    \n",
    "    for mz in tqdm(mzlist):\n",
    "        try:\n",
    "            peak_dict = peak_pick(mzml_scans, mz, mz_error)\n",
    "        except:\n",
    "            pass\n",
    "        \n",
    "        if len(peak_dict) != 0:\n",
    "            if len(result_dict) == 0:\n",
    "                for index in peak_dict:\n",
    "                    result_dict.update({'m/z' : [mz],\n",
    "                                        'rt' : [rt[index]],\n",
    "                                        'peak area' : [peak_dict[index][2]]})\n",
    "            else:\n",
    "                for index in peak_dict:\n",
    "                    result_dict['m/z'].append(mz)\n",
    "                    result_dict['rt'].append(rt[index])\n",
    "                    result_dict['peak area'].append(peak_dict[index][2])\n",
    "            \n",
    "    print('Peak processing finished!')\n",
    "    d_result = pd.DataFrame(result_dict)\n",
    "    d_result['rt'] = round(d_result['rt'], 2)\n",
    "    d_result['m/z'] = round(d_result['m/z'], 4)\n",
    "    print('Dataframe created!')\n",
    "    \n",
    "    return "
   ]
  },
  {
   "cell_type": "code",
   "execution_count": 33,
   "metadata": {},
   "outputs": [
    {
     "name": "stderr",
     "output_type": "stream",
     "text": [
      "100%|██████████| 375/375 [02:04<00:00,  3.01it/s]\n"
     ]
    },
    {
     "name": "stdout",
     "output_type": "stream",
     "text": [
      "Peak processing finished!\n",
      "Dataframe created!\n"
     ]
    }
   ],
   "source": [
    "d_test = peak_list(scans, 0.002, 298.5, 300)"
   ]
  },
  {
   "cell_type": "code",
   "execution_count": 34,
   "metadata": {},
   "outputs": [
    {
     "data": {
      "text/html": [
       "<div>\n",
       "<style scoped>\n",
       "    .dataframe tbody tr th:only-of-type {\n",
       "        vertical-align: middle;\n",
       "    }\n",
       "\n",
       "    .dataframe tbody tr th {\n",
       "        vertical-align: top;\n",
       "    }\n",
       "\n",
       "    .dataframe thead th {\n",
       "        text-align: right;\n",
       "    }\n",
       "</style>\n",
       "<table border=\"1\" class=\"dataframe\">\n",
       "  <thead>\n",
       "    <tr style=\"text-align: right;\">\n",
       "      <th></th>\n",
       "      <th>m/z</th>\n",
       "      <th>rt</th>\n",
       "      <th>peak area</th>\n",
       "    </tr>\n",
       "  </thead>\n",
       "  <tbody>\n",
       "    <tr>\n",
       "      <td>0</td>\n",
       "      <td>299.1763</td>\n",
       "      <td>10.94</td>\n",
       "      <td>9.213508e+07</td>\n",
       "    </tr>\n",
       "    <tr>\n",
       "      <td>1</td>\n",
       "      <td>299.2003</td>\n",
       "      <td>12.01</td>\n",
       "      <td>2.168725e+06</td>\n",
       "    </tr>\n",
       "    <tr>\n",
       "      <td>2</td>\n",
       "      <td>299.2003</td>\n",
       "      <td>12.20</td>\n",
       "      <td>1.207414e+06</td>\n",
       "    </tr>\n",
       "    <tr>\n",
       "      <td>3</td>\n",
       "      <td>299.3243</td>\n",
       "      <td>10.94</td>\n",
       "      <td>6.580618e+06</td>\n",
       "    </tr>\n",
       "  </tbody>\n",
       "</table>\n",
       "</div>"
      ],
      "text/plain": [
       "        m/z     rt     peak area\n",
       "0  299.1763  10.94  9.213508e+07\n",
       "1  299.2003  12.01  2.168725e+06\n",
       "2  299.2003  12.20  1.207414e+06\n",
       "3  299.3243  10.94  6.580618e+06"
      ]
     },
     "execution_count": 34,
     "metadata": {},
     "output_type": "execute_result"
    }
   ],
   "source": [
    "d_test"
   ]
  },
  {
   "cell_type": "code",
   "execution_count": 37,
   "metadata": {},
   "outputs": [
    {
     "name": "stdout",
     "output_type": "stream",
     "text": [
      "Peak retention time: 10.94 minute, Peak area: 6580617.9\n"
     ]
    },
    {
     "data": {
      "image/png": "[encoded data removed]",
      "text/plain": [
       "<Figure size 1440x720 with 1 Axes>"
      ]
     },
     "metadata": {
      "needs_background": "light"
     },
     "output_type": "display_data"
    }
   ],
   "source": [
    "integration_plot(scans, 299.3243, 0.002)"
   ]
  }
 ],
 "metadata": {
  "kernelspec": {
   "display_name": "Python 3",
   "language": "python",
   "name": "python3"
  },
  "language_info": {
   "codemirror_mode": {
    "name": "ipython",
    "version": 3
   },
   "file_extension": ".py",
   "mimetype": "text/x-python",
   "name": "python",
   "nbconvert_exporter": "python",
   "pygments_lexer": "ipython3",
   "version": "3.7.4"
  }
 },
 "nbformat": 4,
 "nbformat_minor": 2
}

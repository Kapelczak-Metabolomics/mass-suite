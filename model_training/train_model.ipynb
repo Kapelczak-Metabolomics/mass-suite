{
 "cells": [
  {
   "cell_type": "code",
   "execution_count": 70,
   "metadata": {},
   "outputs": [],
   "source": [
    "#################################################################\n",
    "# Code      Mass_Suite_NNmodel_Keras v1.2\n",
    "# Version   1.2\n",
    "# Date      2020-04-28\n",
    "# Author    Bowei Zhang, boweiz@uw.edu\n",
    "# Copyright Bowei Zhang, University of Washington, Seattle, WA\n",
    "\n",
    "# Note      This code can train a Neural Network using Keras\n",
    "#           Python V3.7.4\n",
    "#           Tensorflow V2.0.0\n",
    "#################################################################"
   ]
  },
  {
   "cell_type": "code",
   "execution_count": 8,
   "metadata": {
    "colab": {},
    "colab_type": "code",
    "id": "yHW2w94SSVmJ"
   },
   "outputs": [],
   "source": [
    "from datetime import datetime\n",
    "import os\n",
    "\n",
    "import numpy as np\n",
    "import pandas as pd\n",
    "import scipy.interpolate\n",
    "# import matplotlib.pyplot as plt\n",
    "from sklearn.model_selection import train_test_split\n",
    "from tensorflow import keras"
   ]
  },
  {
   "cell_type": "code",
   "execution_count": 9,
   "metadata": {
    "colab": {},
    "colab_type": "code",
    "id": "Dho2MLHGSVmT"
   },
   "outputs": [],
   "source": [
    "input_file  = \"dataset_training_2ndedit.csv\"\n",
    "\n",
    "#Input and output columns in csv file\n",
    "inputs = [\"peak width in min\", \"half intensity width in min\", \"left width\", \"right width\", \n",
    "          \"assymetric factor\", \"integration\", \"sn\", \"hw\", \"ab\", \"peak height\", \"ma\", \"mb\", \n",
    "          \"broad rate\", \"skewness\", \"variance\"]\n",
    "outputs = [\"label\"]"
   ]
  },
  {
   "cell_type": "code",
   "execution_count": 19,
   "metadata": {
    "colab": {
     "base_uri": "https://localhost:8080/",
     "height": 54
    },
    "colab_type": "code",
    "id": "q0BbNYMbSVma",
    "outputId": "9e81c83e-b2a9-4cbc-af6c-bb519728d919",
    "scrolled": true
   },
   "outputs": [
    {
     "data": {
      "text/plain": [
       "'\\ndef loss_func():\\n\\tdef losss(y_true, y_pred):\\n\\t\\tmean_squared_losss = k.mean(k.sum(k.square(y_true - y_pred)))\\n\\t\\tlayer = model.get_layer(index=-1)\\n\\t\\tgrad = k.gradients(y_true, y_pred)\\n\\t\\tprint(grad)\\n\\t\\treturn keras.losses.mean_squared_error(y_true, y_pred)+\\t\\t\\t\\tkeras.losses.mean_absolute_error(y_true, y_pred)\\n\\treturn losss\\n'"
      ]
     },
     "execution_count": 19,
     "metadata": {},
     "output_type": "execute_result"
    }
   ],
   "source": [
    "#Normalize the data.\n",
    "#0 for Not Normalizing \n",
    "#Option 1:  x_i = (x_i - x_mean)/(std)\n",
    "#Option 2:  x_i = (x_i - x_min)/(x_max - x_min)\n",
    "#Option 3:  x_i = 2(x_i - x_min)/(x_max - x_min)-1\n",
    "normalize = 1                                \n",
    "\n",
    "#Number of hidden layers\n",
    "layers = 3\n",
    "\n",
    "#Number of nodes per hidden layer\n",
    "nodes = 8\n",
    "\n",
    "#Activation function\n",
    "activation = \"relu\"\n",
    "\n",
    "#Initialization for weights in Neural Network: glorot_uniform, he_normal, uniform, zeros ...\n",
    "initializer = \"glorot_uniform\"\n",
    "\n",
    "#Learning rate for Gradient Descent optimization \n",
    "learning_rate= 0.002\n",
    "\n",
    "#L1 Regularization weight\n",
    "weight = 0.01\n",
    "\n",
    "#Optimizer for training: SGD, RSMProp, Adagrad, Adam...\n",
    "my_optimizer = keras.optimizers.Adam(learning_rate)\n",
    "\n",
    "#Loss Function: mean_squared_error, mean_absolute_error ...\n",
    "loss = \"sparse_categorical_crossentropy\"\n",
    "\n",
    "#To adjust the weight\n",
    "regularizer = keras.regularizers.l1(weight)\n",
    "\n",
    "#https://machinelearningmastery.com/difference-between-a-batch-and-an-epoch/\n",
    "#An epoch is comprised of one or more batches\n",
    "epochs = 500\n",
    "batch = 32\n",
    "\n",
    "#Number of models\n",
    "num = 3\n",
    "\n",
    "#Read data and remove unrealistic data\n",
    "df = pd.read_csv(input_file)\n",
    "\n",
    "#The total number of data\n",
    "data_number = len(df)\n",
    "\n",
    "#Normalize data\n",
    "if normalize == 1:\n",
    "\tdf[inputs] = (df[inputs]-df[inputs].mean())/df[inputs].std()\n",
    "elif normalize == 2:\n",
    "    df[inputs] = (df[inputs]-df[inputs].min())/(df[inputs].max()-df[inputs].min())\n",
    "elif normalize == 3:\n",
    "    df[inputs] = 2*(df[inputs]-df[inputs].min())/(df[inputs].max()-df[inputs].min())-1\n",
    "else:\n",
    "\tpass\n",
    "\n",
    "#Customize loss functions\n",
    "'''\n",
    "def loss_func():\n",
    "\tdef losss(y_true, y_pred):\n",
    "\t\tmean_squared_losss = k.mean(k.sum(k.square(y_true - y_pred)))\n",
    "\t\tlayer = model.get_layer(index=-1)\n",
    "\t\tgrad = k.gradients(y_true, y_pred)\n",
    "\t\tprint(grad)\n",
    "\t\treturn keras.losses.mean_squared_error(y_true, y_pred)+\\\n",
    "\t\t\t\tkeras.losses.mean_absolute_error(y_true, y_pred)\n",
    "\treturn losss\n",
    "'''"
   ]
  },
  {
   "cell_type": "code",
   "execution_count": 20,
   "metadata": {
    "colab": {},
    "colab_type": "code",
    "id": "RXHPZWUobm-Q",
    "scrolled": true
   },
   "outputs": [],
   "source": [
    "#Training and validation sets\n",
    "train, validate = train_test_split(df, test_size=0.3)\n",
    "x_train = train[inputs].values\n",
    "x_validate = validate[inputs].values\n",
    "\n",
    "trained_models = {}\n",
    "\n",
    "for output in outputs:\n",
    "    y_train = train[output].values\n",
    "#     y_validate = validate[output].values\n",
    "\n",
    "    #Create Neural Network\n",
    "    model = keras.models.Sequential()\n",
    "    # input layer\n",
    "    model.add(keras.layers.Dense(nodes,\n",
    "                                 input_dim=len(inputs),\n",
    "                                 kernel_initializer=initializer,\n",
    "                                 bias_initializer=initializer,\n",
    "                                 activation=activation,\n",
    "                                 kernel_regularizer=regularizer))\n",
    "\n",
    "    # hidden layer\n",
    "    for i in range(layers):\n",
    "        model.add(keras.layers.Dense(nodes,\n",
    "                                     kernel_initializer=initializer,\n",
    "                                     bias_initializer=initializer,\n",
    "                                     activation=activation,\n",
    "                                     kernel_regularizer=regularizer))\n",
    "    # output layer\n",
    "    model.add(keras.layers.Dense(4,\n",
    "                                 kernel_initializer=initializer,\n",
    "                                 bias_initializer=initializer,\n",
    "                                 activation = \"softmax\",\n",
    "                                 kernel_regularizer=regularizer))\n",
    "\n",
    "    #Making another `num` copies of the model with the same config\n",
    "    models = [model]\n",
    "    for i in range(num-1):\n",
    "        models.append(keras.models.clone_model(models[0]))\n",
    "\n",
    "    #Compile model\n",
    "    for i in range(num):\n",
    "        models[i].compile(loss=loss, optimizer=my_optimizer, metrics=[\"accuracy\"])\n",
    "\n",
    "    #Fit the model\n",
    "    #There are data/batch_size steps in each epoch\n",
    "    for i in range(num):\n",
    "        models[i].fit(x_train, y_train, epochs=epochs, batch_size=batch,\n",
    "                      shuffle=True, verbose=0)\n",
    "\n",
    "    trained_models[output] = models"
   ]
  },
  {
   "cell_type": "code",
   "execution_count": 22,
   "metadata": {
    "colab": {
     "base_uri": "https://localhost:8080/",
     "height": 1000
    },
    "colab_type": "code",
    "id": "Uvm8vQvlSVmk",
    "outputId": "e398775f-5cd5-40e7-d52d-f69e0435e17d",
    "scrolled": true
   },
   "outputs": [
    {
     "name": "stdout",
     "output_type": "stream",
     "text": [
      "Accuracy for validation set 0\n",
      "0.629\n",
      "Accuracy for validation set 1\n",
      "0.678\n",
      "Accuracy for validation set 2\n",
      "0.679\n",
      "The lowest accuracy is 0.679, from model 2\n"
     ]
    }
   ],
   "source": [
    "#Evaluate the model\n",
    "model_evals = {}\n",
    "best_models = {}\n",
    "\n",
    "for output in outputs:\n",
    "    models = trained_models[output]\n",
    "    errors = pd.DataFrame()\n",
    "    y_validate = validate[output].values\n",
    "\n",
    "    best_model_num = 0\n",
    "    max_accuracy = 0\n",
    "    for i in range(num):\n",
    "        \n",
    "        scores = models[i].evaluate(x_validate, y_validate, verbose=0)\n",
    "        print(\"Accuracy for validation set\",i)\n",
    "        print(\"%.3f\" % (scores[1]))\n",
    "        if (scores[1] > max_accuracy):\n",
    "            best_model_num = i\n",
    "            max_accuracy = scores[1]\n",
    "        \n",
    "    model_evals[output] = (best_model_num, errors)\n",
    "    best_models[output] = models[best_model_num]\n",
    "   \n",
    "    print(\"The lowest accuracy is {:.3f}, from model {:d}\".format(max_accuracy, best_model_num))\n",
    "#Save the model with the best performance\n",
    "time = datetime.now().timetuple()[1:6]\n",
    "os.makedirs('./models', exist_ok=True)\n",
    "models[best_model_num].save('./models/model_{}_{}_{}_{}_{}.h5'.format(*time))"
   ]
  },
  {
   "cell_type": "code",
   "execution_count": 10,
   "metadata": {
    "colab": {
     "base_uri": "https://localhost:8080/",
     "height": 1000
    },
    "colab_type": "code",
    "id": "Nveiqc0CSVm4",
    "outputId": "8aab9f8d-1f1b-486b-bdf8-bd34d3bc0a01"
   },
   "outputs": [],
   "source": [
    "# for output in outputs:\n",
    "#     evaluation = model_evals[output]\n",
    "#     plt.figure(figsize=(8, 4), dpi=300)\n",
    "#     ax = plt.boxplot(evaluation[1].values, vert=False)\n",
    "#     ax = plt.title('Percent Error of Model for Predicting {}'.format(output), size=20)\n",
    "#     ax = plt.xlabel('Percent error (%)', size=18)\n",
    "#     ax = plt.ylabel('Model number', size=18)\n",
    "#     ax = plt.xlim(x_limit)\n",
    "#     ax = plt.xticks(size=18)\n",
    "#     ax = plt.yticks(size=18)\n",
    "#     plt.show()"
   ]
  },
  {
   "cell_type": "code",
   "execution_count": 11,
   "metadata": {
    "colab": {},
    "colab_type": "code",
    "id": "6uPxg_LbSVnB"
   },
   "outputs": [],
   "source": [
    "# def cdf_func(data, bins=200):\n",
    "#     hist_data, bin_edges = np.histogram(data, bins=bins, density=True)\n",
    "#     cdf_bins = np.cumsum(hist_data * np.diff(bin_edges))\n",
    "#     cdf_bins = np.insert(cdf_bins, 0, 0)\n",
    "#     cdf = scipy.interpolate.interp1d(bin_edges, cdf_bins, bounds_error=False, fill_value=-1)\n",
    "#     return cdf"
   ]
  },
  {
   "cell_type": "code",
   "execution_count": 12,
   "metadata": {
    "colab": {
     "base_uri": "https://localhost:8080/",
     "height": 1000
    },
    "colab_type": "code",
    "id": "xv5dIcz6SVnJ",
    "outputId": "af698b1a-340c-4ee8-9ca9-479506059867",
    "scrolled": false
   },
   "outputs": [],
   "source": [
    "# for output in outputs:\n",
    "#     best_model_num, evaluation = model_evals[output]\n",
    "#     best_evaluation = evaluation[best_model_num]\n",
    "#     x_range = np.linspace(np.min(best_evaluation), np.max(best_evaluation), 1000)\n",
    "\n",
    "#     fig, ax1 = plt.subplots(figsize=(8,6), dpi=300)\n",
    "\n",
    "#     ax1.hist(best_evaluation, bins=100, density=True, color='#F25F5C')\n",
    "#     ax1.tick_params(axis='y', labelcolor='#F25F5C')\n",
    "#     ax1.set_ylabel('Probability', size=18, color='#F25F5C')\n",
    "#     ax1.set_xlabel('Percent error (%)', size=18)\n",
    "#     ax1.set_title('Percent error Distribution, {}'.format(output), size=20)\n",
    "#     ax1.tick_params(labelsize=18)\n",
    "#     ax1.set_xlim(x_limit[0], x_limit[1])\n",
    "#     ax1.set_ylim(y_limit[0], y_limit[1])\n",
    "\n",
    "#     ax2 = ax1.twinx()\n",
    "#     ax2.tick_params(axis='y', labelcolor='#247BA0')\n",
    "#     ax2.set_ylabel('Cumulative Density Function', size=18, color='#247BA0')\n",
    "#     ax2.tick_params(labelsize=18)\n",
    "\n",
    "#     ax2.plot(x_range, cdf_func(best_evaluation, 100)(x_range), label='Measured CDF from sample', color='#247BA0')"
   ]
  },
  {
   "cell_type": "code",
   "execution_count": null,
   "metadata": {},
   "outputs": [],
   "source": []
  }
 ],
 "metadata": {
  "colab": {
   "collapsed_sections": [],
   "name": "NN_v14.ipynb",
   "provenance": []
  },
  "kernelspec": {
   "display_name": "Python 3",
   "language": "python",
   "name": "python3"
  },
  "language_info": {
   "codemirror_mode": {
    "name": "ipython",
    "version": 3
   },
   "file_extension": ".py",
   "mimetype": "text/x-python",
   "name": "python",
   "nbconvert_exporter": "python",
   "pygments_lexer": "ipython3",
   "version": "3.7.2"
  }
 },
 "nbformat": 4,
 "nbformat_minor": 1
}

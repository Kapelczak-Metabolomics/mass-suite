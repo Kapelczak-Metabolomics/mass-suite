{
 "cells": [
  {
   "cell_type": "code",
   "execution_count": 1,
   "metadata": {
    "ExecuteTime": {
     "end_time": "2020-05-15T19:26:52.051117Z",
     "start_time": "2020-05-15T19:26:52.048550Z"
    }
   },
   "outputs": [],
   "source": [
    "#################################################################\n",
    "# Code      Mass_Suite_NNmodel_Keras v1.2\n",
    "# Version   1.2\n",
    "# Date      2020-04-28\n",
    "# Author    Bowei Zhang, boweiz@uw.edu\n",
    "# Copyright Bowei Zhang, University of Washington, Seattle, WA\n",
    "\n",
    "# Note      This code can train a Neural Network using Keras\n",
    "#           Python V3.7.4\n",
    "#           Tensorflow V2.0.0\n",
    "#################################################################"
   ]
  },
  {
   "cell_type": "code",
   "execution_count": 120,
   "metadata": {
    "ExecuteTime": {
     "end_time": "2020-05-15T21:22:07.880628Z",
     "start_time": "2020-05-15T21:22:07.876977Z"
    },
    "colab": {},
    "colab_type": "code",
    "id": "yHW2w94SSVmJ"
   },
   "outputs": [],
   "source": [
    "from datetime import datetime\n",
    "import os\n",
    "\n",
    "import numpy as np\n",
    "import pandas as pd\n",
    "import scipy.interpolate\n",
    "# import matplotlib.pyplot as plt\n",
    "from sklearn.model_selection import train_test_split\n",
    "from sklearn.ensemble import RandomForestClassifier\n",
    "from sklearn import metrics\n",
    "from tensorflow import keras"
   ]
  },
  {
   "cell_type": "code",
   "execution_count": 121,
   "metadata": {
    "ExecuteTime": {
     "end_time": "2020-05-15T21:22:08.470240Z",
     "start_time": "2020-05-15T21:22:08.466973Z"
    }
   },
   "outputs": [],
   "source": [
    "from tensorflow import keras\n",
    "import pandas as pd\n",
    "import numpy as np\n",
    "from datetime import datetime\n",
    "import sklearn\n",
    "import os\n",
    "from sklearn.model_selection import train_test_split\n",
    "import scipy.interpolate"
   ]
  },
  {
   "cell_type": "code",
   "execution_count": 122,
   "metadata": {
    "ExecuteTime": {
     "end_time": "2020-05-15T21:22:08.983152Z",
     "start_time": "2020-05-15T21:22:08.932921Z"
    },
    "colab": {},
    "colab_type": "code",
    "id": "Dho2MLHGSVmT"
   },
   "outputs": [],
   "source": [
    "input_file  = \"upsampled-modelingdata.csv\"\n",
    "data = pd.read_csv(input_file)\n",
    "\n",
    "#Input and output columns in csv file\n",
    "inputs = [\"peak width in min\", \"half intensity width in min\", \"left width\", \"right width\", \n",
    "          \"assymetric factor\", \"integration\", \"sn\", \"hw\", \"ab\", \"peak height\", \"ma\", \"mb\", \n",
    "          \"broad rate\", \"skewness\", \"variance\"]\n",
    "output = \"label\""
   ]
  },
  {
   "cell_type": "code",
   "execution_count": 165,
   "metadata": {
    "ExecuteTime": {
     "end_time": "2020-05-15T21:27:37.304786Z",
     "start_time": "2020-05-15T21:27:37.250046Z"
    },
    "colab": {
     "base_uri": "https://localhost:8080/",
     "height": 54
    },
    "colab_type": "code",
    "id": "q0BbNYMbSVma",
    "outputId": "9e81c83e-b2a9-4cbc-af6c-bb519728d919",
    "scrolled": true
   },
   "outputs": [],
   "source": [
    "#Normalize the data.\n",
    "#0 for Not Normalizing \n",
    "#Option 1:  x_i = (x_i - x_mean)/(std)\n",
    "#Option 2:  x_i = (x_i - x_min)/(x_max - x_min)\n",
    "#Option 3:  x_i = 2(x_i - x_min)/(x_max - x_min)-1\n",
    "normalize = 1                                \n",
    "\n",
    "#Number estimators\n",
    "num_of_estimators = 100\n",
    "\n",
    "#Number of models\n",
    "num = 3\n",
    "\n",
    "#Read data and remove unrealistic data\n",
    "df = pd.read_csv(input_file)\n",
    "\n",
    "#The total number of data\n",
    "data_number = len(df)\n",
    "\n"
   ]
  },
  {
   "cell_type": "code",
   "execution_count": 166,
   "metadata": {
    "ExecuteTime": {
     "end_time": "2020-05-15T21:27:42.585489Z",
     "start_time": "2020-05-15T21:27:37.692419Z"
    },
    "colab": {},
    "colab_type": "code",
    "id": "RXHPZWUobm-Q",
    "scrolled": true
   },
   "outputs": [
    {
     "name": "stdout",
     "output_type": "stream",
     "text": [
      "finished 1 out of 3\n",
      "finished 2 out of 3\n",
      "finished 3 out of 3\n"
     ]
    }
   ],
   "source": [
    "#Training and validation sets\n",
    "x = data[inputs]\n",
    "y = data[output]\n",
    "x_train, x_test, y_train, y_test = train_test_split(x, y, test_size=0.3)\n",
    "\n",
    "trained_models = {}\n",
    "\n",
    "# for output in outputs:\n",
    "   \n",
    "model = RandomForestClassifier(n_estimators=num_of_estimators)\n",
    "models = [model]\n",
    "for i in range(num-1):\n",
    "    models.append(sklearn.base.clone(models[0],safe=True))\n",
    "\n",
    "#Fit the model\n",
    "for i in range(num):\n",
    "    models[i].fit(x_train, y_train)\n",
    "    print('finished',i+1,'out of',num)\n",
    "\n",
    "trained_models[output] = models"
   ]
  },
  {
   "cell_type": "code",
   "execution_count": 167,
   "metadata": {
    "ExecuteTime": {
     "end_time": "2020-05-15T21:27:42.846154Z",
     "start_time": "2020-05-15T21:27:42.588552Z"
    },
    "colab": {
     "base_uri": "https://localhost:8080/",
     "height": 1000
    },
    "colab_type": "code",
    "id": "Uvm8vQvlSVmk",
    "outputId": "e398775f-5cd5-40e7-d52d-f69e0435e17d",
    "scrolled": false
   },
   "outputs": [
    {
     "name": "stdout",
     "output_type": "stream",
     "text": [
      "Accuracy for validation set 1 is 0.907\n",
      "Accuracy for validation set 2 is 0.908\n",
      "Accuracy for validation set 3 is 0.911\n",
      "The highest accuracy is 0.911, from model 3\n"
     ]
    }
   ],
   "source": [
    "#Evaluate the model\n",
    "model_evals = {}\n",
    "best_models = {}\n",
    "\n",
    "# for output in outputs:\n",
    "best_model_num = 0\n",
    "max_accuracy = 0\n",
    "for i in range(num):\n",
    "    y_pred=models[i].predict(x_test)\n",
    "    score = metrics.accuracy_score(y_test, y_pred)\n",
    "    print(\"Accuracy for validation set {} is {:.3f}\".format(i+1, metrics.accuracy_score(y_test, y_pred)))\n",
    "    if (score > max_accuracy):\n",
    "        best_model_num = i\n",
    "        max_accuracy = score\n",
    "\n",
    "best_models[output] = models[best_model_num]\n",
    "\n",
    "print(\"The highest accuracy is {:.3f}, from model {:d}\".format(max_accuracy, best_model_num+1))\n",
    "#Save the model with the best performance\n",
    "time = datetime.now().timetuple()[1:6]\n",
    "#os.makedirs('./models', exist_ok=True)"
   ]
  },
  {
   "cell_type": "code",
   "execution_count": null,
   "metadata": {},
   "outputs": [],
   "source": []
  },
  {
   "cell_type": "code",
   "execution_count": 63,
   "metadata": {
    "ExecuteTime": {
     "end_time": "2020-05-15T21:03:33.956771Z",
     "start_time": "2020-05-15T21:03:33.911114Z"
    }
   },
   "outputs": [],
   "source": [
    "import pickle\n",
    "Model_file = './models/num_of_estimators={}.pkl'.format(num_of_estimators)\n",
    "pickle.dump(models[best_model_num], open(Model_file, 'wb'))"
   ]
  },
  {
   "cell_type": "code",
   "execution_count": 10,
   "metadata": {
    "colab": {
     "base_uri": "https://localhost:8080/",
     "height": 1000
    },
    "colab_type": "code",
    "id": "Nveiqc0CSVm4",
    "outputId": "8aab9f8d-1f1b-486b-bdf8-bd34d3bc0a01"
   },
   "outputs": [],
   "source": [
    "# for output in outputs:\n",
    "#     evaluation = model_evals[output]\n",
    "#     plt.figure(figsize=(8, 4), dpi=300)\n",
    "#     ax = plt.boxplot(evaluation[1].values, vert=False)\n",
    "#     ax = plt.title('Percent Error of Model for Predicting {}'.format(output), size=20)\n",
    "#     ax = plt.xlabel('Percent error (%)', size=18)\n",
    "#     ax = plt.ylabel('Model number', size=18)\n",
    "#     ax = plt.xlim(x_limit)\n",
    "#     ax = plt.xticks(size=18)\n",
    "#     ax = plt.yticks(size=18)\n",
    "#     plt.show()"
   ]
  },
  {
   "cell_type": "code",
   "execution_count": 11,
   "metadata": {
    "colab": {},
    "colab_type": "code",
    "id": "6uPxg_LbSVnB"
   },
   "outputs": [],
   "source": [
    "# def cdf_func(data, bins=200):\n",
    "#     hist_data, bin_edges = np.histogram(data, bins=bins, density=True)\n",
    "#     cdf_bins = np.cumsum(hist_data * np.diff(bin_edges))\n",
    "#     cdf_bins = np.insert(cdf_bins, 0, 0)\n",
    "#     cdf = scipy.interpolate.interp1d(bin_edges, cdf_bins, bounds_error=False, fill_value=-1)\n",
    "#     return cdf"
   ]
  },
  {
   "cell_type": "code",
   "execution_count": 12,
   "metadata": {
    "colab": {
     "base_uri": "https://localhost:8080/",
     "height": 1000
    },
    "colab_type": "code",
    "id": "xv5dIcz6SVnJ",
    "outputId": "af698b1a-340c-4ee8-9ca9-479506059867",
    "scrolled": false
   },
   "outputs": [],
   "source": [
    "# for output in outputs:\n",
    "#     best_model_num, evaluation = model_evals[output]\n",
    "#     best_evaluation = evaluation[best_model_num]\n",
    "#     x_range = np.linspace(np.min(best_evaluation), np.max(best_evaluation), 1000)\n",
    "\n",
    "#     fig, ax1 = plt.subplots(figsize=(8,6), dpi=300)\n",
    "\n",
    "#     ax1.hist(best_evaluation, bins=100, density=True, color='#F25F5C')\n",
    "#     ax1.tick_params(axis='y', labelcolor='#F25F5C')\n",
    "#     ax1.set_ylabel('Probability', size=18, color='#F25F5C')\n",
    "#     ax1.set_xlabel('Percent error (%)', size=18)\n",
    "#     ax1.set_title('Percent error Distribution, {}'.format(output), size=20)\n",
    "#     ax1.tick_params(labelsize=18)\n",
    "#     ax1.set_xlim(x_limit[0], x_limit[1])\n",
    "#     ax1.set_ylim(y_limit[0], y_limit[1])\n",
    "\n",
    "#     ax2 = ax1.twinx()\n",
    "#     ax2.tick_params(axis='y', labelcolor='#247BA0')\n",
    "#     ax2.set_ylabel('Cumulative Density Function', size=18, color='#247BA0')\n",
    "#     ax2.tick_params(labelsize=18)\n",
    "\n",
    "#     ax2.plot(x_range, cdf_func(best_evaluation, 100)(x_range), label='Measured CDF from sample', color='#247BA0')"
   ]
  },
  {
   "cell_type": "code",
   "execution_count": null,
   "metadata": {},
   "outputs": [],
   "source": []
  }
 ],
 "metadata": {
  "colab": {
   "collapsed_sections": [],
   "name": "NN_v14.ipynb",
   "provenance": []
  },
  "kernelspec": {
   "display_name": "Python 3",
   "language": "python",
   "name": "python3"
  },
  "language_info": {
   "codemirror_mode": {
    "name": "ipython",
    "version": 3
   },
   "file_extension": ".py",
   "mimetype": "text/x-python",
   "name": "python",
   "nbconvert_exporter": "python",
   "pygments_lexer": "ipython3",
   "version": "3.7.4"
  }
 },
 "nbformat": 4,
 "nbformat_minor": 1
}
